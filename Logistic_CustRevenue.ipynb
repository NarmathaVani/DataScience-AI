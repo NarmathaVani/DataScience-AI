{
 "cells": [
  {
   "cell_type": "code",
   "execution_count": null,
   "metadata": {},
   "outputs": [],
   "source": [
    "######################################################################################################\n",
    "#   Build  Supervised learning  ML model, where company needs to rollout promotional offers \n",
    "#   to few of its customers that is considered \n",
    "#   to potential high revenue customers for it business.\n",
    "#   DataSet Used: Dummy DataSet - High Revenue Customers with the sample of 10000 Customer Details\n",
    "######################################################################################################"
   ]
  },
  {
   "cell_type": "code",
   "execution_count": 2,
   "metadata": {
    "id": "-HZ3Dnk9tfLW"
   },
   "outputs": [],
   "source": [
    "##### Importing Relevant Libraries ######\n",
    "#########################################\n",
    "\n",
    "\n",
    "import pandas as pd\n",
    "import numpy as np\n",
    "import os\n",
    "import seaborn as sns\n",
    "import pickle ### helps storing data in pickle files\n",
    "\n",
    "from sklearn.linear_model import LogisticRegression\n",
    "from sklearn.metrics import roc_auc_score, plot_roc_curve, confusion_matrix,f1_score ## model evaluation metrics\n",
    "from matplotlib import pyplot as plt\n",
    "from sklearn.preprocessing import StandardScaler ## (x-mean(variable))/standard_deviation(variable)\n",
    "from sklearn.model_selection import StratifiedShuffleSplit ### datasplitting\n",
    " \n",
    "from sklearn.model_selection import GridSearchCV          ### hyperparameter finding\n",
    "\n",
    "from sklearn.tree import DecisionTreeClassifier           ### helps fitting a decision tree\n"
   ]
  },
  {
   "cell_type": "code",
   "execution_count": 3,
   "metadata": {
    "id": "Vg0PeDkZtfLc"
   },
   "outputs": [],
   "source": [
    "%matplotlib inline"
   ]
  },
  {
   "cell_type": "code",
   "execution_count": 4,
   "metadata": {
    "id": "yFQWsxdE9Z_9"
   },
   "outputs": [],
   "source": [
    "def capping(series,quantile_val):\n",
    "  cap_value = series.quantile(quantile_val)\n",
    "  series[series>cap_value] = cap_value\n",
    "  return(series, cap_value)\n",
    "\n",
    "def get_percentages(col_1, col_2, data):\n",
    "  x = pd.crosstab(data[col_1],data[col_2])\n",
    "  return(x[1]/(x[1]+x[2]))"
   ]
  },
  {
   "cell_type": "code",
   "execution_count": 5,
   "metadata": {
    "id": "isJJp332tfLd"
   },
   "outputs": [],
   "source": [
    "####### Loading Data ######\n",
    "###########################\n",
    "\n",
    "cwd = os.getcwd() ##gets current working directory\n",
    "\n",
    "data_path = str(cwd) + '/Existing_Base.csv'\n",
    "\n",
    "data = pd.read_csv(data_path)  ## Loads the data"
   ]
  },
  {
   "cell_type": "markdown",
   "metadata": {
    "id": "JhB72m0mtfLd"
   },
   "source": [
    "# Data Exploration"
   ]
  },
  {
   "cell_type": "code",
   "execution_count": 6,
   "metadata": {
    "colab": {
     "base_uri": "https://localhost:8080/"
    },
    "id": "9leT4Y3utfLd",
    "outputId": "eb078bce-2569-46a7-a2af-957660eb5dd0"
   },
   "outputs": [
    {
     "data": {
      "text/plain": [
       "(10155, 32)"
      ]
     },
     "execution_count": 6,
     "metadata": {},
     "output_type": "execute_result"
    }
   ],
   "source": [
    "data.shape ## gets the shape of the data"
   ]
  },
  {
   "cell_type": "code",
   "execution_count": 7,
   "metadata": {
    "colab": {
     "base_uri": "https://localhost:8080/"
    },
    "id": "bbW9ZxibtH34",
    "outputId": "93e05f9b-853d-4b41-cc10-961fa74e18be"
   },
   "outputs": [
    {
     "data": {
      "text/plain": [
       "2    9069\n",
       "1    1086\n",
       "Name: Revenue Grid, dtype: int64"
      ]
     },
     "execution_count": 7,
     "metadata": {},
     "output_type": "execute_result"
    }
   ],
   "source": [
    "#### Distribution of target class ####\n",
    "\n",
    "data['Revenue Grid'].value_counts()\n",
    "\n",
    "#### There is class imbalance in my dataset. We might ask for more observations for class 1.\n",
    "\n",
    "#### if the distribution is 80%-20% - generally not a major concern.\n",
    "#### if the distribution is between 80%-20% and 95%-5% -  area of slight concern..\n",
    "#### if the distribution is less than 95-5% - we should get concerned - expect that your model might be a bad modeldata['Revenue Grid'].value_counts() ##### There is class imbalance in my data #### We will have to do something to reduce the imbalance"
   ]
  },
  {
   "cell_type": "code",
   "execution_count": null,
   "metadata": {
    "colab": {
     "base_uri": "https://localhost:8080/",
     "height": 421
    },
    "id": "aX4p7eq0tfLe",
    "outputId": "a8fff1ab-7208-4e2c-a379-dbe236160c6c"
   },
   "outputs": [
    {
     "data": {
      "text/html": [
       "\n",
       "  <div id=\"df-623533ce-cba3-4018-a3e5-70552078b633\">\n",
       "    <div class=\"colab-df-container\">\n",
       "      <div>\n",
       "<style scoped>\n",
       "    .dataframe tbody tr th:only-of-type {\n",
       "        vertical-align: middle;\n",
       "    }\n",
       "\n",
       "    .dataframe tbody tr th {\n",
       "        vertical-align: top;\n",
       "    }\n",
       "\n",
       "    .dataframe thead th {\n",
       "        text-align: right;\n",
       "    }\n",
       "</style>\n",
       "<table border=\"1\" class=\"dataframe\">\n",
       "  <thead>\n",
       "    <tr style=\"text-align: right;\">\n",
       "      <th></th>\n",
       "      <th>REF_NO</th>\n",
       "      <th>children</th>\n",
       "      <th>age_band</th>\n",
       "      <th>status</th>\n",
       "      <th>occupation</th>\n",
       "      <th>occupation_partner</th>\n",
       "      <th>home_status</th>\n",
       "      <th>family_income</th>\n",
       "      <th>self_employed</th>\n",
       "      <th>self_employed_partner</th>\n",
       "      <th>...</th>\n",
       "      <th>Investment Tax Saving Bond</th>\n",
       "      <th>Home Loan</th>\n",
       "      <th>Online Purchase Amount</th>\n",
       "      <th>Revenue Grid</th>\n",
       "      <th>gender</th>\n",
       "      <th>region</th>\n",
       "      <th>Investment in Commudity</th>\n",
       "      <th>Investment in Equity</th>\n",
       "      <th>Investment in Derivative</th>\n",
       "      <th>Portfolio Balance</th>\n",
       "    </tr>\n",
       "  </thead>\n",
       "  <tbody>\n",
       "    <tr>\n",
       "      <th>0</th>\n",
       "      <td>1</td>\n",
       "      <td>Zero</td>\n",
       "      <td>51-55</td>\n",
       "      <td>Partner</td>\n",
       "      <td>Manual Worker</td>\n",
       "      <td>Secretarial/Admin</td>\n",
       "      <td>Own Home</td>\n",
       "      <td>&lt;17,500, &gt;=15,000</td>\n",
       "      <td>No</td>\n",
       "      <td>No</td>\n",
       "      <td>...</td>\n",
       "      <td>19.99</td>\n",
       "      <td>0.00</td>\n",
       "      <td>0.00</td>\n",
       "      <td>1</td>\n",
       "      <td>Female</td>\n",
       "      <td>Wales</td>\n",
       "      <td>74.67</td>\n",
       "      <td>18.66</td>\n",
       "      <td>32.32</td>\n",
       "      <td>89.43</td>\n",
       "    </tr>\n",
       "    <tr>\n",
       "      <th>1</th>\n",
       "      <td>2</td>\n",
       "      <td>Zero</td>\n",
       "      <td>55-60</td>\n",
       "      <td>Single/Never Married</td>\n",
       "      <td>Retired</td>\n",
       "      <td>Retired</td>\n",
       "      <td>Own Home</td>\n",
       "      <td>&lt;27,500, &gt;=25,000</td>\n",
       "      <td>No</td>\n",
       "      <td>No</td>\n",
       "      <td>...</td>\n",
       "      <td>0.00</td>\n",
       "      <td>0.00</td>\n",
       "      <td>0.00</td>\n",
       "      <td>2</td>\n",
       "      <td>Female</td>\n",
       "      <td>North West</td>\n",
       "      <td>20.19</td>\n",
       "      <td>0.00</td>\n",
       "      <td>4.33</td>\n",
       "      <td>22.78</td>\n",
       "    </tr>\n",
       "    <tr>\n",
       "      <th>2</th>\n",
       "      <td>3</td>\n",
       "      <td>Zero</td>\n",
       "      <td>26-30</td>\n",
       "      <td>Single/Never Married</td>\n",
       "      <td>Professional</td>\n",
       "      <td>Other</td>\n",
       "      <td>Own Home</td>\n",
       "      <td>&lt;30,000, &gt;=27,500</td>\n",
       "      <td>Yes</td>\n",
       "      <td>No</td>\n",
       "      <td>...</td>\n",
       "      <td>0.00</td>\n",
       "      <td>3.49</td>\n",
       "      <td>0.00</td>\n",
       "      <td>2</td>\n",
       "      <td>Male</td>\n",
       "      <td>North</td>\n",
       "      <td>98.06</td>\n",
       "      <td>31.07</td>\n",
       "      <td>80.96</td>\n",
       "      <td>171.78</td>\n",
       "    </tr>\n",
       "    <tr>\n",
       "      <th>3</th>\n",
       "      <td>5</td>\n",
       "      <td>Zero</td>\n",
       "      <td>18-21</td>\n",
       "      <td>Single/Never Married</td>\n",
       "      <td>Professional</td>\n",
       "      <td>Manual Worker</td>\n",
       "      <td>Own Home</td>\n",
       "      <td>&lt;15,000, &gt;=12,500</td>\n",
       "      <td>No</td>\n",
       "      <td>No</td>\n",
       "      <td>...</td>\n",
       "      <td>0.00</td>\n",
       "      <td>0.00</td>\n",
       "      <td>0.00</td>\n",
       "      <td>2</td>\n",
       "      <td>Female</td>\n",
       "      <td>West Midlands</td>\n",
       "      <td>4.10</td>\n",
       "      <td>14.15</td>\n",
       "      <td>17.57</td>\n",
       "      <td>-41.70</td>\n",
       "    </tr>\n",
       "    <tr>\n",
       "      <th>4</th>\n",
       "      <td>6</td>\n",
       "      <td>Zero</td>\n",
       "      <td>45-50</td>\n",
       "      <td>Partner</td>\n",
       "      <td>Business Manager</td>\n",
       "      <td>Unknown</td>\n",
       "      <td>Own Home</td>\n",
       "      <td>&lt;30,000, &gt;=27,500</td>\n",
       "      <td>No</td>\n",
       "      <td>No</td>\n",
       "      <td>...</td>\n",
       "      <td>0.00</td>\n",
       "      <td>45.91</td>\n",
       "      <td>25.98</td>\n",
       "      <td>2</td>\n",
       "      <td>Female</td>\n",
       "      <td>Scotland</td>\n",
       "      <td>70.16</td>\n",
       "      <td>55.86</td>\n",
       "      <td>80.44</td>\n",
       "      <td>235.02</td>\n",
       "    </tr>\n",
       "  </tbody>\n",
       "</table>\n",
       "<p>5 rows × 32 columns</p>\n",
       "</div>\n",
       "      <button class=\"colab-df-convert\" onclick=\"convertToInteractive('df-623533ce-cba3-4018-a3e5-70552078b633')\"\n",
       "              title=\"Convert this dataframe to an interactive table.\"\n",
       "              style=\"display:none;\">\n",
       "        \n",
       "  <svg xmlns=\"http://www.w3.org/2000/svg\" height=\"24px\"viewBox=\"0 0 24 24\"\n",
       "       width=\"24px\">\n",
       "    <path d=\"M0 0h24v24H0V0z\" fill=\"none\"/>\n",
       "    <path d=\"M18.56 5.44l.94 2.06.94-2.06 2.06-.94-2.06-.94-.94-2.06-.94 2.06-2.06.94zm-11 1L8.5 8.5l.94-2.06 2.06-.94-2.06-.94L8.5 2.5l-.94 2.06-2.06.94zm10 10l.94 2.06.94-2.06 2.06-.94-2.06-.94-.94-2.06-.94 2.06-2.06.94z\"/><path d=\"M17.41 7.96l-1.37-1.37c-.4-.4-.92-.59-1.43-.59-.52 0-1.04.2-1.43.59L10.3 9.45l-7.72 7.72c-.78.78-.78 2.05 0 2.83L4 21.41c.39.39.9.59 1.41.59.51 0 1.02-.2 1.41-.59l7.78-7.78 2.81-2.81c.8-.78.8-2.07 0-2.86zM5.41 20L4 18.59l7.72-7.72 1.47 1.35L5.41 20z\"/>\n",
       "  </svg>\n",
       "      </button>\n",
       "      \n",
       "  <style>\n",
       "    .colab-df-container {\n",
       "      display:flex;\n",
       "      flex-wrap:wrap;\n",
       "      gap: 12px;\n",
       "    }\n",
       "\n",
       "    .colab-df-convert {\n",
       "      background-color: #E8F0FE;\n",
       "      border: none;\n",
       "      border-radius: 50%;\n",
       "      cursor: pointer;\n",
       "      display: none;\n",
       "      fill: #1967D2;\n",
       "      height: 32px;\n",
       "      padding: 0 0 0 0;\n",
       "      width: 32px;\n",
       "    }\n",
       "\n",
       "    .colab-df-convert:hover {\n",
       "      background-color: #E2EBFA;\n",
       "      box-shadow: 0px 1px 2px rgba(60, 64, 67, 0.3), 0px 1px 3px 1px rgba(60, 64, 67, 0.15);\n",
       "      fill: #174EA6;\n",
       "    }\n",
       "\n",
       "    [theme=dark] .colab-df-convert {\n",
       "      background-color: #3B4455;\n",
       "      fill: #D2E3FC;\n",
       "    }\n",
       "\n",
       "    [theme=dark] .colab-df-convert:hover {\n",
       "      background-color: #434B5C;\n",
       "      box-shadow: 0px 1px 3px 1px rgba(0, 0, 0, 0.15);\n",
       "      filter: drop-shadow(0px 1px 2px rgba(0, 0, 0, 0.3));\n",
       "      fill: #FFFFFF;\n",
       "    }\n",
       "  </style>\n",
       "\n",
       "      <script>\n",
       "        const buttonEl =\n",
       "          document.querySelector('#df-623533ce-cba3-4018-a3e5-70552078b633 button.colab-df-convert');\n",
       "        buttonEl.style.display =\n",
       "          google.colab.kernel.accessAllowed ? 'block' : 'none';\n",
       "\n",
       "        async function convertToInteractive(key) {\n",
       "          const element = document.querySelector('#df-623533ce-cba3-4018-a3e5-70552078b633');\n",
       "          const dataTable =\n",
       "            await google.colab.kernel.invokeFunction('convertToInteractive',\n",
       "                                                     [key], {});\n",
       "          if (!dataTable) return;\n",
       "\n",
       "          const docLinkHtml = 'Like what you see? Visit the ' +\n",
       "            '<a target=\"_blank\" href=https://colab.research.google.com/notebooks/data_table.ipynb>data table notebook</a>'\n",
       "            + ' to learn more about interactive tables.';\n",
       "          element.innerHTML = '';\n",
       "          dataTable['output_type'] = 'display_data';\n",
       "          await google.colab.output.renderOutput(dataTable, element);\n",
       "          const docLink = document.createElement('div');\n",
       "          docLink.innerHTML = docLinkHtml;\n",
       "          element.appendChild(docLink);\n",
       "        }\n",
       "      </script>\n",
       "    </div>\n",
       "  </div>\n",
       "  "
      ],
      "text/plain": [
       "   REF_NO children age_band                status        occupation  \\\n",
       "0       1     Zero    51-55               Partner     Manual Worker   \n",
       "1       2     Zero    55-60  Single/Never Married           Retired   \n",
       "2       3     Zero    26-30  Single/Never Married      Professional   \n",
       "3       5     Zero    18-21  Single/Never Married      Professional   \n",
       "4       6     Zero    45-50               Partner  Business Manager   \n",
       "\n",
       "  occupation_partner home_status      family_income self_employed  \\\n",
       "0  Secretarial/Admin    Own Home  <17,500, >=15,000            No   \n",
       "1            Retired    Own Home  <27,500, >=25,000            No   \n",
       "2              Other    Own Home  <30,000, >=27,500           Yes   \n",
       "3      Manual Worker    Own Home  <15,000, >=12,500            No   \n",
       "4            Unknown    Own Home  <30,000, >=27,500            No   \n",
       "\n",
       "  self_employed_partner  ...  Investment Tax Saving Bond Home Loan  \\\n",
       "0                    No  ...                       19.99      0.00   \n",
       "1                    No  ...                        0.00      0.00   \n",
       "2                    No  ...                        0.00      3.49   \n",
       "3                    No  ...                        0.00      0.00   \n",
       "4                    No  ...                        0.00     45.91   \n",
       "\n",
       "  Online Purchase Amount Revenue Grid  gender         region  \\\n",
       "0                   0.00            1  Female          Wales   \n",
       "1                   0.00            2  Female     North West   \n",
       "2                   0.00            2    Male          North   \n",
       "3                   0.00            2  Female  West Midlands   \n",
       "4                  25.98            2  Female       Scotland   \n",
       "\n",
       "   Investment in Commudity  Investment in Equity  Investment in Derivative  \\\n",
       "0                    74.67                 18.66                     32.32   \n",
       "1                    20.19                  0.00                      4.33   \n",
       "2                    98.06                 31.07                     80.96   \n",
       "3                     4.10                 14.15                     17.57   \n",
       "4                    70.16                 55.86                     80.44   \n",
       "\n",
       "   Portfolio Balance  \n",
       "0              89.43  \n",
       "1              22.78  \n",
       "2             171.78  \n",
       "3             -41.70  \n",
       "4             235.02  \n",
       "\n",
       "[5 rows x 32 columns]"
      ]
     },
     "execution_count": 7,
     "metadata": {},
     "output_type": "execute_result"
    }
   ],
   "source": [
    "data.head()"
   ]
  },
  {
   "cell_type": "code",
   "execution_count": 8,
   "metadata": {
    "colab": {
     "base_uri": "https://localhost:8080/"
    },
    "id": "6icQQXwNtfLf",
    "outputId": "d5e358bf-72a9-463c-d3ef-80af33801221"
   },
   "outputs": [
    {
     "name": "stdout",
     "output_type": "stream",
     "text": [
      "<class 'pandas.core.frame.DataFrame'>\n",
      "RangeIndex: 10155 entries, 0 to 10154\n",
      "Data columns (total 32 columns):\n",
      " #   Column                           Non-Null Count  Dtype  \n",
      "---  ------                           --------------  -----  \n",
      " 0   REF_NO                           10155 non-null  int64  \n",
      " 1   children                         10155 non-null  object \n",
      " 2   age_band                         10155 non-null  object \n",
      " 3   status                           10155 non-null  object \n",
      " 4   occupation                       10155 non-null  object \n",
      " 5   occupation_partner               10155 non-null  object \n",
      " 6   home_status                      10155 non-null  object \n",
      " 7   family_income                    10155 non-null  object \n",
      " 8   self_employed                    10155 non-null  object \n",
      " 9   self_employed_partner            10155 non-null  object \n",
      " 10  year_last_moved                  10155 non-null  int64  \n",
      " 11  TVarea                           10155 non-null  object \n",
      " 12  post_code                        10155 non-null  object \n",
      " 13  post_area                        10155 non-null  object \n",
      " 14  Average Credit Card Transaction  10155 non-null  float64\n",
      " 15  Balance Transfer                 10155 non-null  float64\n",
      " 16  Term Deposit                     10155 non-null  float64\n",
      " 17  Life Insurance                   10155 non-null  float64\n",
      " 18  Medical Insurance                10155 non-null  float64\n",
      " 19  Average A/C Balance              10155 non-null  float64\n",
      " 20  Personal Loan                    10155 non-null  float64\n",
      " 21  Investment in Mutual Fund        10155 non-null  float64\n",
      " 22  Investment Tax Saving Bond       10155 non-null  float64\n",
      " 23  Home Loan                        10155 non-null  float64\n",
      " 24  Online Purchase Amount           10155 non-null  float64\n",
      " 25  Revenue Grid                     10155 non-null  int64  \n",
      " 26  gender                           10155 non-null  object \n",
      " 27  region                           10155 non-null  object \n",
      " 28  Investment in Commudity          10155 non-null  float64\n",
      " 29  Investment in Equity             10155 non-null  float64\n",
      " 30  Investment in Derivative         10155 non-null  float64\n",
      " 31  Portfolio Balance                10155 non-null  float64\n",
      "dtypes: float64(15), int64(3), object(14)\n",
      "memory usage: 2.5+ MB\n"
     ]
    }
   ],
   "source": [
    "data.info() ### prints out informatio regarding columns in the data\n",
    "\n",
    "#### Insight #####\n",
    "####################\n",
    "\n",
    "# Out of 32 columns, we have around 18 columns of numeric type, 14 columns of string type\n",
    "# There doesn't seem to have missing values in the columns, however we would investigate this once again\n",
    "\n",
    "####### Insights ########\n",
    "\n",
    "# Ref number can be dropped\n",
    "# Remove the - and convert age_band into numeric... if there are not too many unique age_bands we may even create dummies.\n",
    "# Remove the >< and convert the family_income into a numeric column."
   ]
  },
  {
   "cell_type": "code",
   "execution_count": null,
   "metadata": {
    "id": "388doayowFo5"
   },
   "outputs": [],
   "source": [
    "######## Insights ############\n",
    "\n",
    "### Ref number can be removed\n",
    "### Age_band is an object column due to '-'. Remove - and take average of the age band and convert to numeric"
   ]
  },
  {
   "cell_type": "code",
   "execution_count": 9,
   "metadata": {
    "colab": {
     "base_uri": "https://localhost:8080/",
     "height": 1000
    },
    "id": "lylf8tiCtfLf",
    "outputId": "cb35417c-9bbd-4df7-e26c-83f627c4560b"
   },
   "outputs": [
    {
     "data": {
      "image/png": "[encoded data removed]",
      "text/plain": [
       "<Figure size 1440x1440 with 18 Axes>"
      ]
     },
     "metadata": {
      "needs_background": "light"
     },
     "output_type": "display_data"
    }
   ],
   "source": [
    "#### Visualizing numeric columns ######\n",
    "\n",
    "numeric_cols = data.select_dtypes(include = np.number) ### selects numeric columns\n",
    "\n",
    "column_names = list(numeric_cols.columns)\n",
    "\n",
    "col_index = 0\n",
    "\n",
    "plot_rows = 6\n",
    "plot_cols = 3\n",
    "\n",
    "fig, ax = plt.subplots(nrows = plot_rows,ncols=plot_cols,figsize = (20,20))\n",
    "\n",
    "for row_count in range(plot_rows):\n",
    "    for col_count in range(plot_cols):\n",
    "        ax[row_count][col_count].scatter(y = numeric_cols[column_names[col_index]],x=numeric_cols.index)\n",
    "        ax[row_count][col_count].set_ylabel(column_names[col_index])\n",
    "        col_index = col_index + 1\n",
    "        \n",
    "###### Insights #####\n",
    "#####################\n",
    "\n",
    "## Ref Number column just contains the index so can be removed.\n",
    "## year_last_moved column seem to have many values close to 0 or 0, these seem to be noise, investigate them.\n",
    "## Average_credit_card_transaction,Balance Transfer seems to be highly right skewed, check if the skewness could be reduced. ###Later\n",
    "## A single customer with very high value of balance transfer/life insurance etc stands out, this row could be considered outlier and be removed, #row number 250\n",
    "## Capping could be done to limit the impact of outliers.\n",
    "## Scaling could be done since the scale is different for most of the variables. ## Incorrect"
   ]
  },
  {
   "cell_type": "code",
   "execution_count": 10,
   "metadata": {
    "colab": {
     "base_uri": "https://localhost:8080/"
    },
    "id": "d6j8NN2IH4SQ",
    "outputId": "b2f6847e-0835-4c67-d4d6-bcc48333b4ab"
   },
   "outputs": [
    {
     "data": {
      "text/plain": [
       "250    1231.09\n",
       "Name: Investment in Commudity, dtype: float64"
      ]
     },
     "execution_count": 10,
     "metadata": {},
     "output_type": "execute_result"
    }
   ],
   "source": [
    "data.loc[data['Life Insurance']>2500,:]['Investment in Commudity']"
   ]
  },
  {
   "cell_type": "code",
   "execution_count": 11,
   "metadata": {
    "colab": {
     "base_uri": "https://localhost:8080/",
     "height": 352
    },
    "id": "nDgdEbRGAKw5",
    "outputId": "49e03ec4-04b7-4fa9-a39c-d9a33dba9997"
   },
   "outputs": [
    {
     "name": "stderr",
     "output_type": "stream",
     "text": [
      "C:\\Users\\ADMIN\\anaconda3\\lib\\site-packages\\seaborn\\distributions.py:2619: FutureWarning: `distplot` is a deprecated function and will be removed in a future version. Please adapt your code to use either `displot` (a figure-level function with similar flexibility) or `kdeplot` (an axes-level function for kernel density plots).\n",
      "  warnings.warn(msg, FutureWarning)\n"
     ]
    },
    {
     "data": {
      "text/plain": [
       "<AxesSubplot:xlabel='Investment in Commudity', ylabel='Density'>"
      ]
     },
     "execution_count": 11,
     "metadata": {},
     "output_type": "execute_result"
    },
    {
     "data": {
      "image/png": "[encoded data removed]",
      "text/plain": [
       "<Figure size 432x288 with 1 Axes>"
      ]
     },
     "metadata": {
      "needs_background": "light"
     },
     "output_type": "display_data"
    }
   ],
   "source": [
    "sns.distplot(data['Investment in Commudity'],hist = False)"
   ]
  },
  {
   "cell_type": "code",
   "execution_count": null,
   "metadata": {
    "colab": {
     "base_uri": "https://localhost:8080/",
     "height": 297
    },
    "id": "xAdGanOUCOwR",
    "outputId": "32fbfbb2-6d3a-488f-e281-7996177ff9a8"
   },
   "outputs": [
    {
     "data": {
      "text/plain": [
       "<matplotlib.axes._subplots.AxesSubplot at 0x7f5f50653990>"
      ]
     },
     "execution_count": 73,
     "metadata": {},
     "output_type": "execute_result"
    },
    {
     "data": {
      "image/png": "[encoded data removed]",
      "text/plain": [
       "<Figure size 432x288 with 1 Axes>"
      ]
     },
     "metadata": {
      "needs_background": "light"
     },
     "output_type": "display_data"
    }
   ],
   "source": [
    "sns.boxplot(x = data.loc[data['Investment in Commudity']<1000, 'Revenue Grid'], y = data.loc[data['Investment in Commudity']<1000, 'Investment in Commudity'])"
   ]
  },
  {
   "cell_type": "code",
   "execution_count": 12,
   "metadata": {
    "colab": {
     "base_uri": "https://localhost:8080/",
     "height": 356
    },
    "id": "zwNBvOVi9ODn",
    "outputId": "65f91986-a5b9-44ba-f584-f05fc6fdf839"
   },
   "outputs": [
    {
     "name": "stderr",
     "output_type": "stream",
     "text": [
      "C:\\Users\\ADMIN\\anaconda3\\lib\\site-packages\\seaborn\\distributions.py:2619: FutureWarning: `distplot` is a deprecated function and will be removed in a future version. Please adapt your code to use either `displot` (a figure-level function with similar flexibility) or `kdeplot` (an axes-level function for kernel density plots).\n",
      "  warnings.warn(msg, FutureWarning)\n"
     ]
    },
    {
     "data": {
      "text/plain": [
       "<AxesSubplot:xlabel='Investment Tax Saving Bond', ylabel='Density'>"
      ]
     },
     "execution_count": 12,
     "metadata": {},
     "output_type": "execute_result"
    },
    {
     "data": {
      "image/png": "[encoded data removed]",
      "text/plain": [
       "<Figure size 432x288 with 1 Axes>"
      ]
     },
     "metadata": {
      "needs_background": "light"
     },
     "output_type": "display_data"
    }
   ],
   "source": [
    "sns.distplot((data['Investment Tax Saving Bond']),hist = False)"
   ]
  },
  {
   "cell_type": "code",
   "execution_count": null,
   "metadata": {
    "colab": {
     "base_uri": "https://localhost:8080/",
     "height": 352
    },
    "id": "yMoaXuhZp6vq",
    "outputId": "33dda87e-0708-40ce-f973-15047c455b82"
   },
   "outputs": [
    {
     "name": "stderr",
     "output_type": "stream",
     "text": [
      "/usr/local/lib/python3.7/dist-packages/seaborn/distributions.py:2619: FutureWarning: `distplot` is a deprecated function and will be removed in a future version. Please adapt your code to use either `displot` (a figure-level function with similar flexibility) or `kdeplot` (an axes-level function for kernel density plots).\n",
      "  warnings.warn(msg, FutureWarning)\n"
     ]
    },
    {
     "data": {
      "text/plain": [
       "<matplotlib.axes._subplots.AxesSubplot at 0x7f5f50d097d0>"
      ]
     },
     "execution_count": 75,
     "metadata": {},
     "output_type": "execute_result"
    },
    {
     "data": {
      "image/png": "[encoded data removed]",
      "text/plain": [
       "<Figure size 432x288 with 1 Axes>"
      ]
     },
     "metadata": {
      "needs_background": "light"
     },
     "output_type": "display_data"
    }
   ],
   "source": [
    "sns.distplot(data['Portfolio Balance'],hist = False)"
   ]
  },
  {
   "cell_type": "code",
   "execution_count": 13,
   "metadata": {
    "colab": {
     "base_uri": "https://localhost:8080/",
     "height": 352
    },
    "id": "Ha3gZezSq1dU",
    "outputId": "2765aace-f095-458d-b730-e42be57760ef"
   },
   "outputs": [
    {
     "name": "stderr",
     "output_type": "stream",
     "text": [
      "C:\\Users\\ADMIN\\anaconda3\\lib\\site-packages\\seaborn\\distributions.py:2619: FutureWarning: `distplot` is a deprecated function and will be removed in a future version. Please adapt your code to use either `displot` (a figure-level function with similar flexibility) or `kdeplot` (an axes-level function for kernel density plots).\n",
      "  warnings.warn(msg, FutureWarning)\n"
     ]
    },
    {
     "data": {
      "text/plain": [
       "<AxesSubplot:xlabel='Investment in Equity', ylabel='Density'>"
      ]
     },
     "execution_count": 13,
     "metadata": {},
     "output_type": "execute_result"
    },
    {
     "data": {
      "image/png": "[encoded data removed]",
      "text/plain": [
       "<Figure size 432x288 with 1 Axes>"
      ]
     },
     "metadata": {
      "needs_background": "light"
     },
     "output_type": "display_data"
    }
   ],
   "source": [
    "sns.distplot(data['Investment in Equity'],hist = False)"
   ]
  },
  {
   "cell_type": "code",
   "execution_count": 15,
   "metadata": {
    "colab": {
     "base_uri": "https://localhost:8080/",
     "height": 175
    },
    "id": "nQMN23sKrjWB",
    "outputId": "de59005b-3185-4d39-e35e-9100b93f497c"
   },
   "outputs": [
    {
     "data": {
      "text/html": [
       "<div>\n",
       "<style scoped>\n",
       "    .dataframe tbody tr th:only-of-type {\n",
       "        vertical-align: middle;\n",
       "    }\n",
       "\n",
       "    .dataframe tbody tr th {\n",
       "        vertical-align: top;\n",
       "    }\n",
       "\n",
       "    .dataframe thead tr th {\n",
       "        text-align: left;\n",
       "    }\n",
       "\n",
       "    .dataframe thead tr:last-of-type th {\n",
       "        text-align: right;\n",
       "    }\n",
       "</style>\n",
       "<table border=\"1\" class=\"dataframe\">\n",
       "  <thead>\n",
       "    <tr>\n",
       "      <th></th>\n",
       "      <th colspan=\"2\" halign=\"left\">Online Purchase Amount</th>\n",
       "    </tr>\n",
       "    <tr>\n",
       "      <th></th>\n",
       "      <th>mean</th>\n",
       "      <th>median</th>\n",
       "    </tr>\n",
       "    <tr>\n",
       "      <th>Revenue Grid</th>\n",
       "      <th></th>\n",
       "      <th></th>\n",
       "    </tr>\n",
       "  </thead>\n",
       "  <tbody>\n",
       "    <tr>\n",
       "      <th>1</th>\n",
       "      <td>118.808066</td>\n",
       "      <td>55.845</td>\n",
       "    </tr>\n",
       "    <tr>\n",
       "      <th>2</th>\n",
       "      <td>7.230388</td>\n",
       "      <td>0.000</td>\n",
       "    </tr>\n",
       "  </tbody>\n",
       "</table>\n",
       "</div>"
      ],
      "text/plain": [
       "             Online Purchase Amount        \n",
       "                               mean  median\n",
       "Revenue Grid                               \n",
       "1                        118.808066  55.845\n",
       "2                          7.230388   0.000"
      ]
     },
     "execution_count": 15,
     "metadata": {},
     "output_type": "execute_result"
    }
   ],
   "source": [
    "data.groupby(['Revenue Grid']).agg({'Online Purchase Amount': ['mean', 'median']})"
   ]
  },
  {
   "cell_type": "code",
   "execution_count": 14,
   "metadata": {
    "colab": {
     "base_uri": "https://localhost:8080/",
     "height": 297
    },
    "id": "oV3J_PMbA7n2",
    "outputId": "4d1befbe-d0e7-492b-d94e-cb350c814f1c"
   },
   "outputs": [
    {
     "data": {
      "text/plain": [
       "<AxesSubplot:xlabel='Revenue Grid', ylabel='Online Purchase Amount'>"
      ]
     },
     "execution_count": 14,
     "metadata": {},
     "output_type": "execute_result"
    },
    {
     "data": {
      "image/png": "[encoded data removed]",
      "text/plain": [
       "<Figure size 432x288 with 1 Axes>"
      ]
     },
     "metadata": {
      "needs_background": "light"
     },
     "output_type": "display_data"
    }
   ],
   "source": [
    "sns.boxplot(x='Revenue Grid', y = 'Online Purchase Amount', data = data)"
   ]
  },
  {
   "cell_type": "code",
   "execution_count": 16,
   "metadata": {
    "colab": {
     "base_uri": "https://localhost:8080/"
    },
    "id": "B_1mEfqH06pc",
    "outputId": "009d668b-ab50-45ad-dfda-61f1feddcd51"
   },
   "outputs": [
    {
     "data": {
      "text/plain": [
       "84"
      ]
     },
     "execution_count": 16,
     "metadata": {},
     "output_type": "execute_result"
    }
   ],
   "source": [
    "np.sum(data['year_last_moved']==0) #### This computes the number of 0's in the year last moved columns"
   ]
  },
  {
   "cell_type": "code",
   "execution_count": null,
   "metadata": {
    "colab": {
     "base_uri": "https://localhost:8080/",
     "height": 352
    },
    "id": "Ad8CD0MMAq79",
    "outputId": "4b2eeb27-70eb-4b81-ab36-39ef45ebc3b9"
   },
   "outputs": [
    {
     "name": "stderr",
     "output_type": "stream",
     "text": [
      "/usr/local/lib/python3.7/dist-packages/seaborn/_decorators.py:43: FutureWarning: Pass the following variables as keyword args: x, y. From version 0.12, the only valid positional argument will be `data`, and passing other arguments without an explicit keyword will result in an error or misinterpretation.\n",
      "  FutureWarning\n"
     ]
    },
    {
     "data": {
      "text/plain": [
       "<matplotlib.axes._subplots.AxesSubplot at 0x7f5f50b89ed0>"
      ]
     },
     "execution_count": 80,
     "metadata": {},
     "output_type": "execute_result"
    },
    {
     "data": {
      "image/png": "[encoded data removed]",
      "text/plain": [
       "<Figure size 432x288 with 1 Axes>"
      ]
     },
     "metadata": {
      "needs_background": "light"
     },
     "output_type": "display_data"
    }
   ],
   "source": [
    "sns.boxplot(data.loc[data['year_last_moved']>0,'Revenue Grid'], data.loc[data['year_last_moved']>0,'year_last_moved'])"
   ]
  },
  {
   "cell_type": "code",
   "execution_count": 17,
   "metadata": {
    "colab": {
     "base_uri": "https://localhost:8080/",
     "height": 903
    },
    "id": "Rr-WaQ3FCMcw",
    "outputId": "38717109-fb2c-41d6-c35c-e782c6431dfd"
   },
   "outputs": [
    {
     "data": {
      "text/html": [
       "<div>\n",
       "<style scoped>\n",
       "    .dataframe tbody tr th:only-of-type {\n",
       "        vertical-align: middle;\n",
       "    }\n",
       "\n",
       "    .dataframe tbody tr th {\n",
       "        vertical-align: top;\n",
       "    }\n",
       "\n",
       "    .dataframe thead th {\n",
       "        text-align: right;\n",
       "    }\n",
       "</style>\n",
       "<table border=\"1\" class=\"dataframe\">\n",
       "  <thead>\n",
       "    <tr style=\"text-align: right;\">\n",
       "      <th></th>\n",
       "      <th>REF_NO</th>\n",
       "      <th>year_last_moved</th>\n",
       "      <th>Average Credit Card Transaction</th>\n",
       "      <th>Balance Transfer</th>\n",
       "      <th>Term Deposit</th>\n",
       "      <th>Life Insurance</th>\n",
       "      <th>Medical Insurance</th>\n",
       "      <th>Average A/C Balance</th>\n",
       "      <th>Personal Loan</th>\n",
       "      <th>Investment in Mutual Fund</th>\n",
       "      <th>Investment Tax Saving Bond</th>\n",
       "      <th>Home Loan</th>\n",
       "      <th>Online Purchase Amount</th>\n",
       "      <th>Revenue Grid</th>\n",
       "      <th>Investment in Commudity</th>\n",
       "      <th>Investment in Equity</th>\n",
       "      <th>Investment in Derivative</th>\n",
       "      <th>Portfolio Balance</th>\n",
       "    </tr>\n",
       "  </thead>\n",
       "  <tbody>\n",
       "    <tr>\n",
       "      <th>REF_NO</th>\n",
       "      <td>1.000000</td>\n",
       "      <td>0.028739</td>\n",
       "      <td>-0.001217</td>\n",
       "      <td>-0.010711</td>\n",
       "      <td>-0.002313</td>\n",
       "      <td>0.008301</td>\n",
       "      <td>0.020776</td>\n",
       "      <td>-0.005197</td>\n",
       "      <td>-0.010802</td>\n",
       "      <td>-0.006030</td>\n",
       "      <td>0.000775</td>\n",
       "      <td>-0.014010</td>\n",
       "      <td>0.003267</td>\n",
       "      <td>-0.010578</td>\n",
       "      <td>0.002082</td>\n",
       "      <td>-0.007154</td>\n",
       "      <td>-0.000234</td>\n",
       "      <td>-0.000721</td>\n",
       "    </tr>\n",
       "    <tr>\n",
       "      <th>year_last_moved</th>\n",
       "      <td>0.028739</td>\n",
       "      <td>1.000000</td>\n",
       "      <td>0.014296</td>\n",
       "      <td>0.013535</td>\n",
       "      <td>0.004404</td>\n",
       "      <td>0.010689</td>\n",
       "      <td>0.015484</td>\n",
       "      <td>0.003031</td>\n",
       "      <td>0.019718</td>\n",
       "      <td>0.002569</td>\n",
       "      <td>0.013158</td>\n",
       "      <td>0.003282</td>\n",
       "      <td>-0.005826</td>\n",
       "      <td>-0.018655</td>\n",
       "      <td>0.016802</td>\n",
       "      <td>0.008586</td>\n",
       "      <td>0.015582</td>\n",
       "      <td>0.017298</td>\n",
       "    </tr>\n",
       "    <tr>\n",
       "      <th>Average Credit Card Transaction</th>\n",
       "      <td>-0.001217</td>\n",
       "      <td>0.014296</td>\n",
       "      <td>1.000000</td>\n",
       "      <td>0.123855</td>\n",
       "      <td>0.323462</td>\n",
       "      <td>0.145041</td>\n",
       "      <td>0.405090</td>\n",
       "      <td>0.172240</td>\n",
       "      <td>0.087289</td>\n",
       "      <td>0.150667</td>\n",
       "      <td>0.133126</td>\n",
       "      <td>0.087695</td>\n",
       "      <td>0.132518</td>\n",
       "      <td>-0.265197</td>\n",
       "      <td>0.497025</td>\n",
       "      <td>0.205289</td>\n",
       "      <td>0.228141</td>\n",
       "      <td>0.335674</td>\n",
       "    </tr>\n",
       "    <tr>\n",
       "      <th>Balance Transfer</th>\n",
       "      <td>-0.010711</td>\n",
       "      <td>0.013535</td>\n",
       "      <td>0.123855</td>\n",
       "      <td>1.000000</td>\n",
       "      <td>0.229457</td>\n",
       "      <td>0.564538</td>\n",
       "      <td>0.162085</td>\n",
       "      <td>0.358938</td>\n",
       "      <td>0.351499</td>\n",
       "      <td>0.454602</td>\n",
       "      <td>0.166496</td>\n",
       "      <td>0.153097</td>\n",
       "      <td>0.112012</td>\n",
       "      <td>-0.074756</td>\n",
       "      <td>0.739791</td>\n",
       "      <td>0.463556</td>\n",
       "      <td>0.581039</td>\n",
       "      <td>0.639400</td>\n",
       "    </tr>\n",
       "    <tr>\n",
       "      <th>Term Deposit</th>\n",
       "      <td>-0.002313</td>\n",
       "      <td>0.004404</td>\n",
       "      <td>0.323462</td>\n",
       "      <td>0.229457</td>\n",
       "      <td>1.000000</td>\n",
       "      <td>0.274691</td>\n",
       "      <td>0.506367</td>\n",
       "      <td>0.274027</td>\n",
       "      <td>0.146755</td>\n",
       "      <td>0.208948</td>\n",
       "      <td>0.176975</td>\n",
       "      <td>0.170584</td>\n",
       "      <td>0.099455</td>\n",
       "      <td>-0.011817</td>\n",
       "      <td>0.620256</td>\n",
       "      <td>0.266908</td>\n",
       "      <td>0.354304</td>\n",
       "      <td>0.454740</td>\n",
       "    </tr>\n",
       "    <tr>\n",
       "      <th>Life Insurance</th>\n",
       "      <td>0.008301</td>\n",
       "      <td>0.010689</td>\n",
       "      <td>0.145041</td>\n",
       "      <td>0.564538</td>\n",
       "      <td>0.274691</td>\n",
       "      <td>1.000000</td>\n",
       "      <td>0.238435</td>\n",
       "      <td>0.514339</td>\n",
       "      <td>0.380563</td>\n",
       "      <td>0.544439</td>\n",
       "      <td>0.263675</td>\n",
       "      <td>0.279959</td>\n",
       "      <td>0.128785</td>\n",
       "      <td>-0.216090</td>\n",
       "      <td>0.803326</td>\n",
       "      <td>0.564287</td>\n",
       "      <td>0.839266</td>\n",
       "      <td>0.787311</td>\n",
       "    </tr>\n",
       "    <tr>\n",
       "      <th>Medical Insurance</th>\n",
       "      <td>0.020776</td>\n",
       "      <td>0.015484</td>\n",
       "      <td>0.405090</td>\n",
       "      <td>0.162085</td>\n",
       "      <td>0.506367</td>\n",
       "      <td>0.238435</td>\n",
       "      <td>1.000000</td>\n",
       "      <td>0.264615</td>\n",
       "      <td>0.105134</td>\n",
       "      <td>0.209651</td>\n",
       "      <td>0.201057</td>\n",
       "      <td>0.136310</td>\n",
       "      <td>0.149651</td>\n",
       "      <td>-0.092966</td>\n",
       "      <td>0.548282</td>\n",
       "      <td>0.269922</td>\n",
       "      <td>0.392548</td>\n",
       "      <td>0.441631</td>\n",
       "    </tr>\n",
       "    <tr>\n",
       "      <th>Average A/C Balance</th>\n",
       "      <td>-0.005197</td>\n",
       "      <td>0.003031</td>\n",
       "      <td>0.172240</td>\n",
       "      <td>0.358938</td>\n",
       "      <td>0.274027</td>\n",
       "      <td>0.514339</td>\n",
       "      <td>0.264615</td>\n",
       "      <td>1.000000</td>\n",
       "      <td>0.219801</td>\n",
       "      <td>0.448270</td>\n",
       "      <td>0.307552</td>\n",
       "      <td>0.367590</td>\n",
       "      <td>0.162821</td>\n",
       "      <td>-0.112118</td>\n",
       "      <td>0.517832</td>\n",
       "      <td>0.600278</td>\n",
       "      <td>0.657742</td>\n",
       "      <td>0.616051</td>\n",
       "    </tr>\n",
       "    <tr>\n",
       "      <th>Personal Loan</th>\n",
       "      <td>-0.010802</td>\n",
       "      <td>0.019718</td>\n",
       "      <td>0.087289</td>\n",
       "      <td>0.351499</td>\n",
       "      <td>0.146755</td>\n",
       "      <td>0.380563</td>\n",
       "      <td>0.105134</td>\n",
       "      <td>0.219801</td>\n",
       "      <td>1.000000</td>\n",
       "      <td>0.379615</td>\n",
       "      <td>0.233020</td>\n",
       "      <td>0.128062</td>\n",
       "      <td>0.073292</td>\n",
       "      <td>0.028982</td>\n",
       "      <td>0.377170</td>\n",
       "      <td>0.676053</td>\n",
       "      <td>0.687417</td>\n",
       "      <td>0.598919</td>\n",
       "    </tr>\n",
       "    <tr>\n",
       "      <th>Investment in Mutual Fund</th>\n",
       "      <td>-0.006030</td>\n",
       "      <td>0.002569</td>\n",
       "      <td>0.150667</td>\n",
       "      <td>0.454602</td>\n",
       "      <td>0.208948</td>\n",
       "      <td>0.544439</td>\n",
       "      <td>0.209651</td>\n",
       "      <td>0.448270</td>\n",
       "      <td>0.379615</td>\n",
       "      <td>1.000000</td>\n",
       "      <td>0.271580</td>\n",
       "      <td>0.261562</td>\n",
       "      <td>0.115087</td>\n",
       "      <td>-0.114689</td>\n",
       "      <td>0.536715</td>\n",
       "      <td>0.693435</td>\n",
       "      <td>0.761125</td>\n",
       "      <td>0.695337</td>\n",
       "    </tr>\n",
       "    <tr>\n",
       "      <th>Investment Tax Saving Bond</th>\n",
       "      <td>0.000775</td>\n",
       "      <td>0.013158</td>\n",
       "      <td>0.133126</td>\n",
       "      <td>0.166496</td>\n",
       "      <td>0.176975</td>\n",
       "      <td>0.263675</td>\n",
       "      <td>0.201057</td>\n",
       "      <td>0.307552</td>\n",
       "      <td>0.233020</td>\n",
       "      <td>0.271580</td>\n",
       "      <td>1.000000</td>\n",
       "      <td>0.261626</td>\n",
       "      <td>0.211596</td>\n",
       "      <td>-0.288024</td>\n",
       "      <td>0.289110</td>\n",
       "      <td>0.446271</td>\n",
       "      <td>0.407148</td>\n",
       "      <td>0.395889</td>\n",
       "    </tr>\n",
       "    <tr>\n",
       "      <th>Home Loan</th>\n",
       "      <td>-0.014010</td>\n",
       "      <td>0.003282</td>\n",
       "      <td>0.087695</td>\n",
       "      <td>0.153097</td>\n",
       "      <td>0.170584</td>\n",
       "      <td>0.279959</td>\n",
       "      <td>0.136310</td>\n",
       "      <td>0.367590</td>\n",
       "      <td>0.128062</td>\n",
       "      <td>0.261562</td>\n",
       "      <td>0.261626</td>\n",
       "      <td>1.000000</td>\n",
       "      <td>0.101066</td>\n",
       "      <td>-0.028413</td>\n",
       "      <td>0.268989</td>\n",
       "      <td>0.348181</td>\n",
       "      <td>0.335651</td>\n",
       "      <td>0.326663</td>\n",
       "    </tr>\n",
       "    <tr>\n",
       "      <th>Online Purchase Amount</th>\n",
       "      <td>0.003267</td>\n",
       "      <td>-0.005826</td>\n",
       "      <td>0.132518</td>\n",
       "      <td>0.112012</td>\n",
       "      <td>0.099455</td>\n",
       "      <td>0.128785</td>\n",
       "      <td>0.149651</td>\n",
       "      <td>0.162821</td>\n",
       "      <td>0.073292</td>\n",
       "      <td>0.115087</td>\n",
       "      <td>0.211596</td>\n",
       "      <td>0.101066</td>\n",
       "      <td>1.000000</td>\n",
       "      <td>-0.384578</td>\n",
       "      <td>0.180074</td>\n",
       "      <td>0.597440</td>\n",
       "      <td>0.173943</td>\n",
       "      <td>0.309800</td>\n",
       "    </tr>\n",
       "    <tr>\n",
       "      <th>Revenue Grid</th>\n",
       "      <td>-0.010578</td>\n",
       "      <td>-0.018655</td>\n",
       "      <td>-0.265197</td>\n",
       "      <td>-0.074756</td>\n",
       "      <td>-0.011817</td>\n",
       "      <td>-0.216090</td>\n",
       "      <td>-0.092966</td>\n",
       "      <td>-0.112118</td>\n",
       "      <td>0.028982</td>\n",
       "      <td>-0.114689</td>\n",
       "      <td>-0.288024</td>\n",
       "      <td>-0.028413</td>\n",
       "      <td>-0.384578</td>\n",
       "      <td>1.000000</td>\n",
       "      <td>-0.206567</td>\n",
       "      <td>-0.253182</td>\n",
       "      <td>-0.159163</td>\n",
       "      <td>-0.215847</td>\n",
       "    </tr>\n",
       "    <tr>\n",
       "      <th>Investment in Commudity</th>\n",
       "      <td>0.002082</td>\n",
       "      <td>0.016802</td>\n",
       "      <td>0.497025</td>\n",
       "      <td>0.739791</td>\n",
       "      <td>0.620256</td>\n",
       "      <td>0.803326</td>\n",
       "      <td>0.548282</td>\n",
       "      <td>0.517832</td>\n",
       "      <td>0.377170</td>\n",
       "      <td>0.536715</td>\n",
       "      <td>0.289110</td>\n",
       "      <td>0.268989</td>\n",
       "      <td>0.180074</td>\n",
       "      <td>-0.206567</td>\n",
       "      <td>1.000000</td>\n",
       "      <td>0.586210</td>\n",
       "      <td>0.800779</td>\n",
       "      <td>0.858020</td>\n",
       "    </tr>\n",
       "    <tr>\n",
       "      <th>Investment in Equity</th>\n",
       "      <td>-0.007154</td>\n",
       "      <td>0.008586</td>\n",
       "      <td>0.205289</td>\n",
       "      <td>0.463556</td>\n",
       "      <td>0.266908</td>\n",
       "      <td>0.564287</td>\n",
       "      <td>0.269922</td>\n",
       "      <td>0.600278</td>\n",
       "      <td>0.676053</td>\n",
       "      <td>0.693435</td>\n",
       "      <td>0.446271</td>\n",
       "      <td>0.348181</td>\n",
       "      <td>0.597440</td>\n",
       "      <td>-0.253182</td>\n",
       "      <td>0.586210</td>\n",
       "      <td>1.000000</td>\n",
       "      <td>0.839552</td>\n",
       "      <td>0.831134</td>\n",
       "    </tr>\n",
       "    <tr>\n",
       "      <th>Investment in Derivative</th>\n",
       "      <td>-0.000234</td>\n",
       "      <td>0.015582</td>\n",
       "      <td>0.228141</td>\n",
       "      <td>0.581039</td>\n",
       "      <td>0.354304</td>\n",
       "      <td>0.839266</td>\n",
       "      <td>0.392548</td>\n",
       "      <td>0.657742</td>\n",
       "      <td>0.687417</td>\n",
       "      <td>0.761125</td>\n",
       "      <td>0.407148</td>\n",
       "      <td>0.335651</td>\n",
       "      <td>0.173943</td>\n",
       "      <td>-0.159163</td>\n",
       "      <td>0.800779</td>\n",
       "      <td>0.839552</td>\n",
       "      <td>1.000000</td>\n",
       "      <td>0.927232</td>\n",
       "    </tr>\n",
       "    <tr>\n",
       "      <th>Portfolio Balance</th>\n",
       "      <td>-0.000721</td>\n",
       "      <td>0.017298</td>\n",
       "      <td>0.335674</td>\n",
       "      <td>0.639400</td>\n",
       "      <td>0.454740</td>\n",
       "      <td>0.787311</td>\n",
       "      <td>0.441631</td>\n",
       "      <td>0.616051</td>\n",
       "      <td>0.598919</td>\n",
       "      <td>0.695337</td>\n",
       "      <td>0.395889</td>\n",
       "      <td>0.326663</td>\n",
       "      <td>0.309800</td>\n",
       "      <td>-0.215847</td>\n",
       "      <td>0.858020</td>\n",
       "      <td>0.831134</td>\n",
       "      <td>0.927232</td>\n",
       "      <td>1.000000</td>\n",
       "    </tr>\n",
       "  </tbody>\n",
       "</table>\n",
       "</div>"
      ],
      "text/plain": [
       "                                   REF_NO  year_last_moved  \\\n",
       "REF_NO                           1.000000         0.028739   \n",
       "year_last_moved                  0.028739         1.000000   \n",
       "Average Credit Card Transaction -0.001217         0.014296   \n",
       "Balance Transfer                -0.010711         0.013535   \n",
       "Term Deposit                    -0.002313         0.004404   \n",
       "Life Insurance                   0.008301         0.010689   \n",
       "Medical Insurance                0.020776         0.015484   \n",
       "Average A/C Balance             -0.005197         0.003031   \n",
       "Personal Loan                   -0.010802         0.019718   \n",
       "Investment in Mutual Fund       -0.006030         0.002569   \n",
       "Investment Tax Saving Bond       0.000775         0.013158   \n",
       "Home Loan                       -0.014010         0.003282   \n",
       "Online Purchase Amount           0.003267        -0.005826   \n",
       "Revenue Grid                    -0.010578        -0.018655   \n",
       "Investment in Commudity          0.002082         0.016802   \n",
       "Investment in Equity            -0.007154         0.008586   \n",
       "Investment in Derivative        -0.000234         0.015582   \n",
       "Portfolio Balance               -0.000721         0.017298   \n",
       "\n",
       "                                 Average Credit Card Transaction  \\\n",
       "REF_NO                                                 -0.001217   \n",
       "year_last_moved                                         0.014296   \n",
       "Average Credit Card Transaction                         1.000000   \n",
       "Balance Transfer                                        0.123855   \n",
       "Term Deposit                                            0.323462   \n",
       "Life Insurance                                          0.145041   \n",
       "Medical Insurance                                       0.405090   \n",
       "Average A/C Balance                                     0.172240   \n",
       "Personal Loan                                           0.087289   \n",
       "Investment in Mutual Fund                               0.150667   \n",
       "Investment Tax Saving Bond                              0.133126   \n",
       "Home Loan                                               0.087695   \n",
       "Online Purchase Amount                                  0.132518   \n",
       "Revenue Grid                                           -0.265197   \n",
       "Investment in Commudity                                 0.497025   \n",
       "Investment in Equity                                    0.205289   \n",
       "Investment in Derivative                                0.228141   \n",
       "Portfolio Balance                                       0.335674   \n",
       "\n",
       "                                 Balance Transfer  Term Deposit  \\\n",
       "REF_NO                                  -0.010711     -0.002313   \n",
       "year_last_moved                          0.013535      0.004404   \n",
       "Average Credit Card Transaction          0.123855      0.323462   \n",
       "Balance Transfer                         1.000000      0.229457   \n",
       "Term Deposit                             0.229457      1.000000   \n",
       "Life Insurance                           0.564538      0.274691   \n",
       "Medical Insurance                        0.162085      0.506367   \n",
       "Average A/C Balance                      0.358938      0.274027   \n",
       "Personal Loan                            0.351499      0.146755   \n",
       "Investment in Mutual Fund                0.454602      0.208948   \n",
       "Investment Tax Saving Bond               0.166496      0.176975   \n",
       "Home Loan                                0.153097      0.170584   \n",
       "Online Purchase Amount                   0.112012      0.099455   \n",
       "Revenue Grid                            -0.074756     -0.011817   \n",
       "Investment in Commudity                  0.739791      0.620256   \n",
       "Investment in Equity                     0.463556      0.266908   \n",
       "Investment in Derivative                 0.581039      0.354304   \n",
       "Portfolio Balance                        0.639400      0.454740   \n",
       "\n",
       "                                 Life Insurance  Medical Insurance  \\\n",
       "REF_NO                                 0.008301           0.020776   \n",
       "year_last_moved                        0.010689           0.015484   \n",
       "Average Credit Card Transaction        0.145041           0.405090   \n",
       "Balance Transfer                       0.564538           0.162085   \n",
       "Term Deposit                           0.274691           0.506367   \n",
       "Life Insurance                         1.000000           0.238435   \n",
       "Medical Insurance                      0.238435           1.000000   \n",
       "Average A/C Balance                    0.514339           0.264615   \n",
       "Personal Loan                          0.380563           0.105134   \n",
       "Investment in Mutual Fund              0.544439           0.209651   \n",
       "Investment Tax Saving Bond             0.263675           0.201057   \n",
       "Home Loan                              0.279959           0.136310   \n",
       "Online Purchase Amount                 0.128785           0.149651   \n",
       "Revenue Grid                          -0.216090          -0.092966   \n",
       "Investment in Commudity                0.803326           0.548282   \n",
       "Investment in Equity                   0.564287           0.269922   \n",
       "Investment in Derivative               0.839266           0.392548   \n",
       "Portfolio Balance                      0.787311           0.441631   \n",
       "\n",
       "                                 Average A/C Balance  Personal Loan  \\\n",
       "REF_NO                                     -0.005197      -0.010802   \n",
       "year_last_moved                             0.003031       0.019718   \n",
       "Average Credit Card Transaction             0.172240       0.087289   \n",
       "Balance Transfer                            0.358938       0.351499   \n",
       "Term Deposit                                0.274027       0.146755   \n",
       "Life Insurance                              0.514339       0.380563   \n",
       "Medical Insurance                           0.264615       0.105134   \n",
       "Average A/C Balance                         1.000000       0.219801   \n",
       "Personal Loan                               0.219801       1.000000   \n",
       "Investment in Mutual Fund                   0.448270       0.379615   \n",
       "Investment Tax Saving Bond                  0.307552       0.233020   \n",
       "Home Loan                                   0.367590       0.128062   \n",
       "Online Purchase Amount                      0.162821       0.073292   \n",
       "Revenue Grid                               -0.112118       0.028982   \n",
       "Investment in Commudity                     0.517832       0.377170   \n",
       "Investment in Equity                        0.600278       0.676053   \n",
       "Investment in Derivative                    0.657742       0.687417   \n",
       "Portfolio Balance                           0.616051       0.598919   \n",
       "\n",
       "                                 Investment in Mutual Fund  \\\n",
       "REF_NO                                           -0.006030   \n",
       "year_last_moved                                   0.002569   \n",
       "Average Credit Card Transaction                   0.150667   \n",
       "Balance Transfer                                  0.454602   \n",
       "Term Deposit                                      0.208948   \n",
       "Life Insurance                                    0.544439   \n",
       "Medical Insurance                                 0.209651   \n",
       "Average A/C Balance                               0.448270   \n",
       "Personal Loan                                     0.379615   \n",
       "Investment in Mutual Fund                         1.000000   \n",
       "Investment Tax Saving Bond                        0.271580   \n",
       "Home Loan                                         0.261562   \n",
       "Online Purchase Amount                            0.115087   \n",
       "Revenue Grid                                     -0.114689   \n",
       "Investment in Commudity                           0.536715   \n",
       "Investment in Equity                              0.693435   \n",
       "Investment in Derivative                          0.761125   \n",
       "Portfolio Balance                                 0.695337   \n",
       "\n",
       "                                 Investment Tax Saving Bond  Home Loan  \\\n",
       "REF_NO                                             0.000775  -0.014010   \n",
       "year_last_moved                                    0.013158   0.003282   \n",
       "Average Credit Card Transaction                    0.133126   0.087695   \n",
       "Balance Transfer                                   0.166496   0.153097   \n",
       "Term Deposit                                       0.176975   0.170584   \n",
       "Life Insurance                                     0.263675   0.279959   \n",
       "Medical Insurance                                  0.201057   0.136310   \n",
       "Average A/C Balance                                0.307552   0.367590   \n",
       "Personal Loan                                      0.233020   0.128062   \n",
       "Investment in Mutual Fund                          0.271580   0.261562   \n",
       "Investment Tax Saving Bond                         1.000000   0.261626   \n",
       "Home Loan                                          0.261626   1.000000   \n",
       "Online Purchase Amount                             0.211596   0.101066   \n",
       "Revenue Grid                                      -0.288024  -0.028413   \n",
       "Investment in Commudity                            0.289110   0.268989   \n",
       "Investment in Equity                               0.446271   0.348181   \n",
       "Investment in Derivative                           0.407148   0.335651   \n",
       "Portfolio Balance                                  0.395889   0.326663   \n",
       "\n",
       "                                 Online Purchase Amount  Revenue Grid  \\\n",
       "REF_NO                                         0.003267     -0.010578   \n",
       "year_last_moved                               -0.005826     -0.018655   \n",
       "Average Credit Card Transaction                0.132518     -0.265197   \n",
       "Balance Transfer                               0.112012     -0.074756   \n",
       "Term Deposit                                   0.099455     -0.011817   \n",
       "Life Insurance                                 0.128785     -0.216090   \n",
       "Medical Insurance                              0.149651     -0.092966   \n",
       "Average A/C Balance                            0.162821     -0.112118   \n",
       "Personal Loan                                  0.073292      0.028982   \n",
       "Investment in Mutual Fund                      0.115087     -0.114689   \n",
       "Investment Tax Saving Bond                     0.211596     -0.288024   \n",
       "Home Loan                                      0.101066     -0.028413   \n",
       "Online Purchase Amount                         1.000000     -0.384578   \n",
       "Revenue Grid                                  -0.384578      1.000000   \n",
       "Investment in Commudity                        0.180074     -0.206567   \n",
       "Investment in Equity                           0.597440     -0.253182   \n",
       "Investment in Derivative                       0.173943     -0.159163   \n",
       "Portfolio Balance                              0.309800     -0.215847   \n",
       "\n",
       "                                 Investment in Commudity  \\\n",
       "REF_NO                                          0.002082   \n",
       "year_last_moved                                 0.016802   \n",
       "Average Credit Card Transaction                 0.497025   \n",
       "Balance Transfer                                0.739791   \n",
       "Term Deposit                                    0.620256   \n",
       "Life Insurance                                  0.803326   \n",
       "Medical Insurance                               0.548282   \n",
       "Average A/C Balance                             0.517832   \n",
       "Personal Loan                                   0.377170   \n",
       "Investment in Mutual Fund                       0.536715   \n",
       "Investment Tax Saving Bond                      0.289110   \n",
       "Home Loan                                       0.268989   \n",
       "Online Purchase Amount                          0.180074   \n",
       "Revenue Grid                                   -0.206567   \n",
       "Investment in Commudity                         1.000000   \n",
       "Investment in Equity                            0.586210   \n",
       "Investment in Derivative                        0.800779   \n",
       "Portfolio Balance                               0.858020   \n",
       "\n",
       "                                 Investment in Equity  \\\n",
       "REF_NO                                      -0.007154   \n",
       "year_last_moved                              0.008586   \n",
       "Average Credit Card Transaction              0.205289   \n",
       "Balance Transfer                             0.463556   \n",
       "Term Deposit                                 0.266908   \n",
       "Life Insurance                               0.564287   \n",
       "Medical Insurance                            0.269922   \n",
       "Average A/C Balance                          0.600278   \n",
       "Personal Loan                                0.676053   \n",
       "Investment in Mutual Fund                    0.693435   \n",
       "Investment Tax Saving Bond                   0.446271   \n",
       "Home Loan                                    0.348181   \n",
       "Online Purchase Amount                       0.597440   \n",
       "Revenue Grid                                -0.253182   \n",
       "Investment in Commudity                      0.586210   \n",
       "Investment in Equity                         1.000000   \n",
       "Investment in Derivative                     0.839552   \n",
       "Portfolio Balance                            0.831134   \n",
       "\n",
       "                                 Investment in Derivative  Portfolio Balance  \n",
       "REF_NO                                          -0.000234          -0.000721  \n",
       "year_last_moved                                  0.015582           0.017298  \n",
       "Average Credit Card Transaction                  0.228141           0.335674  \n",
       "Balance Transfer                                 0.581039           0.639400  \n",
       "Term Deposit                                     0.354304           0.454740  \n",
       "Life Insurance                                   0.839266           0.787311  \n",
       "Medical Insurance                                0.392548           0.441631  \n",
       "Average A/C Balance                              0.657742           0.616051  \n",
       "Personal Loan                                    0.687417           0.598919  \n",
       "Investment in Mutual Fund                        0.761125           0.695337  \n",
       "Investment Tax Saving Bond                       0.407148           0.395889  \n",
       "Home Loan                                        0.335651           0.326663  \n",
       "Online Purchase Amount                           0.173943           0.309800  \n",
       "Revenue Grid                                    -0.159163          -0.215847  \n",
       "Investment in Commudity                          0.800779           0.858020  \n",
       "Investment in Equity                             0.839552           0.831134  \n",
       "Investment in Derivative                         1.000000           0.927232  \n",
       "Portfolio Balance                                0.927232           1.000000  "
      ]
     },
     "execution_count": 17,
     "metadata": {},
     "output_type": "execute_result"
    }
   ],
   "source": [
    "##### Desired state : we want features with low correlation amongst themselves and high correlation with the target columns\n",
    "\n",
    "data[column_names].corr()"
   ]
  },
  {
   "cell_type": "code",
   "execution_count": null,
   "metadata": {
    "colab": {
     "base_uri": "https://localhost:8080/"
    },
    "id": "O6sXz7syuTGU",
    "outputId": "967de759-507c-4ea4-e206-8154fa8f805d"
   },
   "outputs": [
    {
     "name": "stdout",
     "output_type": "stream",
     "text": [
      "<class 'pandas.core.frame.DataFrame'>\n",
      "RangeIndex: 10155 entries, 0 to 10154\n",
      "Data columns (total 32 columns):\n",
      " #   Column                           Non-Null Count  Dtype  \n",
      "---  ------                           --------------  -----  \n",
      " 0   REF_NO                           10155 non-null  int64  \n",
      " 1   children                         10155 non-null  object \n",
      " 2   age_band                         10155 non-null  object \n",
      " 3   status                           10155 non-null  object \n",
      " 4   occupation                       10155 non-null  object \n",
      " 5   occupation_partner               10155 non-null  object \n",
      " 6   home_status                      10155 non-null  object \n",
      " 7   family_income                    10155 non-null  object \n",
      " 8   self_employed                    10155 non-null  object \n",
      " 9   self_employed_partner            10155 non-null  object \n",
      " 10  year_last_moved                  10155 non-null  int64  \n",
      " 11  TVarea                           10155 non-null  object \n",
      " 12  post_code                        10155 non-null  object \n",
      " 13  post_area                        10155 non-null  object \n",
      " 14  Average Credit Card Transaction  10155 non-null  float64\n",
      " 15  Balance Transfer                 10155 non-null  float64\n",
      " 16  Term Deposit                     10155 non-null  float64\n",
      " 17  Life Insurance                   10155 non-null  float64\n",
      " 18  Medical Insurance                10155 non-null  float64\n",
      " 19  Average A/C Balance              10155 non-null  float64\n",
      " 20  Personal Loan                    10155 non-null  float64\n",
      " 21  Investment in Mutual Fund        10155 non-null  float64\n",
      " 22  Investment Tax Saving Bond       10155 non-null  float64\n",
      " 23  Home Loan                        10155 non-null  float64\n",
      " 24  Online Purchase Amount           10155 non-null  float64\n",
      " 25  Revenue Grid                     10155 non-null  int64  \n",
      " 26  gender                           10155 non-null  object \n",
      " 27  region                           10155 non-null  object \n",
      " 28  Investment in Commudity          10155 non-null  float64\n",
      " 29  Investment in Equity             10155 non-null  float64\n",
      " 30  Investment in Derivative         10155 non-null  float64\n",
      " 31  Portfolio Balance                10155 non-null  float64\n",
      "dtypes: float64(15), int64(3), object(14)\n",
      "memory usage: 2.5+ MB\n"
     ]
    }
   ],
   "source": [
    "data.info()"
   ]
  },
  {
   "cell_type": "code",
   "execution_count": 18,
   "metadata": {
    "colab": {
     "base_uri": "https://localhost:8080/"
    },
    "id": "UTM2k7HRtfLg",
    "outputId": "0bac024d-a847-47da-9e99-2900d5de7937"
   },
   "outputs": [
    {
     "name": "stdout",
     "output_type": "stream",
     "text": [
      "Column  children\n",
      "Number of unique elements  5\n",
      "***************\n",
      "\n",
      "Column  age_band\n",
      "Number of unique elements  13\n",
      "***************\n",
      "\n",
      "Column  status\n",
      "Number of unique elements  5\n",
      "***************\n",
      "\n",
      "Column  occupation\n",
      "Number of unique elements  9\n",
      "***************\n",
      "\n",
      "Column  occupation_partner\n",
      "Number of unique elements  9\n",
      "***************\n",
      "\n",
      "Column  home_status\n",
      "Number of unique elements  5\n",
      "***************\n",
      "\n",
      "Column  family_income\n",
      "Number of unique elements  13\n",
      "***************\n",
      "\n",
      "Column  self_employed\n",
      "Number of unique elements  2\n",
      "***************\n",
      "\n",
      "Column  self_employed_partner\n",
      "Number of unique elements  2\n",
      "***************\n",
      "\n",
      "Column  TVarea\n",
      "Number of unique elements  14\n",
      "***************\n",
      "\n",
      "Column  post_code\n",
      "Number of unique elements  10040\n",
      "***************\n",
      "\n",
      "Column  post_area\n",
      "Number of unique elements  2039\n",
      "***************\n",
      "\n",
      "Column  gender\n",
      "Number of unique elements  3\n",
      "***************\n",
      "\n",
      "Column  region\n",
      "Number of unique elements  13\n",
      "***************\n",
      "\n"
     ]
    },
    {
     "name": "stderr",
     "output_type": "stream",
     "text": [
      "C:\\Users\\ADMIN\\AppData\\Local\\Temp\\ipykernel_632\\2596921976.py:3: DeprecationWarning: `np.object` is a deprecated alias for the builtin `object`. To silence this warning, use `object` by itself. Doing this will not modify any behavior and is safe. \n",
      "Deprecated in NumPy 1.20; for more details and guidance: https://numpy.org/devdocs/release/1.20.0-notes.html#deprecations\n",
      "  cat_data = data.select_dtypes(include = np.object) ##subsets the object columns\n"
     ]
    }
   ],
   "source": [
    "##### Describing categorical columns #####\n",
    "\n",
    "cat_data = data.select_dtypes(include = np.object) ##subsets the object columns\n",
    "\n",
    "column_names = list(cat_data.columns) ### column names of the object columns\n",
    "\n",
    "for column in column_names:\n",
    "    print('Column ', column)\n",
    "    print('Number of unique elements ', cat_data[column].nunique())\n",
    "    print('***************\\n')\n",
    "    \n",
    "##### Insights ######\n",
    "#####################\n",
    "\n",
    "## post_code has too many unique values, converting them into onehot encoded vectors would blow up the dimensions. Currently we will remove the column and go ahead with the model\n",
    "## Similarly for post area"
   ]
  },
  {
   "cell_type": "markdown",
   "metadata": {
    "id": "z91eY564tfLg"
   },
   "source": [
    "# Data Preprocessing"
   ]
  },
  {
   "cell_type": "code",
   "execution_count": 19,
   "metadata": {
    "colab": {
     "base_uri": "https://localhost:8080/"
    },
    "id": "MIOq2PW5tfLg",
    "outputId": "24c92ec8-732e-4a50-afc9-dc3eaeabdff7"
   },
   "outputs": [
    {
     "name": "stdout",
     "output_type": "stream",
     "text": [
      "The shape of the data before preprocessing  (10155, 32)\n"
     ]
    }
   ],
   "source": [
    "print('The shape of the data before preprocessing ', data.shape)"
   ]
  },
  {
   "cell_type": "code",
   "execution_count": null,
   "metadata": {
    "id": "JgZI3FKdWuoX"
   },
   "outputs": [],
   "source": [
    "data = data.loc[data['Life Insurance']<2500,:] ### Dropping the customer with unusually high feature values"
   ]
  },
  {
   "cell_type": "code",
   "execution_count": 20,
   "metadata": {
    "id": "0IGP0zehMOt6"
   },
   "outputs": [],
   "source": [
    "remove_cols = []"
   ]
  },
  {
   "cell_type": "code",
   "execution_count": 21,
   "metadata": {
    "id": "9qyrblPdtfLh"
   },
   "outputs": [],
   "source": [
    "#### Preprocess - 1: Remove the Ref_no AND YEAR_LAST_Moved column ####\n",
    "data.drop(['REF_NO'],axis=1,inplace=True)  ## removes specified columns\n",
    "data.drop(['year_last_moved'],axis=1,inplace=True)\n",
    "remove_cols.append('REF_NO')\n",
    "remove_cols.append('year_last_moved')"
   ]
  },
  {
   "cell_type": "code",
   "execution_count": 22,
   "metadata": {
    "colab": {
     "base_uri": "https://localhost:8080/"
    },
    "id": "pTAXtSSh4qW0",
    "outputId": "e4ca5a10-15b7-4b9c-c49c-e16c39683cd7"
   },
   "outputs": [
    {
     "data": {
      "text/plain": [
       "(10155, 30)"
      ]
     },
     "execution_count": 22,
     "metadata": {},
     "output_type": "execute_result"
    }
   ],
   "source": [
    "data.shape"
   ]
  },
  {
   "cell_type": "code",
   "execution_count": 23,
   "metadata": {
    "id": "k9nLWk8kA93r"
   },
   "outputs": [],
   "source": [
    "data.drop(['post_code','post_area'],axis=1,inplace=True)\n",
    "\n",
    "remove_cols.extend(['post_code','post_area'])"
   ]
  },
  {
   "cell_type": "code",
   "execution_count": 24,
   "metadata": {
    "colab": {
     "base_uri": "https://localhost:8080/"
    },
    "id": "y9hIsseFtfLh",
    "outputId": "5bc62cb2-a2f1-4b07-fb9d-b3e4237e8cd0"
   },
   "outputs": [
    {
     "name": "stdout",
     "output_type": "stream",
     "text": [
      "The shape of the data after first preprocessing block  (10155, 28)\n"
     ]
    }
   ],
   "source": [
    "print('The shape of the data after first preprocessing block ', data.shape)\n",
    "\n",
    "data.reset_index(drop=True,inplace=True) ### resetting index"
   ]
  },
  {
   "cell_type": "code",
   "execution_count": 25,
   "metadata": {
    "id": "zgcPCtgNJXFD"
   },
   "outputs": [],
   "source": [
    "######## Capping ###########\n",
    "\n",
    "numeric_cols = data.select_dtypes(include = np.number) ### Data frame with only numeric columns\n",
    "column_names = list(numeric_cols.columns)\n",
    "column_names.remove('Revenue Grid')\n",
    "\n",
    "data.loc[data['Medical Insurance']>=300, 'Medical Insurance'] = 300\n",
    "data.loc[data['Average A/C Balance']>=400, 'Average A/C Balance'] = 400\n",
    "data.loc[data['Online Purchase Amount']>=2000, 'Online Purchase Amount'] = 2000\n",
    "data.loc[data['Investment in Equity']>=400, 'Investment in Equity'] = 400"
   ]
  },
  {
   "cell_type": "code",
   "execution_count": 26,
   "metadata": {
    "colab": {
     "base_uri": "https://localhost:8080/"
    },
    "id": "VSmv1YW8ID_U",
    "outputId": "fa953ca2-684b-45dc-b2fd-731c5beb0f9f"
   },
   "outputs": [
    {
     "data": {
      "text/plain": [
       "['Average Credit Card Transaction',\n",
       " 'Balance Transfer',\n",
       " 'Term Deposit',\n",
       " 'Life Insurance',\n",
       " 'Medical Insurance',\n",
       " 'Average A/C Balance',\n",
       " 'Personal Loan',\n",
       " 'Investment in Mutual Fund',\n",
       " 'Investment Tax Saving Bond',\n",
       " 'Home Loan',\n",
       " 'Online Purchase Amount',\n",
       " 'Investment in Commudity',\n",
       " 'Investment in Equity',\n",
       " 'Investment in Derivative',\n",
       " 'Portfolio Balance']"
      ]
     },
     "execution_count": 26,
     "metadata": {},
     "output_type": "execute_result"
    }
   ],
   "source": [
    "column_names"
   ]
  },
  {
   "cell_type": "code",
   "execution_count": 27,
   "metadata": {
    "colab": {
     "base_uri": "https://localhost:8080/"
    },
    "id": "q8dq02nrtfLi",
    "outputId": "7592df43-0102-484e-c2da-9dd3f32414b8"
   },
   "outputs": [
    {
     "name": "stdout",
     "output_type": "stream",
     "text": [
      "Average Credit Card Transaction 477.05462000000676\n",
      "Balance Transfer 641.5574600000294\n",
      "Term Deposit 531.1046900000061\n",
      "Life Insurance 798.8635900000023\n",
      "Medical Insurance 264.1814200000147\n",
      "Average A/C Balance 396.72713000001187\n",
      "Personal Loan 1163.1330300000961\n",
      "Investment in Mutual Fund 586.7630000000075\n",
      "Investment Tax Saving Bond 119.56893000000268\n",
      "Home Loan 104.29665000000242\n",
      "Online Purchase Amount 1505.0111000000725\n",
      "Investment in Commudity 368.74066000001466\n",
      "Investment in Equity 397.54986000002174\n",
      "Investment in Derivative 384.85699000004047\n",
      "Portfolio Balance 945.5469100000616\n"
     ]
    }
   ],
   "source": [
    "###### Preprocess -4 : Capping the numeric columns to 99.95th percentile #####\n",
    "\n",
    "numeric_cols = data.select_dtypes(include = np.number) ### Data frame with only numeric columns\n",
    "column_names = list(numeric_cols.columns) ### contains the numeric column names\n",
    "column_names.remove('Revenue Grid')  ### removing revenue grid\n",
    "\n",
    "for column in column_names:  ### iterating over all numeric columns\n",
    "    percentile_9995_val = np.quantile(data[column],0.9995)  ### finding the 99.95th percentile value\n",
    "    print (column, percentile_9995_val)\n",
    "    data.loc[data[column]>percentile_9995_val,column] = percentile_9995_val  ## replace all the values greater than 95th percentile with the 95th percentile value\n",
    "\n"
   ]
  },
  {
   "cell_type": "code",
   "execution_count": 28,
   "metadata": {
    "id": "GKZCE3uruMBN"
   },
   "outputs": [],
   "source": [
    "####### Preprocess-5 : Scaling the columns ######\n",
    "\n",
    "scaler = StandardScaler()  ### instance of this object\n",
    "\n",
    "scaler.fit(data[column_names]) ### it will compute mean and standard deviation of every column\n",
    "\n",
    "data[column_names] = scaler.transform(data[column_names]) #### apply the formula (x-mean)/s.d\n",
    "\n",
    "with open('scaler.pickle','wb') as f:\n",
    "  pickle.dump(scaler,f)"
   ]
  },
  {
   "cell_type": "code",
   "execution_count": 29,
   "metadata": {
    "colab": {
     "base_uri": "https://localhost:8080/",
     "height": 421
    },
    "id": "msFdkLekMnQN",
    "outputId": "b44b38d6-1b38-486e-82ed-e11711e5c99e"
   },
   "outputs": [
    {
     "data": {
      "text/html": [
       "<div>\n",
       "<style scoped>\n",
       "    .dataframe tbody tr th:only-of-type {\n",
       "        vertical-align: middle;\n",
       "    }\n",
       "\n",
       "    .dataframe tbody tr th {\n",
       "        vertical-align: top;\n",
       "    }\n",
       "\n",
       "    .dataframe thead th {\n",
       "        text-align: right;\n",
       "    }\n",
       "</style>\n",
       "<table border=\"1\" class=\"dataframe\">\n",
       "  <thead>\n",
       "    <tr style=\"text-align: right;\">\n",
       "      <th></th>\n",
       "      <th>children</th>\n",
       "      <th>age_band</th>\n",
       "      <th>status</th>\n",
       "      <th>occupation</th>\n",
       "      <th>occupation_partner</th>\n",
       "      <th>home_status</th>\n",
       "      <th>family_income</th>\n",
       "      <th>self_employed</th>\n",
       "      <th>self_employed_partner</th>\n",
       "      <th>TVarea</th>\n",
       "      <th>...</th>\n",
       "      <th>Investment Tax Saving Bond</th>\n",
       "      <th>Home Loan</th>\n",
       "      <th>Online Purchase Amount</th>\n",
       "      <th>Revenue Grid</th>\n",
       "      <th>gender</th>\n",
       "      <th>region</th>\n",
       "      <th>Investment in Commudity</th>\n",
       "      <th>Investment in Equity</th>\n",
       "      <th>Investment in Derivative</th>\n",
       "      <th>Portfolio Balance</th>\n",
       "    </tr>\n",
       "  </thead>\n",
       "  <tbody>\n",
       "    <tr>\n",
       "      <th>0</th>\n",
       "      <td>Zero</td>\n",
       "      <td>51-55</td>\n",
       "      <td>Partner</td>\n",
       "      <td>Manual Worker</td>\n",
       "      <td>Secretarial/Admin</td>\n",
       "      <td>Own Home</td>\n",
       "      <td>&lt;17,500, &gt;=15,000</td>\n",
       "      <td>No</td>\n",
       "      <td>No</td>\n",
       "      <td>HTV</td>\n",
       "      <td>...</td>\n",
       "      <td>1.087512</td>\n",
       "      <td>-0.453821</td>\n",
       "      <td>-0.252546</td>\n",
       "      <td>1</td>\n",
       "      <td>Female</td>\n",
       "      <td>Wales</td>\n",
       "      <td>0.939993</td>\n",
       "      <td>-0.101079</td>\n",
       "      <td>0.014204</td>\n",
       "      <td>-0.006595</td>\n",
       "    </tr>\n",
       "    <tr>\n",
       "      <th>1</th>\n",
       "      <td>Zero</td>\n",
       "      <td>55-60</td>\n",
       "      <td>Single/Never Married</td>\n",
       "      <td>Retired</td>\n",
       "      <td>Retired</td>\n",
       "      <td>Own Home</td>\n",
       "      <td>&lt;27,500, &gt;=25,000</td>\n",
       "      <td>No</td>\n",
       "      <td>No</td>\n",
       "      <td>Granada</td>\n",
       "      <td>...</td>\n",
       "      <td>-0.478209</td>\n",
       "      <td>-0.453821</td>\n",
       "      <td>-0.252546</td>\n",
       "      <td>2</td>\n",
       "      <td>Female</td>\n",
       "      <td>North West</td>\n",
       "      <td>-0.400670</td>\n",
       "      <td>-0.751956</td>\n",
       "      <td>-0.786946</td>\n",
       "      <td>-0.681495</td>\n",
       "    </tr>\n",
       "    <tr>\n",
       "      <th>2</th>\n",
       "      <td>Zero</td>\n",
       "      <td>26-30</td>\n",
       "      <td>Single/Never Married</td>\n",
       "      <td>Professional</td>\n",
       "      <td>Other</td>\n",
       "      <td>Own Home</td>\n",
       "      <td>&lt;30,000, &gt;=27,500</td>\n",
       "      <td>Yes</td>\n",
       "      <td>No</td>\n",
       "      <td>Tyne Tees</td>\n",
       "      <td>...</td>\n",
       "      <td>-0.478209</td>\n",
       "      <td>-0.099586</td>\n",
       "      <td>-0.252546</td>\n",
       "      <td>2</td>\n",
       "      <td>Male</td>\n",
       "      <td>North</td>\n",
       "      <td>1.515582</td>\n",
       "      <td>0.331793</td>\n",
       "      <td>1.406412</td>\n",
       "      <td>0.827284</td>\n",
       "    </tr>\n",
       "    <tr>\n",
       "      <th>3</th>\n",
       "      <td>Zero</td>\n",
       "      <td>18-21</td>\n",
       "      <td>Single/Never Married</td>\n",
       "      <td>Professional</td>\n",
       "      <td>Manual Worker</td>\n",
       "      <td>Own Home</td>\n",
       "      <td>&lt;15,000, &gt;=12,500</td>\n",
       "      <td>No</td>\n",
       "      <td>No</td>\n",
       "      <td>Central</td>\n",
       "      <td>...</td>\n",
       "      <td>-0.478209</td>\n",
       "      <td>-0.453821</td>\n",
       "      <td>-0.252546</td>\n",
       "      <td>2</td>\n",
       "      <td>Female</td>\n",
       "      <td>West Midlands</td>\n",
       "      <td>-0.796618</td>\n",
       "      <td>-0.258391</td>\n",
       "      <td>-0.407981</td>\n",
       "      <td>-1.334422</td>\n",
       "    </tr>\n",
       "    <tr>\n",
       "      <th>4</th>\n",
       "      <td>Zero</td>\n",
       "      <td>45-50</td>\n",
       "      <td>Partner</td>\n",
       "      <td>Business Manager</td>\n",
       "      <td>Unknown</td>\n",
       "      <td>Own Home</td>\n",
       "      <td>&lt;30,000, &gt;=27,500</td>\n",
       "      <td>No</td>\n",
       "      <td>No</td>\n",
       "      <td>Scottish TV</td>\n",
       "      <td>...</td>\n",
       "      <td>-0.478209</td>\n",
       "      <td>4.206049</td>\n",
       "      <td>0.099667</td>\n",
       "      <td>2</td>\n",
       "      <td>Female</td>\n",
       "      <td>Scotland</td>\n",
       "      <td>0.829010</td>\n",
       "      <td>1.196490</td>\n",
       "      <td>1.391528</td>\n",
       "      <td>1.467655</td>\n",
       "    </tr>\n",
       "  </tbody>\n",
       "</table>\n",
       "<p>5 rows × 28 columns</p>\n",
       "</div>"
      ],
      "text/plain": [
       "  children age_band                status        occupation  \\\n",
       "0     Zero    51-55               Partner     Manual Worker   \n",
       "1     Zero    55-60  Single/Never Married           Retired   \n",
       "2     Zero    26-30  Single/Never Married      Professional   \n",
       "3     Zero    18-21  Single/Never Married      Professional   \n",
       "4     Zero    45-50               Partner  Business Manager   \n",
       "\n",
       "  occupation_partner home_status      family_income self_employed  \\\n",
       "0  Secretarial/Admin    Own Home  <17,500, >=15,000            No   \n",
       "1            Retired    Own Home  <27,500, >=25,000            No   \n",
       "2              Other    Own Home  <30,000, >=27,500           Yes   \n",
       "3      Manual Worker    Own Home  <15,000, >=12,500            No   \n",
       "4            Unknown    Own Home  <30,000, >=27,500            No   \n",
       "\n",
       "  self_employed_partner       TVarea  ...  Investment Tax Saving Bond  \\\n",
       "0                    No          HTV  ...                    1.087512   \n",
       "1                    No      Granada  ...                   -0.478209   \n",
       "2                    No    Tyne Tees  ...                   -0.478209   \n",
       "3                    No      Central  ...                   -0.478209   \n",
       "4                    No  Scottish TV  ...                   -0.478209   \n",
       "\n",
       "   Home Loan  Online Purchase Amount  Revenue Grid  gender         region  \\\n",
       "0  -0.453821               -0.252546             1  Female          Wales   \n",
       "1  -0.453821               -0.252546             2  Female     North West   \n",
       "2  -0.099586               -0.252546             2    Male          North   \n",
       "3  -0.453821               -0.252546             2  Female  West Midlands   \n",
       "4   4.206049                0.099667             2  Female       Scotland   \n",
       "\n",
       "   Investment in Commudity  Investment in Equity  Investment in Derivative  \\\n",
       "0                 0.939993             -0.101079                  0.014204   \n",
       "1                -0.400670             -0.751956                 -0.786946   \n",
       "2                 1.515582              0.331793                  1.406412   \n",
       "3                -0.796618             -0.258391                 -0.407981   \n",
       "4                 0.829010              1.196490                  1.391528   \n",
       "\n",
       "   Portfolio Balance  \n",
       "0          -0.006595  \n",
       "1          -0.681495  \n",
       "2           0.827284  \n",
       "3          -1.334422  \n",
       "4           1.467655  \n",
       "\n",
       "[5 rows x 28 columns]"
      ]
     },
     "execution_count": 29,
     "metadata": {},
     "output_type": "execute_result"
    }
   ],
   "source": [
    "data.head()"
   ]
  },
  {
   "cell_type": "code",
   "execution_count": 30,
   "metadata": {
    "colab": {
     "base_uri": "https://localhost:8080/",
     "height": 486
    },
    "id": "fSnMITtrTebG",
    "outputId": "31105e8b-8810-4340-83c1-dae422b1b344"
   },
   "outputs": [
    {
     "data": {
      "text/html": [
       "<div>\n",
       "<style scoped>\n",
       "    .dataframe tbody tr th:only-of-type {\n",
       "        vertical-align: middle;\n",
       "    }\n",
       "\n",
       "    .dataframe tbody tr th {\n",
       "        vertical-align: top;\n",
       "    }\n",
       "\n",
       "    .dataframe thead th {\n",
       "        text-align: right;\n",
       "    }\n",
       "</style>\n",
       "<table border=\"1\" class=\"dataframe\">\n",
       "  <thead>\n",
       "    <tr style=\"text-align: right;\">\n",
       "      <th></th>\n",
       "      <th>Average Credit Card Transaction</th>\n",
       "      <th>Balance Transfer</th>\n",
       "      <th>Term Deposit</th>\n",
       "      <th>Life Insurance</th>\n",
       "      <th>Medical Insurance</th>\n",
       "      <th>Average A/C Balance</th>\n",
       "      <th>Personal Loan</th>\n",
       "      <th>Investment in Mutual Fund</th>\n",
       "      <th>Investment Tax Saving Bond</th>\n",
       "      <th>Home Loan</th>\n",
       "      <th>Online Purchase Amount</th>\n",
       "      <th>Investment in Commudity</th>\n",
       "      <th>Investment in Equity</th>\n",
       "      <th>Investment in Derivative</th>\n",
       "      <th>Portfolio Balance</th>\n",
       "    </tr>\n",
       "  </thead>\n",
       "  <tbody>\n",
       "    <tr>\n",
       "      <th>count</th>\n",
       "      <td>1.015500e+04</td>\n",
       "      <td>1.015500e+04</td>\n",
       "      <td>1.015500e+04</td>\n",
       "      <td>1.015500e+04</td>\n",
       "      <td>1.015500e+04</td>\n",
       "      <td>1.015500e+04</td>\n",
       "      <td>1.015500e+04</td>\n",
       "      <td>1.015500e+04</td>\n",
       "      <td>1.015500e+04</td>\n",
       "      <td>1.015500e+04</td>\n",
       "      <td>1.015500e+04</td>\n",
       "      <td>1.015500e+04</td>\n",
       "      <td>1.015500e+04</td>\n",
       "      <td>1.015500e+04</td>\n",
       "      <td>1.015500e+04</td>\n",
       "    </tr>\n",
       "    <tr>\n",
       "      <th>mean</th>\n",
       "      <td>1.803579e-16</td>\n",
       "      <td>-2.269234e-16</td>\n",
       "      <td>-1.641446e-16</td>\n",
       "      <td>-2.425326e-16</td>\n",
       "      <td>-1.264698e-15</td>\n",
       "      <td>-2.818031e-16</td>\n",
       "      <td>-1.633793e-16</td>\n",
       "      <td>4.168154e-16</td>\n",
       "      <td>9.445915e-17</td>\n",
       "      <td>1.586619e-16</td>\n",
       "      <td>-4.288271e-16</td>\n",
       "      <td>-1.279900e-16</td>\n",
       "      <td>-2.330867e-17</td>\n",
       "      <td>6.994788e-17</td>\n",
       "      <td>-3.467875e-17</td>\n",
       "    </tr>\n",
       "    <tr>\n",
       "      <th>std</th>\n",
       "      <td>1.000049e+00</td>\n",
       "      <td>1.000049e+00</td>\n",
       "      <td>1.000049e+00</td>\n",
       "      <td>1.000049e+00</td>\n",
       "      <td>1.000049e+00</td>\n",
       "      <td>1.000049e+00</td>\n",
       "      <td>1.000049e+00</td>\n",
       "      <td>1.000049e+00</td>\n",
       "      <td>1.000049e+00</td>\n",
       "      <td>1.000049e+00</td>\n",
       "      <td>1.000049e+00</td>\n",
       "      <td>1.000049e+00</td>\n",
       "      <td>1.000049e+00</td>\n",
       "      <td>1.000049e+00</td>\n",
       "      <td>1.000049e+00</td>\n",
       "    </tr>\n",
       "    <tr>\n",
       "      <th>min</th>\n",
       "      <td>-4.643819e-01</td>\n",
       "      <td>-6.346125e-01</td>\n",
       "      <td>-5.175967e-01</td>\n",
       "      <td>-7.231518e-01</td>\n",
       "      <td>-5.988483e-01</td>\n",
       "      <td>-7.121491e-01</td>\n",
       "      <td>-3.744846e-01</td>\n",
       "      <td>-7.173996e-01</td>\n",
       "      <td>-4.782094e-01</td>\n",
       "      <td>-4.538214e-01</td>\n",
       "      <td>-2.525461e-01</td>\n",
       "      <td>-8.975121e-01</td>\n",
       "      <td>-7.519558e-01</td>\n",
       "      <td>-9.108820e-01</td>\n",
       "      <td>-1.706352e+00</td>\n",
       "    </tr>\n",
       "    <tr>\n",
       "      <th>25%</th>\n",
       "      <td>-4.643819e-01</td>\n",
       "      <td>-6.346125e-01</td>\n",
       "      <td>-5.175967e-01</td>\n",
       "      <td>-7.231518e-01</td>\n",
       "      <td>-5.988483e-01</td>\n",
       "      <td>-7.121491e-01</td>\n",
       "      <td>-3.744846e-01</td>\n",
       "      <td>-7.173996e-01</td>\n",
       "      <td>-4.782094e-01</td>\n",
       "      <td>-4.538214e-01</td>\n",
       "      <td>-2.525461e-01</td>\n",
       "      <td>-6.949854e-01</td>\n",
       "      <td>-5.890621e-01</td>\n",
       "      <td>-6.607195e-01</td>\n",
       "      <td>-6.427633e-01</td>\n",
       "    </tr>\n",
       "    <tr>\n",
       "      <th>50%</th>\n",
       "      <td>-4.643819e-01</td>\n",
       "      <td>-3.875606e-01</td>\n",
       "      <td>-5.175967e-01</td>\n",
       "      <td>-3.727880e-01</td>\n",
       "      <td>-5.828504e-01</td>\n",
       "      <td>-3.789355e-01</td>\n",
       "      <td>-3.744846e-01</td>\n",
       "      <td>-3.173965e-01</td>\n",
       "      <td>-4.782094e-01</td>\n",
       "      <td>-4.538214e-01</td>\n",
       "      <td>-2.525461e-01</td>\n",
       "      <td>-3.074040e-01</td>\n",
       "      <td>-2.992021e-01</td>\n",
       "      <td>-3.000734e-01</td>\n",
       "      <td>-2.418228e-01</td>\n",
       "    </tr>\n",
       "    <tr>\n",
       "      <th>75%</th>\n",
       "      <td>1.163959e-02</td>\n",
       "      <td>2.648022e-01</td>\n",
       "      <td>1.407643e-01</td>\n",
       "      <td>3.109583e-01</td>\n",
       "      <td>2.628408e-01</td>\n",
       "      <td>3.210575e-01</td>\n",
       "      <td>-5.964272e-02</td>\n",
       "      <td>2.971739e-01</td>\n",
       "      <td>-1.021605e-02</td>\n",
       "      <td>1.914160e-03</td>\n",
       "      <td>-1.443605e-01</td>\n",
       "      <td>3.523458e-01</td>\n",
       "      <td>2.351729e-01</td>\n",
       "      <td>3.193219e-01</td>\n",
       "      <td>3.630561e-01</td>\n",
       "    </tr>\n",
       "    <tr>\n",
       "      <th>max</th>\n",
       "      <td>9.005521e+00</td>\n",
       "      <td>8.190442e+00</td>\n",
       "      <td>9.475504e+00</td>\n",
       "      <td>8.028972e+00</td>\n",
       "      <td>7.688092e+00</td>\n",
       "      <td>8.106722e+00</td>\n",
       "      <td>1.667407e+01</td>\n",
       "      <td>9.278641e+00</td>\n",
       "      <td>8.887056e+00</td>\n",
       "      <td>1.013230e+01</td>\n",
       "      <td>2.015103e+01</td>\n",
       "      <td>8.176586e+00</td>\n",
       "      <td>1.311493e+01</td>\n",
       "      <td>1.010477e+01</td>\n",
       "      <td>8.662478e+00</td>\n",
       "    </tr>\n",
       "  </tbody>\n",
       "</table>\n",
       "</div>"
      ],
      "text/plain": [
       "       Average Credit Card Transaction  Balance Transfer  Term Deposit  \\\n",
       "count                     1.015500e+04      1.015500e+04  1.015500e+04   \n",
       "mean                      1.803579e-16     -2.269234e-16 -1.641446e-16   \n",
       "std                       1.000049e+00      1.000049e+00  1.000049e+00   \n",
       "min                      -4.643819e-01     -6.346125e-01 -5.175967e-01   \n",
       "25%                      -4.643819e-01     -6.346125e-01 -5.175967e-01   \n",
       "50%                      -4.643819e-01     -3.875606e-01 -5.175967e-01   \n",
       "75%                       1.163959e-02      2.648022e-01  1.407643e-01   \n",
       "max                       9.005521e+00      8.190442e+00  9.475504e+00   \n",
       "\n",
       "       Life Insurance  Medical Insurance  Average A/C Balance  Personal Loan  \\\n",
       "count    1.015500e+04       1.015500e+04         1.015500e+04   1.015500e+04   \n",
       "mean    -2.425326e-16      -1.264698e-15        -2.818031e-16  -1.633793e-16   \n",
       "std      1.000049e+00       1.000049e+00         1.000049e+00   1.000049e+00   \n",
       "min     -7.231518e-01      -5.988483e-01        -7.121491e-01  -3.744846e-01   \n",
       "25%     -7.231518e-01      -5.988483e-01        -7.121491e-01  -3.744846e-01   \n",
       "50%     -3.727880e-01      -5.828504e-01        -3.789355e-01  -3.744846e-01   \n",
       "75%      3.109583e-01       2.628408e-01         3.210575e-01  -5.964272e-02   \n",
       "max      8.028972e+00       7.688092e+00         8.106722e+00   1.667407e+01   \n",
       "\n",
       "       Investment in Mutual Fund  Investment Tax Saving Bond     Home Loan  \\\n",
       "count               1.015500e+04                1.015500e+04  1.015500e+04   \n",
       "mean                4.168154e-16                9.445915e-17  1.586619e-16   \n",
       "std                 1.000049e+00                1.000049e+00  1.000049e+00   \n",
       "min                -7.173996e-01               -4.782094e-01 -4.538214e-01   \n",
       "25%                -7.173996e-01               -4.782094e-01 -4.538214e-01   \n",
       "50%                -3.173965e-01               -4.782094e-01 -4.538214e-01   \n",
       "75%                 2.971739e-01               -1.021605e-02  1.914160e-03   \n",
       "max                 9.278641e+00                8.887056e+00  1.013230e+01   \n",
       "\n",
       "       Online Purchase Amount  Investment in Commudity  Investment in Equity  \\\n",
       "count            1.015500e+04             1.015500e+04          1.015500e+04   \n",
       "mean            -4.288271e-16            -1.279900e-16         -2.330867e-17   \n",
       "std              1.000049e+00             1.000049e+00          1.000049e+00   \n",
       "min             -2.525461e-01            -8.975121e-01         -7.519558e-01   \n",
       "25%             -2.525461e-01            -6.949854e-01         -5.890621e-01   \n",
       "50%             -2.525461e-01            -3.074040e-01         -2.992021e-01   \n",
       "75%             -1.443605e-01             3.523458e-01          2.351729e-01   \n",
       "max              2.015103e+01             8.176586e+00          1.311493e+01   \n",
       "\n",
       "       Investment in Derivative  Portfolio Balance  \n",
       "count              1.015500e+04       1.015500e+04  \n",
       "mean               6.994788e-17      -3.467875e-17  \n",
       "std                1.000049e+00       1.000049e+00  \n",
       "min               -9.108820e-01      -1.706352e+00  \n",
       "25%               -6.607195e-01      -6.427633e-01  \n",
       "50%               -3.000734e-01      -2.418228e-01  \n",
       "75%                3.193219e-01       3.630561e-01  \n",
       "max                1.010477e+01       8.662478e+00  "
      ]
     },
     "execution_count": 30,
     "metadata": {},
     "output_type": "execute_result"
    }
   ],
   "source": [
    "data[column_names].describe()"
   ]
  },
  {
   "cell_type": "code",
   "execution_count": 31,
   "metadata": {
    "colab": {
     "base_uri": "https://localhost:8080/"
    },
    "id": "UVD0oVXxb1ga",
    "outputId": "c6a017c3-700d-45a3-b0bb-4a682b19f8d1"
   },
   "outputs": [
    {
     "name": "stdout",
     "output_type": "stream",
     "text": [
      "<class 'pandas.core.frame.DataFrame'>\n",
      "RangeIndex: 10155 entries, 0 to 10154\n",
      "Data columns (total 28 columns):\n",
      " #   Column                           Non-Null Count  Dtype  \n",
      "---  ------                           --------------  -----  \n",
      " 0   children                         10155 non-null  object \n",
      " 1   age_band                         10155 non-null  object \n",
      " 2   status                           10155 non-null  object \n",
      " 3   occupation                       10155 non-null  object \n",
      " 4   occupation_partner               10155 non-null  object \n",
      " 5   home_status                      10155 non-null  object \n",
      " 6   family_income                    10155 non-null  object \n",
      " 7   self_employed                    10155 non-null  object \n",
      " 8   self_employed_partner            10155 non-null  object \n",
      " 9   TVarea                           10155 non-null  object \n",
      " 10  Average Credit Card Transaction  10155 non-null  float64\n",
      " 11  Balance Transfer                 10155 non-null  float64\n",
      " 12  Term Deposit                     10155 non-null  float64\n",
      " 13  Life Insurance                   10155 non-null  float64\n",
      " 14  Medical Insurance                10155 non-null  float64\n",
      " 15  Average A/C Balance              10155 non-null  float64\n",
      " 16  Personal Loan                    10155 non-null  float64\n",
      " 17  Investment in Mutual Fund        10155 non-null  float64\n",
      " 18  Investment Tax Saving Bond       10155 non-null  float64\n",
      " 19  Home Loan                        10155 non-null  float64\n",
      " 20  Online Purchase Amount           10155 non-null  float64\n",
      " 21  Revenue Grid                     10155 non-null  int64  \n",
      " 22  gender                           10155 non-null  object \n",
      " 23  region                           10155 non-null  object \n",
      " 24  Investment in Commudity          10155 non-null  float64\n",
      " 25  Investment in Equity             10155 non-null  float64\n",
      " 26  Investment in Derivative         10155 non-null  float64\n",
      " 27  Portfolio Balance                10155 non-null  float64\n",
      "dtypes: float64(15), int64(1), object(12)\n",
      "memory usage: 2.2+ MB\n"
     ]
    }
   ],
   "source": [
    "data.info()"
   ]
  },
  {
   "cell_type": "code",
   "execution_count": 32,
   "metadata": {
    "colab": {
     "base_uri": "https://localhost:8080/"
    },
    "id": "3L0NeqAItfLi",
    "outputId": "5a98b390-6fb8-4995-d43b-746a0b472b0c"
   },
   "outputs": [
    {
     "name": "stdout",
     "output_type": "stream",
     "text": [
      "Zero    6208\n",
      "1       1848\n",
      "2       1607\n",
      "3        473\n",
      "4+        19\n",
      "Name: children, dtype: int64\n"
     ]
    }
   ],
   "source": [
    "##### Preprocessing categorical columns ######\n",
    "\n",
    "### Analzing the children column ####\n",
    "\n",
    "print(data['children'].value_counts())\n",
    "\n",
    "children_pickle = {}\n",
    "\n",
    "#### Insight ###\n",
    "################\n",
    "\n",
    "#Since the occurances of 4+ children is quite low when compared to rest, we can replace them with 3\n",
    "#Create one hot encoded vectors for the same\n",
    "\n",
    "#data.loc[data['children']== '4+','children'] = '3'\n",
    "\n",
    "children_data = pd.get_dummies(data['children'],prefix ='chidren')\n",
    "\n",
    "data.drop(['children'],axis=1,inplace=True)\n",
    "\n",
    "data = pd.concat([data,children_data],axis=1)"
   ]
  },
  {
   "cell_type": "code",
   "execution_count": 33,
   "metadata": {
    "colab": {
     "base_uri": "https://localhost:8080/",
     "height": 421
    },
    "id": "GTZMr4PoCZhT",
    "outputId": "94c1f376-e745-4ad4-be04-7eb9aa3e06fd"
   },
   "outputs": [
    {
     "data": {
      "text/html": [
       "<div>\n",
       "<style scoped>\n",
       "    .dataframe tbody tr th:only-of-type {\n",
       "        vertical-align: middle;\n",
       "    }\n",
       "\n",
       "    .dataframe tbody tr th {\n",
       "        vertical-align: top;\n",
       "    }\n",
       "\n",
       "    .dataframe thead th {\n",
       "        text-align: right;\n",
       "    }\n",
       "</style>\n",
       "<table border=\"1\" class=\"dataframe\">\n",
       "  <thead>\n",
       "    <tr style=\"text-align: right;\">\n",
       "      <th></th>\n",
       "      <th>age_band</th>\n",
       "      <th>status</th>\n",
       "      <th>occupation</th>\n",
       "      <th>occupation_partner</th>\n",
       "      <th>home_status</th>\n",
       "      <th>family_income</th>\n",
       "      <th>self_employed</th>\n",
       "      <th>self_employed_partner</th>\n",
       "      <th>TVarea</th>\n",
       "      <th>Average Credit Card Transaction</th>\n",
       "      <th>...</th>\n",
       "      <th>region</th>\n",
       "      <th>Investment in Commudity</th>\n",
       "      <th>Investment in Equity</th>\n",
       "      <th>Investment in Derivative</th>\n",
       "      <th>Portfolio Balance</th>\n",
       "      <th>chidren_1</th>\n",
       "      <th>chidren_2</th>\n",
       "      <th>chidren_3</th>\n",
       "      <th>chidren_4+</th>\n",
       "      <th>chidren_Zero</th>\n",
       "    </tr>\n",
       "  </thead>\n",
       "  <tbody>\n",
       "    <tr>\n",
       "      <th>0</th>\n",
       "      <td>51-55</td>\n",
       "      <td>Partner</td>\n",
       "      <td>Manual Worker</td>\n",
       "      <td>Secretarial/Admin</td>\n",
       "      <td>Own Home</td>\n",
       "      <td>&lt;17,500, &gt;=15,000</td>\n",
       "      <td>No</td>\n",
       "      <td>No</td>\n",
       "      <td>HTV</td>\n",
       "      <td>2.482267</td>\n",
       "      <td>...</td>\n",
       "      <td>Wales</td>\n",
       "      <td>0.939993</td>\n",
       "      <td>-0.101079</td>\n",
       "      <td>0.014204</td>\n",
       "      <td>-0.006595</td>\n",
       "      <td>0</td>\n",
       "      <td>0</td>\n",
       "      <td>0</td>\n",
       "      <td>0</td>\n",
       "      <td>1</td>\n",
       "    </tr>\n",
       "    <tr>\n",
       "      <th>1</th>\n",
       "      <td>55-60</td>\n",
       "      <td>Single/Never Married</td>\n",
       "      <td>Retired</td>\n",
       "      <td>Retired</td>\n",
       "      <td>Own Home</td>\n",
       "      <td>&lt;27,500, &gt;=25,000</td>\n",
       "      <td>No</td>\n",
       "      <td>No</td>\n",
       "      <td>Granada</td>\n",
       "      <td>-0.464382</td>\n",
       "      <td>...</td>\n",
       "      <td>North West</td>\n",
       "      <td>-0.400670</td>\n",
       "      <td>-0.751956</td>\n",
       "      <td>-0.786946</td>\n",
       "      <td>-0.681495</td>\n",
       "      <td>0</td>\n",
       "      <td>0</td>\n",
       "      <td>0</td>\n",
       "      <td>0</td>\n",
       "      <td>1</td>\n",
       "    </tr>\n",
       "    <tr>\n",
       "      <th>2</th>\n",
       "      <td>26-30</td>\n",
       "      <td>Single/Never Married</td>\n",
       "      <td>Professional</td>\n",
       "      <td>Other</td>\n",
       "      <td>Own Home</td>\n",
       "      <td>&lt;30,000, &gt;=27,500</td>\n",
       "      <td>Yes</td>\n",
       "      <td>No</td>\n",
       "      <td>Tyne Tees</td>\n",
       "      <td>-0.464382</td>\n",
       "      <td>...</td>\n",
       "      <td>North</td>\n",
       "      <td>1.515582</td>\n",
       "      <td>0.331793</td>\n",
       "      <td>1.406412</td>\n",
       "      <td>0.827284</td>\n",
       "      <td>0</td>\n",
       "      <td>0</td>\n",
       "      <td>0</td>\n",
       "      <td>0</td>\n",
       "      <td>1</td>\n",
       "    </tr>\n",
       "    <tr>\n",
       "      <th>3</th>\n",
       "      <td>18-21</td>\n",
       "      <td>Single/Never Married</td>\n",
       "      <td>Professional</td>\n",
       "      <td>Manual Worker</td>\n",
       "      <td>Own Home</td>\n",
       "      <td>&lt;15,000, &gt;=12,500</td>\n",
       "      <td>No</td>\n",
       "      <td>No</td>\n",
       "      <td>Central</td>\n",
       "      <td>-0.464382</td>\n",
       "      <td>...</td>\n",
       "      <td>West Midlands</td>\n",
       "      <td>-0.796618</td>\n",
       "      <td>-0.258391</td>\n",
       "      <td>-0.407981</td>\n",
       "      <td>-1.334422</td>\n",
       "      <td>0</td>\n",
       "      <td>0</td>\n",
       "      <td>0</td>\n",
       "      <td>0</td>\n",
       "      <td>1</td>\n",
       "    </tr>\n",
       "    <tr>\n",
       "      <th>4</th>\n",
       "      <td>45-50</td>\n",
       "      <td>Partner</td>\n",
       "      <td>Business Manager</td>\n",
       "      <td>Unknown</td>\n",
       "      <td>Own Home</td>\n",
       "      <td>&lt;30,000, &gt;=27,500</td>\n",
       "      <td>No</td>\n",
       "      <td>No</td>\n",
       "      <td>Scottish TV</td>\n",
       "      <td>0.993657</td>\n",
       "      <td>...</td>\n",
       "      <td>Scotland</td>\n",
       "      <td>0.829010</td>\n",
       "      <td>1.196490</td>\n",
       "      <td>1.391528</td>\n",
       "      <td>1.467655</td>\n",
       "      <td>0</td>\n",
       "      <td>0</td>\n",
       "      <td>0</td>\n",
       "      <td>0</td>\n",
       "      <td>1</td>\n",
       "    </tr>\n",
       "  </tbody>\n",
       "</table>\n",
       "<p>5 rows × 32 columns</p>\n",
       "</div>"
      ],
      "text/plain": [
       "  age_band                status        occupation occupation_partner  \\\n",
       "0    51-55               Partner     Manual Worker  Secretarial/Admin   \n",
       "1    55-60  Single/Never Married           Retired            Retired   \n",
       "2    26-30  Single/Never Married      Professional              Other   \n",
       "3    18-21  Single/Never Married      Professional      Manual Worker   \n",
       "4    45-50               Partner  Business Manager            Unknown   \n",
       "\n",
       "  home_status      family_income self_employed self_employed_partner  \\\n",
       "0    Own Home  <17,500, >=15,000            No                    No   \n",
       "1    Own Home  <27,500, >=25,000            No                    No   \n",
       "2    Own Home  <30,000, >=27,500           Yes                    No   \n",
       "3    Own Home  <15,000, >=12,500            No                    No   \n",
       "4    Own Home  <30,000, >=27,500            No                    No   \n",
       "\n",
       "        TVarea  Average Credit Card Transaction  ...         region  \\\n",
       "0          HTV                         2.482267  ...          Wales   \n",
       "1      Granada                        -0.464382  ...     North West   \n",
       "2    Tyne Tees                        -0.464382  ...          North   \n",
       "3      Central                        -0.464382  ...  West Midlands   \n",
       "4  Scottish TV                         0.993657  ...       Scotland   \n",
       "\n",
       "   Investment in Commudity  Investment in Equity  Investment in Derivative  \\\n",
       "0                 0.939993             -0.101079                  0.014204   \n",
       "1                -0.400670             -0.751956                 -0.786946   \n",
       "2                 1.515582              0.331793                  1.406412   \n",
       "3                -0.796618             -0.258391                 -0.407981   \n",
       "4                 0.829010              1.196490                  1.391528   \n",
       "\n",
       "   Portfolio Balance  chidren_1  chidren_2  chidren_3  chidren_4+  \\\n",
       "0          -0.006595          0          0          0           0   \n",
       "1          -0.681495          0          0          0           0   \n",
       "2           0.827284          0          0          0           0   \n",
       "3          -1.334422          0          0          0           0   \n",
       "4           1.467655          0          0          0           0   \n",
       "\n",
       "   chidren_Zero  \n",
       "0             1  \n",
       "1             1  \n",
       "2             1  \n",
       "3             1  \n",
       "4             1  \n",
       "\n",
       "[5 rows x 32 columns]"
      ]
     },
     "execution_count": 33,
     "metadata": {},
     "output_type": "execute_result"
    }
   ],
   "source": [
    "data.head()"
   ]
  },
  {
   "cell_type": "code",
   "execution_count": null,
   "metadata": {
    "colab": {
     "base_uri": "https://localhost:8080/",
     "height": 89
    },
    "id": "kS9oPbuZ8pUo",
    "outputId": "86748a4e-f366-4e4d-91ae-83af2106d966"
   },
   "outputs": [
    {
     "data": {
      "application/vnd.google.colaboratory.intrinsic+json": {
       "type": "string"
      },
      "text/plain": [
       "\"\\nfrom sklearn.preprocessing import OneHotEncoder\\n\\nencoder = OneHotEncoder()\\n\\nencoder.fit(data['children']) #### identify how many unique values are there in the columns and what are they [0,1,2,3]\\n\\nencoder.transform(data['children']) #### for every unique value it will create a one hot column\\n\\n##### store the encoder object in a pickle\\n\""
      ]
     },
     "execution_count": 99,
     "metadata": {},
     "output_type": "execute_result"
    }
   ],
   "source": [
    "'''\n",
    "from sklearn.preprocessing import OneHotEncoder\n",
    "\n",
    "encoder = OneHotEncoder()\n",
    "\n",
    "encoder.fit(data['children']) #### identify how many unique values are there in the columns and what are they [0,1,2,3]\n",
    "\n",
    "encoder.transform(data['children']) #### for every unique value it will create a one hot column\n",
    "\n",
    "##### store the encoder object in a pickle\n",
    "'''"
   ]
  },
  {
   "cell_type": "code",
   "execution_count": null,
   "metadata": {
    "colab": {
     "base_uri": "https://localhost:8080/",
     "height": 142
    },
    "id": "BiYmah8dXYR3",
    "outputId": "28159608-3065-4a47-abe5-41f3e11d57c0"
   },
   "outputs": [
    {
     "data": {
      "application/vnd.google.colaboratory.intrinsic+json": {
       "type": "string"
      },
      "text/plain": [
       "\"\\nfrom sklearn.preprocessing import OneHotEncoder\\n\\nage_band_encoder = OneHotEncoder()\\n\\nage_band_encoder.fit(data[['age_band']]) #### try to identify what all are the unique values in the age band column\\n\\ndummy_cols = age_band_encoder.transform(data[['age_band']]) ##### create dummies for each of the unique values identified \\n\\ndummy_cols = pd.DataFrame(dummy_cols.toarray())\\n\\ndummy_cols.columns = age_band_encoder.categories_\\n\\ndata.drop(['age_band'],axis=1,inplace=True)\\n\\ndata = pd.concat([data,dummy_cols],axis=1)\\n\\nwith open('age_band_encoder.pickle','wb') as f:\\n  pickle.dump(age_band_encoder,f)\\n\""
      ]
     },
     "execution_count": 100,
     "metadata": {},
     "output_type": "execute_result"
    }
   ],
   "source": [
    "'''\n",
    "from sklearn.preprocessing import OneHotEncoder\n",
    "\n",
    "age_band_encoder = OneHotEncoder()\n",
    "\n",
    "age_band_encoder.fit(data[['age_band']]) #### try to identify what all are the unique values in the age band column\n",
    "\n",
    "dummy_cols = age_band_encoder.transform(data[['age_band']]) ##### create dummies for each of the unique values identified \n",
    "\n",
    "dummy_cols = pd.DataFrame(dummy_cols.toarray())\n",
    "\n",
    "dummy_cols.columns = age_band_encoder.categories_\n",
    "\n",
    "data.drop(['age_band'],axis=1,inplace=True)\n",
    "\n",
    "data = pd.concat([data,dummy_cols],axis=1)\n",
    "\n",
    "with open('age_band_encoder.pickle','wb') as f:\n",
    "  pickle.dump(age_band_encoder,f)\n",
    "'''"
   ]
  },
  {
   "cell_type": "code",
   "execution_count": 34,
   "metadata": {
    "colab": {
     "base_uri": "https://localhost:8080/"
    },
    "id": "Ng0450e7tfLj",
    "outputId": "aeafc6b2-c68a-4d4e-8b9c-41d585225c11"
   },
   "outputs": [
    {
     "name": "stdout",
     "output_type": "stream",
     "text": [
      "45-50      1359\n",
      "36-40      1134\n",
      "41-45      1112\n",
      "31-35      1061\n",
      "51-55      1052\n",
      "55-60      1047\n",
      "26-30       927\n",
      "61-65       881\n",
      "65-70       598\n",
      "22-25       456\n",
      "71+         410\n",
      "18-21        63\n",
      "Unknown      55\n",
      "Name: age_band, dtype: int64\n"
     ]
    }
   ],
   "source": [
    "#### Analyzing age_band column ###\n",
    "\n",
    "print(data['age_band'].value_counts())\n",
    "\n",
    "#### Insight ####\n",
    "#################\n",
    "\n",
    "#Lets add unknown to the most prominant class of 45-50\n",
    "#The mean age of the band could be taken and this column could be converted into a numeric column, however it so can\n",
    "#happen that the band actually matters rather than the actual age, hence we create dummies \n",
    "\n",
    "#data.loc[data['age_band']=='Unknown','age_band'] ='45-50'\n",
    "\n",
    "age_band_dummies = pd.get_dummies(data['age_band'],prefix = 'age_band')\n",
    "\n",
    "data.drop(['age_band'],axis=1,inplace=True)\n",
    "\n",
    "data = pd.concat([data,age_band_dummies],axis=1)"
   ]
  },
  {
   "cell_type": "code",
   "execution_count": 35,
   "metadata": {
    "colab": {
     "base_uri": "https://localhost:8080/",
     "height": 421
    },
    "id": "jcZnoFoO9MJK",
    "outputId": "d238c1eb-f92e-4e9a-d4da-76e5d9173635"
   },
   "outputs": [
    {
     "data": {
      "text/html": [
       "<div>\n",
       "<style scoped>\n",
       "    .dataframe tbody tr th:only-of-type {\n",
       "        vertical-align: middle;\n",
       "    }\n",
       "\n",
       "    .dataframe tbody tr th {\n",
       "        vertical-align: top;\n",
       "    }\n",
       "\n",
       "    .dataframe thead th {\n",
       "        text-align: right;\n",
       "    }\n",
       "</style>\n",
       "<table border=\"1\" class=\"dataframe\">\n",
       "  <thead>\n",
       "    <tr style=\"text-align: right;\">\n",
       "      <th></th>\n",
       "      <th>status</th>\n",
       "      <th>occupation</th>\n",
       "      <th>occupation_partner</th>\n",
       "      <th>home_status</th>\n",
       "      <th>family_income</th>\n",
       "      <th>self_employed</th>\n",
       "      <th>self_employed_partner</th>\n",
       "      <th>TVarea</th>\n",
       "      <th>Average Credit Card Transaction</th>\n",
       "      <th>Balance Transfer</th>\n",
       "      <th>...</th>\n",
       "      <th>age_band_31-35</th>\n",
       "      <th>age_band_36-40</th>\n",
       "      <th>age_band_41-45</th>\n",
       "      <th>age_band_45-50</th>\n",
       "      <th>age_band_51-55</th>\n",
       "      <th>age_band_55-60</th>\n",
       "      <th>age_band_61-65</th>\n",
       "      <th>age_band_65-70</th>\n",
       "      <th>age_band_71+</th>\n",
       "      <th>age_band_Unknown</th>\n",
       "    </tr>\n",
       "  </thead>\n",
       "  <tbody>\n",
       "    <tr>\n",
       "      <th>0</th>\n",
       "      <td>Partner</td>\n",
       "      <td>Manual Worker</td>\n",
       "      <td>Secretarial/Admin</td>\n",
       "      <td>Own Home</td>\n",
       "      <td>&lt;17,500, &gt;=15,000</td>\n",
       "      <td>No</td>\n",
       "      <td>No</td>\n",
       "      <td>HTV</td>\n",
       "      <td>2.482267</td>\n",
       "      <td>1.331761</td>\n",
       "      <td>...</td>\n",
       "      <td>0</td>\n",
       "      <td>0</td>\n",
       "      <td>0</td>\n",
       "      <td>0</td>\n",
       "      <td>1</td>\n",
       "      <td>0</td>\n",
       "      <td>0</td>\n",
       "      <td>0</td>\n",
       "      <td>0</td>\n",
       "      <td>0</td>\n",
       "    </tr>\n",
       "    <tr>\n",
       "      <th>1</th>\n",
       "      <td>Single/Never Married</td>\n",
       "      <td>Retired</td>\n",
       "      <td>Retired</td>\n",
       "      <td>Own Home</td>\n",
       "      <td>&lt;27,500, &gt;=25,000</td>\n",
       "      <td>No</td>\n",
       "      <td>No</td>\n",
       "      <td>Granada</td>\n",
       "      <td>-0.464382</td>\n",
       "      <td>0.396788</td>\n",
       "      <td>...</td>\n",
       "      <td>0</td>\n",
       "      <td>0</td>\n",
       "      <td>0</td>\n",
       "      <td>0</td>\n",
       "      <td>0</td>\n",
       "      <td>1</td>\n",
       "      <td>0</td>\n",
       "      <td>0</td>\n",
       "      <td>0</td>\n",
       "      <td>0</td>\n",
       "    </tr>\n",
       "    <tr>\n",
       "      <th>2</th>\n",
       "      <td>Single/Never Married</td>\n",
       "      <td>Professional</td>\n",
       "      <td>Other</td>\n",
       "      <td>Own Home</td>\n",
       "      <td>&lt;30,000, &gt;=27,500</td>\n",
       "      <td>Yes</td>\n",
       "      <td>No</td>\n",
       "      <td>Tyne Tees</td>\n",
       "      <td>-0.464382</td>\n",
       "      <td>1.654882</td>\n",
       "      <td>...</td>\n",
       "      <td>0</td>\n",
       "      <td>0</td>\n",
       "      <td>0</td>\n",
       "      <td>0</td>\n",
       "      <td>0</td>\n",
       "      <td>0</td>\n",
       "      <td>0</td>\n",
       "      <td>0</td>\n",
       "      <td>0</td>\n",
       "      <td>0</td>\n",
       "    </tr>\n",
       "    <tr>\n",
       "      <th>3</th>\n",
       "      <td>Single/Never Married</td>\n",
       "      <td>Professional</td>\n",
       "      <td>Manual Worker</td>\n",
       "      <td>Own Home</td>\n",
       "      <td>&lt;15,000, &gt;=12,500</td>\n",
       "      <td>No</td>\n",
       "      <td>No</td>\n",
       "      <td>Central</td>\n",
       "      <td>-0.464382</td>\n",
       "      <td>-0.634612</td>\n",
       "      <td>...</td>\n",
       "      <td>0</td>\n",
       "      <td>0</td>\n",
       "      <td>0</td>\n",
       "      <td>0</td>\n",
       "      <td>0</td>\n",
       "      <td>0</td>\n",
       "      <td>0</td>\n",
       "      <td>0</td>\n",
       "      <td>0</td>\n",
       "      <td>0</td>\n",
       "    </tr>\n",
       "    <tr>\n",
       "      <th>4</th>\n",
       "      <td>Partner</td>\n",
       "      <td>Business Manager</td>\n",
       "      <td>Unknown</td>\n",
       "      <td>Own Home</td>\n",
       "      <td>&lt;30,000, &gt;=27,500</td>\n",
       "      <td>No</td>\n",
       "      <td>No</td>\n",
       "      <td>Scottish TV</td>\n",
       "      <td>0.993657</td>\n",
       "      <td>0.162666</td>\n",
       "      <td>...</td>\n",
       "      <td>0</td>\n",
       "      <td>0</td>\n",
       "      <td>0</td>\n",
       "      <td>1</td>\n",
       "      <td>0</td>\n",
       "      <td>0</td>\n",
       "      <td>0</td>\n",
       "      <td>0</td>\n",
       "      <td>0</td>\n",
       "      <td>0</td>\n",
       "    </tr>\n",
       "  </tbody>\n",
       "</table>\n",
       "<p>5 rows × 44 columns</p>\n",
       "</div>"
      ],
      "text/plain": [
       "                 status        occupation occupation_partner home_status  \\\n",
       "0               Partner     Manual Worker  Secretarial/Admin    Own Home   \n",
       "1  Single/Never Married           Retired            Retired    Own Home   \n",
       "2  Single/Never Married      Professional              Other    Own Home   \n",
       "3  Single/Never Married      Professional      Manual Worker    Own Home   \n",
       "4               Partner  Business Manager            Unknown    Own Home   \n",
       "\n",
       "       family_income self_employed self_employed_partner       TVarea  \\\n",
       "0  <17,500, >=15,000            No                    No          HTV   \n",
       "1  <27,500, >=25,000            No                    No      Granada   \n",
       "2  <30,000, >=27,500           Yes                    No    Tyne Tees   \n",
       "3  <15,000, >=12,500            No                    No      Central   \n",
       "4  <30,000, >=27,500            No                    No  Scottish TV   \n",
       "\n",
       "   Average Credit Card Transaction  Balance Transfer  ...  age_band_31-35  \\\n",
       "0                         2.482267          1.331761  ...               0   \n",
       "1                        -0.464382          0.396788  ...               0   \n",
       "2                        -0.464382          1.654882  ...               0   \n",
       "3                        -0.464382         -0.634612  ...               0   \n",
       "4                         0.993657          0.162666  ...               0   \n",
       "\n",
       "   age_band_36-40  age_band_41-45  age_band_45-50  age_band_51-55  \\\n",
       "0               0               0               0               1   \n",
       "1               0               0               0               0   \n",
       "2               0               0               0               0   \n",
       "3               0               0               0               0   \n",
       "4               0               0               1               0   \n",
       "\n",
       "   age_band_55-60  age_band_61-65  age_band_65-70  age_band_71+  \\\n",
       "0               0               0               0             0   \n",
       "1               1               0               0             0   \n",
       "2               0               0               0             0   \n",
       "3               0               0               0             0   \n",
       "4               0               0               0             0   \n",
       "\n",
       "   age_band_Unknown  \n",
       "0                 0  \n",
       "1                 0  \n",
       "2                 0  \n",
       "3                 0  \n",
       "4                 0  \n",
       "\n",
       "[5 rows x 44 columns]"
      ]
     },
     "execution_count": 35,
     "metadata": {},
     "output_type": "execute_result"
    }
   ],
   "source": [
    "data.head()"
   ]
  },
  {
   "cell_type": "code",
   "execution_count": 36,
   "metadata": {
    "colab": {
     "base_uri": "https://localhost:8080/"
    },
    "id": "uAh7KmwItfLj",
    "outputId": "8167d5d9-d91c-425c-b926-5411413adc62"
   },
   "outputs": [
    {
     "name": "stdout",
     "output_type": "stream",
     "text": [
      "Partner                 7709\n",
      "Single/Never Married    1101\n",
      "Divorced/Separated       679\n",
      "Widowed                  618\n",
      "Unknown                   48\n",
      "Name: status, dtype: int64\n"
     ]
    }
   ],
   "source": [
    "#### Analyzing status column ###\n",
    "\n",
    "print(data['status'].value_counts())\n",
    "\n",
    "#### Insight ####\n",
    "#################\n",
    "\n",
    "#Lets add unknown to the most prominant class of Partner\n",
    "#Create dummeis for the rest \n",
    "\n",
    "#data.loc[data['status']=='Unknown','status'] ='Partner'\n",
    "\n",
    "status_dummies = pd.get_dummies(data['status'],prefix = 'status')\n",
    "\n",
    "data.drop(['status'],axis=1,inplace=True)\n",
    "\n",
    "data = pd.concat([data,status_dummies],axis=1)"
   ]
  },
  {
   "cell_type": "code",
   "execution_count": 37,
   "metadata": {
    "colab": {
     "base_uri": "https://localhost:8080/"
    },
    "id": "-PAkiwettfLk",
    "outputId": "8f749bbc-074c-4158-9633-26a82807e694"
   },
   "outputs": [
    {
     "name": "stdout",
     "output_type": "stream",
     "text": [
      "Professional         2449\n",
      "Retired              2206\n",
      "Secretarial/Admin    1797\n",
      "Housewife            1255\n",
      "Business Manager      732\n",
      "Unknown               567\n",
      "Manual Worker         556\n",
      "Other                 537\n",
      "Student                56\n",
      "Name: occupation, dtype: int64\n"
     ]
    }
   ],
   "source": [
    "#### Analyzing occupation column ###\n",
    "\n",
    "print(data['occupation'].value_counts())\n",
    "\n",
    "occupation_dummies = pd.get_dummies(data['occupation'], drop_first=True, prefix = 'occupation')\n",
    "\n",
    "data.drop(['occupation'],axis=1,inplace=True)\n",
    "\n",
    "data = pd.concat([data,occupation_dummies],axis=1)"
   ]
  },
  {
   "cell_type": "code",
   "execution_count": 38,
   "metadata": {
    "colab": {
     "base_uri": "https://localhost:8080/"
    },
    "id": "izYURhind_Yd",
    "outputId": "fafc2668-1384-48f0-ac3d-86e90fc274d7"
   },
   "outputs": [
    {
     "name": "stdout",
     "output_type": "stream",
     "text": [
      "<class 'pandas.core.frame.DataFrame'>\n",
      "RangeIndex: 10155 entries, 0 to 10154\n",
      "Data columns (total 55 columns):\n",
      " #   Column                           Non-Null Count  Dtype  \n",
      "---  ------                           --------------  -----  \n",
      " 0   occupation_partner               10155 non-null  object \n",
      " 1   home_status                      10155 non-null  object \n",
      " 2   family_income                    10155 non-null  object \n",
      " 3   self_employed                    10155 non-null  object \n",
      " 4   self_employed_partner            10155 non-null  object \n",
      " 5   TVarea                           10155 non-null  object \n",
      " 6   Average Credit Card Transaction  10155 non-null  float64\n",
      " 7   Balance Transfer                 10155 non-null  float64\n",
      " 8   Term Deposit                     10155 non-null  float64\n",
      " 9   Life Insurance                   10155 non-null  float64\n",
      " 10  Medical Insurance                10155 non-null  float64\n",
      " 11  Average A/C Balance              10155 non-null  float64\n",
      " 12  Personal Loan                    10155 non-null  float64\n",
      " 13  Investment in Mutual Fund        10155 non-null  float64\n",
      " 14  Investment Tax Saving Bond       10155 non-null  float64\n",
      " 15  Home Loan                        10155 non-null  float64\n",
      " 16  Online Purchase Amount           10155 non-null  float64\n",
      " 17  Revenue Grid                     10155 non-null  int64  \n",
      " 18  gender                           10155 non-null  object \n",
      " 19  region                           10155 non-null  object \n",
      " 20  Investment in Commudity          10155 non-null  float64\n",
      " 21  Investment in Equity             10155 non-null  float64\n",
      " 22  Investment in Derivative         10155 non-null  float64\n",
      " 23  Portfolio Balance                10155 non-null  float64\n",
      " 24  chidren_1                        10155 non-null  uint8  \n",
      " 25  chidren_2                        10155 non-null  uint8  \n",
      " 26  chidren_3                        10155 non-null  uint8  \n",
      " 27  chidren_4+                       10155 non-null  uint8  \n",
      " 28  chidren_Zero                     10155 non-null  uint8  \n",
      " 29  age_band_18-21                   10155 non-null  uint8  \n",
      " 30  age_band_22-25                   10155 non-null  uint8  \n",
      " 31  age_band_26-30                   10155 non-null  uint8  \n",
      " 32  age_band_31-35                   10155 non-null  uint8  \n",
      " 33  age_band_36-40                   10155 non-null  uint8  \n",
      " 34  age_band_41-45                   10155 non-null  uint8  \n",
      " 35  age_band_45-50                   10155 non-null  uint8  \n",
      " 36  age_band_51-55                   10155 non-null  uint8  \n",
      " 37  age_band_55-60                   10155 non-null  uint8  \n",
      " 38  age_band_61-65                   10155 non-null  uint8  \n",
      " 39  age_band_65-70                   10155 non-null  uint8  \n",
      " 40  age_band_71+                     10155 non-null  uint8  \n",
      " 41  age_band_Unknown                 10155 non-null  uint8  \n",
      " 42  status_Divorced/Separated        10155 non-null  uint8  \n",
      " 43  status_Partner                   10155 non-null  uint8  \n",
      " 44  status_Single/Never Married      10155 non-null  uint8  \n",
      " 45  status_Unknown                   10155 non-null  uint8  \n",
      " 46  status_Widowed                   10155 non-null  uint8  \n",
      " 47  occupation_Housewife             10155 non-null  uint8  \n",
      " 48  occupation_Manual Worker         10155 non-null  uint8  \n",
      " 49  occupation_Other                 10155 non-null  uint8  \n",
      " 50  occupation_Professional          10155 non-null  uint8  \n",
      " 51  occupation_Retired               10155 non-null  uint8  \n",
      " 52  occupation_Secretarial/Admin     10155 non-null  uint8  \n",
      " 53  occupation_Student               10155 non-null  uint8  \n",
      " 54  occupation_Unknown               10155 non-null  uint8  \n",
      "dtypes: float64(15), int64(1), object(8), uint8(31)\n",
      "memory usage: 2.2+ MB\n"
     ]
    }
   ],
   "source": [
    "data.info()"
   ]
  },
  {
   "cell_type": "code",
   "execution_count": 39,
   "metadata": {
    "colab": {
     "base_uri": "https://localhost:8080/"
    },
    "id": "M7Lhw61QtfLk",
    "outputId": "140469f5-2960-4f64-f526-eca18f44cc3b"
   },
   "outputs": [
    {
     "name": "stdout",
     "output_type": "stream",
     "text": [
      "Unknown              2394\n",
      "Professional         2051\n",
      "Retired              1936\n",
      "Manual Worker        1508\n",
      "Business Manager      737\n",
      "Secretarial/Admin     662\n",
      "Housewife             527\n",
      "Other                 324\n",
      "Student                16\n",
      "Name: occupation_partner, dtype: int64\n"
     ]
    }
   ],
   "source": [
    "#### Analyzing occupation_partner column ###\n",
    "\n",
    "print(data['occupation_partner'].value_counts())\n",
    "\n",
    "occupation_partner_dummies = pd.get_dummies(data['occupation_partner'],drop_first=True,prefix = 'occupation_partner')\n",
    "\n",
    "data.drop(['occupation_partner'],axis=1,inplace=True)\n",
    "\n",
    "data = pd.concat([data,occupation_partner_dummies],axis=1)"
   ]
  },
  {
   "cell_type": "code",
   "execution_count": 40,
   "metadata": {
    "colab": {
     "base_uri": "https://localhost:8080/"
    },
    "id": "92yWDGjAtfLk",
    "outputId": "b67d5ba8-94c9-45d4-ce99-49ca11a9b268"
   },
   "outputs": [
    {
     "name": "stdout",
     "output_type": "stream",
     "text": [
      "Own Home                9413\n",
      "Rent from Council/HA     322\n",
      "Rent Privately           261\n",
      "Live in Parental Hom     109\n",
      "Unclassified              50\n",
      "Name: home_status, dtype: int64\n"
     ]
    }
   ],
   "source": [
    "#### Analyzing home_status column ###\n",
    "\n",
    "print(data['home_status'].value_counts())\n",
    "\n",
    "#### Insight ####\n",
    "#################\n",
    "\n",
    "#Apart form own home the other types seem to be some/kind of rented property and the occurances of those are quite few compared to own house\n",
    "#combine all others into a category called rent\n",
    "#Create dummies for rest\n",
    "\n",
    "#data.loc[~(data['home_status'] == 'Own Home'),'home_status'] ='Rented Home'\n",
    "\n",
    "home_status_dummies = pd.get_dummies(data['home_status'],prefix = 'home_status')\n",
    "\n",
    "data.drop(['home_status'],axis=1,inplace=True)\n",
    "\n",
    "data = pd.concat([data,home_status_dummies],axis=1)"
   ]
  },
  {
   "cell_type": "code",
   "execution_count": 41,
   "metadata": {
    "colab": {
     "base_uri": "https://localhost:8080/"
    },
    "id": "OnIiMALytfLk",
    "outputId": "585586bb-5783-4932-965b-6d2ef04d0a55"
   },
   "outputs": [
    {
     "name": "stdout",
     "output_type": "stream",
     "text": [
      ">=35,000             2517\n",
      "<27,500, >=25,000    1227\n",
      "<30,000, >=27,500     994\n",
      "<25,000, >=22,500     833\n",
      "<20,000, >=17,500     683\n",
      "<12,500, >=10,000     677\n",
      "<17,500, >=15,000     634\n",
      "<15,000, >=12,500     629\n",
      "<22,500, >=20,000     590\n",
      "<10,000, >= 8,000     563\n",
      "< 8,000, >= 4,000     402\n",
      "< 4,000               278\n",
      "Unknown               128\n",
      "Name: family_income, dtype: int64\n"
     ]
    }
   ],
   "source": [
    "#### Analyzing family_income column ###\n",
    "\n",
    "print(data['family_income'].value_counts())\n",
    "\n",
    "#### Insight ####\n",
    "#################\n",
    "\n",
    "#The family income could be converted into numeric field by taking the mean of the range. We will explore it in the next set of experiments\n",
    "#In the current experiment, we create dummies\n",
    "\n",
    "income_dummies = pd.get_dummies(data['family_income'], prefix = 'income')\n",
    "\n",
    "data.drop(['family_income'],axis=1,inplace=True)\n",
    "\n",
    "data = pd.concat([data,income_dummies],axis=1)"
   ]
  },
  {
   "cell_type": "code",
   "execution_count": 42,
   "metadata": {
    "id": "boxBtXgttfLk"
   },
   "outputs": [],
   "source": [
    "#### Analyzing the self employed, self employed partner and gender column ####\n",
    "\n",
    "cols = ['self_employed','self_employed_partner','gender']\n",
    "\n",
    "for column in cols:\n",
    "    dummies = pd.get_dummies(data[column],drop_first=True,prefix = column)\n",
    "    data.drop(column,axis=1,inplace=True)\n",
    "    data = pd.concat([data,dummies],axis=1)"
   ]
  },
  {
   "cell_type": "code",
   "execution_count": 43,
   "metadata": {
    "colab": {
     "base_uri": "https://localhost:8080/"
    },
    "id": "vaOxRuEWgbPT",
    "outputId": "e83bebfa-eed5-4670-fe0f-3b6cd031c7e6"
   },
   "outputs": [
    {
     "name": "stdout",
     "output_type": "stream",
     "text": [
      "<class 'pandas.core.frame.DataFrame'>\n",
      "RangeIndex: 10155 entries, 0 to 10154\n",
      "Data columns (total 79 columns):\n",
      " #   Column                                Non-Null Count  Dtype  \n",
      "---  ------                                --------------  -----  \n",
      " 0   TVarea                                10155 non-null  object \n",
      " 1   Average Credit Card Transaction       10155 non-null  float64\n",
      " 2   Balance Transfer                      10155 non-null  float64\n",
      " 3   Term Deposit                          10155 non-null  float64\n",
      " 4   Life Insurance                        10155 non-null  float64\n",
      " 5   Medical Insurance                     10155 non-null  float64\n",
      " 6   Average A/C Balance                   10155 non-null  float64\n",
      " 7   Personal Loan                         10155 non-null  float64\n",
      " 8   Investment in Mutual Fund             10155 non-null  float64\n",
      " 9   Investment Tax Saving Bond            10155 non-null  float64\n",
      " 10  Home Loan                             10155 non-null  float64\n",
      " 11  Online Purchase Amount                10155 non-null  float64\n",
      " 12  Revenue Grid                          10155 non-null  int64  \n",
      " 13  region                                10155 non-null  object \n",
      " 14  Investment in Commudity               10155 non-null  float64\n",
      " 15  Investment in Equity                  10155 non-null  float64\n",
      " 16  Investment in Derivative              10155 non-null  float64\n",
      " 17  Portfolio Balance                     10155 non-null  float64\n",
      " 18  chidren_1                             10155 non-null  uint8  \n",
      " 19  chidren_2                             10155 non-null  uint8  \n",
      " 20  chidren_3                             10155 non-null  uint8  \n",
      " 21  chidren_4+                            10155 non-null  uint8  \n",
      " 22  chidren_Zero                          10155 non-null  uint8  \n",
      " 23  age_band_18-21                        10155 non-null  uint8  \n",
      " 24  age_band_22-25                        10155 non-null  uint8  \n",
      " 25  age_band_26-30                        10155 non-null  uint8  \n",
      " 26  age_band_31-35                        10155 non-null  uint8  \n",
      " 27  age_band_36-40                        10155 non-null  uint8  \n",
      " 28  age_band_41-45                        10155 non-null  uint8  \n",
      " 29  age_band_45-50                        10155 non-null  uint8  \n",
      " 30  age_band_51-55                        10155 non-null  uint8  \n",
      " 31  age_band_55-60                        10155 non-null  uint8  \n",
      " 32  age_band_61-65                        10155 non-null  uint8  \n",
      " 33  age_band_65-70                        10155 non-null  uint8  \n",
      " 34  age_band_71+                          10155 non-null  uint8  \n",
      " 35  age_band_Unknown                      10155 non-null  uint8  \n",
      " 36  status_Divorced/Separated             10155 non-null  uint8  \n",
      " 37  status_Partner                        10155 non-null  uint8  \n",
      " 38  status_Single/Never Married           10155 non-null  uint8  \n",
      " 39  status_Unknown                        10155 non-null  uint8  \n",
      " 40  status_Widowed                        10155 non-null  uint8  \n",
      " 41  occupation_Housewife                  10155 non-null  uint8  \n",
      " 42  occupation_Manual Worker              10155 non-null  uint8  \n",
      " 43  occupation_Other                      10155 non-null  uint8  \n",
      " 44  occupation_Professional               10155 non-null  uint8  \n",
      " 45  occupation_Retired                    10155 non-null  uint8  \n",
      " 46  occupation_Secretarial/Admin          10155 non-null  uint8  \n",
      " 47  occupation_Student                    10155 non-null  uint8  \n",
      " 48  occupation_Unknown                    10155 non-null  uint8  \n",
      " 49  occupation_partner_Housewife          10155 non-null  uint8  \n",
      " 50  occupation_partner_Manual Worker      10155 non-null  uint8  \n",
      " 51  occupation_partner_Other              10155 non-null  uint8  \n",
      " 52  occupation_partner_Professional       10155 non-null  uint8  \n",
      " 53  occupation_partner_Retired            10155 non-null  uint8  \n",
      " 54  occupation_partner_Secretarial/Admin  10155 non-null  uint8  \n",
      " 55  occupation_partner_Student            10155 non-null  uint8  \n",
      " 56  occupation_partner_Unknown            10155 non-null  uint8  \n",
      " 57  home_status_Live in Parental Hom      10155 non-null  uint8  \n",
      " 58  home_status_Own Home                  10155 non-null  uint8  \n",
      " 59  home_status_Rent Privately            10155 non-null  uint8  \n",
      " 60  home_status_Rent from Council/HA      10155 non-null  uint8  \n",
      " 61  home_status_Unclassified              10155 non-null  uint8  \n",
      " 62  income_< 4,000                        10155 non-null  uint8  \n",
      " 63  income_< 8,000, >= 4,000              10155 non-null  uint8  \n",
      " 64  income_<10,000, >= 8,000              10155 non-null  uint8  \n",
      " 65  income_<12,500, >=10,000              10155 non-null  uint8  \n",
      " 66  income_<15,000, >=12,500              10155 non-null  uint8  \n",
      " 67  income_<17,500, >=15,000              10155 non-null  uint8  \n",
      " 68  income_<20,000, >=17,500              10155 non-null  uint8  \n",
      " 69  income_<22,500, >=20,000              10155 non-null  uint8  \n",
      " 70  income_<25,000, >=22,500              10155 non-null  uint8  \n",
      " 71  income_<27,500, >=25,000              10155 non-null  uint8  \n",
      " 72  income_<30,000, >=27,500              10155 non-null  uint8  \n",
      " 73  income_>=35,000                       10155 non-null  uint8  \n",
      " 74  income_Unknown                        10155 non-null  uint8  \n",
      " 75  self_employed_Yes                     10155 non-null  uint8  \n",
      " 76  self_employed_partner_Yes             10155 non-null  uint8  \n",
      " 77  gender_Male                           10155 non-null  uint8  \n",
      " 78  gender_Unknown                        10155 non-null  uint8  \n",
      "dtypes: float64(15), int64(1), object(2), uint8(61)\n",
      "memory usage: 2.0+ MB\n"
     ]
    }
   ],
   "source": [
    "data.info()"
   ]
  },
  {
   "cell_type": "code",
   "execution_count": 44,
   "metadata": {
    "colab": {
     "base_uri": "https://localhost:8080/"
    },
    "id": "kjfxRAErtfLl",
    "outputId": "94f32c01-32af-47fb-a64d-b1229b0ceccb"
   },
   "outputs": [
    {
     "name": "stdout",
     "output_type": "stream",
     "text": [
      "Central          1618\n",
      "Carlton          1541\n",
      "Meridian         1226\n",
      "Yorkshire        1042\n",
      "Granada          1039\n",
      "HTV               845\n",
      "Anglia            751\n",
      "Tyne Tees         536\n",
      "Scottish TV       520\n",
      "TV South West     363\n",
      "Grampian          227\n",
      "Unknown           189\n",
      "Ulster            159\n",
      "Border             99\n",
      "Name: TVarea, dtype: int64\n"
     ]
    }
   ],
   "source": [
    "#### Analyzing the TVarea column #####\n",
    "\n",
    "print(data['TVarea'].value_counts())\n",
    "\n",
    "### Insight ####\n",
    "################\n",
    "\n",
    "#Intuitively, TVArea doesn't make sense in predicting if the user is a high transaction user or not.\n",
    "#In the current set we would be removing this column, however doing this might lead to loss of information if it is relevant in anyway. This is a judgemental call\n",
    "\n",
    "data.drop(['TVarea'],axis=1,inplace=True)"
   ]
  },
  {
   "cell_type": "code",
   "execution_count": 45,
   "metadata": {
    "colab": {
     "base_uri": "https://localhost:8080/"
    },
    "id": "oCOHC3ictfLl",
    "outputId": "f63da61c-9c74-49ae-f5f2-72bbdc35ab86"
   },
   "outputs": [
    {
     "name": "stdout",
     "output_type": "stream",
     "text": [
      "South East          2100\n",
      "North West          1896\n",
      "Unknown             1080\n",
      "South West           971\n",
      "West Midlands        820\n",
      "Scotland             787\n",
      "East Midlands        771\n",
      "North                571\n",
      "Wales                556\n",
      "East Anglia          423\n",
      "Northern Ireland     159\n",
      "Isle of Man           16\n",
      "Channel Islands        5\n",
      "Name: region, dtype: int64\n"
     ]
    }
   ],
   "source": [
    "### Analyzing the region column ####\n",
    "\n",
    "print(data['region'].value_counts())\n",
    "\n",
    "region_dummies = pd.get_dummies(data['region'],drop_first=True,prefix = 'region')\n",
    "\n",
    "data.drop(['region'],axis=1,inplace=True)\n",
    "\n",
    "data = pd.concat([data,region_dummies],axis=1)"
   ]
  },
  {
   "cell_type": "code",
   "execution_count": 46,
   "metadata": {
    "colab": {
     "base_uri": "https://localhost:8080/"
    },
    "id": "dP_3mZmkhTzP",
    "outputId": "3d94f924-9e08-456b-cb88-719fd54afc73"
   },
   "outputs": [
    {
     "name": "stdout",
     "output_type": "stream",
     "text": [
      "<class 'pandas.core.frame.DataFrame'>\n",
      "RangeIndex: 10155 entries, 0 to 10154\n",
      "Data columns (total 89 columns):\n",
      " #   Column                                Non-Null Count  Dtype  \n",
      "---  ------                                --------------  -----  \n",
      " 0   Average Credit Card Transaction       10155 non-null  float64\n",
      " 1   Balance Transfer                      10155 non-null  float64\n",
      " 2   Term Deposit                          10155 non-null  float64\n",
      " 3   Life Insurance                        10155 non-null  float64\n",
      " 4   Medical Insurance                     10155 non-null  float64\n",
      " 5   Average A/C Balance                   10155 non-null  float64\n",
      " 6   Personal Loan                         10155 non-null  float64\n",
      " 7   Investment in Mutual Fund             10155 non-null  float64\n",
      " 8   Investment Tax Saving Bond            10155 non-null  float64\n",
      " 9   Home Loan                             10155 non-null  float64\n",
      " 10  Online Purchase Amount                10155 non-null  float64\n",
      " 11  Revenue Grid                          10155 non-null  int64  \n",
      " 12  Investment in Commudity               10155 non-null  float64\n",
      " 13  Investment in Equity                  10155 non-null  float64\n",
      " 14  Investment in Derivative              10155 non-null  float64\n",
      " 15  Portfolio Balance                     10155 non-null  float64\n",
      " 16  chidren_1                             10155 non-null  uint8  \n",
      " 17  chidren_2                             10155 non-null  uint8  \n",
      " 18  chidren_3                             10155 non-null  uint8  \n",
      " 19  chidren_4+                            10155 non-null  uint8  \n",
      " 20  chidren_Zero                          10155 non-null  uint8  \n",
      " 21  age_band_18-21                        10155 non-null  uint8  \n",
      " 22  age_band_22-25                        10155 non-null  uint8  \n",
      " 23  age_band_26-30                        10155 non-null  uint8  \n",
      " 24  age_band_31-35                        10155 non-null  uint8  \n",
      " 25  age_band_36-40                        10155 non-null  uint8  \n",
      " 26  age_band_41-45                        10155 non-null  uint8  \n",
      " 27  age_band_45-50                        10155 non-null  uint8  \n",
      " 28  age_band_51-55                        10155 non-null  uint8  \n",
      " 29  age_band_55-60                        10155 non-null  uint8  \n",
      " 30  age_band_61-65                        10155 non-null  uint8  \n",
      " 31  age_band_65-70                        10155 non-null  uint8  \n",
      " 32  age_band_71+                          10155 non-null  uint8  \n",
      " 33  age_band_Unknown                      10155 non-null  uint8  \n",
      " 34  status_Divorced/Separated             10155 non-null  uint8  \n",
      " 35  status_Partner                        10155 non-null  uint8  \n",
      " 36  status_Single/Never Married           10155 non-null  uint8  \n",
      " 37  status_Unknown                        10155 non-null  uint8  \n",
      " 38  status_Widowed                        10155 non-null  uint8  \n",
      " 39  occupation_Housewife                  10155 non-null  uint8  \n",
      " 40  occupation_Manual Worker              10155 non-null  uint8  \n",
      " 41  occupation_Other                      10155 non-null  uint8  \n",
      " 42  occupation_Professional               10155 non-null  uint8  \n",
      " 43  occupation_Retired                    10155 non-null  uint8  \n",
      " 44  occupation_Secretarial/Admin          10155 non-null  uint8  \n",
      " 45  occupation_Student                    10155 non-null  uint8  \n",
      " 46  occupation_Unknown                    10155 non-null  uint8  \n",
      " 47  occupation_partner_Housewife          10155 non-null  uint8  \n",
      " 48  occupation_partner_Manual Worker      10155 non-null  uint8  \n",
      " 49  occupation_partner_Other              10155 non-null  uint8  \n",
      " 50  occupation_partner_Professional       10155 non-null  uint8  \n",
      " 51  occupation_partner_Retired            10155 non-null  uint8  \n",
      " 52  occupation_partner_Secretarial/Admin  10155 non-null  uint8  \n",
      " 53  occupation_partner_Student            10155 non-null  uint8  \n",
      " 54  occupation_partner_Unknown            10155 non-null  uint8  \n",
      " 55  home_status_Live in Parental Hom      10155 non-null  uint8  \n",
      " 56  home_status_Own Home                  10155 non-null  uint8  \n",
      " 57  home_status_Rent Privately            10155 non-null  uint8  \n",
      " 58  home_status_Rent from Council/HA      10155 non-null  uint8  \n",
      " 59  home_status_Unclassified              10155 non-null  uint8  \n",
      " 60  income_< 4,000                        10155 non-null  uint8  \n",
      " 61  income_< 8,000, >= 4,000              10155 non-null  uint8  \n",
      " 62  income_<10,000, >= 8,000              10155 non-null  uint8  \n",
      " 63  income_<12,500, >=10,000              10155 non-null  uint8  \n",
      " 64  income_<15,000, >=12,500              10155 non-null  uint8  \n",
      " 65  income_<17,500, >=15,000              10155 non-null  uint8  \n",
      " 66  income_<20,000, >=17,500              10155 non-null  uint8  \n",
      " 67  income_<22,500, >=20,000              10155 non-null  uint8  \n",
      " 68  income_<25,000, >=22,500              10155 non-null  uint8  \n",
      " 69  income_<27,500, >=25,000              10155 non-null  uint8  \n",
      " 70  income_<30,000, >=27,500              10155 non-null  uint8  \n",
      " 71  income_>=35,000                       10155 non-null  uint8  \n",
      " 72  income_Unknown                        10155 non-null  uint8  \n",
      " 73  self_employed_Yes                     10155 non-null  uint8  \n",
      " 74  self_employed_partner_Yes             10155 non-null  uint8  \n",
      " 75  gender_Male                           10155 non-null  uint8  \n",
      " 76  gender_Unknown                        10155 non-null  uint8  \n",
      " 77  region_East Anglia                    10155 non-null  uint8  \n",
      " 78  region_East Midlands                  10155 non-null  uint8  \n",
      " 79  region_Isle of Man                    10155 non-null  uint8  \n",
      " 80  region_North                          10155 non-null  uint8  \n",
      " 81  region_North West                     10155 non-null  uint8  \n",
      " 82  region_Northern Ireland               10155 non-null  uint8  \n",
      " 83  region_Scotland                       10155 non-null  uint8  \n",
      " 84  region_South East                     10155 non-null  uint8  \n",
      " 85  region_South West                     10155 non-null  uint8  \n",
      " 86  region_Unknown                        10155 non-null  uint8  \n",
      " 87  region_Wales                          10155 non-null  uint8  \n",
      " 88  region_West Midlands                  10155 non-null  uint8  \n",
      "dtypes: float64(15), int64(1), uint8(73)\n",
      "memory usage: 1.9 MB\n"
     ]
    }
   ],
   "source": [
    "data.info()"
   ]
  },
  {
   "cell_type": "code",
   "execution_count": 47,
   "metadata": {
    "colab": {
     "base_uri": "https://localhost:8080/"
    },
    "id": "zav9pMkjtfLl",
    "outputId": "179b7386-5534-4dd9-9791-48308f7a1aa4"
   },
   "outputs": [
    {
     "name": "stdout",
     "output_type": "stream",
     "text": [
      "The shape of data after all preprocessing  (10155, 89)\n"
     ]
    }
   ],
   "source": [
    "print('The shape of data after all preprocessing ',data.shape)"
   ]
  },
  {
   "cell_type": "markdown",
   "metadata": {
    "id": "3Ny5cFgltfLm"
   },
   "source": [
    "\n",
    "# Modelling Data Prep"
   ]
  },
  {
   "cell_type": "code",
   "execution_count": 48,
   "metadata": {
    "id": "cnwXCvl5tfLm"
   },
   "outputs": [],
   "source": [
    "#### Since its a classification problem, converting target column into 0/1s #####\n",
    "\n",
    "data.loc[data['Revenue Grid']==2,'Revenue Grid'] = 0 ## this replaces all the 2's with 0 ### making targets as 1 and 0 \n",
    "\n",
    "data.reset_index(drop=True,inplace=True)\n",
    "\n",
    "features_df = data.drop(['Revenue Grid'],axis=1)\n",
    "\n",
    "target_df = data['Revenue Grid']"
   ]
  },
  {
   "cell_type": "code",
   "execution_count": 49,
   "metadata": {
    "colab": {
     "base_uri": "https://localhost:8080/"
    },
    "id": "csg_XRWCZ-eP",
    "outputId": "00525d1d-8051-4998-9fa4-571fe4d2983f"
   },
   "outputs": [
    {
     "data": {
      "text/plain": [
       "0    9069\n",
       "1    1086\n",
       "Name: Revenue Grid, dtype: int64"
      ]
     },
     "execution_count": 49,
     "metadata": {},
     "output_type": "execute_result"
    }
   ],
   "source": [
    "data['Revenue Grid'].value_counts()"
   ]
  },
  {
   "cell_type": "code",
   "execution_count": 50,
   "metadata": {
    "colab": {
     "base_uri": "https://localhost:8080/"
    },
    "id": "3RRBRsOpaTpB",
    "outputId": "4817a499-58ff-49da-d14c-db3cefcd910b"
   },
   "outputs": [
    {
     "data": {
      "text/plain": [
       "(0.8930470750443175, 0.1069529249556825)"
      ]
     },
     "execution_count": 50,
     "metadata": {},
     "output_type": "execute_result"
    }
   ],
   "source": [
    "9068/(9068+1086), (1086/(9068+1086))"
   ]
  },
  {
   "cell_type": "code",
   "execution_count": 51,
   "metadata": {
    "colab": {
     "base_uri": "https://localhost:8080/"
    },
    "id": "otBuoOvyi2ff",
    "outputId": "b2efcb78-b866-4f14-ee14-f1d183d23d11"
   },
   "outputs": [
    {
     "data": {
      "text/plain": [
       "((10155, 88), (10155,))"
      ]
     },
     "execution_count": 51,
     "metadata": {},
     "output_type": "execute_result"
    }
   ],
   "source": [
    "features_df.shape, target_df.shape"
   ]
  },
  {
   "cell_type": "code",
   "execution_count": 52,
   "metadata": {
    "id": "PH9h1JrbtfLm"
   },
   "outputs": [],
   "source": [
    "##### Creating a test set to validate the model on ######\n",
    "\n",
    "#split_size = 0.2\n",
    "\n",
    "split_ins = StratifiedShuffleSplit(train_size = 0.8, random_state=2364)\n",
    "\n",
    "splits = split_ins.split(features_df,target_df) ### return the rows that should be in training set and rows that goes in val set\n",
    "\n",
    "for train_index, val_index in splits:\n",
    "    features_train = features_df.iloc[train_index,:]   ## features for the training set\n",
    "    target_train = target_df[train_index]    ##### target values for the training set\n",
    "    features_val = features_df.iloc[val_index,:]   #### features for the validation set\n",
    "    target_val = target_df[val_index]            #### targets for the validation set\n",
    "    "
   ]
  },
  {
   "cell_type": "code",
   "execution_count": 53,
   "metadata": {
    "colab": {
     "base_uri": "https://localhost:8080/"
    },
    "id": "Eh-7OOm1tfLn",
    "outputId": "39e8f2aa-692e-435b-965c-ea56af5cc8e7"
   },
   "outputs": [
    {
     "data": {
      "text/plain": [
       "((8124, 88), (2031, 88), (8124,), (2031,))"
      ]
     },
     "execution_count": 53,
     "metadata": {},
     "output_type": "execute_result"
    }
   ],
   "source": [
    "features_train.shape,features_val.shape,target_train.shape,target_val.shape"
   ]
  },
  {
   "cell_type": "code",
   "execution_count": 54,
   "metadata": {
    "colab": {
     "base_uri": "https://localhost:8080/"
    },
    "id": "DCNsrDB4zVln",
    "outputId": "9cdb6f14-c697-4edd-96c4-bdc8a097eda0"
   },
   "outputs": [
    {
     "data": {
      "text/plain": [
       "(0.7999803033287375, 0.20005910165484633)"
      ]
     },
     "execution_count": 54,
     "metadata": {},
     "output_type": "execute_result"
    }
   ],
   "source": [
    "8123/10154, 2031/10152"
   ]
  },
  {
   "cell_type": "code",
   "execution_count": 55,
   "metadata": {
    "colab": {
     "base_uri": "https://localhost:8080/"
    },
    "id": "ADb3MbLxaJGv",
    "outputId": "a5baa5cd-9840-4014-c0ac-b600e98b8faa"
   },
   "outputs": [
    {
     "data": {
      "text/plain": [
       "0    7255\n",
       "1     869\n",
       "Name: Revenue Grid, dtype: int64"
      ]
     },
     "execution_count": 55,
     "metadata": {},
     "output_type": "execute_result"
    }
   ],
   "source": [
    "target_train.value_counts()"
   ]
  },
  {
   "cell_type": "code",
   "execution_count": 56,
   "metadata": {
    "colab": {
     "base_uri": "https://localhost:8080/"
    },
    "id": "cSqHKqdz1hWd",
    "outputId": "51e73fd3-281c-4eca-ae56-7570f8015651"
   },
   "outputs": [
    {
     "data": {
      "text/plain": [
       "(0.8930198202634495, 0.10698017973655054)"
      ]
     },
     "execution_count": 56,
     "metadata": {},
     "output_type": "execute_result"
    }
   ],
   "source": [
    "7254/(7254+869), 869/(7254+869)"
   ]
  },
  {
   "cell_type": "code",
   "execution_count": 57,
   "metadata": {
    "colab": {
     "base_uri": "https://localhost:8080/"
    },
    "id": "rQkIltxT1uU9",
    "outputId": "3f1825ab-fecb-41fb-f5fb-c22551396e5e"
   },
   "outputs": [
    {
     "data": {
      "text/plain": [
       "0    1814\n",
       "1     217\n",
       "Name: Revenue Grid, dtype: int64"
      ]
     },
     "execution_count": 57,
     "metadata": {},
     "output_type": "execute_result"
    }
   ],
   "source": [
    "target_val.value_counts()"
   ]
  },
  {
   "cell_type": "code",
   "execution_count": 58,
   "metadata": {
    "colab": {
     "base_uri": "https://localhost:8080/"
    },
    "id": "UeCeDwKh1yVp",
    "outputId": "c0c42f19-73b1-489e-9809-8e07d74708da"
   },
   "outputs": [
    {
     "data": {
      "text/plain": [
       "0.8931560807483998"
      ]
     },
     "execution_count": 58,
     "metadata": {},
     "output_type": "execute_result"
    }
   ],
   "source": [
    "1814/(1814+217)"
   ]
  },
  {
   "cell_type": "code",
   "execution_count": 59,
   "metadata": {
    "id": "hy0r4NbnrTOI"
   },
   "outputs": [],
   "source": [
    "features_train.reset_index(drop=True, inplace=True)\n",
    "target_train.reset_index(drop=True, inplace=True)\n",
    "features_val.reset_index(drop=True, inplace=True)\n",
    "target_val.reset_index(drop=True, inplace=True)"
   ]
  },
  {
   "cell_type": "markdown",
   "metadata": {
    "id": "Mq05OBNWtfLn"
   },
   "source": [
    "# Modelling"
   ]
  },
  {
   "cell_type": "code",
   "execution_count": 60,
   "metadata": {
    "id": "2qtx8YqJtfLn"
   },
   "outputs": [],
   "source": [
    "### We start with fitting the logistic regression model, this would serve as a benchmark model ####\n",
    "LR_model = LogisticRegression(class_weight = {0:0.55, 1:0.45}, max_iter=2000, penalty='none', random_state=2000) #since Logistic model doesn't have alot of paramters we wont create a validation set for hyperparameter tuning"
   ]
  },
  {
   "cell_type": "code",
   "execution_count": 61,
   "metadata": {
    "colab": {
     "base_uri": "https://localhost:8080/"
    },
    "id": "qHPQA3ywfAzR",
    "outputId": "6ec6cbf4-e873-4ca4-a59e-360d9f1a7454"
   },
   "outputs": [
    {
     "data": {
      "text/plain": [
       "LogisticRegression(class_weight={0: 0.55, 1: 0.45}, max_iter=2000,\n",
       "                   penalty='none', random_state=2000)"
      ]
     },
     "execution_count": 61,
     "metadata": {},
     "output_type": "execute_result"
    }
   ],
   "source": [
    "LR_model"
   ]
  },
  {
   "cell_type": "code",
   "execution_count": 62,
   "metadata": {
    "colab": {
     "base_uri": "https://localhost:8080/"
    },
    "id": "kYylWboStfLn",
    "outputId": "14b4e581-9ff0-4cac-de5a-23d75c4e4c6d"
   },
   "outputs": [
    {
     "data": {
      "text/plain": [
       "LogisticRegression(class_weight={0: 0.55, 1: 0.45}, max_iter=2000,\n",
       "                   penalty='none', random_state=2000)"
      ]
     },
     "execution_count": 62,
     "metadata": {},
     "output_type": "execute_result"
    }
   ],
   "source": [
    "### Fitting the model ####\n",
    "\n",
    "LR_model.fit(features_train,target_train) ##Model Building"
   ]
  },
  {
   "cell_type": "code",
   "execution_count": 63,
   "metadata": {
    "colab": {
     "base_uri": "https://localhost:8080/"
    },
    "id": "NxFqOxTEp0yx",
    "outputId": "60df456e-25d3-4210-d4a5-674df49787e1"
   },
   "outputs": [
    {
     "data": {
      "text/plain": [
       "{'Average Credit Card Transaction': 2.893448071019923,\n",
       " 'Balance Transfer': 2.0850391418506407,\n",
       " 'Term Deposit': 0.8070957363409956,\n",
       " 'Life Insurance': 1.4223232737708045,\n",
       " 'Medical Insurance': -0.45885796387170774,\n",
       " 'Average A/C Balance': 1.5493968755899346,\n",
       " 'Personal Loan': 1.0652042900200667,\n",
       " 'Investment in Mutual Fund': 2.5941342357767025,\n",
       " 'Investment Tax Saving Bond': 1.6701806821412737,\n",
       " 'Home Loan': 0.14216276649456558,\n",
       " 'Online Purchase Amount': 9.703301480260572,\n",
       " 'Investment in Commudity': -7.026278034251693,\n",
       " 'Investment in Equity': -13.83166795710741,\n",
       " 'Investment in Derivative': 6.876303874545476,\n",
       " 'Portfolio Balance': 0.26722921229718183,\n",
       " 'chidren_1': -0.5510986703367867,\n",
       " 'chidren_2': -0.6250615325657799,\n",
       " 'chidren_3': -0.8998359873739641,\n",
       " 'chidren_4+': -0.20140605661335892,\n",
       " 'chidren_Zero': -0.6950077453519931,\n",
       " 'age_band_18-21': 0.7335203128953577,\n",
       " 'age_band_22-25': -0.5060665176597222,\n",
       " 'age_band_26-30': -0.011826066423989085,\n",
       " 'age_band_31-35': -0.10668882842760263,\n",
       " 'age_band_36-40': -0.18232190915196564,\n",
       " 'age_band_41-45': -0.33842411478088297,\n",
       " 'age_band_45-50': -0.10381786190297568,\n",
       " 'age_band_51-55': -0.14736901956174434,\n",
       " 'age_band_55-60': -0.04577496044071444,\n",
       " 'age_band_61-65': -0.25411272806937657,\n",
       " 'age_band_65-70': -0.17900851919506627,\n",
       " 'age_band_71+': 0.07234782580401007,\n",
       " 'age_band_Unknown': -1.9028676053274471,\n",
       " 'status_Divorced/Separated': -1.072187452857757,\n",
       " 'status_Partner': -0.46444094225828036,\n",
       " 'status_Single/Never Married': -1.033870658645564,\n",
       " 'status_Unknown': 0.5847202633122711,\n",
       " 'status_Widowed': -0.9866312017939738,\n",
       " 'occupation_Housewife': -0.1851112193744822,\n",
       " 'occupation_Manual Worker': -0.052566639341005666,\n",
       " 'occupation_Other': 0.035464349516109786,\n",
       " 'occupation_Professional': -0.0883354997967356,\n",
       " 'occupation_Retired': -0.014123656214516346,\n",
       " 'occupation_Secretarial/Admin': -0.16582965699714797,\n",
       " 'occupation_Student': -2.3104455700705793,\n",
       " 'occupation_Unknown': -0.2477803679620457,\n",
       " 'occupation_partner_Housewife': -0.38527917307629245,\n",
       " 'occupation_partner_Manual Worker': 0.056694127874735815,\n",
       " 'occupation_partner_Other': 0.011045080721793632,\n",
       " 'occupation_partner_Professional': 0.22776827843755854,\n",
       " 'occupation_partner_Retired': -0.21438481530395317,\n",
       " 'occupation_partner_Secretarial/Admin': 0.22160274934776497,\n",
       " 'occupation_partner_Student': 1.3309328084588885,\n",
       " 'occupation_partner_Unknown': 0.49753986233803715,\n",
       " 'home_status_Live in Parental Hom': -1.65040212373189,\n",
       " 'home_status_Own Home': -0.6638470420273119,\n",
       " 'home_status_Rent Privately': -0.4958997047710967,\n",
       " 'home_status_Rent from Council/HA': -0.3666469047300059,\n",
       " 'home_status_Unclassified': 0.20438578301729143,\n",
       " 'income_< 4,000': -0.5274025876681389,\n",
       " 'income_< 8,000, >= 4,000': -0.25399804168512913,\n",
       " 'income_<10,000, >= 8,000': -0.26985531280209996,\n",
       " 'income_<12,500, >=10,000': 0.1786806920040958,\n",
       " 'income_<15,000, >=12,500': -0.3546832275634988,\n",
       " 'income_<17,500, >=15,000': -0.4055996431013611,\n",
       " 'income_<20,000, >=17,500': -0.06204878488557277,\n",
       " 'income_<22,500, >=20,000': 0.2070935970498347,\n",
       " 'income_<25,000, >=22,500': 0.05335066483816848,\n",
       " 'income_<27,500, >=25,000': -0.27026905480948826,\n",
       " 'income_<30,000, >=27,500': 0.08617850920375154,\n",
       " 'income_>=35,000': -0.31014241365447004,\n",
       " 'income_Unknown': -1.0437143891683198,\n",
       " 'self_employed_Yes': 0.20847094319634174,\n",
       " 'self_employed_partner_Yes': 0.14630691006456745,\n",
       " 'gender_Male': 0.13424829567610672,\n",
       " 'gender_Unknown': 1.7197691800017165,\n",
       " 'region_East Anglia': 1.4687156869137534,\n",
       " 'region_East Midlands': 1.2755560224779934,\n",
       " 'region_Isle of Man': -9.506781563533126,\n",
       " 'region_North': 0.9335904285751974,\n",
       " 'region_North West': 1.221571239880431,\n",
       " 'region_Northern Ireland': 1.27295357000592,\n",
       " 'region_Scotland': 1.2639279986051248,\n",
       " 'region_South East': 1.0527398783851225,\n",
       " 'region_South West': 1.316102176553481,\n",
       " 'region_Unknown': 1.5321251937858529,\n",
       " 'region_Wales': 1.0010406852714222,\n",
       " 'region_West Midlands': 1.3156327503203864}"
      ]
     },
     "execution_count": 63,
     "metadata": {},
     "output_type": "execute_result"
    }
   ],
   "source": [
    "dict(zip(list(features_df.columns), list(LR_model.coef_[0])))"
   ]
  },
  {
   "cell_type": "code",
   "execution_count": 64,
   "metadata": {
    "colab": {
     "base_uri": "https://localhost:8080/",
     "height": 424
    },
    "id": "fuLfZuUthEwf",
    "outputId": "67fd6118-6d24-4d2e-d4b9-37d97a08ac79"
   },
   "outputs": [
    {
     "data": {
      "text/html": [
       "<div>\n",
       "<style scoped>\n",
       "    .dataframe tbody tr th:only-of-type {\n",
       "        vertical-align: middle;\n",
       "    }\n",
       "\n",
       "    .dataframe tbody tr th {\n",
       "        vertical-align: top;\n",
       "    }\n",
       "\n",
       "    .dataframe thead th {\n",
       "        text-align: right;\n",
       "    }\n",
       "</style>\n",
       "<table border=\"1\" class=\"dataframe\">\n",
       "  <thead>\n",
       "    <tr style=\"text-align: right;\">\n",
       "      <th></th>\n",
       "      <th>0</th>\n",
       "      <th>1</th>\n",
       "    </tr>\n",
       "  </thead>\n",
       "  <tbody>\n",
       "    <tr>\n",
       "      <th>0</th>\n",
       "      <td>0.872345</td>\n",
       "      <td>0.127655</td>\n",
       "    </tr>\n",
       "    <tr>\n",
       "      <th>1</th>\n",
       "      <td>0.989517</td>\n",
       "      <td>0.010483</td>\n",
       "    </tr>\n",
       "    <tr>\n",
       "      <th>2</th>\n",
       "      <td>0.202124</td>\n",
       "      <td>0.797876</td>\n",
       "    </tr>\n",
       "    <tr>\n",
       "      <th>3</th>\n",
       "      <td>0.984387</td>\n",
       "      <td>0.015613</td>\n",
       "    </tr>\n",
       "    <tr>\n",
       "      <th>4</th>\n",
       "      <td>0.997516</td>\n",
       "      <td>0.002484</td>\n",
       "    </tr>\n",
       "    <tr>\n",
       "      <th>...</th>\n",
       "      <td>...</td>\n",
       "      <td>...</td>\n",
       "    </tr>\n",
       "    <tr>\n",
       "      <th>8119</th>\n",
       "      <td>0.939172</td>\n",
       "      <td>0.060828</td>\n",
       "    </tr>\n",
       "    <tr>\n",
       "      <th>8120</th>\n",
       "      <td>0.999994</td>\n",
       "      <td>0.000006</td>\n",
       "    </tr>\n",
       "    <tr>\n",
       "      <th>8121</th>\n",
       "      <td>0.996706</td>\n",
       "      <td>0.003294</td>\n",
       "    </tr>\n",
       "    <tr>\n",
       "      <th>8122</th>\n",
       "      <td>0.992042</td>\n",
       "      <td>0.007958</td>\n",
       "    </tr>\n",
       "    <tr>\n",
       "      <th>8123</th>\n",
       "      <td>0.996890</td>\n",
       "      <td>0.003110</td>\n",
       "    </tr>\n",
       "  </tbody>\n",
       "</table>\n",
       "<p>8124 rows × 2 columns</p>\n",
       "</div>"
      ],
      "text/plain": [
       "             0         1\n",
       "0     0.872345  0.127655\n",
       "1     0.989517  0.010483\n",
       "2     0.202124  0.797876\n",
       "3     0.984387  0.015613\n",
       "4     0.997516  0.002484\n",
       "...        ...       ...\n",
       "8119  0.939172  0.060828\n",
       "8120  0.999994  0.000006\n",
       "8121  0.996706  0.003294\n",
       "8122  0.992042  0.007958\n",
       "8123  0.996890  0.003110\n",
       "\n",
       "[8124 rows x 2 columns]"
      ]
     },
     "execution_count": 64,
     "metadata": {},
     "output_type": "execute_result"
    }
   ],
   "source": [
    "pd.DataFrame(LR_model.predict_proba(features_train)) #### Predict on the examples in the training set"
   ]
  },
  {
   "cell_type": "code",
   "execution_count": 65,
   "metadata": {
    "id": "9Mi73YW--Pzu"
   },
   "outputs": [],
   "source": [
    "prediction_train = pd.DataFrame(LR_model.predict_proba(features_train)) #### give me the predicted probabilities on features_train"
   ]
  },
  {
   "cell_type": "code",
   "execution_count": 66,
   "metadata": {
    "colab": {
     "base_uri": "https://localhost:8080/",
     "height": 424
    },
    "id": "Vi8Sw8Ss8rP0",
    "outputId": "1d477461-3d43-4348-e07f-1e4626d07ace"
   },
   "outputs": [
    {
     "data": {
      "text/html": [
       "<div>\n",
       "<style scoped>\n",
       "    .dataframe tbody tr th:only-of-type {\n",
       "        vertical-align: middle;\n",
       "    }\n",
       "\n",
       "    .dataframe tbody tr th {\n",
       "        vertical-align: top;\n",
       "    }\n",
       "\n",
       "    .dataframe thead th {\n",
       "        text-align: right;\n",
       "    }\n",
       "</style>\n",
       "<table border=\"1\" class=\"dataframe\">\n",
       "  <thead>\n",
       "    <tr style=\"text-align: right;\">\n",
       "      <th></th>\n",
       "      <th>0</th>\n",
       "      <th>1</th>\n",
       "    </tr>\n",
       "  </thead>\n",
       "  <tbody>\n",
       "    <tr>\n",
       "      <th>0</th>\n",
       "      <td>0.872345</td>\n",
       "      <td>0.127655</td>\n",
       "    </tr>\n",
       "    <tr>\n",
       "      <th>1</th>\n",
       "      <td>0.989517</td>\n",
       "      <td>0.010483</td>\n",
       "    </tr>\n",
       "    <tr>\n",
       "      <th>2</th>\n",
       "      <td>0.202124</td>\n",
       "      <td>0.797876</td>\n",
       "    </tr>\n",
       "    <tr>\n",
       "      <th>3</th>\n",
       "      <td>0.984387</td>\n",
       "      <td>0.015613</td>\n",
       "    </tr>\n",
       "    <tr>\n",
       "      <th>4</th>\n",
       "      <td>0.997516</td>\n",
       "      <td>0.002484</td>\n",
       "    </tr>\n",
       "    <tr>\n",
       "      <th>...</th>\n",
       "      <td>...</td>\n",
       "      <td>...</td>\n",
       "    </tr>\n",
       "    <tr>\n",
       "      <th>8119</th>\n",
       "      <td>0.939172</td>\n",
       "      <td>0.060828</td>\n",
       "    </tr>\n",
       "    <tr>\n",
       "      <th>8120</th>\n",
       "      <td>0.999994</td>\n",
       "      <td>0.000006</td>\n",
       "    </tr>\n",
       "    <tr>\n",
       "      <th>8121</th>\n",
       "      <td>0.996706</td>\n",
       "      <td>0.003294</td>\n",
       "    </tr>\n",
       "    <tr>\n",
       "      <th>8122</th>\n",
       "      <td>0.992042</td>\n",
       "      <td>0.007958</td>\n",
       "    </tr>\n",
       "    <tr>\n",
       "      <th>8123</th>\n",
       "      <td>0.996890</td>\n",
       "      <td>0.003110</td>\n",
       "    </tr>\n",
       "  </tbody>\n",
       "</table>\n",
       "<p>8124 rows × 2 columns</p>\n",
       "</div>"
      ],
      "text/plain": [
       "             0         1\n",
       "0     0.872345  0.127655\n",
       "1     0.989517  0.010483\n",
       "2     0.202124  0.797876\n",
       "3     0.984387  0.015613\n",
       "4     0.997516  0.002484\n",
       "...        ...       ...\n",
       "8119  0.939172  0.060828\n",
       "8120  0.999994  0.000006\n",
       "8121  0.996706  0.003294\n",
       "8122  0.992042  0.007958\n",
       "8123  0.996890  0.003110\n",
       "\n",
       "[8124 rows x 2 columns]"
      ]
     },
     "execution_count": 66,
     "metadata": {},
     "output_type": "execute_result"
    }
   ],
   "source": [
    "prediction_train"
   ]
  },
  {
   "cell_type": "code",
   "execution_count": 67,
   "metadata": {
    "id": "jj6DrfRhsxjS"
   },
   "outputs": [],
   "source": [
    "###### Apply a threshold of 0.6 ######\n",
    "\n",
    "prediction_train['predicted_classes_0.6'] = 0\n",
    "\n",
    "prediction_train.loc[prediction_train[1]>=0.6, 'predicted_classes_0.6'] = 1"
   ]
  },
  {
   "cell_type": "code",
   "execution_count": 68,
   "metadata": {
    "colab": {
     "base_uri": "https://localhost:8080/",
     "height": 424
    },
    "id": "wuBusdBI-U_H",
    "outputId": "39c12e5b-9201-41fb-c251-0b813a93c2f2"
   },
   "outputs": [
    {
     "data": {
      "text/html": [
       "<div>\n",
       "<style scoped>\n",
       "    .dataframe tbody tr th:only-of-type {\n",
       "        vertical-align: middle;\n",
       "    }\n",
       "\n",
       "    .dataframe tbody tr th {\n",
       "        vertical-align: top;\n",
       "    }\n",
       "\n",
       "    .dataframe thead th {\n",
       "        text-align: right;\n",
       "    }\n",
       "</style>\n",
       "<table border=\"1\" class=\"dataframe\">\n",
       "  <thead>\n",
       "    <tr style=\"text-align: right;\">\n",
       "      <th></th>\n",
       "      <th>0</th>\n",
       "      <th>1</th>\n",
       "      <th>predicted_classes_0.6</th>\n",
       "    </tr>\n",
       "  </thead>\n",
       "  <tbody>\n",
       "    <tr>\n",
       "      <th>0</th>\n",
       "      <td>0.872345</td>\n",
       "      <td>0.127655</td>\n",
       "      <td>0</td>\n",
       "    </tr>\n",
       "    <tr>\n",
       "      <th>1</th>\n",
       "      <td>0.989517</td>\n",
       "      <td>0.010483</td>\n",
       "      <td>0</td>\n",
       "    </tr>\n",
       "    <tr>\n",
       "      <th>2</th>\n",
       "      <td>0.202124</td>\n",
       "      <td>0.797876</td>\n",
       "      <td>1</td>\n",
       "    </tr>\n",
       "    <tr>\n",
       "      <th>3</th>\n",
       "      <td>0.984387</td>\n",
       "      <td>0.015613</td>\n",
       "      <td>0</td>\n",
       "    </tr>\n",
       "    <tr>\n",
       "      <th>4</th>\n",
       "      <td>0.997516</td>\n",
       "      <td>0.002484</td>\n",
       "      <td>0</td>\n",
       "    </tr>\n",
       "    <tr>\n",
       "      <th>...</th>\n",
       "      <td>...</td>\n",
       "      <td>...</td>\n",
       "      <td>...</td>\n",
       "    </tr>\n",
       "    <tr>\n",
       "      <th>8119</th>\n",
       "      <td>0.939172</td>\n",
       "      <td>0.060828</td>\n",
       "      <td>0</td>\n",
       "    </tr>\n",
       "    <tr>\n",
       "      <th>8120</th>\n",
       "      <td>0.999994</td>\n",
       "      <td>0.000006</td>\n",
       "      <td>0</td>\n",
       "    </tr>\n",
       "    <tr>\n",
       "      <th>8121</th>\n",
       "      <td>0.996706</td>\n",
       "      <td>0.003294</td>\n",
       "      <td>0</td>\n",
       "    </tr>\n",
       "    <tr>\n",
       "      <th>8122</th>\n",
       "      <td>0.992042</td>\n",
       "      <td>0.007958</td>\n",
       "      <td>0</td>\n",
       "    </tr>\n",
       "    <tr>\n",
       "      <th>8123</th>\n",
       "      <td>0.996890</td>\n",
       "      <td>0.003110</td>\n",
       "      <td>0</td>\n",
       "    </tr>\n",
       "  </tbody>\n",
       "</table>\n",
       "<p>8124 rows × 3 columns</p>\n",
       "</div>"
      ],
      "text/plain": [
       "             0         1  predicted_classes_0.6\n",
       "0     0.872345  0.127655                      0\n",
       "1     0.989517  0.010483                      0\n",
       "2     0.202124  0.797876                      1\n",
       "3     0.984387  0.015613                      0\n",
       "4     0.997516  0.002484                      0\n",
       "...        ...       ...                    ...\n",
       "8119  0.939172  0.060828                      0\n",
       "8120  0.999994  0.000006                      0\n",
       "8121  0.996706  0.003294                      0\n",
       "8122  0.992042  0.007958                      0\n",
       "8123  0.996890  0.003110                      0\n",
       "\n",
       "[8124 rows x 3 columns]"
      ]
     },
     "execution_count": 68,
     "metadata": {},
     "output_type": "execute_result"
    }
   ],
   "source": [
    "prediction_train"
   ]
  },
  {
   "cell_type": "code",
   "execution_count": 69,
   "metadata": {
    "id": "c8uGFGgLuqVL"
   },
   "outputs": [],
   "source": [
    "predictions = LR_model.predict(features_train) ### applies a threshold of 0.5"
   ]
  },
  {
   "cell_type": "code",
   "execution_count": 70,
   "metadata": {
    "id": "VUFTxya9qy6z"
   },
   "outputs": [],
   "source": [
    "compare = pd.DataFrame({'Actuals' : target_train, 'predictions': predictions})"
   ]
  },
  {
   "cell_type": "code",
   "execution_count": 71,
   "metadata": {
    "colab": {
     "base_uri": "https://localhost:8080/",
     "height": 424
    },
    "id": "I8QWOdLgitb6",
    "outputId": "9efa26ec-6b6d-4c2c-aa01-64ff55459ec5"
   },
   "outputs": [
    {
     "data": {
      "text/html": [
       "<div>\n",
       "<style scoped>\n",
       "    .dataframe tbody tr th:only-of-type {\n",
       "        vertical-align: middle;\n",
       "    }\n",
       "\n",
       "    .dataframe tbody tr th {\n",
       "        vertical-align: top;\n",
       "    }\n",
       "\n",
       "    .dataframe thead th {\n",
       "        text-align: right;\n",
       "    }\n",
       "</style>\n",
       "<table border=\"1\" class=\"dataframe\">\n",
       "  <thead>\n",
       "    <tr style=\"text-align: right;\">\n",
       "      <th></th>\n",
       "      <th>Actuals</th>\n",
       "      <th>predictions</th>\n",
       "    </tr>\n",
       "  </thead>\n",
       "  <tbody>\n",
       "    <tr>\n",
       "      <th>0</th>\n",
       "      <td>1</td>\n",
       "      <td>0</td>\n",
       "    </tr>\n",
       "    <tr>\n",
       "      <th>1</th>\n",
       "      <td>0</td>\n",
       "      <td>0</td>\n",
       "    </tr>\n",
       "    <tr>\n",
       "      <th>2</th>\n",
       "      <td>1</td>\n",
       "      <td>1</td>\n",
       "    </tr>\n",
       "    <tr>\n",
       "      <th>3</th>\n",
       "      <td>0</td>\n",
       "      <td>0</td>\n",
       "    </tr>\n",
       "    <tr>\n",
       "      <th>4</th>\n",
       "      <td>0</td>\n",
       "      <td>0</td>\n",
       "    </tr>\n",
       "    <tr>\n",
       "      <th>...</th>\n",
       "      <td>...</td>\n",
       "      <td>...</td>\n",
       "    </tr>\n",
       "    <tr>\n",
       "      <th>8119</th>\n",
       "      <td>0</td>\n",
       "      <td>0</td>\n",
       "    </tr>\n",
       "    <tr>\n",
       "      <th>8120</th>\n",
       "      <td>0</td>\n",
       "      <td>0</td>\n",
       "    </tr>\n",
       "    <tr>\n",
       "      <th>8121</th>\n",
       "      <td>0</td>\n",
       "      <td>0</td>\n",
       "    </tr>\n",
       "    <tr>\n",
       "      <th>8122</th>\n",
       "      <td>0</td>\n",
       "      <td>0</td>\n",
       "    </tr>\n",
       "    <tr>\n",
       "      <th>8123</th>\n",
       "      <td>0</td>\n",
       "      <td>0</td>\n",
       "    </tr>\n",
       "  </tbody>\n",
       "</table>\n",
       "<p>8124 rows × 2 columns</p>\n",
       "</div>"
      ],
      "text/plain": [
       "      Actuals  predictions\n",
       "0           1            0\n",
       "1           0            0\n",
       "2           1            1\n",
       "3           0            0\n",
       "4           0            0\n",
       "...       ...          ...\n",
       "8119        0            0\n",
       "8120        0            0\n",
       "8121        0            0\n",
       "8122        0            0\n",
       "8123        0            0\n",
       "\n",
       "[8124 rows x 2 columns]"
      ]
     },
     "execution_count": 71,
     "metadata": {},
     "output_type": "execute_result"
    }
   ],
   "source": [
    "compare"
   ]
  },
  {
   "cell_type": "code",
   "execution_count": 109,
   "metadata": {
    "colab": {
     "base_uri": "https://localhost:8080/",
     "height": 352
    },
    "id": "0vcmOxw2tfLn",
    "outputId": "72d44c10-7210-4db5-97fb-38ceaaee568f"
   },
   "outputs": [
    {
     "name": "stderr",
     "output_type": "stream",
     "text": [
      "C:\\Users\\ADMIN\\anaconda3\\lib\\site-packages\\sklearn\\utils\\deprecation.py:87: FutureWarning: Function plot_roc_curve is deprecated; Function :func:`plot_roc_curve` is deprecated in 1.0 and will be removed in 1.2. Use one of the class methods: :meth:`sklearn.metric.RocCurveDisplay.from_predictions` or :meth:`sklearn.metric.RocCurveDisplay.from_estimator`.\n",
      "  warnings.warn(msg, category=FutureWarning)\n"
     ]
    },
    {
     "data": {
      "text/plain": [
       "<sklearn.metrics._plot.roc_curve.RocCurveDisplay at 0x2b3609969a0>"
      ]
     },
     "execution_count": 109,
     "metadata": {},
     "output_type": "execute_result"
    },
    {
     "data": {
      "image/png": "[encoded data removed]",
      "text/plain": [
       "<Figure size 432x288 with 1 Axes>"
      ]
     },
     "metadata": {
      "needs_background": "light"
     },
     "output_type": "display_data"
    }
   ],
   "source": [
    "#### Plotting the roc curve for the model fit ####\n",
    "\n",
    "plot_roc_curve(LR_model,X =features_train, y= target_train)"
   ]
  },
  {
   "cell_type": "code",
   "execution_count": 74,
   "metadata": {
    "colab": {
     "base_uri": "https://localhost:8080/"
    },
    "id": "vR4JOHlOs-bl",
    "outputId": "11fadec6-bd1b-4013-d020-a4fdd5312eff"
   },
   "outputs": [
    {
     "data": {
      "text/plain": [
       "0    7255\n",
       "1     869\n",
       "Name: Revenue Grid, dtype: int64"
      ]
     },
     "execution_count": 74,
     "metadata": {},
     "output_type": "execute_result"
    }
   ],
   "source": [
    "target_train.value_counts()"
   ]
  },
  {
   "cell_type": "code",
   "execution_count": 75,
   "metadata": {
    "colab": {
     "base_uri": "https://localhost:8080/"
    },
    "id": "v8wlitG7tfLo",
    "outputId": "83a822fe-bdc9-431f-e9d1-4189fe0b8e1e"
   },
   "outputs": [
    {
     "name": "stdout",
     "output_type": "stream",
     "text": [
      "[[7172   83]\n",
      " [ 350  519]]\n",
      "The F1-SCORE on the train set prediction  0.7056424201223658\n"
     ]
    }
   ],
   "source": [
    "### Getting confusion matrix, F-score on the train data #####\n",
    "\n",
    "print(confusion_matrix(y_true = target_train, y_pred = LR_model.predict(features_train))) \n",
    "### confusion matrix for pred on train set\n",
    "\n",
    "print ('The F1-SCORE on the train set prediction ',f1_score(y_true=target_train, y_pred = LR_model.predict(features_train)))"
   ]
  },
  {
   "cell_type": "code",
   "execution_count": 76,
   "metadata": {
    "colab": {
     "base_uri": "https://localhost:8080/"
    },
    "id": "OO1yNKwCtfLo",
    "outputId": "0dc2d331-4234-4971-cd5d-8b3d8a319118"
   },
   "outputs": [
    {
     "name": "stdout",
     "output_type": "stream",
     "text": [
      "[[1783   31]\n",
      " [  78  139]]\n",
      "The F1-SCORE on the test set prediction  0.7183462532299741\n"
     ]
    }
   ],
   "source": [
    "##### Lets evaluate the performace on the test set #####\n",
    "#print(Y_val.value_counts())\n",
    "\n",
    "#plot_roc_curve(LR_model,X =features_val, y= target_val)\n",
    "\n",
    "predicted_val = LR_model.predict(features_val)\n",
    "\n",
    "print (confusion_matrix(y_true = target_val, y_pred = predicted_val))\n",
    "\n",
    "print ('The F1-SCORE on the test set prediction ',f1_score(y_true=target_val,y_pred = predicted_val))"
   ]
  },
  {
   "cell_type": "code",
   "execution_count": 77,
   "metadata": {
    "id": "maZDSJO_uA9V"
   },
   "outputs": [],
   "source": [
    "###### Save a model ######\n",
    "with open('NamsLR.pickle','wb') as f:\n",
    "  pickle.dump(LR_model,f)"
   ]
  },
  {
   "cell_type": "code",
   "execution_count": 78,
   "metadata": {
    "id": "6P0O5uQruPL2"
   },
   "outputs": [],
   "source": [
    "####### Load a model back #####\n",
    "with open('NamsLR.pickle','rb') as f:\n",
    "  model = pickle.load(f)"
   ]
  },
  {
   "cell_type": "code",
   "execution_count": 79,
   "metadata": {
    "colab": {
     "base_uri": "https://localhost:8080/"
    },
    "id": "PQarbAcIB7PH",
    "outputId": "f229d309-9020-4afc-97e2-de82845876bd"
   },
   "outputs": [
    {
     "data": {
      "text/plain": [
       "DecisionTreeClassifier(class_weight={0: 0.45, 1: 0.55}, max_depth=6,\n",
       "                       min_samples_split=25)"
      ]
     },
     "execution_count": 79,
     "metadata": {},
     "output_type": "execute_result"
    }
   ],
   "source": [
    "##### fitting a decision tree #####\n",
    "\n",
    "\n",
    "clf = DecisionTreeClassifier(class_weight = {0:0.45, 1:0.55},\n",
    "                             max_depth = 6, \n",
    "                             criterion = 'gini',\n",
    "                             min_samples_split=25)\n",
    "\n",
    "clf.fit(features_train,target_train)"
   ]
  },
  {
   "cell_type": "code",
   "execution_count": 80,
   "metadata": {
    "colab": {
     "base_uri": "https://localhost:8080/"
    },
    "id": "hH5plhDbNGYC",
    "outputId": "f3b0a80b-09cf-4886-d452-4d63a8023ca2"
   },
   "outputs": [
    {
     "data": {
      "text/plain": [
       "array([0, 0, 1, ..., 0, 0, 0], dtype=int64)"
      ]
     },
     "execution_count": 80,
     "metadata": {},
     "output_type": "execute_result"
    }
   ],
   "source": [
    "clf.predict(features_train) ### .predict method helps you to predict"
   ]
  },
  {
   "cell_type": "code",
   "execution_count": 81,
   "metadata": {
    "colab": {
     "base_uri": "https://localhost:8080/"
    },
    "id": "O-WxYKMyyNNP",
    "outputId": "de906720-e23d-4f0e-c0b6-1d83626e205c"
   },
   "outputs": [
    {
     "data": {
      "text/plain": [
       "Index(['Average Credit Card Transaction', 'Balance Transfer', 'Term Deposit',\n",
       "       'Life Insurance', 'Medical Insurance', 'Average A/C Balance',\n",
       "       'Personal Loan', 'Investment in Mutual Fund',\n",
       "       'Investment Tax Saving Bond', 'Home Loan', 'Online Purchase Amount',\n",
       "       'Investment in Commudity', 'Investment in Equity',\n",
       "       'Investment in Derivative', 'Portfolio Balance', 'chidren_1',\n",
       "       'chidren_2', 'chidren_3', 'chidren_4+', 'chidren_Zero',\n",
       "       'age_band_18-21', 'age_band_22-25', 'age_band_26-30', 'age_band_31-35',\n",
       "       'age_band_36-40', 'age_band_41-45', 'age_band_45-50', 'age_band_51-55',\n",
       "       'age_band_55-60', 'age_band_61-65', 'age_band_65-70', 'age_band_71+',\n",
       "       'age_band_Unknown', 'status_Divorced/Separated', 'status_Partner',\n",
       "       'status_Single/Never Married', 'status_Unknown', 'status_Widowed',\n",
       "       'occupation_Housewife', 'occupation_Manual Worker', 'occupation_Other',\n",
       "       'occupation_Professional', 'occupation_Retired',\n",
       "       'occupation_Secretarial/Admin', 'occupation_Student',\n",
       "       'occupation_Unknown', 'occupation_partner_Housewife',\n",
       "       'occupation_partner_Manual Worker', 'occupation_partner_Other',\n",
       "       'occupation_partner_Professional', 'occupation_partner_Retired',\n",
       "       'occupation_partner_Secretarial/Admin', 'occupation_partner_Student',\n",
       "       'occupation_partner_Unknown', 'home_status_Live in Parental Hom',\n",
       "       'home_status_Own Home', 'home_status_Rent Privately',\n",
       "       'home_status_Rent from Council/HA', 'home_status_Unclassified',\n",
       "       'income_< 4,000', 'income_< 8,000, >= 4,000',\n",
       "       'income_<10,000, >= 8,000', 'income_<12,500, >=10,000',\n",
       "       'income_<15,000, >=12,500', 'income_<17,500, >=15,000',\n",
       "       'income_<20,000, >=17,500', 'income_<22,500, >=20,000',\n",
       "       'income_<25,000, >=22,500', 'income_<27,500, >=25,000',\n",
       "       'income_<30,000, >=27,500', 'income_>=35,000', 'income_Unknown',\n",
       "       'self_employed_Yes', 'self_employed_partner_Yes', 'gender_Male',\n",
       "       'gender_Unknown', 'region_East Anglia', 'region_East Midlands',\n",
       "       'region_Isle of Man', 'region_North', 'region_North West',\n",
       "       'region_Northern Ireland', 'region_Scotland', 'region_South East',\n",
       "       'region_South West', 'region_Unknown', 'region_Wales',\n",
       "       'region_West Midlands'],\n",
       "      dtype='object')"
      ]
     },
     "execution_count": 81,
     "metadata": {},
     "output_type": "execute_result"
    }
   ],
   "source": [
    "features_train.columns"
   ]
  },
  {
   "cell_type": "code",
   "execution_count": 82,
   "metadata": {
    "colab": {
     "base_uri": "https://localhost:8080/"
    },
    "id": "i-rBR5ljB30u",
    "outputId": "3fe42426-079e-470b-dbd1-fa019fadf0be"
   },
   "outputs": [
    {
     "data": {
      "text/plain": [
       "array([0, 0, 0, ..., 0, 0, 0], dtype=int64)"
      ]
     },
     "execution_count": 82,
     "metadata": {},
     "output_type": "execute_result"
    }
   ],
   "source": [
    "clf.predict(features_val)"
   ]
  },
  {
   "cell_type": "code",
   "execution_count": 83,
   "metadata": {
    "colab": {
     "base_uri": "https://localhost:8080/"
    },
    "id": "60xGvRs-PbIL",
    "outputId": "f04dd358-ab41-43cf-d7ec-720da3a193e0"
   },
   "outputs": [
    {
     "data": {
      "text/plain": [
       "{'Average Credit Card Transaction': 0.11143015993480801,\n",
       " 'Balance Transfer': 0.0,\n",
       " 'Term Deposit': 0.06651062435570163,\n",
       " 'Life Insurance': 0.07577077707961452,\n",
       " 'Medical Insurance': 0.010300086252838793,\n",
       " 'Average A/C Balance': 0.005588671406739026,\n",
       " 'Personal Loan': 0.05089157240400086,\n",
       " 'Investment in Mutual Fund': 0.006109922956560151,\n",
       " 'Investment Tax Saving Bond': 0.10630533330949231,\n",
       " 'Home Loan': 0.010167845258025533,\n",
       " 'Online Purchase Amount': 0.48722473426974483,\n",
       " 'Investment in Commudity': 0.007211058457810284,\n",
       " 'Investment in Equity': 0.05507351732284421,\n",
       " 'Investment in Derivative': 0.004356329385757154,\n",
       " 'Portfolio Balance': 0.0,\n",
       " 'chidren_1': 0.0,\n",
       " 'chidren_2': 0.0,\n",
       " 'chidren_3': 0.0,\n",
       " 'chidren_4+': 0.0,\n",
       " 'chidren_Zero': 0.0,\n",
       " 'age_band_18-21': 0.0,\n",
       " 'age_band_22-25': 0.0,\n",
       " 'age_band_26-30': 0.0,\n",
       " 'age_band_31-35': 0.0,\n",
       " 'age_band_36-40': 0.0,\n",
       " 'age_band_41-45': 0.0,\n",
       " 'age_band_45-50': 0.0,\n",
       " 'age_band_51-55': 0.0,\n",
       " 'age_band_55-60': 0.0,\n",
       " 'age_band_61-65': 0.0,\n",
       " 'age_band_65-70': 0.0,\n",
       " 'age_band_71+': 0.0,\n",
       " 'age_band_Unknown': 0.0,\n",
       " 'status_Divorced/Separated': 0.0,\n",
       " 'status_Partner': 0.0,\n",
       " 'status_Single/Never Married': 0.0,\n",
       " 'status_Unknown': 0.0,\n",
       " 'status_Widowed': 0.0,\n",
       " 'occupation_Housewife': 0.0,\n",
       " 'occupation_Manual Worker': 0.0,\n",
       " 'occupation_Other': 0.0,\n",
       " 'occupation_Professional': 0.0,\n",
       " 'occupation_Retired': 0.0,\n",
       " 'occupation_Secretarial/Admin': 0.0,\n",
       " 'occupation_Student': 0.0,\n",
       " 'occupation_Unknown': 0.0,\n",
       " 'occupation_partner_Housewife': 0.0,\n",
       " 'occupation_partner_Manual Worker': 0.0,\n",
       " 'occupation_partner_Other': 0.0,\n",
       " 'occupation_partner_Professional': 0.0,\n",
       " 'occupation_partner_Retired': 0.0,\n",
       " 'occupation_partner_Secretarial/Admin': 0.0,\n",
       " 'occupation_partner_Student': 0.0,\n",
       " 'occupation_partner_Unknown': 0.0,\n",
       " 'home_status_Live in Parental Hom': 0.0,\n",
       " 'home_status_Own Home': 0.0,\n",
       " 'home_status_Rent Privately': 0.0030593676060625893,\n",
       " 'home_status_Rent from Council/HA': 0.0,\n",
       " 'home_status_Unclassified': 0.0,\n",
       " 'income_< 4,000': 0.0,\n",
       " 'income_< 8,000, >= 4,000': 0.0,\n",
       " 'income_<10,000, >= 8,000': 0.0,\n",
       " 'income_<12,500, >=10,000': 0.0,\n",
       " 'income_<15,000, >=12,500': 0.0,\n",
       " 'income_<17,500, >=15,000': 0.0,\n",
       " 'income_<20,000, >=17,500': 0.0,\n",
       " 'income_<22,500, >=20,000': 0.0,\n",
       " 'income_<25,000, >=22,500': 0.0,\n",
       " 'income_<27,500, >=25,000': 0.0,\n",
       " 'income_<30,000, >=27,500': 0.0,\n",
       " 'income_>=35,000': 0.0,\n",
       " 'income_Unknown': 0.0,\n",
       " 'self_employed_Yes': 0.0,\n",
       " 'self_employed_partner_Yes': 0.0,\n",
       " 'gender_Male': 0.0,\n",
       " 'gender_Unknown': 0.0,\n",
       " 'region_East Anglia': 0.0,\n",
       " 'region_East Midlands': 0.0,\n",
       " 'region_Isle of Man': 0.0,\n",
       " 'region_North': 0.0,\n",
       " 'region_North West': 0.0,\n",
       " 'region_Northern Ireland': 0.0,\n",
       " 'region_Scotland': 0.0,\n",
       " 'region_South East': 0.0,\n",
       " 'region_South West': 0.0,\n",
       " 'region_Unknown': 0.0,\n",
       " 'region_Wales': 0.0,\n",
       " 'region_West Midlands': 0.0}"
      ]
     },
     "execution_count": 83,
     "metadata": {},
     "output_type": "execute_result"
    }
   ],
   "source": [
    "clf.classes_ ### give us the classes that were present on the training set and that were used by the model to train on\n",
    "\n",
    "dict(zip(list(features_train.columns),list(clf.feature_importances_)))"
   ]
  },
  {
   "cell_type": "code",
   "execution_count": 84,
   "metadata": {
    "colab": {
     "base_uri": "https://localhost:8080/"
    },
    "id": "nZ2NqFRais9t",
    "outputId": "9e734aad-5e0d-470e-cce1-36697c23bb84"
   },
   "outputs": [
    {
     "data": {
      "text/plain": [
       "Index(['Average Credit Card Transaction', 'Balance Transfer', 'Term Deposit',\n",
       "       'Life Insurance', 'Medical Insurance', 'Average A/C Balance',\n",
       "       'Personal Loan', 'Investment in Mutual Fund',\n",
       "       'Investment Tax Saving Bond', 'Home Loan', 'Online Purchase Amount',\n",
       "       'Investment in Commudity', 'Investment in Equity',\n",
       "       'Investment in Derivative', 'Portfolio Balance', 'chidren_1',\n",
       "       'chidren_2', 'chidren_3', 'chidren_4+', 'chidren_Zero',\n",
       "       'age_band_18-21', 'age_band_22-25', 'age_band_26-30', 'age_band_31-35',\n",
       "       'age_band_36-40', 'age_band_41-45', 'age_band_45-50', 'age_band_51-55',\n",
       "       'age_band_55-60', 'age_band_61-65', 'age_band_65-70', 'age_band_71+',\n",
       "       'age_band_Unknown', 'status_Divorced/Separated', 'status_Partner',\n",
       "       'status_Single/Never Married', 'status_Unknown', 'status_Widowed',\n",
       "       'occupation_Housewife', 'occupation_Manual Worker', 'occupation_Other',\n",
       "       'occupation_Professional', 'occupation_Retired',\n",
       "       'occupation_Secretarial/Admin', 'occupation_Student',\n",
       "       'occupation_Unknown', 'occupation_partner_Housewife',\n",
       "       'occupation_partner_Manual Worker', 'occupation_partner_Other',\n",
       "       'occupation_partner_Professional', 'occupation_partner_Retired',\n",
       "       'occupation_partner_Secretarial/Admin', 'occupation_partner_Student',\n",
       "       'occupation_partner_Unknown', 'home_status_Live in Parental Hom',\n",
       "       'home_status_Own Home', 'home_status_Rent Privately',\n",
       "       'home_status_Rent from Council/HA', 'home_status_Unclassified',\n",
       "       'income_< 4,000', 'income_< 8,000, >= 4,000',\n",
       "       'income_<10,000, >= 8,000', 'income_<12,500, >=10,000',\n",
       "       'income_<15,000, >=12,500', 'income_<17,500, >=15,000',\n",
       "       'income_<20,000, >=17,500', 'income_<22,500, >=20,000',\n",
       "       'income_<25,000, >=22,500', 'income_<27,500, >=25,000',\n",
       "       'income_<30,000, >=27,500', 'income_>=35,000', 'income_Unknown',\n",
       "       'self_employed_Yes', 'self_employed_partner_Yes', 'gender_Male',\n",
       "       'gender_Unknown', 'region_East Anglia', 'region_East Midlands',\n",
       "       'region_Isle of Man', 'region_North', 'region_North West',\n",
       "       'region_Northern Ireland', 'region_Scotland', 'region_South East',\n",
       "       'region_South West', 'region_Unknown', 'region_Wales',\n",
       "       'region_West Midlands'],\n",
       "      dtype='object')"
      ]
     },
     "execution_count": 84,
     "metadata": {},
     "output_type": "execute_result"
    }
   ],
   "source": [
    "features_train.columns"
   ]
  },
  {
   "cell_type": "code",
   "execution_count": 85,
   "metadata": {
    "colab": {
     "base_uri": "https://localhost:8080/",
     "height": 1000
    },
    "id": "tz9rzuqRpzlw",
    "outputId": "70e2bc8e-905e-49c6-d3ed-ca01aecb02e4"
   },
   "outputs": [
    {
     "data": {
      "image/png": "[encoded data removed]",
      "text/plain": [
       "<Figure size 1440x1440 with 1 Axes>"
      ]
     },
     "metadata": {
      "needs_background": "light"
     },
     "output_type": "display_data"
    }
   ],
   "source": [
    "from sklearn.tree import plot_tree\n",
    "plot_rows =1\n",
    "plot_cols = 1\n",
    "\n",
    "fig, ax1 = plt.subplots(nrows = plot_rows,ncols=plot_cols,figsize = (20,20))\n",
    "\n",
    "plot_tree(clf,ax=ax1,fontsize=10)\n",
    "plt.show()"
   ]
  },
  {
   "cell_type": "code",
   "execution_count": 86,
   "metadata": {
    "colab": {
     "base_uri": "https://localhost:8080/",
     "height": 388
    },
    "id": "0mmaqIMbrLqB",
    "outputId": "4dbb1943-3a10-4b5d-dea3-e91e401ab822"
   },
   "outputs": [
    {
     "name": "stdout",
     "output_type": "stream",
     "text": [
      "[[7141  114]\n",
      " [ 170  699]]\n",
      "The F1-SCORE on the train set prediction  0.83115338882283\n"
     ]
    },
    {
     "name": "stderr",
     "output_type": "stream",
     "text": [
      "C:\\Users\\ADMIN\\anaconda3\\lib\\site-packages\\sklearn\\utils\\deprecation.py:87: FutureWarning: Function plot_roc_curve is deprecated; Function :func:`plot_roc_curve` is deprecated in 1.0 and will be removed in 1.2. Use one of the class methods: :meth:`sklearn.metric.RocCurveDisplay.from_predictions` or :meth:`sklearn.metric.RocCurveDisplay.from_estimator`.\n",
      "  warnings.warn(msg, category=FutureWarning)\n"
     ]
    },
    {
     "data": {
      "image/png": "[encoded data removed]",
      "text/plain": [
       "<Figure size 432x288 with 1 Axes>"
      ]
     },
     "metadata": {
      "needs_background": "light"
     },
     "output_type": "display_data"
    }
   ],
   "source": [
    "### Evaluating on the train and the test set ####\n",
    "\n",
    "predicted_train = clf.predict(features_train)\n",
    "\n",
    "plot_roc_curve(clf,X =features_train, y= target_train)\n",
    "\n",
    "#print ('The score for the DT model ', roc_auc_score(Y_train,predicted_train))\n",
    "\n",
    "print(confusion_matrix(y_true = target_train, y_pred = predicted_train))\n",
    "\n",
    "print ('The F1-SCORE on the train set prediction ',f1_score(y_true=target_train,y_pred = predicted_train))"
   ]
  },
  {
   "cell_type": "code",
   "execution_count": 87,
   "metadata": {
    "colab": {
     "base_uri": "https://localhost:8080/",
     "height": 388
    },
    "id": "ycG_KiDqp9Jn",
    "outputId": "8d052cbc-98b3-4166-aa0d-93ff39c47807"
   },
   "outputs": [
    {
     "name": "stdout",
     "output_type": "stream",
     "text": [
      "[[1767   47]\n",
      " [  38  179]]\n",
      "The F1-SCORE on the val set prediction  0.8081264108352144\n"
     ]
    },
    {
     "name": "stderr",
     "output_type": "stream",
     "text": [
      "C:\\Users\\ADMIN\\anaconda3\\lib\\site-packages\\sklearn\\utils\\deprecation.py:87: FutureWarning: Function plot_roc_curve is deprecated; Function :func:`plot_roc_curve` is deprecated in 1.0 and will be removed in 1.2. Use one of the class methods: :meth:`sklearn.metric.RocCurveDisplay.from_predictions` or :meth:`sklearn.metric.RocCurveDisplay.from_estimator`.\n",
      "  warnings.warn(msg, category=FutureWarning)\n"
     ]
    },
    {
     "data": {
      "image/png": "[encoded data removed]",
      "text/plain": [
       "<Figure size 432x288 with 1 Axes>"
      ]
     },
     "metadata": {
      "needs_background": "light"
     },
     "output_type": "display_data"
    }
   ],
   "source": [
    "plot_roc_curve(clf,X =features_val, y= target_val)\n",
    "\n",
    "predicted_test = clf.predict(features_val)\n",
    "\n",
    "print (confusion_matrix(y_true = target_val, y_pred = predicted_test))\n",
    "\n",
    "print ('The F1-SCORE on the val set prediction ',f1_score(y_true=target_val,y_pred = predicted_test))"
   ]
  },
  {
   "cell_type": "code",
   "execution_count": 90,
   "metadata": {
    "colab": {
     "base_uri": "https://localhost:8080/"
    },
    "id": "n3qgu8p-tfLo",
    "outputId": "4075345e-d153-4805-8c25-422e38f75173"
   },
   "outputs": [
    {
     "data": {
      "text/plain": [
       "GridSearchCV(cv=5, estimator=DecisionTreeClassifier(),\n",
       "             param_grid={'class_weight': [None, 'balanced', {0: 0.4, 1: 0.6},\n",
       "                                          {0: 0.45, 1: 0.55},\n",
       "                                          {0: 0.55, 1: 0.45},\n",
       "                                          {0: 0.6, 1: 0.4}],\n",
       "                         'criterion': ['gini'], 'max_depth': [5, 8, 10, 15, 20],\n",
       "                         'max_features': [None, 'sqrt', 0.5, 0.6, 0.7, 0.8,\n",
       "                                          0.9],\n",
       "                         'min_samples_split': [2, 5, 10, 20]},\n",
       "             return_train_score=True, scoring='f1')"
      ]
     },
     "execution_count": 90,
     "metadata": {},
     "output_type": "execute_result"
    }
   ],
   "source": [
    "##### Creating a decision tree classifier ####\n",
    "\n",
    "clf = DecisionTreeClassifier()\n",
    "#clf = LogisticRegression()  \n",
    "#clf = SVC()\n",
    "\n",
    "params={'class_weight':[None,'balanced', {0:0.4,1:0.6}, {0:0.45, 1:0.55}, {0:0.55, 1:0.45}, {0:0.6, 1:0.4}],\n",
    "        'max_depth' : [5, 8, 10, 15, 20],\n",
    "        'criterion' :['gini'],\n",
    "        'min_samples_split' : [2,5,10,20],\n",
    "        'max_features': [None, 'sqrt', 0.5, 0.6, 0.7, 0.8, 0.9]\n",
    "        } \n",
    "\n",
    "grid_search = GridSearchCV(estimator = clf, param_grid = params, cv = 5, scoring = 'f1', return_train_score=True) #### cv- 5 (5 fold cross validation)\n",
    "\n",
    "grid_search.fit(features_df, target_df)"
   ]
  },
  {
   "cell_type": "code",
   "execution_count": 91,
   "metadata": {
    "colab": {
     "base_uri": "https://localhost:8080/"
    },
    "id": "NZ6pTvAMHx0Z",
    "outputId": "7cb08bcb-3faa-4ef4-ab74-bdc383e00cbe"
   },
   "outputs": [
    {
     "data": {
      "text/plain": [
       "840"
      ]
     },
     "execution_count": 91,
     "metadata": {},
     "output_type": "execute_result"
    }
   ],
   "source": [
    "6*5*1*4*7"
   ]
  },
  {
   "cell_type": "code",
   "execution_count": 92,
   "metadata": {
    "colab": {
     "base_uri": "https://localhost:8080/"
    },
    "id": "oHmLiSfzJ9YH",
    "outputId": "7393c845-4b7b-4966-de33-5b6eff005ae1"
   },
   "outputs": [
    {
     "data": {
      "text/plain": [
       "['mean_fit_time',\n",
       " 'std_fit_time',\n",
       " 'mean_score_time',\n",
       " 'std_score_time',\n",
       " 'param_class_weight',\n",
       " 'param_criterion',\n",
       " 'param_max_depth',\n",
       " 'param_max_features',\n",
       " 'param_min_samples_split',\n",
       " 'params',\n",
       " 'split0_test_score',\n",
       " 'split1_test_score',\n",
       " 'split2_test_score',\n",
       " 'split3_test_score',\n",
       " 'split4_test_score',\n",
       " 'mean_test_score',\n",
       " 'std_test_score',\n",
       " 'rank_test_score',\n",
       " 'split0_train_score',\n",
       " 'split1_train_score',\n",
       " 'split2_train_score',\n",
       " 'split3_train_score',\n",
       " 'split4_train_score',\n",
       " 'mean_train_score',\n",
       " 'std_train_score']"
      ]
     },
     "execution_count": 92,
     "metadata": {},
     "output_type": "execute_result"
    }
   ],
   "source": [
    "list(grid_search.cv_results_.keys())"
   ]
  },
  {
   "cell_type": "code",
   "execution_count": null,
   "metadata": {
    "colab": {
     "base_uri": "https://localhost:8080/"
    },
    "id": "rZBfUfRxtz7Y",
    "outputId": "0ca78929-4d98-43ca-ee4f-88a2f5968d5b"
   },
   "outputs": [
    {
     "data": {
      "text/plain": [
       "840"
      ]
     },
     "execution_count": 90,
     "metadata": {},
     "output_type": "execute_result"
    }
   ],
   "source": [
    "len(grid_search.cv_results_['rank_test_score'])"
   ]
  },
  {
   "cell_type": "code",
   "execution_count": null,
   "metadata": {
    "colab": {
     "base_uri": "https://localhost:8080/"
    },
    "id": "dp8SmW6CuQTq",
    "outputId": "a5adcef6-ca8b-4d50-b43d-1ef6c6e39910"
   },
   "outputs": [
    {
     "data": {
      "text/plain": [
       "{'class_weight': {0: 0.45, 1: 0.55},\n",
       " 'criterion': 'gini',\n",
       " 'max_depth': 10,\n",
       " 'max_features': None,\n",
       " 'min_samples_split': 10}"
      ]
     },
     "execution_count": 96,
     "metadata": {},
     "output_type": "execute_result"
    }
   ],
   "source": [
    "grid_search.cv_results_['params'][478]"
   ]
  },
  {
   "cell_type": "code",
   "execution_count": null,
   "metadata": {
    "colab": {
     "base_uri": "https://localhost:8080/"
    },
    "id": "pZzbMWSmucaS",
    "outputId": "610a4337-7cdd-4939-df87-ae9f1e16ebb6"
   },
   "outputs": [
    {
     "data": {
      "text/plain": [
       "0.790739326563467"
      ]
     },
     "execution_count": 97,
     "metadata": {},
     "output_type": "execute_result"
    }
   ],
   "source": [
    "grid_search.cv_results_['mean_test_score'][478]"
   ]
  },
  {
   "cell_type": "code",
   "execution_count": null,
   "metadata": {
    "colab": {
     "base_uri": "https://localhost:8080/"
    },
    "id": "byIbBiN0Is7l",
    "outputId": "02bf7894-3033-4a66-cf6d-573624eee8d8"
   },
   "outputs": [
    {
     "data": {
      "text/plain": [
       "0.9343070958623014"
      ]
     },
     "execution_count": 98,
     "metadata": {},
     "output_type": "execute_result"
    }
   ],
   "source": [
    "grid_search.cv_results_['mean_train_score'][478]"
   ]
  },
  {
   "cell_type": "code",
   "execution_count": null,
   "metadata": {
    "colab": {
     "base_uri": "https://localhost:8080/"
    },
    "id": "mX-SuoiFI0-a",
    "outputId": "e9cb7d18-322f-4801-e3cb-015e66f132af"
   },
   "outputs": [
    {
     "data": {
      "text/plain": [
       "array([415, 412, 420, 411, 823, 836, 805, 837, 660, 610, 701, 692, 650,\n",
       "       621, 709, 691, 613, 638, 671, 653, 484, 631, 502, 556, 543, 620,\n",
       "       433, 617, 112,  46,  65,  66, 808, 816, 812, 794, 155, 463, 479,\n",
       "       151,  60, 170, 122, 251,  93, 111, 147, 339, 126,  45,  21,  44,\n",
       "        75,  20, 110,  81,  74, 178, 159,  59, 737, 743, 756, 777, 473,\n",
       "       212, 355, 288, 103, 275,  98, 222, 199, 395, 451, 391, 269, 436,\n",
       "       261, 185,  54,  23,  29, 274, 301, 350, 308, 157, 725, 772, 771,\n",
       "       749, 418, 521, 399, 361, 419, 336, 209, 356, 430, 443, 332, 455,\n",
       "       311, 346, 129, 202, 265,  99, 255,  84, 377, 328, 345, 136, 733,\n",
       "       744, 720, 746, 531, 522, 298, 422, 453, 509, 315, 454, 390, 516,\n",
       "       340, 241, 394, 373,  58, 191, 352, 330, 182, 216, 686, 679, 681,\n",
       "       687, 827, 833, 825, 835, 713, 717, 719, 706, 700, 715, 699, 712,\n",
       "       677, 721, 718, 689, 702, 698, 708, 694, 690, 673, 705, 696, 519,\n",
       "       524, 540, 541, 802, 824, 817, 807, 586, 655, 710, 651, 619, 656,\n",
       "       640, 623, 644, 578, 628, 642, 548, 598, 652, 616, 589, 498, 488,\n",
       "       634, 447, 469, 474, 533, 814, 809, 815, 803, 558, 630, 643, 614,\n",
       "       587, 568, 603, 608, 534, 471, 476, 605, 304, 579, 612, 549, 567,\n",
       "       258, 518, 542, 314, 327, 417, 507, 773, 798, 759, 774, 303, 142,\n",
       "       571, 635, 384, 486, 566, 606, 445, 208, 338, 565, 163, 220, 369,\n",
       "       527, 349, 214, 439, 563, 326, 342, 281, 497, 785, 784, 779, 791,\n",
       "       174, 557, 452, 572, 458, 211, 575, 487, 483, 351, 570, 622, 227,\n",
       "       312, 466, 626, 410, 481, 267, 591, 226, 257, 249, 235, 760, 832,\n",
       "       830, 804, 627, 636, 625, 661, 624, 600, 649, 550, 593, 615, 590,\n",
       "       510, 482, 437, 382, 500, 441, 496, 459, 414,  19,  25,  18,  49,\n",
       "       775, 742, 763, 799, 245, 397, 431, 229, 102, 294,  51,  56,  79,\n",
       "        63, 282,  53,  32, 173, 286,  73,  37,  34,  24, 108,  10,   6,\n",
       "        15,  38, 780, 783, 782, 767, 456, 313, 116, 359, 154,  90, 260,\n",
       "        87,  57, 175, 123, 106,  13,  31, 105, 113,  40,  35,  41,  39,\n",
       "       162, 167, 119, 181, 738, 753, 731, 766, 401, 569, 354, 371, 403,\n",
       "       491, 493, 506, 424, 396, 264, 309, 398, 187, 141,  97, 285, 238,\n",
       "        92, 243, 117, 161, 194, 180, 734, 735, 788, 729, 381, 367, 290,\n",
       "       553, 495, 520, 546, 353, 196, 333, 378, 310, 293, 380, 358, 365,\n",
       "       231, 165,  48, 244, 224, 252, 217, 204, 822, 819, 834, 821, 529,\n",
       "       632, 637, 658, 662, 609, 633, 585, 528, 434, 592, 601, 440, 559,\n",
       "       538, 446, 259, 237, 284, 329,   5,   4,   2,  12, 800, 793, 801,\n",
       "       730, 323, 432, 370, 421, 321, 442, 302, 236, 137, 186,  72, 270,\n",
       "        28,  43,  55, 134,   9,  17,  22,   3,   8,  11,   1,  16, 789,\n",
       "       787, 790, 752, 271, 278,  47, 343,  50, 171, 468, 164,  76, 363,\n",
       "        94,  96,  67,  26,  78, 253,  33,   7,  14,  27, 223,  86, 101,\n",
       "        88, 727, 761, 722, 747, 629, 406, 383, 449, 562, 268, 280, 429,\n",
       "       357, 364, 138, 494, 256, 402, 250, 254, 375, 133,  52, 150, 131,\n",
       "       148,  70,  83, 755, 736, 723, 728, 335, 607, 512, 393, 465, 426,\n",
       "       322, 460, 307, 477, 461, 203, 193, 344, 475, 207, 218, 360, 234,\n",
       "       183, 552, 555, 560, 539, 818, 838, 839, 828, 678, 657, 654, 647,\n",
       "       707, 680, 664, 676, 688, 663, 682, 646, 648, 508, 583, 580, 514,\n",
       "       604, 611, 525,  71,  30,  85,  68, 786, 813, 806, 769, 594, 501,\n",
       "       504, 272, 331, 448, 388, 262, 306, 577, 305, 107, 189, 184, 149,\n",
       "       100, 127, 128, 125, 266, 104, 118,  80, 115, 768, 796, 795, 770,\n",
       "       499, 400, 405, 201, 240, 300, 464, 279, 385, 408, 316, 299, 337,\n",
       "       172, 124, 120,  69, 168, 197,  82, 318, 215, 144, 109, 732, 757,\n",
       "       726, 776, 535, 409, 551, 532, 517, 376, 239, 545, 283, 392, 324,\n",
       "       146, 295, 379, 368, 139, 121, 470, 188, 152, 348, 242, 166, 114,\n",
       "       762, 754, 750, 748, 530, 489, 602, 554, 462, 416, 490, 205, 413,\n",
       "       450, 210, 225, 389, 347, 177, 372, 221, 297,  89, 179, 666, 667,\n",
       "       665, 668, 831, 840, 829, 826, 672, 716, 693, 714, 674, 711, 659,\n",
       "       669, 684, 697, 703, 683, 670, 695, 639, 685, 704, 675, 645, 641,\n",
       "       160, 190, 143, 192, 810, 792, 820, 778, 480, 505, 574, 581, 547,\n",
       "       588, 444, 233, 362, 576, 296, 219, 158, 153, 289, 334, 156, 292,\n",
       "       291, 200,  61,  64,  42,  77, 811, 781, 765, 797, 438, 511, 428,\n",
       "       503, 513, 263, 485, 320, 230, 145, 423, 195, 287, 232, 176, 277,\n",
       "        36,  95,  62, 169, 213, 206, 135,  91, 740, 758, 745, 751, 618,\n",
       "       582, 435, 561, 584, 596, 387, 544, 537, 457, 425, 492, 273, 247,\n",
       "       319, 248, 515, 317, 276, 140, 374, 198, 130, 132, 764, 739, 724,\n",
       "       741, 573, 427, 599, 536, 597, 472, 595, 478, 523, 526, 386, 467,\n",
       "       564, 404, 341, 228, 325, 407, 366, 246], dtype=int32)"
      ]
     },
     "execution_count": 94,
     "metadata": {},
     "output_type": "execute_result"
    }
   ],
   "source": [
    "grid_search.cv_results_['rank_test_score']"
   ]
  },
  {
   "cell_type": "code",
   "execution_count": 93,
   "metadata": {
    "colab": {
     "base_uri": "https://localhost:8080/"
    },
    "id": "2_12QiSqvWu9",
    "outputId": "dd4afb7e-bad5-4a38-f0cc-515615804382"
   },
   "outputs": [
    {
     "data": {
      "text/plain": [
       "478"
      ]
     },
     "execution_count": 93,
     "metadata": {},
     "output_type": "execute_result"
    }
   ],
   "source": [
    "list(grid_search.cv_results_['rank_test_score']).index(1)"
   ]
  },
  {
   "cell_type": "code",
   "execution_count": 94,
   "metadata": {
    "id": "ceajJI9NxoTo"
   },
   "outputs": [],
   "source": [
    "df = pd.DataFrame(zip(grid_search.cv_results_['params'], \n",
    "                      grid_search.cv_results_['mean_train_score'], \n",
    "                      grid_search.cv_results_['mean_test_score']), columns = ['param_comb', 'Train_F1', 'Val_F1'])\n",
    "\n",
    "df.to_excel('grid_search_results.xlsx', index=None)"
   ]
  },
  {
   "cell_type": "code",
   "execution_count": 98,
   "metadata": {
    "colab": {
     "base_uri": "https://localhost:8080/"
    },
    "id": "GAp58S-uxFYS",
    "outputId": "528103cc-d687-45b8-a740-8c92458f74fb"
   },
   "outputs": [
    {
     "data": {
      "text/plain": [
       "DecisionTreeClassifier(criterion='entropy', max_depth=7, min_samples_split=10)"
      ]
     },
     "execution_count": 98,
     "metadata": {},
     "output_type": "execute_result"
    }
   ],
   "source": [
    "clf = DecisionTreeClassifier(class_weight= None, criterion = 'entropy', max_depth = 7, min_samples_split = 10)\n",
    "\n",
    "clf.fit(features_train,target_train)"
   ]
  },
  {
   "cell_type": "code",
   "execution_count": 99,
   "metadata": {
    "id": "4qoDSR5F-Hhp"
   },
   "outputs": [],
   "source": [
    "###### Storing the model ######\n",
    "with open('best_model.pickle', 'wb') as f:\n",
    "  pickle.dump(clf,f)"
   ]
  },
  {
   "cell_type": "code",
   "execution_count": 100,
   "metadata": {
    "id": "HMwVN3i--d9B"
   },
   "outputs": [],
   "source": [
    "####### Load the existing model ######\n",
    "with open ('best_model.pickle', 'rb') as f:\n",
    "  model = pickle.load(f)"
   ]
  },
  {
   "cell_type": "code",
   "execution_count": 105,
   "metadata": {
    "colab": {
     "base_uri": "https://localhost:8080/"
    },
    "id": "dph4xK7u-uW1",
    "outputId": "c76b3b13-1bd6-4762-b6e0-dbcac19e83c6"
   },
   "outputs": [
    {
     "data": {
      "text/plain": [
       "array([0, 0, 0, ..., 0, 0, 0], dtype=int64)"
      ]
     },
     "execution_count": 105,
     "metadata": {},
     "output_type": "execute_result"
    }
   ],
   "source": [
    "model.predict(features_val)"
   ]
  },
  {
   "cell_type": "code",
   "execution_count": 106,
   "metadata": {},
   "outputs": [],
   "source": [
    "#### Saving the model ###\n",
    "\n",
    "with open('decision_tree_model.pickle','wb') as f:\n",
    "    pickle.dump(clf,f)\n"
   ]
  },
  {
   "cell_type": "code",
   "execution_count": 107,
   "metadata": {},
   "outputs": [],
   "source": [
    "########## Concluded that Decision Tree Algo is best Model ##############"
   ]
  },
  {
   "cell_type": "code",
   "execution_count": null,
   "metadata": {},
   "outputs": [],
   "source": []
  }
 ],
 "metadata": {
  "colab": {
   "collapsed_sections": [],
   "name": "assignment_on_existing_base (3).ipynb",
   "provenance": []
  },
  "kernelspec": {
   "display_name": "Python 3 (ipykernel)",
   "language": "python",
   "name": "python3"
  },
  "language_info": {
   "codemirror_mode": {
    "name": "ipython",
    "version": 3
   },
   "file_extension": ".py",
   "mimetype": "text/x-python",
   "name": "python",
   "nbconvert_exporter": "python",
   "pygments_lexer": "ipython3",
   "version": "3.9.12"
  }
 },
 "nbformat": 4,
 "nbformat_minor": 1
}
