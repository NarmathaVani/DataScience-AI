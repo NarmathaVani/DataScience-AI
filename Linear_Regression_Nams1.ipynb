{
 "cells": [
  {
   "cell_type": "markdown",
   "metadata": {
    "id": "87Jze5JKTmrw"
   },
   "source": [
    "# Linear Regression "
   ]
  },
  {
   "cell_type": "code",
   "execution_count": 1,
   "metadata": {
    "id": "ChmyoDq4Tmr2"
   },
   "outputs": [],
   "source": [
    "import pandas as pd #### used for dataframe manipulations\n",
    "import numpy as np\n",
    "import seaborn as sns ### plotting\n",
    "import matplotlib.pyplot as plt ### plotting"
   ]
  },
  {
   "cell_type": "code",
   "execution_count": null,
   "metadata": {
    "id": "h0_-HFHFIyd4"
   },
   "outputs": [],
   "source": [
    "##### Given the characteristics about the loan and the loan applicant build a model to predict the interest rate that the bank \n",
    "##### should charge the person"
   ]
  },
  {
   "cell_type": "code",
   "execution_count": 2,
   "metadata": {
    "id": "vXOq3AcITmr3"
   },
   "outputs": [],
   "source": [
    "train_file='loan_data_train.csv'\n",
    "test_file='loan_data_test.csv'\n",
    "\n",
    "ld_train=pd.read_csv(train_file)\n",
    "ld_test=pd.read_csv(test_file)               "
   ]
  },
  {
   "cell_type": "code",
   "execution_count": 3,
   "metadata": {
    "colab": {
     "base_uri": "https://localhost:8080/",
     "height": 270
    },
    "id": "MAJZvW7STmr3",
    "outputId": "5f4d14c2-fbac-42d4-b652-cc284ea8148d"
   },
   "outputs": [
    {
     "data": {
      "text/html": [
       "<div>\n",
       "<style scoped>\n",
       "    .dataframe tbody tr th:only-of-type {\n",
       "        vertical-align: middle;\n",
       "    }\n",
       "\n",
       "    .dataframe tbody tr th {\n",
       "        vertical-align: top;\n",
       "    }\n",
       "\n",
       "    .dataframe thead th {\n",
       "        text-align: right;\n",
       "    }\n",
       "</style>\n",
       "<table border=\"1\" class=\"dataframe\">\n",
       "  <thead>\n",
       "    <tr style=\"text-align: right;\">\n",
       "      <th></th>\n",
       "      <th>ID</th>\n",
       "      <th>Amount.Requested</th>\n",
       "      <th>Amount.Funded.By.Investors</th>\n",
       "      <th>Interest.Rate</th>\n",
       "      <th>Loan.Length</th>\n",
       "      <th>Loan.Purpose</th>\n",
       "      <th>Debt.To.Income.Ratio</th>\n",
       "      <th>State</th>\n",
       "      <th>Home.Ownership</th>\n",
       "      <th>Monthly.Income</th>\n",
       "      <th>FICO.Range</th>\n",
       "      <th>Open.CREDIT.Lines</th>\n",
       "      <th>Revolving.CREDIT.Balance</th>\n",
       "      <th>Inquiries.in.the.Last.6.Months</th>\n",
       "      <th>Employment.Length</th>\n",
       "    </tr>\n",
       "  </thead>\n",
       "  <tbody>\n",
       "    <tr>\n",
       "      <th>0</th>\n",
       "      <td>79542.0</td>\n",
       "      <td>25000</td>\n",
       "      <td>25000</td>\n",
       "      <td>18.49%</td>\n",
       "      <td>60 months</td>\n",
       "      <td>debt_consolidation</td>\n",
       "      <td>27.56%</td>\n",
       "      <td>VA</td>\n",
       "      <td>MORTGAGE</td>\n",
       "      <td>8606.56</td>\n",
       "      <td>720-724</td>\n",
       "      <td>11</td>\n",
       "      <td>15210</td>\n",
       "      <td>3.0</td>\n",
       "      <td>5 years</td>\n",
       "    </tr>\n",
       "    <tr>\n",
       "      <th>1</th>\n",
       "      <td>75473.0</td>\n",
       "      <td>19750</td>\n",
       "      <td>19750</td>\n",
       "      <td>17.27%</td>\n",
       "      <td>60 months</td>\n",
       "      <td>debt_consolidation</td>\n",
       "      <td>13.39%</td>\n",
       "      <td>NY</td>\n",
       "      <td>MORTGAGE</td>\n",
       "      <td>6737.50</td>\n",
       "      <td>710-714</td>\n",
       "      <td>14</td>\n",
       "      <td>19070</td>\n",
       "      <td>3.0</td>\n",
       "      <td>4 years</td>\n",
       "    </tr>\n",
       "    <tr>\n",
       "      <th>2</th>\n",
       "      <td>67265.0</td>\n",
       "      <td>2100</td>\n",
       "      <td>2100</td>\n",
       "      <td>14.33%</td>\n",
       "      <td>36 months</td>\n",
       "      <td>major_purchase</td>\n",
       "      <td>3.50%</td>\n",
       "      <td>LA</td>\n",
       "      <td>OWN</td>\n",
       "      <td>1000.00</td>\n",
       "      <td>690-694</td>\n",
       "      <td>13</td>\n",
       "      <td>893</td>\n",
       "      <td>1.0</td>\n",
       "      <td>&lt; 1 year</td>\n",
       "    </tr>\n",
       "    <tr>\n",
       "      <th>3</th>\n",
       "      <td>80167.0</td>\n",
       "      <td>28000</td>\n",
       "      <td>28000</td>\n",
       "      <td>16.29%</td>\n",
       "      <td>36 months</td>\n",
       "      <td>credit_card</td>\n",
       "      <td>19.62%</td>\n",
       "      <td>NV</td>\n",
       "      <td>MORTGAGE</td>\n",
       "      <td>7083.33</td>\n",
       "      <td>710-714</td>\n",
       "      <td>12</td>\n",
       "      <td>38194</td>\n",
       "      <td>1.0</td>\n",
       "      <td>10+ years</td>\n",
       "    </tr>\n",
       "    <tr>\n",
       "      <th>4</th>\n",
       "      <td>17240.0</td>\n",
       "      <td>24250</td>\n",
       "      <td>17431.82</td>\n",
       "      <td>12.23%</td>\n",
       "      <td>60 months</td>\n",
       "      <td>credit_card</td>\n",
       "      <td>23.79%</td>\n",
       "      <td>OH</td>\n",
       "      <td>MORTGAGE</td>\n",
       "      <td>5833.33</td>\n",
       "      <td>730-734</td>\n",
       "      <td>6</td>\n",
       "      <td>31061</td>\n",
       "      <td>2.0</td>\n",
       "      <td>10+ years</td>\n",
       "    </tr>\n",
       "  </tbody>\n",
       "</table>\n",
       "</div>"
      ],
      "text/plain": [
       "        ID Amount.Requested Amount.Funded.By.Investors Interest.Rate  \\\n",
       "0  79542.0            25000                      25000        18.49%   \n",
       "1  75473.0            19750                      19750        17.27%   \n",
       "2  67265.0             2100                       2100        14.33%   \n",
       "3  80167.0            28000                      28000        16.29%   \n",
       "4  17240.0            24250                   17431.82        12.23%   \n",
       "\n",
       "  Loan.Length        Loan.Purpose Debt.To.Income.Ratio State Home.Ownership  \\\n",
       "0   60 months  debt_consolidation               27.56%    VA       MORTGAGE   \n",
       "1   60 months  debt_consolidation               13.39%    NY       MORTGAGE   \n",
       "2   36 months      major_purchase                3.50%    LA            OWN   \n",
       "3   36 months         credit_card               19.62%    NV       MORTGAGE   \n",
       "4   60 months         credit_card               23.79%    OH       MORTGAGE   \n",
       "\n",
       "   Monthly.Income FICO.Range Open.CREDIT.Lines Revolving.CREDIT.Balance  \\\n",
       "0         8606.56    720-724                11                    15210   \n",
       "1         6737.50    710-714                14                    19070   \n",
       "2         1000.00    690-694                13                      893   \n",
       "3         7083.33    710-714                12                    38194   \n",
       "4         5833.33    730-734                 6                    31061   \n",
       "\n",
       "   Inquiries.in.the.Last.6.Months Employment.Length  \n",
       "0                             3.0           5 years  \n",
       "1                             3.0           4 years  \n",
       "2                             1.0          < 1 year  \n",
       "3                             1.0         10+ years  \n",
       "4                             2.0         10+ years  "
      ]
     },
     "execution_count": 3,
     "metadata": {},
     "output_type": "execute_result"
    }
   ],
   "source": [
    "#### Objective: Given the features about the applicant and the loan itself can we predict the rate of interest for the loan \n",
    "#### objective : Supervised machine learning algorithm, regression problem -- Linear Regression\n",
    "ld_train.head()"
   ]
  },
  {
   "cell_type": "code",
   "execution_count": 4,
   "metadata": {
    "colab": {
     "base_uri": "https://localhost:8080/",
     "height": 270
    },
    "id": "cKebnjCYTmr4",
    "outputId": "acbb9946-ddbb-4afc-9bca-4a8d46bbdf2e"
   },
   "outputs": [
    {
     "data": {
      "text/html": [
       "<div>\n",
       "<style scoped>\n",
       "    .dataframe tbody tr th:only-of-type {\n",
       "        vertical-align: middle;\n",
       "    }\n",
       "\n",
       "    .dataframe tbody tr th {\n",
       "        vertical-align: top;\n",
       "    }\n",
       "\n",
       "    .dataframe thead th {\n",
       "        text-align: right;\n",
       "    }\n",
       "</style>\n",
       "<table border=\"1\" class=\"dataframe\">\n",
       "  <thead>\n",
       "    <tr style=\"text-align: right;\">\n",
       "      <th></th>\n",
       "      <th>ID</th>\n",
       "      <th>Amount.Requested</th>\n",
       "      <th>Amount.Funded.By.Investors</th>\n",
       "      <th>Loan.Length</th>\n",
       "      <th>Loan.Purpose</th>\n",
       "      <th>Debt.To.Income.Ratio</th>\n",
       "      <th>State</th>\n",
       "      <th>Home.Ownership</th>\n",
       "      <th>Monthly.Income</th>\n",
       "      <th>FICO.Range</th>\n",
       "      <th>Open.CREDIT.Lines</th>\n",
       "      <th>Revolving.CREDIT.Balance</th>\n",
       "      <th>Inquiries.in.the.Last.6.Months</th>\n",
       "      <th>Employment.Length</th>\n",
       "    </tr>\n",
       "  </thead>\n",
       "  <tbody>\n",
       "    <tr>\n",
       "      <th>0</th>\n",
       "      <td>20093</td>\n",
       "      <td>5000</td>\n",
       "      <td>5000</td>\n",
       "      <td>60 months</td>\n",
       "      <td>moving</td>\n",
       "      <td>12.59%</td>\n",
       "      <td>NY</td>\n",
       "      <td>RENT</td>\n",
       "      <td>4416.67</td>\n",
       "      <td>690-694</td>\n",
       "      <td>13</td>\n",
       "      <td>7686</td>\n",
       "      <td>0</td>\n",
       "      <td>&lt; 1 year</td>\n",
       "    </tr>\n",
       "    <tr>\n",
       "      <th>1</th>\n",
       "      <td>62445</td>\n",
       "      <td>18000</td>\n",
       "      <td>18000</td>\n",
       "      <td>60 months</td>\n",
       "      <td>debt_consolidation</td>\n",
       "      <td>4.93%</td>\n",
       "      <td>CA</td>\n",
       "      <td>RENT</td>\n",
       "      <td>5258.50</td>\n",
       "      <td>710-714</td>\n",
       "      <td>6</td>\n",
       "      <td>11596</td>\n",
       "      <td>0</td>\n",
       "      <td>10+ years</td>\n",
       "    </tr>\n",
       "    <tr>\n",
       "      <th>2</th>\n",
       "      <td>65248</td>\n",
       "      <td>7200</td>\n",
       "      <td>7200</td>\n",
       "      <td>60 months</td>\n",
       "      <td>debt_consolidation</td>\n",
       "      <td>25.16%</td>\n",
       "      <td>LA</td>\n",
       "      <td>MORTGAGE</td>\n",
       "      <td>3750.00</td>\n",
       "      <td>750-754</td>\n",
       "      <td>13</td>\n",
       "      <td>7283</td>\n",
       "      <td>0</td>\n",
       "      <td>6 years</td>\n",
       "    </tr>\n",
       "    <tr>\n",
       "      <th>3</th>\n",
       "      <td>81822</td>\n",
       "      <td>7200</td>\n",
       "      <td>7200</td>\n",
       "      <td>36 months</td>\n",
       "      <td>debt_consolidation</td>\n",
       "      <td>17.27%</td>\n",
       "      <td>NY</td>\n",
       "      <td>MORTGAGE</td>\n",
       "      <td>3416.67</td>\n",
       "      <td>790-794</td>\n",
       "      <td>14</td>\n",
       "      <td>4838</td>\n",
       "      <td>0</td>\n",
       "      <td>10+ years</td>\n",
       "    </tr>\n",
       "    <tr>\n",
       "      <th>4</th>\n",
       "      <td>57923</td>\n",
       "      <td>22000</td>\n",
       "      <td>22000</td>\n",
       "      <td>60 months</td>\n",
       "      <td>debt_consolidation</td>\n",
       "      <td>18.28%</td>\n",
       "      <td>MI</td>\n",
       "      <td>MORTGAGE</td>\n",
       "      <td>6083.33</td>\n",
       "      <td>720-724</td>\n",
       "      <td>9</td>\n",
       "      <td>20181</td>\n",
       "      <td>0</td>\n",
       "      <td>8 years</td>\n",
       "    </tr>\n",
       "  </tbody>\n",
       "</table>\n",
       "</div>"
      ],
      "text/plain": [
       "      ID  Amount.Requested Amount.Funded.By.Investors Loan.Length  \\\n",
       "0  20093              5000                       5000   60 months   \n",
       "1  62445             18000                      18000   60 months   \n",
       "2  65248              7200                       7200   60 months   \n",
       "3  81822              7200                       7200   36 months   \n",
       "4  57923             22000                      22000   60 months   \n",
       "\n",
       "         Loan.Purpose Debt.To.Income.Ratio State Home.Ownership  \\\n",
       "0              moving               12.59%    NY           RENT   \n",
       "1  debt_consolidation                4.93%    CA           RENT   \n",
       "2  debt_consolidation               25.16%    LA       MORTGAGE   \n",
       "3  debt_consolidation               17.27%    NY       MORTGAGE   \n",
       "4  debt_consolidation               18.28%    MI       MORTGAGE   \n",
       "\n",
       "   Monthly.Income FICO.Range Open.CREDIT.Lines  Revolving.CREDIT.Balance  \\\n",
       "0         4416.67    690-694                13                      7686   \n",
       "1         5258.50    710-714                 6                     11596   \n",
       "2         3750.00    750-754                13                      7283   \n",
       "3         3416.67    790-794                14                      4838   \n",
       "4         6083.33    720-724                 9                     20181   \n",
       "\n",
       "   Inquiries.in.the.Last.6.Months Employment.Length  \n",
       "0                               0          < 1 year  \n",
       "1                               0         10+ years  \n",
       "2                               0           6 years  \n",
       "3                               0         10+ years  \n",
       "4                               0           8 years  "
      ]
     },
     "execution_count": 4,
     "metadata": {},
     "output_type": "execute_result"
    }
   ],
   "source": [
    "ld_test.head()"
   ]
  },
  {
   "cell_type": "code",
   "execution_count": 5,
   "metadata": {
    "colab": {
     "base_uri": "https://localhost:8080/"
    },
    "id": "pBcGVQQBT7qk",
    "outputId": "143b2247-063d-425a-8703-45fea1557894"
   },
   "outputs": [
    {
     "data": {
      "text/plain": [
       "((2200, 15), (300, 14))"
      ]
     },
     "execution_count": 5,
     "metadata": {},
     "output_type": "execute_result"
    }
   ],
   "source": [
    "#### Sanity check ####\n",
    "\n",
    "### 1. Check for logical dependency - True\n",
    "### 2. Check for data adequacy - False (neglect)\n",
    "\n",
    "ld_train.shape, ld_test.shape"
   ]
  },
  {
   "cell_type": "code",
   "execution_count": null,
   "metadata": {
    "id": "ne9DRR90PAom"
   },
   "outputs": [],
   "source": [
    "### EDA AND PREPROCESSING"
   ]
  },
  {
   "cell_type": "code",
   "execution_count": null,
   "metadata": {
    "id": "GZ5ZOv_FPPSO"
   },
   "outputs": [],
   "source": [
    "#### Insights ####\n",
    "\n",
    "# ID could be removed ##### Unwanted column!\n",
    "# Amount.Requested should have been a numeric column, check for the reasons for it being a object column and convert it to numeric\n",
    "# Interest rate column remove the % sign and check if that converts the column to numeric \n",
    "# Loan length do a bit of analysis\n",
    "# Loan Purpose (Truly object) - convert it to numeric\n",
    "# Debt to Income ratio - Remove the % sign and convert to numeric \n",
    "# State (Truly object) - Convert to numeric\n",
    "# Home Ownership (Truly Object) - Convert to numeric\n",
    "# Fico range - Convert into a numeric column\n",
    "# Open credit lines - Convert to numeric\n",
    "# Revolving credit balance. - Convert to numeric\n",
    "# Employment length - Convert to numeric\n"
   ]
  },
  {
   "cell_type": "code",
   "execution_count": 7,
   "metadata": {
    "id": "3V3K2Z24Tmr5"
   },
   "outputs": [],
   "source": [
    "# lets combine the data for data prep\n",
    "\n",
    "ld_test['Interest.Rate']= np.nan\n",
    "\n",
    "ld_train['coming_from']='train'\n",
    "\n",
    "ld_test['coming_from']='test'\n",
    "\n",
    "ld_test=ld_test[ld_train.columns] ### reordering the columns of test dataset in the order of train dataset\n",
    "\n",
    "ld_all=pd.concat([ld_train,ld_test],axis=0) ### row wise concatenation"
   ]
  },
  {
   "cell_type": "code",
   "execution_count": 8,
   "metadata": {
    "colab": {
     "base_uri": "https://localhost:8080/"
    },
    "id": "7daMu0lXMY2-",
    "outputId": "bf90f2d7-9f96-426a-e043-7fb323a0cb57"
   },
   "outputs": [
    {
     "data": {
      "text/plain": [
       "((2500, 16), (2200, 16), (300, 16))"
      ]
     },
     "execution_count": 8,
     "metadata": {},
     "output_type": "execute_result"
    }
   ],
   "source": [
    "ld_all.shape, ld_train.shape, ld_test.shape"
   ]
  },
  {
   "cell_type": "code",
   "execution_count": 9,
   "metadata": {
    "colab": {
     "base_uri": "https://localhost:8080/"
    },
    "id": "2UvdARTkTmr5",
    "outputId": "cbd68d55-950b-4a06-c6f4-ac00276f037f"
   },
   "outputs": [
    {
     "data": {
      "text/plain": [
       "ID                                float64\n",
       "Amount.Requested                   object\n",
       "Amount.Funded.By.Investors         object\n",
       "Interest.Rate                      object\n",
       "Loan.Length                        object\n",
       "Loan.Purpose                       object\n",
       "Debt.To.Income.Ratio               object\n",
       "State                              object\n",
       "Home.Ownership                     object\n",
       "Monthly.Income                    float64\n",
       "FICO.Range                         object\n",
       "Open.CREDIT.Lines                  object\n",
       "Revolving.CREDIT.Balance           object\n",
       "Inquiries.in.the.Last.6.Months    float64\n",
       "Employment.Length                  object\n",
       "coming_from                        object\n",
       "dtype: object"
      ]
     },
     "execution_count": 9,
     "metadata": {},
     "output_type": "execute_result"
    }
   ],
   "source": [
    "ld_all.dtypes ### data types of all the columns"
   ]
  },
  {
   "cell_type": "code",
   "execution_count": null,
   "metadata": {
    "collapsed": true,
    "id": "1RJsNik_Tmr6"
   },
   "outputs": [],
   "source": [
    "# ID : drop \n",
    "# Interest Rate , Debt to income ratio : remove % and then to numeric\n",
    "# Amount.Requested , 'Open.CREDIT.Lines','Revolving.CREDIT.Balance': convert it to numeric \n",
    "# FICO.Range : replace it by a numeric column which is average of the range\n",
    "# Employment Length : convert to number\n",
    "# Loan Lenth, Loan Purpose , State , Home ownership: dummies for categories with good occurence rate"
   ]
  },
  {
   "cell_type": "code",
   "execution_count": 10,
   "metadata": {
    "id": "f2Mw81ZGTmr6"
   },
   "outputs": [],
   "source": [
    "### Dropping irrelevant columns #####\n",
    "ld_all.drop(['ID'],axis=1,inplace=True)"
   ]
  },
  {
   "cell_type": "code",
   "execution_count": null,
   "metadata": {
    "colab": {
     "base_uri": "https://localhost:8080/"
    },
    "id": "iSCF3T9zM_jL",
    "outputId": "9d2d0f91-7108-46a6-91d2-673f16c5ed70"
   },
   "outputs": [
    {
     "data": {
      "text/plain": [
       "Amount.Requested                   object\n",
       "Amount.Funded.By.Investors         object\n",
       "Interest.Rate                      object\n",
       "Loan.Length                        object\n",
       "Loan.Purpose                       object\n",
       "Debt.To.Income.Ratio               object\n",
       "State                              object\n",
       "Home.Ownership                     object\n",
       "Monthly.Income                    float64\n",
       "FICO.Range                         object\n",
       "Open.CREDIT.Lines                  object\n",
       "Revolving.CREDIT.Balance           object\n",
       "Inquiries.in.the.Last.6.Months    float64\n",
       "Employment.Length                  object\n",
       "coming_from                        object\n",
       "dtype: object"
      ]
     },
     "execution_count": 14,
     "metadata": {},
     "output_type": "execute_result"
    }
   ],
   "source": [
    "ld_all.dtypes"
   ]
  },
  {
   "cell_type": "code",
   "execution_count": 11,
   "metadata": {
    "colab": {
     "base_uri": "https://localhost:8080/"
    },
    "id": "bg2j3oAv-Dju",
    "outputId": "ddeb4f51-cf00-4114-d741-59936326bfdb"
   },
   "outputs": [
    {
     "data": {
      "text/plain": [
       "0      18.49\n",
       "1      17.27\n",
       "2      14.33\n",
       "3      16.29\n",
       "4      12.23\n",
       "       ...  \n",
       "295      NaN\n",
       "296      NaN\n",
       "297      NaN\n",
       "298      NaN\n",
       "299      NaN\n",
       "Name: Interest.Rate, Length: 2500, dtype: object"
      ]
     },
     "execution_count": 11,
     "metadata": {},
     "output_type": "execute_result"
    }
   ],
   "source": [
    "ld_all['Interest.Rate'].str.replace('%','')"
   ]
  },
  {
   "cell_type": "code",
   "execution_count": 12,
   "metadata": {
    "id": "RkSFdwEoTmr6"
   },
   "outputs": [],
   "source": [
    "###### Remove % sign and convert to numeric ####\n",
    "\n",
    "#ld_all['Interest.Rate'] = ld_all[\"Interest.Rate\"].str.replace('%', '')\n",
    "#ld_all['Debt.To.Income.Ratio'] = ld_all[\"Debt.To.Income.Ratio\"].str.replace('%', '')\n",
    "\n",
    "for column in ['Interest.Rate','Debt.To.Income.Ratio']:\n",
    "    ld_all[column] = ld_all[column].str.replace('%', '')"
   ]
  },
  {
   "cell_type": "code",
   "execution_count": 13,
   "metadata": {
    "colab": {
     "base_uri": "https://localhost:8080/",
     "height": 270
    },
    "id": "dw5V3uBMk8ea",
    "outputId": "c66f8f49-6434-474b-9a79-e734e51ab6e6"
   },
   "outputs": [
    {
     "data": {
      "text/html": [
       "<div>\n",
       "<style scoped>\n",
       "    .dataframe tbody tr th:only-of-type {\n",
       "        vertical-align: middle;\n",
       "    }\n",
       "\n",
       "    .dataframe tbody tr th {\n",
       "        vertical-align: top;\n",
       "    }\n",
       "\n",
       "    .dataframe thead th {\n",
       "        text-align: right;\n",
       "    }\n",
       "</style>\n",
       "<table border=\"1\" class=\"dataframe\">\n",
       "  <thead>\n",
       "    <tr style=\"text-align: right;\">\n",
       "      <th></th>\n",
       "      <th>Amount.Requested</th>\n",
       "      <th>Amount.Funded.By.Investors</th>\n",
       "      <th>Interest.Rate</th>\n",
       "      <th>Loan.Length</th>\n",
       "      <th>Loan.Purpose</th>\n",
       "      <th>Debt.To.Income.Ratio</th>\n",
       "      <th>State</th>\n",
       "      <th>Home.Ownership</th>\n",
       "      <th>Monthly.Income</th>\n",
       "      <th>FICO.Range</th>\n",
       "      <th>Open.CREDIT.Lines</th>\n",
       "      <th>Revolving.CREDIT.Balance</th>\n",
       "      <th>Inquiries.in.the.Last.6.Months</th>\n",
       "      <th>Employment.Length</th>\n",
       "      <th>coming_from</th>\n",
       "    </tr>\n",
       "  </thead>\n",
       "  <tbody>\n",
       "    <tr>\n",
       "      <th>0</th>\n",
       "      <td>25000</td>\n",
       "      <td>25000</td>\n",
       "      <td>18.49</td>\n",
       "      <td>60 months</td>\n",
       "      <td>debt_consolidation</td>\n",
       "      <td>27.56</td>\n",
       "      <td>VA</td>\n",
       "      <td>MORTGAGE</td>\n",
       "      <td>8606.56</td>\n",
       "      <td>720-724</td>\n",
       "      <td>11</td>\n",
       "      <td>15210</td>\n",
       "      <td>3.0</td>\n",
       "      <td>5 years</td>\n",
       "      <td>train</td>\n",
       "    </tr>\n",
       "    <tr>\n",
       "      <th>1</th>\n",
       "      <td>19750</td>\n",
       "      <td>19750</td>\n",
       "      <td>17.27</td>\n",
       "      <td>60 months</td>\n",
       "      <td>debt_consolidation</td>\n",
       "      <td>13.39</td>\n",
       "      <td>NY</td>\n",
       "      <td>MORTGAGE</td>\n",
       "      <td>6737.50</td>\n",
       "      <td>710-714</td>\n",
       "      <td>14</td>\n",
       "      <td>19070</td>\n",
       "      <td>3.0</td>\n",
       "      <td>4 years</td>\n",
       "      <td>train</td>\n",
       "    </tr>\n",
       "    <tr>\n",
       "      <th>2</th>\n",
       "      <td>2100</td>\n",
       "      <td>2100</td>\n",
       "      <td>14.33</td>\n",
       "      <td>36 months</td>\n",
       "      <td>major_purchase</td>\n",
       "      <td>3.50</td>\n",
       "      <td>LA</td>\n",
       "      <td>OWN</td>\n",
       "      <td>1000.00</td>\n",
       "      <td>690-694</td>\n",
       "      <td>13</td>\n",
       "      <td>893</td>\n",
       "      <td>1.0</td>\n",
       "      <td>&lt; 1 year</td>\n",
       "      <td>train</td>\n",
       "    </tr>\n",
       "    <tr>\n",
       "      <th>3</th>\n",
       "      <td>28000</td>\n",
       "      <td>28000</td>\n",
       "      <td>16.29</td>\n",
       "      <td>36 months</td>\n",
       "      <td>credit_card</td>\n",
       "      <td>19.62</td>\n",
       "      <td>NV</td>\n",
       "      <td>MORTGAGE</td>\n",
       "      <td>7083.33</td>\n",
       "      <td>710-714</td>\n",
       "      <td>12</td>\n",
       "      <td>38194</td>\n",
       "      <td>1.0</td>\n",
       "      <td>10+ years</td>\n",
       "      <td>train</td>\n",
       "    </tr>\n",
       "    <tr>\n",
       "      <th>4</th>\n",
       "      <td>24250</td>\n",
       "      <td>17431.82</td>\n",
       "      <td>12.23</td>\n",
       "      <td>60 months</td>\n",
       "      <td>credit_card</td>\n",
       "      <td>23.79</td>\n",
       "      <td>OH</td>\n",
       "      <td>MORTGAGE</td>\n",
       "      <td>5833.33</td>\n",
       "      <td>730-734</td>\n",
       "      <td>6</td>\n",
       "      <td>31061</td>\n",
       "      <td>2.0</td>\n",
       "      <td>10+ years</td>\n",
       "      <td>train</td>\n",
       "    </tr>\n",
       "  </tbody>\n",
       "</table>\n",
       "</div>"
      ],
      "text/plain": [
       "  Amount.Requested Amount.Funded.By.Investors Interest.Rate Loan.Length  \\\n",
       "0            25000                      25000         18.49   60 months   \n",
       "1            19750                      19750         17.27   60 months   \n",
       "2             2100                       2100         14.33   36 months   \n",
       "3            28000                      28000         16.29   36 months   \n",
       "4            24250                   17431.82         12.23   60 months   \n",
       "\n",
       "         Loan.Purpose Debt.To.Income.Ratio State Home.Ownership  \\\n",
       "0  debt_consolidation                27.56    VA       MORTGAGE   \n",
       "1  debt_consolidation                13.39    NY       MORTGAGE   \n",
       "2      major_purchase                 3.50    LA            OWN   \n",
       "3         credit_card                19.62    NV       MORTGAGE   \n",
       "4         credit_card                23.79    OH       MORTGAGE   \n",
       "\n",
       "   Monthly.Income FICO.Range Open.CREDIT.Lines Revolving.CREDIT.Balance  \\\n",
       "0         8606.56    720-724                11                    15210   \n",
       "1         6737.50    710-714                14                    19070   \n",
       "2         1000.00    690-694                13                      893   \n",
       "3         7083.33    710-714                12                    38194   \n",
       "4         5833.33    730-734                 6                    31061   \n",
       "\n",
       "   Inquiries.in.the.Last.6.Months Employment.Length coming_from  \n",
       "0                             3.0           5 years       train  \n",
       "1                             3.0           4 years       train  \n",
       "2                             1.0          < 1 year       train  \n",
       "3                             1.0         10+ years       train  \n",
       "4                             2.0         10+ years       train  "
      ]
     },
     "execution_count": 13,
     "metadata": {},
     "output_type": "execute_result"
    }
   ],
   "source": [
    "ld_all.head()"
   ]
  },
  {
   "cell_type": "code",
   "execution_count": 14,
   "metadata": {
    "colab": {
     "base_uri": "https://localhost:8080/"
    },
    "id": "Ex3ZedSUlOwt",
    "outputId": "55631e9e-fa53-4229-9f76-26e47ca9a4e0"
   },
   "outputs": [
    {
     "data": {
      "text/plain": [
       "Amount.Requested                   object\n",
       "Amount.Funded.By.Investors         object\n",
       "Interest.Rate                      object\n",
       "Loan.Length                        object\n",
       "Loan.Purpose                       object\n",
       "Debt.To.Income.Ratio               object\n",
       "State                              object\n",
       "Home.Ownership                     object\n",
       "Monthly.Income                    float64\n",
       "FICO.Range                         object\n",
       "Open.CREDIT.Lines                  object\n",
       "Revolving.CREDIT.Balance           object\n",
       "Inquiries.in.the.Last.6.Months    float64\n",
       "Employment.Length                  object\n",
       "coming_from                        object\n",
       "dtype: object"
      ]
     },
     "execution_count": 14,
     "metadata": {},
     "output_type": "execute_result"
    }
   ],
   "source": [
    "ld_all.dtypes"
   ]
  },
  {
   "cell_type": "code",
   "execution_count": 15,
   "metadata": {
    "id": "5xmLYiFdCAqD"
   },
   "outputs": [],
   "source": [
    "def get_non_numeric(series):\n",
    "  non_numeric_elements = []\n",
    "  for elem in series:\n",
    "    try:\n",
    "      float(elem)\n",
    "    except:\n",
    "      non_numeric_elements.append(elem)\n",
    "  return(non_numeric_elements)"
   ]
  },
  {
   "cell_type": "code",
   "execution_count": 16,
   "metadata": {
    "colab": {
     "base_uri": "https://localhost:8080/"
    },
    "id": "jyWxev40mZuY",
    "outputId": "5baac1f3-4da5-4bc0-f179-cb20ed95a22a"
   },
   "outputs": [
    {
     "name": "stdout",
     "output_type": "stream",
     "text": [
      "*********************************\n",
      "Column : Amount.Requested\n",
      "Non numeric elements : ['.', '.', '.', '.']\n",
      "*********************************\n",
      "Column : Amount.Funded.By.Investors\n",
      "Non numeric elements : ['.', '.', '.', '.']\n",
      "*********************************\n",
      "Column : Interest.Rate\n",
      "Non numeric elements : []\n",
      "*********************************\n",
      "Column : Debt.To.Income.Ratio\n",
      "Non numeric elements : []\n",
      "*********************************\n",
      "Column : Open.CREDIT.Lines\n",
      "Non numeric elements : ['.', '.', '.', '.', '.']\n",
      "*********************************\n",
      "Column : Revolving.CREDIT.Balance\n",
      "Non numeric elements : ['.', '.']\n"
     ]
    }
   ],
   "source": [
    "for col in ['Amount.Requested','Amount.Funded.By.Investors', 'Interest.Rate', \n",
    "            'Debt.To.Income.Ratio', 'Open.CREDIT.Lines', 'Revolving.CREDIT.Balance']:\n",
    "    non_numeric_elems = get_non_numeric(ld_all[col])\n",
    "    print('*********************************')\n",
    "    print('Column :', col)\n",
    "    print('Non numeric elements :', non_numeric_elems)"
   ]
  },
  {
   "cell_type": "code",
   "execution_count": 17,
   "metadata": {
    "id": "bPy4OsG1DUMf"
   },
   "outputs": [],
   "source": [
    "##### Conversion to Numeric columns ######\n",
    "##### Non Numeric value to be replaced with NaN \n",
    "\n",
    "for col in ['Amount.Requested','Amount.Funded.By.Investors',\n",
    "            'Open.CREDIT.Lines','Revolving.CREDIT.Balance','Interest.Rate','Debt.To.Income.Ratio']:\n",
    "    ld_all[col]=pd.to_numeric(ld_all[col], errors='coerce')"
   ]
  },
  {
   "cell_type": "code",
   "execution_count": 18,
   "metadata": {
    "colab": {
     "base_uri": "https://localhost:8080/"
    },
    "id": "NHcOTpsBUgNA",
    "outputId": "b16d3933-7e20-40cd-bddd-2071e950dc0b"
   },
   "outputs": [
    {
     "data": {
      "text/plain": [
       "Amount.Requested                  float64\n",
       "Amount.Funded.By.Investors        float64\n",
       "Interest.Rate                     float64\n",
       "Loan.Length                        object\n",
       "Loan.Purpose                       object\n",
       "Debt.To.Income.Ratio              float64\n",
       "State                              object\n",
       "Home.Ownership                     object\n",
       "Monthly.Income                    float64\n",
       "FICO.Range                         object\n",
       "Open.CREDIT.Lines                 float64\n",
       "Revolving.CREDIT.Balance          float64\n",
       "Inquiries.in.the.Last.6.Months    float64\n",
       "Employment.Length                  object\n",
       "coming_from                        object\n",
       "dtype: object"
      ]
     },
     "execution_count": 18,
     "metadata": {},
     "output_type": "execute_result"
    }
   ],
   "source": [
    "ld_all.dtypes"
   ]
  },
  {
   "cell_type": "code",
   "execution_count": null,
   "metadata": {
    "colab": {
     "base_uri": "https://localhost:8080/"
    },
    "id": "5OGM3vtvqgPE",
    "outputId": "78813fcd-08fe-4436-81e8-62e7bc569337"
   },
   "outputs": [
    {
     "name": "stdout",
     "output_type": "stream",
     "text": [
      "<class 'pandas.core.frame.DataFrame'>\n",
      "Int64Index: 2500 entries, 0 to 299\n",
      "Data columns (total 15 columns):\n",
      " #   Column                          Non-Null Count  Dtype  \n",
      "---  ------                          --------------  -----  \n",
      " 0   Amount.Requested                2495 non-null   float64\n",
      " 1   Amount.Funded.By.Investors      2495 non-null   float64\n",
      " 2   Interest.Rate                   2200 non-null   float64\n",
      " 3   Loan.Length                     2499 non-null   object \n",
      " 4   Loan.Purpose                    2499 non-null   object \n",
      " 5   Debt.To.Income.Ratio            2499 non-null   float64\n",
      " 6   State                           2499 non-null   object \n",
      " 7   Home.Ownership                  2499 non-null   object \n",
      " 8   Monthly.Income                  2497 non-null   float64\n",
      " 9   FICO.Range                      2500 non-null   object \n",
      " 10  Open.CREDIT.Lines               2491 non-null   float64\n",
      " 11  Revolving.CREDIT.Balance        2495 non-null   float64\n",
      " 12  Inquiries.in.the.Last.6.Months  2497 non-null   float64\n",
      " 13  Employment.Length               2422 non-null   object \n",
      " 14  coming_from                     2500 non-null   object \n",
      "dtypes: float64(8), object(7)\n",
      "memory usage: 312.5+ KB\n"
     ]
    }
   ],
   "source": [
    "ld_all.info()"
   ]
  },
  {
   "cell_type": "code",
   "execution_count": 19,
   "metadata": {
    "id": "Aht7Osx31eJA"
   },
   "outputs": [],
   "source": [
    "k = ld_all['FICO.Range'].str.split(\"-\",expand=True)"
   ]
  },
  {
   "cell_type": "code",
   "execution_count": 20,
   "metadata": {
    "colab": {
     "base_uri": "https://localhost:8080/",
     "height": 424
    },
    "id": "R6JCmcRz8FWW",
    "outputId": "c9b8be07-7ece-4566-f202-3a7aa2aee8d8"
   },
   "outputs": [
    {
     "data": {
      "text/html": [
       "<div>\n",
       "<style scoped>\n",
       "    .dataframe tbody tr th:only-of-type {\n",
       "        vertical-align: middle;\n",
       "    }\n",
       "\n",
       "    .dataframe tbody tr th {\n",
       "        vertical-align: top;\n",
       "    }\n",
       "\n",
       "    .dataframe thead th {\n",
       "        text-align: right;\n",
       "    }\n",
       "</style>\n",
       "<table border=\"1\" class=\"dataframe\">\n",
       "  <thead>\n",
       "    <tr style=\"text-align: right;\">\n",
       "      <th></th>\n",
       "      <th>0</th>\n",
       "      <th>1</th>\n",
       "    </tr>\n",
       "  </thead>\n",
       "  <tbody>\n",
       "    <tr>\n",
       "      <th>0</th>\n",
       "      <td>720</td>\n",
       "      <td>724</td>\n",
       "    </tr>\n",
       "    <tr>\n",
       "      <th>1</th>\n",
       "      <td>710</td>\n",
       "      <td>714</td>\n",
       "    </tr>\n",
       "    <tr>\n",
       "      <th>2</th>\n",
       "      <td>690</td>\n",
       "      <td>694</td>\n",
       "    </tr>\n",
       "    <tr>\n",
       "      <th>3</th>\n",
       "      <td>710</td>\n",
       "      <td>714</td>\n",
       "    </tr>\n",
       "    <tr>\n",
       "      <th>4</th>\n",
       "      <td>730</td>\n",
       "      <td>734</td>\n",
       "    </tr>\n",
       "    <tr>\n",
       "      <th>...</th>\n",
       "      <td>...</td>\n",
       "      <td>...</td>\n",
       "    </tr>\n",
       "    <tr>\n",
       "      <th>295</th>\n",
       "      <td>705</td>\n",
       "      <td>709</td>\n",
       "    </tr>\n",
       "    <tr>\n",
       "      <th>296</th>\n",
       "      <td>705</td>\n",
       "      <td>709</td>\n",
       "    </tr>\n",
       "    <tr>\n",
       "      <th>297</th>\n",
       "      <td>670</td>\n",
       "      <td>674</td>\n",
       "    </tr>\n",
       "    <tr>\n",
       "      <th>298</th>\n",
       "      <td>675</td>\n",
       "      <td>679</td>\n",
       "    </tr>\n",
       "    <tr>\n",
       "      <th>299</th>\n",
       "      <td>675</td>\n",
       "      <td>679</td>\n",
       "    </tr>\n",
       "  </tbody>\n",
       "</table>\n",
       "<p>2500 rows × 2 columns</p>\n",
       "</div>"
      ],
      "text/plain": [
       "       0    1\n",
       "0    720  724\n",
       "1    710  714\n",
       "2    690  694\n",
       "3    710  714\n",
       "4    730  734\n",
       "..   ...  ...\n",
       "295  705  709\n",
       "296  705  709\n",
       "297  670  674\n",
       "298  675  679\n",
       "299  675  679\n",
       "\n",
       "[2500 rows x 2 columns]"
      ]
     },
     "execution_count": 20,
     "metadata": {},
     "output_type": "execute_result"
    }
   ],
   "source": [
    "k"
   ]
  },
  {
   "cell_type": "code",
   "execution_count": 21,
   "metadata": {
    "id": "D7kugbzinxvz"
   },
   "outputs": [],
   "source": [
    "k.columns = ['Min_Fico', 'Max_Fico']"
   ]
  },
  {
   "cell_type": "code",
   "execution_count": 22,
   "metadata": {
    "id": "0c51N95I1j8g"
   },
   "outputs": [],
   "source": [
    "k['Min_Fico'] = pd.to_numeric(k['Min_Fico'])\n",
    "k['Max_Fico'] = pd.to_numeric(k['Max_Fico'])"
   ]
  },
  {
   "cell_type": "code",
   "execution_count": 23,
   "metadata": {
    "id": "y2S2KKeqsNRc"
   },
   "outputs": [],
   "source": [
    "k['Avg_Fico'] = (k['Min_Fico'] + k['Max_Fico'])/2"
   ]
  },
  {
   "cell_type": "code",
   "execution_count": 24,
   "metadata": {
    "colab": {
     "base_uri": "https://localhost:8080/",
     "height": 424
    },
    "id": "ODs3WJyf2Bim",
    "outputId": "58bc8618-6833-4c42-8cbe-4e30c8518250"
   },
   "outputs": [
    {
     "data": {
      "text/html": [
       "<div>\n",
       "<style scoped>\n",
       "    .dataframe tbody tr th:only-of-type {\n",
       "        vertical-align: middle;\n",
       "    }\n",
       "\n",
       "    .dataframe tbody tr th {\n",
       "        vertical-align: top;\n",
       "    }\n",
       "\n",
       "    .dataframe thead th {\n",
       "        text-align: right;\n",
       "    }\n",
       "</style>\n",
       "<table border=\"1\" class=\"dataframe\">\n",
       "  <thead>\n",
       "    <tr style=\"text-align: right;\">\n",
       "      <th></th>\n",
       "      <th>Min_Fico</th>\n",
       "      <th>Max_Fico</th>\n",
       "      <th>Avg_Fico</th>\n",
       "    </tr>\n",
       "  </thead>\n",
       "  <tbody>\n",
       "    <tr>\n",
       "      <th>0</th>\n",
       "      <td>720</td>\n",
       "      <td>724</td>\n",
       "      <td>722.0</td>\n",
       "    </tr>\n",
       "    <tr>\n",
       "      <th>1</th>\n",
       "      <td>710</td>\n",
       "      <td>714</td>\n",
       "      <td>712.0</td>\n",
       "    </tr>\n",
       "    <tr>\n",
       "      <th>2</th>\n",
       "      <td>690</td>\n",
       "      <td>694</td>\n",
       "      <td>692.0</td>\n",
       "    </tr>\n",
       "    <tr>\n",
       "      <th>3</th>\n",
       "      <td>710</td>\n",
       "      <td>714</td>\n",
       "      <td>712.0</td>\n",
       "    </tr>\n",
       "    <tr>\n",
       "      <th>4</th>\n",
       "      <td>730</td>\n",
       "      <td>734</td>\n",
       "      <td>732.0</td>\n",
       "    </tr>\n",
       "    <tr>\n",
       "      <th>...</th>\n",
       "      <td>...</td>\n",
       "      <td>...</td>\n",
       "      <td>...</td>\n",
       "    </tr>\n",
       "    <tr>\n",
       "      <th>295</th>\n",
       "      <td>705</td>\n",
       "      <td>709</td>\n",
       "      <td>707.0</td>\n",
       "    </tr>\n",
       "    <tr>\n",
       "      <th>296</th>\n",
       "      <td>705</td>\n",
       "      <td>709</td>\n",
       "      <td>707.0</td>\n",
       "    </tr>\n",
       "    <tr>\n",
       "      <th>297</th>\n",
       "      <td>670</td>\n",
       "      <td>674</td>\n",
       "      <td>672.0</td>\n",
       "    </tr>\n",
       "    <tr>\n",
       "      <th>298</th>\n",
       "      <td>675</td>\n",
       "      <td>679</td>\n",
       "      <td>677.0</td>\n",
       "    </tr>\n",
       "    <tr>\n",
       "      <th>299</th>\n",
       "      <td>675</td>\n",
       "      <td>679</td>\n",
       "      <td>677.0</td>\n",
       "    </tr>\n",
       "  </tbody>\n",
       "</table>\n",
       "<p>2500 rows × 3 columns</p>\n",
       "</div>"
      ],
      "text/plain": [
       "     Min_Fico  Max_Fico  Avg_Fico\n",
       "0         720       724     722.0\n",
       "1         710       714     712.0\n",
       "2         690       694     692.0\n",
       "3         710       714     712.0\n",
       "4         730       734     732.0\n",
       "..        ...       ...       ...\n",
       "295       705       709     707.0\n",
       "296       705       709     707.0\n",
       "297       670       674     672.0\n",
       "298       675       679     677.0\n",
       "299       675       679     677.0\n",
       "\n",
       "[2500 rows x 3 columns]"
      ]
     },
     "execution_count": 24,
     "metadata": {},
     "output_type": "execute_result"
    }
   ],
   "source": [
    "k"
   ]
  },
  {
   "cell_type": "code",
   "execution_count": 25,
   "metadata": {
    "id": "ipOL9ZBXTmr7"
   },
   "outputs": [],
   "source": [
    "##### Treating the FICO Range ######\n",
    "\n",
    "ld_all['Fico_Score'] = k['Avg_Fico']\n",
    "\n",
    "ld_all.drop('FICO.Range',axis=1, inplace=True)"
   ]
  },
  {
   "cell_type": "code",
   "execution_count": 26,
   "metadata": {
    "colab": {
     "base_uri": "https://localhost:8080/"
    },
    "id": "aUrauGZQuLc2",
    "outputId": "f9601909-c350-4f98-9532-3f2133522f53"
   },
   "outputs": [
    {
     "data": {
      "text/plain": [
       "Amount.Requested                  float64\n",
       "Amount.Funded.By.Investors        float64\n",
       "Interest.Rate                     float64\n",
       "Loan.Length                        object\n",
       "Loan.Purpose                       object\n",
       "Debt.To.Income.Ratio              float64\n",
       "State                              object\n",
       "Home.Ownership                     object\n",
       "Monthly.Income                    float64\n",
       "Open.CREDIT.Lines                 float64\n",
       "Revolving.CREDIT.Balance          float64\n",
       "Inquiries.in.the.Last.6.Months    float64\n",
       "Employment.Length                  object\n",
       "coming_from                        object\n",
       "Fico_Score                        float64\n",
       "dtype: object"
      ]
     },
     "execution_count": 26,
     "metadata": {},
     "output_type": "execute_result"
    }
   ],
   "source": [
    "ld_all.dtypes"
   ]
  },
  {
   "cell_type": "code",
   "execution_count": 27,
   "metadata": {
    "colab": {
     "base_uri": "https://localhost:8080/"
    },
    "id": "mz8WTMGTH3Wc",
    "outputId": "8fc2f477-d8e2-4bd0-efd9-50b31ae44f18"
   },
   "outputs": [
    {
     "data": {
      "text/plain": [
       "MORTGAGE    1018\n",
       "RENT         999\n",
       "OWN          177\n",
       "OTHER          4\n",
       "NONE           1\n",
       "Name: Home.Ownership, dtype: int64"
      ]
     },
     "execution_count": 27,
     "metadata": {},
     "output_type": "execute_result"
    }
   ],
   "source": [
    "ld_all.loc[ld_all['coming_from']=='train','Home.Ownership'].value_counts()"
   ]
  },
  {
   "cell_type": "code",
   "execution_count": 28,
   "metadata": {
    "colab": {
     "base_uri": "https://localhost:8080/"
    },
    "id": "hQzkNe3Oj51c",
    "outputId": "f8df3697-5ee8-49eb-c7ab-de0407b1cd7e"
   },
   "outputs": [
    {
     "data": {
      "text/plain": [
       "1"
      ]
     },
     "execution_count": 28,
     "metadata": {},
     "output_type": "execute_result"
    }
   ],
   "source": [
    "###### Number of missing values in home owner ship ######\n",
    "n_missing = 2500 - np.sum(ld_all['Home.Ownership'].value_counts())\n",
    "n_missing"
   ]
  },
  {
   "cell_type": "code",
   "execution_count": 31,
   "metadata": {
    "id": "lWYzqWUEktt0"
   },
   "outputs": [],
   "source": [
    "####### Fill the missing value in home ownership ######\n",
    "\n",
    "ld_all.loc[ld_all['Home.Ownership'].isna(),'Home.Ownership'] = 'MORTGAGE'"
   ]
  },
  {
   "cell_type": "code",
   "execution_count": 32,
   "metadata": {
    "colab": {
     "base_uri": "https://localhost:8080/",
     "height": 547
    },
    "id": "Hm8pL7ws1O4X",
    "outputId": "5be83fd6-4319-4659-b52f-8cb83b688e4d"
   },
   "outputs": [
    {
     "data": {
      "text/plain": [
       "<AxesSubplot:xlabel='Home.Ownership', ylabel='Interest.Rate'>"
      ]
     },
     "execution_count": 32,
     "metadata": {},
     "output_type": "execute_result"
    },
    {
     "data": {
      "image/png": "[encoded data removed]",
      "text/plain": [
       "<Figure size 432x288 with 1 Axes>"
      ]
     },
     "metadata": {
      "needs_background": "light"
     },
     "output_type": "display_data"
    }
   ],
   "source": [
    "import seaborn as sns\n",
    "\n",
    "sns.boxplot(y = ld_all.loc[ld_all['coming_from']=='train', 'Interest.Rate'], x= ld_all.loc[ld_all['coming_from']=='train', 'Home.Ownership'])"
   ]
  },
  {
   "cell_type": "code",
   "execution_count": 33,
   "metadata": {
    "id": "UQ-1JWaw8cQ2"
   },
   "outputs": [],
   "source": [
    "ld_all['Home.Ownership'].value_counts()\n",
    "\n",
    "ld_all.loc[ld_all['Home.Ownership'].isin(['OTHER','NONE']),'Home.Ownership'] = 'MORTGAGE'\n",
    "\n",
    "k = pd.get_dummies(ld_all['Home.Ownership'], prefix = 'HO')\n",
    "\n",
    "ld_all.drop(['Home.Ownership'],axis=1,inplace=True) #### del ld_all['Home.Ownership']\n",
    "\n",
    "ld_all = pd.concat([ld_all,k],axis=1)"
   ]
  },
  {
   "cell_type": "code",
   "execution_count": 34,
   "metadata": {
    "colab": {
     "base_uri": "https://localhost:8080/",
     "height": 488
    },
    "id": "gT1YZotVxvXV",
    "outputId": "9023da3c-9b86-456f-c06f-5f486b48de8f"
   },
   "outputs": [
    {
     "data": {
      "text/html": [
       "<div>\n",
       "<style scoped>\n",
       "    .dataframe tbody tr th:only-of-type {\n",
       "        vertical-align: middle;\n",
       "    }\n",
       "\n",
       "    .dataframe tbody tr th {\n",
       "        vertical-align: top;\n",
       "    }\n",
       "\n",
       "    .dataframe thead th {\n",
       "        text-align: right;\n",
       "    }\n",
       "</style>\n",
       "<table border=\"1\" class=\"dataframe\">\n",
       "  <thead>\n",
       "    <tr style=\"text-align: right;\">\n",
       "      <th></th>\n",
       "      <th>Amount.Requested</th>\n",
       "      <th>Amount.Funded.By.Investors</th>\n",
       "      <th>Interest.Rate</th>\n",
       "      <th>Loan.Length</th>\n",
       "      <th>Loan.Purpose</th>\n",
       "      <th>Debt.To.Income.Ratio</th>\n",
       "      <th>State</th>\n",
       "      <th>Monthly.Income</th>\n",
       "      <th>Open.CREDIT.Lines</th>\n",
       "      <th>Revolving.CREDIT.Balance</th>\n",
       "      <th>Inquiries.in.the.Last.6.Months</th>\n",
       "      <th>Employment.Length</th>\n",
       "      <th>coming_from</th>\n",
       "      <th>Fico_Score</th>\n",
       "      <th>HO_MORTGAGE</th>\n",
       "      <th>HO_OWN</th>\n",
       "      <th>HO_RENT</th>\n",
       "    </tr>\n",
       "  </thead>\n",
       "  <tbody>\n",
       "    <tr>\n",
       "      <th>0</th>\n",
       "      <td>25000.0</td>\n",
       "      <td>25000.00</td>\n",
       "      <td>18.49</td>\n",
       "      <td>60 months</td>\n",
       "      <td>debt_consolidation</td>\n",
       "      <td>27.56</td>\n",
       "      <td>VA</td>\n",
       "      <td>8606.56</td>\n",
       "      <td>11.0</td>\n",
       "      <td>15210.0</td>\n",
       "      <td>3.0</td>\n",
       "      <td>5 years</td>\n",
       "      <td>train</td>\n",
       "      <td>722.0</td>\n",
       "      <td>1</td>\n",
       "      <td>0</td>\n",
       "      <td>0</td>\n",
       "    </tr>\n",
       "    <tr>\n",
       "      <th>1</th>\n",
       "      <td>19750.0</td>\n",
       "      <td>19750.00</td>\n",
       "      <td>17.27</td>\n",
       "      <td>60 months</td>\n",
       "      <td>debt_consolidation</td>\n",
       "      <td>13.39</td>\n",
       "      <td>NY</td>\n",
       "      <td>6737.50</td>\n",
       "      <td>14.0</td>\n",
       "      <td>19070.0</td>\n",
       "      <td>3.0</td>\n",
       "      <td>4 years</td>\n",
       "      <td>train</td>\n",
       "      <td>712.0</td>\n",
       "      <td>1</td>\n",
       "      <td>0</td>\n",
       "      <td>0</td>\n",
       "    </tr>\n",
       "    <tr>\n",
       "      <th>2</th>\n",
       "      <td>2100.0</td>\n",
       "      <td>2100.00</td>\n",
       "      <td>14.33</td>\n",
       "      <td>36 months</td>\n",
       "      <td>major_purchase</td>\n",
       "      <td>3.50</td>\n",
       "      <td>LA</td>\n",
       "      <td>1000.00</td>\n",
       "      <td>13.0</td>\n",
       "      <td>893.0</td>\n",
       "      <td>1.0</td>\n",
       "      <td>&lt; 1 year</td>\n",
       "      <td>train</td>\n",
       "      <td>692.0</td>\n",
       "      <td>0</td>\n",
       "      <td>1</td>\n",
       "      <td>0</td>\n",
       "    </tr>\n",
       "    <tr>\n",
       "      <th>3</th>\n",
       "      <td>28000.0</td>\n",
       "      <td>28000.00</td>\n",
       "      <td>16.29</td>\n",
       "      <td>36 months</td>\n",
       "      <td>credit_card</td>\n",
       "      <td>19.62</td>\n",
       "      <td>NV</td>\n",
       "      <td>7083.33</td>\n",
       "      <td>12.0</td>\n",
       "      <td>38194.0</td>\n",
       "      <td>1.0</td>\n",
       "      <td>10+ years</td>\n",
       "      <td>train</td>\n",
       "      <td>712.0</td>\n",
       "      <td>1</td>\n",
       "      <td>0</td>\n",
       "      <td>0</td>\n",
       "    </tr>\n",
       "    <tr>\n",
       "      <th>4</th>\n",
       "      <td>24250.0</td>\n",
       "      <td>17431.82</td>\n",
       "      <td>12.23</td>\n",
       "      <td>60 months</td>\n",
       "      <td>credit_card</td>\n",
       "      <td>23.79</td>\n",
       "      <td>OH</td>\n",
       "      <td>5833.33</td>\n",
       "      <td>6.0</td>\n",
       "      <td>31061.0</td>\n",
       "      <td>2.0</td>\n",
       "      <td>10+ years</td>\n",
       "      <td>train</td>\n",
       "      <td>732.0</td>\n",
       "      <td>1</td>\n",
       "      <td>0</td>\n",
       "      <td>0</td>\n",
       "    </tr>\n",
       "    <tr>\n",
       "      <th>...</th>\n",
       "      <td>...</td>\n",
       "      <td>...</td>\n",
       "      <td>...</td>\n",
       "      <td>...</td>\n",
       "      <td>...</td>\n",
       "      <td>...</td>\n",
       "      <td>...</td>\n",
       "      <td>...</td>\n",
       "      <td>...</td>\n",
       "      <td>...</td>\n",
       "      <td>...</td>\n",
       "      <td>...</td>\n",
       "      <td>...</td>\n",
       "      <td>...</td>\n",
       "      <td>...</td>\n",
       "      <td>...</td>\n",
       "      <td>...</td>\n",
       "    </tr>\n",
       "    <tr>\n",
       "      <th>295</th>\n",
       "      <td>12000.0</td>\n",
       "      <td>11975.00</td>\n",
       "      <td>NaN</td>\n",
       "      <td>60 months</td>\n",
       "      <td>home_improvement</td>\n",
       "      <td>13.91</td>\n",
       "      <td>NV</td>\n",
       "      <td>7083.33</td>\n",
       "      <td>7.0</td>\n",
       "      <td>3923.0</td>\n",
       "      <td>2.0</td>\n",
       "      <td>7 years</td>\n",
       "      <td>test</td>\n",
       "      <td>707.0</td>\n",
       "      <td>1</td>\n",
       "      <td>0</td>\n",
       "      <td>0</td>\n",
       "    </tr>\n",
       "    <tr>\n",
       "      <th>296</th>\n",
       "      <td>5000.0</td>\n",
       "      <td>5000.00</td>\n",
       "      <td>NaN</td>\n",
       "      <td>36 months</td>\n",
       "      <td>debt_consolidation</td>\n",
       "      <td>17.22</td>\n",
       "      <td>CA</td>\n",
       "      <td>4000.00</td>\n",
       "      <td>10.0</td>\n",
       "      <td>6023.0</td>\n",
       "      <td>0.0</td>\n",
       "      <td>10+ years</td>\n",
       "      <td>test</td>\n",
       "      <td>707.0</td>\n",
       "      <td>0</td>\n",
       "      <td>1</td>\n",
       "      <td>0</td>\n",
       "    </tr>\n",
       "    <tr>\n",
       "      <th>297</th>\n",
       "      <td>4375.0</td>\n",
       "      <td>4375.00</td>\n",
       "      <td>NaN</td>\n",
       "      <td>36 months</td>\n",
       "      <td>credit_card</td>\n",
       "      <td>9.09</td>\n",
       "      <td>CA</td>\n",
       "      <td>2916.67</td>\n",
       "      <td>9.0</td>\n",
       "      <td>6944.0</td>\n",
       "      <td>2.0</td>\n",
       "      <td>6 years</td>\n",
       "      <td>test</td>\n",
       "      <td>672.0</td>\n",
       "      <td>0</td>\n",
       "      <td>0</td>\n",
       "      <td>1</td>\n",
       "    </tr>\n",
       "    <tr>\n",
       "      <th>298</th>\n",
       "      <td>13600.0</td>\n",
       "      <td>13600.00</td>\n",
       "      <td>NaN</td>\n",
       "      <td>60 months</td>\n",
       "      <td>credit_card</td>\n",
       "      <td>12.85</td>\n",
       "      <td>MN</td>\n",
       "      <td>5651.33</td>\n",
       "      <td>13.0</td>\n",
       "      <td>24383.0</td>\n",
       "      <td>0.0</td>\n",
       "      <td>10+ years</td>\n",
       "      <td>test</td>\n",
       "      <td>677.0</td>\n",
       "      <td>0</td>\n",
       "      <td>0</td>\n",
       "      <td>1</td>\n",
       "    </tr>\n",
       "    <tr>\n",
       "      <th>299</th>\n",
       "      <td>6000.0</td>\n",
       "      <td>6000.00</td>\n",
       "      <td>NaN</td>\n",
       "      <td>36 months</td>\n",
       "      <td>debt_consolidation</td>\n",
       "      <td>7.64</td>\n",
       "      <td>IL</td>\n",
       "      <td>5184.75</td>\n",
       "      <td>8.0</td>\n",
       "      <td>14422.0</td>\n",
       "      <td>0.0</td>\n",
       "      <td>2 years</td>\n",
       "      <td>test</td>\n",
       "      <td>677.0</td>\n",
       "      <td>1</td>\n",
       "      <td>0</td>\n",
       "      <td>0</td>\n",
       "    </tr>\n",
       "  </tbody>\n",
       "</table>\n",
       "<p>2500 rows × 17 columns</p>\n",
       "</div>"
      ],
      "text/plain": [
       "     Amount.Requested  Amount.Funded.By.Investors  Interest.Rate Loan.Length  \\\n",
       "0             25000.0                    25000.00          18.49   60 months   \n",
       "1             19750.0                    19750.00          17.27   60 months   \n",
       "2              2100.0                     2100.00          14.33   36 months   \n",
       "3             28000.0                    28000.00          16.29   36 months   \n",
       "4             24250.0                    17431.82          12.23   60 months   \n",
       "..                ...                         ...            ...         ...   \n",
       "295           12000.0                    11975.00            NaN   60 months   \n",
       "296            5000.0                     5000.00            NaN   36 months   \n",
       "297            4375.0                     4375.00            NaN   36 months   \n",
       "298           13600.0                    13600.00            NaN   60 months   \n",
       "299            6000.0                     6000.00            NaN   36 months   \n",
       "\n",
       "           Loan.Purpose  Debt.To.Income.Ratio State  Monthly.Income  \\\n",
       "0    debt_consolidation                 27.56    VA         8606.56   \n",
       "1    debt_consolidation                 13.39    NY         6737.50   \n",
       "2        major_purchase                  3.50    LA         1000.00   \n",
       "3           credit_card                 19.62    NV         7083.33   \n",
       "4           credit_card                 23.79    OH         5833.33   \n",
       "..                  ...                   ...   ...             ...   \n",
       "295    home_improvement                 13.91    NV         7083.33   \n",
       "296  debt_consolidation                 17.22    CA         4000.00   \n",
       "297         credit_card                  9.09    CA         2916.67   \n",
       "298         credit_card                 12.85    MN         5651.33   \n",
       "299  debt_consolidation                  7.64    IL         5184.75   \n",
       "\n",
       "     Open.CREDIT.Lines  Revolving.CREDIT.Balance  \\\n",
       "0                 11.0                   15210.0   \n",
       "1                 14.0                   19070.0   \n",
       "2                 13.0                     893.0   \n",
       "3                 12.0                   38194.0   \n",
       "4                  6.0                   31061.0   \n",
       "..                 ...                       ...   \n",
       "295                7.0                    3923.0   \n",
       "296               10.0                    6023.0   \n",
       "297                9.0                    6944.0   \n",
       "298               13.0                   24383.0   \n",
       "299                8.0                   14422.0   \n",
       "\n",
       "     Inquiries.in.the.Last.6.Months Employment.Length coming_from  Fico_Score  \\\n",
       "0                               3.0           5 years       train       722.0   \n",
       "1                               3.0           4 years       train       712.0   \n",
       "2                               1.0          < 1 year       train       692.0   \n",
       "3                               1.0         10+ years       train       712.0   \n",
       "4                               2.0         10+ years       train       732.0   \n",
       "..                              ...               ...         ...         ...   \n",
       "295                             2.0           7 years        test       707.0   \n",
       "296                             0.0         10+ years        test       707.0   \n",
       "297                             2.0           6 years        test       672.0   \n",
       "298                             0.0         10+ years        test       677.0   \n",
       "299                             0.0           2 years        test       677.0   \n",
       "\n",
       "     HO_MORTGAGE  HO_OWN  HO_RENT  \n",
       "0              1       0        0  \n",
       "1              1       0        0  \n",
       "2              0       1        0  \n",
       "3              1       0        0  \n",
       "4              1       0        0  \n",
       "..           ...     ...      ...  \n",
       "295            1       0        0  \n",
       "296            0       1        0  \n",
       "297            0       0        1  \n",
       "298            0       0        1  \n",
       "299            1       0        0  \n",
       "\n",
       "[2500 rows x 17 columns]"
      ]
     },
     "execution_count": 34,
     "metadata": {},
     "output_type": "execute_result"
    }
   ],
   "source": [
    "ld_all"
   ]
  },
  {
   "cell_type": "code",
   "execution_count": 35,
   "metadata": {
    "colab": {
     "base_uri": "https://localhost:8080/"
    },
    "id": "4U122UcuySTU",
    "outputId": "598a12ab-5420-465d-f0c7-cbaf75c457a3"
   },
   "outputs": [
    {
     "data": {
      "text/plain": [
       "Amount.Requested                  float64\n",
       "Amount.Funded.By.Investors        float64\n",
       "Interest.Rate                     float64\n",
       "Loan.Length                        object\n",
       "Loan.Purpose                       object\n",
       "Debt.To.Income.Ratio              float64\n",
       "State                              object\n",
       "Monthly.Income                    float64\n",
       "Open.CREDIT.Lines                 float64\n",
       "Revolving.CREDIT.Balance          float64\n",
       "Inquiries.in.the.Last.6.Months    float64\n",
       "Employment.Length                  object\n",
       "coming_from                        object\n",
       "Fico_Score                        float64\n",
       "HO_MORTGAGE                         uint8\n",
       "HO_OWN                              uint8\n",
       "HO_RENT                             uint8\n",
       "dtype: object"
      ]
     },
     "execution_count": 35,
     "metadata": {},
     "output_type": "execute_result"
    }
   ],
   "source": [
    "ld_all.dtypes"
   ]
  },
  {
   "cell_type": "code",
   "execution_count": 36,
   "metadata": {
    "colab": {
     "base_uri": "https://localhost:8080/",
     "height": 270
    },
    "id": "sXnKkuOior09",
    "outputId": "69096b42-c837-4aad-fce0-1e528a622a8d"
   },
   "outputs": [
    {
     "data": {
      "text/html": [
       "<div>\n",
       "<style scoped>\n",
       "    .dataframe tbody tr th:only-of-type {\n",
       "        vertical-align: middle;\n",
       "    }\n",
       "\n",
       "    .dataframe tbody tr th {\n",
       "        vertical-align: top;\n",
       "    }\n",
       "\n",
       "    .dataframe thead th {\n",
       "        text-align: right;\n",
       "    }\n",
       "</style>\n",
       "<table border=\"1\" class=\"dataframe\">\n",
       "  <thead>\n",
       "    <tr style=\"text-align: right;\">\n",
       "      <th></th>\n",
       "      <th>Amount.Requested</th>\n",
       "      <th>Amount.Funded.By.Investors</th>\n",
       "      <th>Interest.Rate</th>\n",
       "      <th>Loan.Length</th>\n",
       "      <th>Loan.Purpose</th>\n",
       "      <th>Debt.To.Income.Ratio</th>\n",
       "      <th>State</th>\n",
       "      <th>Monthly.Income</th>\n",
       "      <th>Open.CREDIT.Lines</th>\n",
       "      <th>Revolving.CREDIT.Balance</th>\n",
       "      <th>Inquiries.in.the.Last.6.Months</th>\n",
       "      <th>Employment.Length</th>\n",
       "      <th>coming_from</th>\n",
       "      <th>Fico_Score</th>\n",
       "      <th>HO_MORTGAGE</th>\n",
       "      <th>HO_OWN</th>\n",
       "      <th>HO_RENT</th>\n",
       "    </tr>\n",
       "  </thead>\n",
       "  <tbody>\n",
       "    <tr>\n",
       "      <th>0</th>\n",
       "      <td>25000.0</td>\n",
       "      <td>25000.00</td>\n",
       "      <td>18.49</td>\n",
       "      <td>60 months</td>\n",
       "      <td>debt_consolidation</td>\n",
       "      <td>27.56</td>\n",
       "      <td>VA</td>\n",
       "      <td>8606.56</td>\n",
       "      <td>11.0</td>\n",
       "      <td>15210.0</td>\n",
       "      <td>3.0</td>\n",
       "      <td>5 years</td>\n",
       "      <td>train</td>\n",
       "      <td>722.0</td>\n",
       "      <td>1</td>\n",
       "      <td>0</td>\n",
       "      <td>0</td>\n",
       "    </tr>\n",
       "    <tr>\n",
       "      <th>1</th>\n",
       "      <td>19750.0</td>\n",
       "      <td>19750.00</td>\n",
       "      <td>17.27</td>\n",
       "      <td>60 months</td>\n",
       "      <td>debt_consolidation</td>\n",
       "      <td>13.39</td>\n",
       "      <td>NY</td>\n",
       "      <td>6737.50</td>\n",
       "      <td>14.0</td>\n",
       "      <td>19070.0</td>\n",
       "      <td>3.0</td>\n",
       "      <td>4 years</td>\n",
       "      <td>train</td>\n",
       "      <td>712.0</td>\n",
       "      <td>1</td>\n",
       "      <td>0</td>\n",
       "      <td>0</td>\n",
       "    </tr>\n",
       "    <tr>\n",
       "      <th>2</th>\n",
       "      <td>2100.0</td>\n",
       "      <td>2100.00</td>\n",
       "      <td>14.33</td>\n",
       "      <td>36 months</td>\n",
       "      <td>major_purchase</td>\n",
       "      <td>3.50</td>\n",
       "      <td>LA</td>\n",
       "      <td>1000.00</td>\n",
       "      <td>13.0</td>\n",
       "      <td>893.0</td>\n",
       "      <td>1.0</td>\n",
       "      <td>&lt; 1 year</td>\n",
       "      <td>train</td>\n",
       "      <td>692.0</td>\n",
       "      <td>0</td>\n",
       "      <td>1</td>\n",
       "      <td>0</td>\n",
       "    </tr>\n",
       "    <tr>\n",
       "      <th>3</th>\n",
       "      <td>28000.0</td>\n",
       "      <td>28000.00</td>\n",
       "      <td>16.29</td>\n",
       "      <td>36 months</td>\n",
       "      <td>credit_card</td>\n",
       "      <td>19.62</td>\n",
       "      <td>NV</td>\n",
       "      <td>7083.33</td>\n",
       "      <td>12.0</td>\n",
       "      <td>38194.0</td>\n",
       "      <td>1.0</td>\n",
       "      <td>10+ years</td>\n",
       "      <td>train</td>\n",
       "      <td>712.0</td>\n",
       "      <td>1</td>\n",
       "      <td>0</td>\n",
       "      <td>0</td>\n",
       "    </tr>\n",
       "    <tr>\n",
       "      <th>4</th>\n",
       "      <td>24250.0</td>\n",
       "      <td>17431.82</td>\n",
       "      <td>12.23</td>\n",
       "      <td>60 months</td>\n",
       "      <td>credit_card</td>\n",
       "      <td>23.79</td>\n",
       "      <td>OH</td>\n",
       "      <td>5833.33</td>\n",
       "      <td>6.0</td>\n",
       "      <td>31061.0</td>\n",
       "      <td>2.0</td>\n",
       "      <td>10+ years</td>\n",
       "      <td>train</td>\n",
       "      <td>732.0</td>\n",
       "      <td>1</td>\n",
       "      <td>0</td>\n",
       "      <td>0</td>\n",
       "    </tr>\n",
       "  </tbody>\n",
       "</table>\n",
       "</div>"
      ],
      "text/plain": [
       "   Amount.Requested  Amount.Funded.By.Investors  Interest.Rate Loan.Length  \\\n",
       "0           25000.0                    25000.00          18.49   60 months   \n",
       "1           19750.0                    19750.00          17.27   60 months   \n",
       "2            2100.0                     2100.00          14.33   36 months   \n",
       "3           28000.0                    28000.00          16.29   36 months   \n",
       "4           24250.0                    17431.82          12.23   60 months   \n",
       "\n",
       "         Loan.Purpose  Debt.To.Income.Ratio State  Monthly.Income  \\\n",
       "0  debt_consolidation                 27.56    VA         8606.56   \n",
       "1  debt_consolidation                 13.39    NY         6737.50   \n",
       "2      major_purchase                  3.50    LA         1000.00   \n",
       "3         credit_card                 19.62    NV         7083.33   \n",
       "4         credit_card                 23.79    OH         5833.33   \n",
       "\n",
       "   Open.CREDIT.Lines  Revolving.CREDIT.Balance  \\\n",
       "0               11.0                   15210.0   \n",
       "1               14.0                   19070.0   \n",
       "2               13.0                     893.0   \n",
       "3               12.0                   38194.0   \n",
       "4                6.0                   31061.0   \n",
       "\n",
       "   Inquiries.in.the.Last.6.Months Employment.Length coming_from  Fico_Score  \\\n",
       "0                             3.0           5 years       train       722.0   \n",
       "1                             3.0           4 years       train       712.0   \n",
       "2                             1.0          < 1 year       train       692.0   \n",
       "3                             1.0         10+ years       train       712.0   \n",
       "4                             2.0         10+ years       train       732.0   \n",
       "\n",
       "   HO_MORTGAGE  HO_OWN  HO_RENT  \n",
       "0            1       0        0  \n",
       "1            1       0        0  \n",
       "2            0       1        0  \n",
       "3            1       0        0  \n",
       "4            1       0        0  "
      ]
     },
     "execution_count": 36,
     "metadata": {},
     "output_type": "execute_result"
    }
   ],
   "source": [
    "ld_all.head()"
   ]
  },
  {
   "cell_type": "code",
   "execution_count": 37,
   "metadata": {
    "colab": {
     "base_uri": "https://localhost:8080/"
    },
    "id": "lNXjfmaJqYIU",
    "outputId": "fbed901f-4236-4807-e873-9a3524191297"
   },
   "outputs": [
    {
     "data": {
      "text/plain": [
       "debt_consolidation    1147\n",
       "credit_card            394\n",
       "other                  174\n",
       "home_improvement       135\n",
       "major_purchase          84\n",
       "small_business          80\n",
       "car                     45\n",
       "wedding                 35\n",
       "medical                 26\n",
       "moving                  25\n",
       "house                   19\n",
       "vacation                18\n",
       "educational             14\n",
       "renewable_energy         3\n",
       "Name: Loan.Purpose, dtype: int64"
      ]
     },
     "execution_count": 37,
     "metadata": {},
     "output_type": "execute_result"
    }
   ],
   "source": [
    "ld_all.loc[ld_all['coming_from']=='train', 'Loan.Purpose'].value_counts()"
   ]
  },
  {
   "cell_type": "code",
   "execution_count": 38,
   "metadata": {
    "colab": {
     "base_uri": "https://localhost:8080/",
     "height": 298
    },
    "id": "8H1kPw7xracq",
    "outputId": "eed1ba5c-218a-4641-cd02-52591f8d2617"
   },
   "outputs": [
    {
     "data": {
      "text/plain": [
       "<AxesSubplot:xlabel='Loan.Purpose', ylabel='Interest.Rate'>"
      ]
     },
     "execution_count": 38,
     "metadata": {},
     "output_type": "execute_result"
    },
    {
     "data": {
      "image/png": "[encoded data removed]",
      "text/plain": [
       "<Figure size 432x288 with 1 Axes>"
      ]
     },
     "metadata": {
      "needs_background": "light"
     },
     "output_type": "display_data"
    }
   ],
   "source": [
    "sns.boxplot(y = ld_all.loc[ld_all['coming_from']=='train', 'Interest.Rate'], x= ld_all.loc[ld_all['coming_from']=='train', 'Loan.Purpose'])"
   ]
  },
  {
   "cell_type": "code",
   "execution_count": 39,
   "metadata": {
    "colab": {
     "base_uri": "https://localhost:8080/"
    },
    "id": "iV5zlPp2xHHC",
    "outputId": "5d75b075-fc62-4b09-aea9-9b84ce3da49d"
   },
   "outputs": [
    {
     "data": {
      "text/plain": [
       "1"
      ]
     },
     "execution_count": 39,
     "metadata": {},
     "output_type": "execute_result"
    }
   ],
   "source": [
    "###### Number of missing values in home owner ship ######\n",
    "n_missing = 2500 - np.sum(ld_all['Loan.Purpose'].value_counts())\n",
    "n_missing"
   ]
  },
  {
   "cell_type": "code",
   "execution_count": 40,
   "metadata": {
    "id": "R9mCxkuNxMJq"
   },
   "outputs": [],
   "source": [
    "####### Fill the missing value in home ownership ######\n",
    "\n",
    "ld_all.loc[ld_all['Loan.Purpose'].isna(),'Loan.Purpose'] = 'debt_consolidation'"
   ]
  },
  {
   "cell_type": "code",
   "execution_count": 41,
   "metadata": {
    "id": "dKFTvtRGsaxx"
   },
   "outputs": [],
   "source": [
    "#ld_all.loc[ld_all['Loan.Purpose']=='renewable_energy', 'Loan.Purpose'] = 'debt_consolidation'\n",
    "\n",
    "k = pd.get_dummies(ld_all['Loan.Purpose'],prefix ='Loan_purpose')\n",
    "\n",
    "ld_all.drop(['Loan.Purpose'],axis=1, inplace=True)\n",
    "\n",
    "ld_all = pd.concat([ld_all,k],axis=1)"
   ]
  },
  {
   "cell_type": "code",
   "execution_count": 42,
   "metadata": {
    "colab": {
     "base_uri": "https://localhost:8080/"
    },
    "id": "Fgd7BOUzs3HZ",
    "outputId": "d7370ad6-fa7e-47b3-aa49-9b6c4d577f1d"
   },
   "outputs": [
    {
     "data": {
      "text/plain": [
       "Amount.Requested                   float64\n",
       "Amount.Funded.By.Investors         float64\n",
       "Interest.Rate                      float64\n",
       "Loan.Length                         object\n",
       "Debt.To.Income.Ratio               float64\n",
       "State                               object\n",
       "Monthly.Income                     float64\n",
       "Open.CREDIT.Lines                  float64\n",
       "Revolving.CREDIT.Balance           float64\n",
       "Inquiries.in.the.Last.6.Months     float64\n",
       "Employment.Length                   object\n",
       "coming_from                         object\n",
       "Fico_Score                         float64\n",
       "HO_MORTGAGE                          uint8\n",
       "HO_OWN                               uint8\n",
       "HO_RENT                              uint8\n",
       "Loan_purpose_car                     uint8\n",
       "Loan_purpose_credit_card             uint8\n",
       "Loan_purpose_debt_consolidation      uint8\n",
       "Loan_purpose_educational             uint8\n",
       "Loan_purpose_home_improvement        uint8\n",
       "Loan_purpose_house                   uint8\n",
       "Loan_purpose_major_purchase          uint8\n",
       "Loan_purpose_medical                 uint8\n",
       "Loan_purpose_moving                  uint8\n",
       "Loan_purpose_other                   uint8\n",
       "Loan_purpose_renewable_energy        uint8\n",
       "Loan_purpose_small_business          uint8\n",
       "Loan_purpose_vacation                uint8\n",
       "Loan_purpose_wedding                 uint8\n",
       "dtype: object"
      ]
     },
     "execution_count": 42,
     "metadata": {},
     "output_type": "execute_result"
    }
   ],
   "source": [
    "ld_all.dtypes"
   ]
  },
  {
   "cell_type": "code",
   "execution_count": 43,
   "metadata": {
    "colab": {
     "base_uri": "https://localhost:8080/"
    },
    "id": "k0SSxah19cTd",
    "outputId": "5a96083f-4d06-42d2-b1c1-d6d6eeb8d970"
   },
   "outputs": [
    {
     "data": {
      "text/plain": [
       "10+ years    575\n",
       "< 1 year     229\n",
       "2 years      217\n",
       "3 years      203\n",
       "5 years      181\n",
       "4 years      162\n",
       "1 year       159\n",
       "6 years      134\n",
       "7 years      109\n",
       "8 years       95\n",
       "9 years       66\n",
       ".              1\n",
       "Name: Employment.Length, dtype: int64"
      ]
     },
     "execution_count": 43,
     "metadata": {},
     "output_type": "execute_result"
    }
   ],
   "source": [
    "ld_all.loc[ld_all['coming_from']=='train','Employment.Length'].value_counts()"
   ]
  },
  {
   "cell_type": "code",
   "execution_count": 44,
   "metadata": {
    "colab": {
     "base_uri": "https://localhost:8080/"
    },
    "id": "NS2x9hvGyDJ-",
    "outputId": "67ad140a-5dd5-457c-afd3-e50e9f852cb4"
   },
   "outputs": [
    {
     "data": {
      "text/plain": [
       "78"
      ]
     },
     "execution_count": 44,
     "metadata": {},
     "output_type": "execute_result"
    }
   ],
   "source": [
    "###### Number of missing values in Employment.Length ######\n",
    "n_missing = 2500 - np.sum(ld_all['Employment.Length'].value_counts())\n",
    "n_missing"
   ]
  },
  {
   "cell_type": "code",
   "execution_count": 45,
   "metadata": {
    "colab": {
     "base_uri": "https://localhost:8080/"
    },
    "id": "rIPnyR2NyNX7",
    "outputId": "3f56861d-a904-4181-c95f-8d3586215160"
   },
   "outputs": [
    {
     "data": {
      "text/plain": [
       "train    69\n",
       "test      9\n",
       "Name: coming_from, dtype: int64"
      ]
     },
     "execution_count": 45,
     "metadata": {},
     "output_type": "execute_result"
    }
   ],
   "source": [
    "ld_all.loc[ld_all['Employment.Length'].isna(),'coming_from'].value_counts()"
   ]
  },
  {
   "cell_type": "code",
   "execution_count": 46,
   "metadata": {
    "colab": {
     "base_uri": "https://localhost:8080/",
     "height": 297
    },
    "id": "b5IYAC3Tt7Fr",
    "outputId": "ab1b8fa2-336e-4b03-c6cb-ff8469fdc51c"
   },
   "outputs": [
    {
     "data": {
      "text/plain": [
       "<AxesSubplot:xlabel='Employment.Length', ylabel='Interest.Rate'>"
      ]
     },
     "execution_count": 46,
     "metadata": {},
     "output_type": "execute_result"
    },
    {
     "data": {
      "image/png": "[encoded data removed]",
      "text/plain": [
       "<Figure size 432x288 with 1 Axes>"
      ]
     },
     "metadata": {
      "needs_background": "light"
     },
     "output_type": "display_data"
    }
   ],
   "source": [
    "sns.boxplot(y = ld_all.loc[ld_all['coming_from']=='train', 'Interest.Rate'], x= ld_all.loc[ld_all['coming_from']=='train', 'Employment.Length'])"
   ]
  },
  {
   "cell_type": "code",
   "execution_count": 47,
   "metadata": {
    "id": "QkkwVyw4Tmr7"
   },
   "outputs": [],
   "source": [
    "'''\n",
    "ld_all['Employment.Length']=ld_all['Employment.Length'].str.replace('.',\"10\")\n",
    "\n",
    "ld_all['Employment.Length']=ld_all['Employment.Length'].str.replace('years',\"\")\n",
    "\n",
    "ld_all['Employment.Length']=ld_all['Employment.Length'].str.replace('year',\"\")\n",
    "\n",
    "ld_all['Employment.Length']=ld_all['Employment.Length'].str.replace('10\\+',\"10\")\n",
    "\n",
    "ld_all['Employment.Length']=ld_all['Employment.Length'].str.replace('< 1',\"0.5\")\n",
    "\n",
    "ld_all['Employment.Length'] = pd.to_numeric(ld_all['Employment.Length'],errors = 'coerce')\n",
    "'''\n",
    "\n",
    "ld_all.drop(['Employment.Length'], axis=1, inplace=True)"
   ]
  },
  {
   "cell_type": "code",
   "execution_count": 48,
   "metadata": {
    "colab": {
     "base_uri": "https://localhost:8080/",
     "height": 299
    },
    "id": "5naI6qGPvOeA",
    "outputId": "607060c7-aeeb-4f29-9c31-3ce9b9bb225d"
   },
   "outputs": [
    {
     "data": {
      "text/html": [
       "<div>\n",
       "<style scoped>\n",
       "    .dataframe tbody tr th:only-of-type {\n",
       "        vertical-align: middle;\n",
       "    }\n",
       "\n",
       "    .dataframe tbody tr th {\n",
       "        vertical-align: top;\n",
       "    }\n",
       "\n",
       "    .dataframe thead th {\n",
       "        text-align: right;\n",
       "    }\n",
       "</style>\n",
       "<table border=\"1\" class=\"dataframe\">\n",
       "  <thead>\n",
       "    <tr style=\"text-align: right;\">\n",
       "      <th></th>\n",
       "      <th>Amount.Requested</th>\n",
       "      <th>Amount.Funded.By.Investors</th>\n",
       "      <th>Interest.Rate</th>\n",
       "      <th>Loan.Length</th>\n",
       "      <th>Debt.To.Income.Ratio</th>\n",
       "      <th>State</th>\n",
       "      <th>Monthly.Income</th>\n",
       "      <th>Open.CREDIT.Lines</th>\n",
       "      <th>Revolving.CREDIT.Balance</th>\n",
       "      <th>Inquiries.in.the.Last.6.Months</th>\n",
       "      <th>...</th>\n",
       "      <th>Loan_purpose_home_improvement</th>\n",
       "      <th>Loan_purpose_house</th>\n",
       "      <th>Loan_purpose_major_purchase</th>\n",
       "      <th>Loan_purpose_medical</th>\n",
       "      <th>Loan_purpose_moving</th>\n",
       "      <th>Loan_purpose_other</th>\n",
       "      <th>Loan_purpose_renewable_energy</th>\n",
       "      <th>Loan_purpose_small_business</th>\n",
       "      <th>Loan_purpose_vacation</th>\n",
       "      <th>Loan_purpose_wedding</th>\n",
       "    </tr>\n",
       "  </thead>\n",
       "  <tbody>\n",
       "    <tr>\n",
       "      <th>0</th>\n",
       "      <td>25000.0</td>\n",
       "      <td>25000.00</td>\n",
       "      <td>18.49</td>\n",
       "      <td>60 months</td>\n",
       "      <td>27.56</td>\n",
       "      <td>VA</td>\n",
       "      <td>8606.56</td>\n",
       "      <td>11.0</td>\n",
       "      <td>15210.0</td>\n",
       "      <td>3.0</td>\n",
       "      <td>...</td>\n",
       "      <td>0</td>\n",
       "      <td>0</td>\n",
       "      <td>0</td>\n",
       "      <td>0</td>\n",
       "      <td>0</td>\n",
       "      <td>0</td>\n",
       "      <td>0</td>\n",
       "      <td>0</td>\n",
       "      <td>0</td>\n",
       "      <td>0</td>\n",
       "    </tr>\n",
       "    <tr>\n",
       "      <th>1</th>\n",
       "      <td>19750.0</td>\n",
       "      <td>19750.00</td>\n",
       "      <td>17.27</td>\n",
       "      <td>60 months</td>\n",
       "      <td>13.39</td>\n",
       "      <td>NY</td>\n",
       "      <td>6737.50</td>\n",
       "      <td>14.0</td>\n",
       "      <td>19070.0</td>\n",
       "      <td>3.0</td>\n",
       "      <td>...</td>\n",
       "      <td>0</td>\n",
       "      <td>0</td>\n",
       "      <td>0</td>\n",
       "      <td>0</td>\n",
       "      <td>0</td>\n",
       "      <td>0</td>\n",
       "      <td>0</td>\n",
       "      <td>0</td>\n",
       "      <td>0</td>\n",
       "      <td>0</td>\n",
       "    </tr>\n",
       "    <tr>\n",
       "      <th>2</th>\n",
       "      <td>2100.0</td>\n",
       "      <td>2100.00</td>\n",
       "      <td>14.33</td>\n",
       "      <td>36 months</td>\n",
       "      <td>3.50</td>\n",
       "      <td>LA</td>\n",
       "      <td>1000.00</td>\n",
       "      <td>13.0</td>\n",
       "      <td>893.0</td>\n",
       "      <td>1.0</td>\n",
       "      <td>...</td>\n",
       "      <td>0</td>\n",
       "      <td>0</td>\n",
       "      <td>1</td>\n",
       "      <td>0</td>\n",
       "      <td>0</td>\n",
       "      <td>0</td>\n",
       "      <td>0</td>\n",
       "      <td>0</td>\n",
       "      <td>0</td>\n",
       "      <td>0</td>\n",
       "    </tr>\n",
       "    <tr>\n",
       "      <th>3</th>\n",
       "      <td>28000.0</td>\n",
       "      <td>28000.00</td>\n",
       "      <td>16.29</td>\n",
       "      <td>36 months</td>\n",
       "      <td>19.62</td>\n",
       "      <td>NV</td>\n",
       "      <td>7083.33</td>\n",
       "      <td>12.0</td>\n",
       "      <td>38194.0</td>\n",
       "      <td>1.0</td>\n",
       "      <td>...</td>\n",
       "      <td>0</td>\n",
       "      <td>0</td>\n",
       "      <td>0</td>\n",
       "      <td>0</td>\n",
       "      <td>0</td>\n",
       "      <td>0</td>\n",
       "      <td>0</td>\n",
       "      <td>0</td>\n",
       "      <td>0</td>\n",
       "      <td>0</td>\n",
       "    </tr>\n",
       "    <tr>\n",
       "      <th>4</th>\n",
       "      <td>24250.0</td>\n",
       "      <td>17431.82</td>\n",
       "      <td>12.23</td>\n",
       "      <td>60 months</td>\n",
       "      <td>23.79</td>\n",
       "      <td>OH</td>\n",
       "      <td>5833.33</td>\n",
       "      <td>6.0</td>\n",
       "      <td>31061.0</td>\n",
       "      <td>2.0</td>\n",
       "      <td>...</td>\n",
       "      <td>0</td>\n",
       "      <td>0</td>\n",
       "      <td>0</td>\n",
       "      <td>0</td>\n",
       "      <td>0</td>\n",
       "      <td>0</td>\n",
       "      <td>0</td>\n",
       "      <td>0</td>\n",
       "      <td>0</td>\n",
       "      <td>0</td>\n",
       "    </tr>\n",
       "  </tbody>\n",
       "</table>\n",
       "<p>5 rows × 29 columns</p>\n",
       "</div>"
      ],
      "text/plain": [
       "   Amount.Requested  Amount.Funded.By.Investors  Interest.Rate Loan.Length  \\\n",
       "0           25000.0                    25000.00          18.49   60 months   \n",
       "1           19750.0                    19750.00          17.27   60 months   \n",
       "2            2100.0                     2100.00          14.33   36 months   \n",
       "3           28000.0                    28000.00          16.29   36 months   \n",
       "4           24250.0                    17431.82          12.23   60 months   \n",
       "\n",
       "   Debt.To.Income.Ratio State  Monthly.Income  Open.CREDIT.Lines  \\\n",
       "0                 27.56    VA         8606.56               11.0   \n",
       "1                 13.39    NY         6737.50               14.0   \n",
       "2                  3.50    LA         1000.00               13.0   \n",
       "3                 19.62    NV         7083.33               12.0   \n",
       "4                 23.79    OH         5833.33                6.0   \n",
       "\n",
       "   Revolving.CREDIT.Balance  Inquiries.in.the.Last.6.Months  ...  \\\n",
       "0                   15210.0                             3.0  ...   \n",
       "1                   19070.0                             3.0  ...   \n",
       "2                     893.0                             1.0  ...   \n",
       "3                   38194.0                             1.0  ...   \n",
       "4                   31061.0                             2.0  ...   \n",
       "\n",
       "  Loan_purpose_home_improvement  Loan_purpose_house  \\\n",
       "0                             0                   0   \n",
       "1                             0                   0   \n",
       "2                             0                   0   \n",
       "3                             0                   0   \n",
       "4                             0                   0   \n",
       "\n",
       "   Loan_purpose_major_purchase  Loan_purpose_medical  Loan_purpose_moving  \\\n",
       "0                            0                     0                    0   \n",
       "1                            0                     0                    0   \n",
       "2                            1                     0                    0   \n",
       "3                            0                     0                    0   \n",
       "4                            0                     0                    0   \n",
       "\n",
       "   Loan_purpose_other  Loan_purpose_renewable_energy  \\\n",
       "0                   0                              0   \n",
       "1                   0                              0   \n",
       "2                   0                              0   \n",
       "3                   0                              0   \n",
       "4                   0                              0   \n",
       "\n",
       "   Loan_purpose_small_business  Loan_purpose_vacation  Loan_purpose_wedding  \n",
       "0                            0                      0                     0  \n",
       "1                            0                      0                     0  \n",
       "2                            0                      0                     0  \n",
       "3                            0                      0                     0  \n",
       "4                            0                      0                     0  \n",
       "\n",
       "[5 rows x 29 columns]"
      ]
     },
     "execution_count": 48,
     "metadata": {},
     "output_type": "execute_result"
    }
   ],
   "source": [
    "ld_all.head()"
   ]
  },
  {
   "cell_type": "code",
   "execution_count": 49,
   "metadata": {
    "colab": {
     "base_uri": "https://localhost:8080/"
    },
    "id": "mEShxRoDQihC",
    "outputId": "64dbf44c-0248-4a5f-c5a0-72bf1e7cc08b"
   },
   "outputs": [
    {
     "data": {
      "text/plain": [
       "Amount.Requested                   float64\n",
       "Amount.Funded.By.Investors         float64\n",
       "Interest.Rate                      float64\n",
       "Loan.Length                         object\n",
       "Debt.To.Income.Ratio               float64\n",
       "State                               object\n",
       "Monthly.Income                     float64\n",
       "Open.CREDIT.Lines                  float64\n",
       "Revolving.CREDIT.Balance           float64\n",
       "Inquiries.in.the.Last.6.Months     float64\n",
       "coming_from                         object\n",
       "Fico_Score                         float64\n",
       "HO_MORTGAGE                          uint8\n",
       "HO_OWN                               uint8\n",
       "HO_RENT                              uint8\n",
       "Loan_purpose_car                     uint8\n",
       "Loan_purpose_credit_card             uint8\n",
       "Loan_purpose_debt_consolidation      uint8\n",
       "Loan_purpose_educational             uint8\n",
       "Loan_purpose_home_improvement        uint8\n",
       "Loan_purpose_house                   uint8\n",
       "Loan_purpose_major_purchase          uint8\n",
       "Loan_purpose_medical                 uint8\n",
       "Loan_purpose_moving                  uint8\n",
       "Loan_purpose_other                   uint8\n",
       "Loan_purpose_renewable_energy        uint8\n",
       "Loan_purpose_small_business          uint8\n",
       "Loan_purpose_vacation                uint8\n",
       "Loan_purpose_wedding                 uint8\n",
       "dtype: object"
      ]
     },
     "execution_count": 49,
     "metadata": {},
     "output_type": "execute_result"
    }
   ],
   "source": [
    "ld_all.dtypes"
   ]
  },
  {
   "cell_type": "code",
   "execution_count": 50,
   "metadata": {
    "id": "SrdKRoQcTmr7"
   },
   "outputs": [],
   "source": [
    "# Notice that to apply string function on pandas data frame columns you need to str attribute\n",
    "cat_cols = ld_all.select_dtypes(['object']).columns"
   ]
  },
  {
   "cell_type": "code",
   "execution_count": 51,
   "metadata": {
    "colab": {
     "base_uri": "https://localhost:8080/"
    },
    "id": "n5E-1hmMTmr8",
    "outputId": "87c03f0a-4e58-4628-b73c-30b09f8c85ab"
   },
   "outputs": [
    {
     "data": {
      "text/plain": [
       "Index(['Loan.Length', 'State', 'coming_from'], dtype='object')"
      ]
     },
     "execution_count": 51,
     "metadata": {},
     "output_type": "execute_result"
    }
   ],
   "source": [
    "cat_cols"
   ]
  },
  {
   "cell_type": "code",
   "execution_count": 52,
   "metadata": {
    "colab": {
     "base_uri": "https://localhost:8080/",
     "height": 299
    },
    "id": "1gNLalyyfe1x",
    "outputId": "da2c09df-5b1e-49bb-c6bb-ea8e6ade8cd5"
   },
   "outputs": [
    {
     "data": {
      "text/html": [
       "<div>\n",
       "<style scoped>\n",
       "    .dataframe tbody tr th:only-of-type {\n",
       "        vertical-align: middle;\n",
       "    }\n",
       "\n",
       "    .dataframe tbody tr th {\n",
       "        vertical-align: top;\n",
       "    }\n",
       "\n",
       "    .dataframe thead th {\n",
       "        text-align: right;\n",
       "    }\n",
       "</style>\n",
       "<table border=\"1\" class=\"dataframe\">\n",
       "  <thead>\n",
       "    <tr style=\"text-align: right;\">\n",
       "      <th></th>\n",
       "      <th>Amount.Requested</th>\n",
       "      <th>Amount.Funded.By.Investors</th>\n",
       "      <th>Interest.Rate</th>\n",
       "      <th>Loan.Length</th>\n",
       "      <th>Debt.To.Income.Ratio</th>\n",
       "      <th>State</th>\n",
       "      <th>Monthly.Income</th>\n",
       "      <th>Open.CREDIT.Lines</th>\n",
       "      <th>Revolving.CREDIT.Balance</th>\n",
       "      <th>Inquiries.in.the.Last.6.Months</th>\n",
       "      <th>...</th>\n",
       "      <th>Loan_purpose_home_improvement</th>\n",
       "      <th>Loan_purpose_house</th>\n",
       "      <th>Loan_purpose_major_purchase</th>\n",
       "      <th>Loan_purpose_medical</th>\n",
       "      <th>Loan_purpose_moving</th>\n",
       "      <th>Loan_purpose_other</th>\n",
       "      <th>Loan_purpose_renewable_energy</th>\n",
       "      <th>Loan_purpose_small_business</th>\n",
       "      <th>Loan_purpose_vacation</th>\n",
       "      <th>Loan_purpose_wedding</th>\n",
       "    </tr>\n",
       "  </thead>\n",
       "  <tbody>\n",
       "    <tr>\n",
       "      <th>0</th>\n",
       "      <td>25000.0</td>\n",
       "      <td>25000.00</td>\n",
       "      <td>18.49</td>\n",
       "      <td>60 months</td>\n",
       "      <td>27.56</td>\n",
       "      <td>VA</td>\n",
       "      <td>8606.56</td>\n",
       "      <td>11.0</td>\n",
       "      <td>15210.0</td>\n",
       "      <td>3.0</td>\n",
       "      <td>...</td>\n",
       "      <td>0</td>\n",
       "      <td>0</td>\n",
       "      <td>0</td>\n",
       "      <td>0</td>\n",
       "      <td>0</td>\n",
       "      <td>0</td>\n",
       "      <td>0</td>\n",
       "      <td>0</td>\n",
       "      <td>0</td>\n",
       "      <td>0</td>\n",
       "    </tr>\n",
       "    <tr>\n",
       "      <th>1</th>\n",
       "      <td>19750.0</td>\n",
       "      <td>19750.00</td>\n",
       "      <td>17.27</td>\n",
       "      <td>60 months</td>\n",
       "      <td>13.39</td>\n",
       "      <td>NY</td>\n",
       "      <td>6737.50</td>\n",
       "      <td>14.0</td>\n",
       "      <td>19070.0</td>\n",
       "      <td>3.0</td>\n",
       "      <td>...</td>\n",
       "      <td>0</td>\n",
       "      <td>0</td>\n",
       "      <td>0</td>\n",
       "      <td>0</td>\n",
       "      <td>0</td>\n",
       "      <td>0</td>\n",
       "      <td>0</td>\n",
       "      <td>0</td>\n",
       "      <td>0</td>\n",
       "      <td>0</td>\n",
       "    </tr>\n",
       "    <tr>\n",
       "      <th>2</th>\n",
       "      <td>2100.0</td>\n",
       "      <td>2100.00</td>\n",
       "      <td>14.33</td>\n",
       "      <td>36 months</td>\n",
       "      <td>3.50</td>\n",
       "      <td>LA</td>\n",
       "      <td>1000.00</td>\n",
       "      <td>13.0</td>\n",
       "      <td>893.0</td>\n",
       "      <td>1.0</td>\n",
       "      <td>...</td>\n",
       "      <td>0</td>\n",
       "      <td>0</td>\n",
       "      <td>1</td>\n",
       "      <td>0</td>\n",
       "      <td>0</td>\n",
       "      <td>0</td>\n",
       "      <td>0</td>\n",
       "      <td>0</td>\n",
       "      <td>0</td>\n",
       "      <td>0</td>\n",
       "    </tr>\n",
       "    <tr>\n",
       "      <th>3</th>\n",
       "      <td>28000.0</td>\n",
       "      <td>28000.00</td>\n",
       "      <td>16.29</td>\n",
       "      <td>36 months</td>\n",
       "      <td>19.62</td>\n",
       "      <td>NV</td>\n",
       "      <td>7083.33</td>\n",
       "      <td>12.0</td>\n",
       "      <td>38194.0</td>\n",
       "      <td>1.0</td>\n",
       "      <td>...</td>\n",
       "      <td>0</td>\n",
       "      <td>0</td>\n",
       "      <td>0</td>\n",
       "      <td>0</td>\n",
       "      <td>0</td>\n",
       "      <td>0</td>\n",
       "      <td>0</td>\n",
       "      <td>0</td>\n",
       "      <td>0</td>\n",
       "      <td>0</td>\n",
       "    </tr>\n",
       "    <tr>\n",
       "      <th>4</th>\n",
       "      <td>24250.0</td>\n",
       "      <td>17431.82</td>\n",
       "      <td>12.23</td>\n",
       "      <td>60 months</td>\n",
       "      <td>23.79</td>\n",
       "      <td>OH</td>\n",
       "      <td>5833.33</td>\n",
       "      <td>6.0</td>\n",
       "      <td>31061.0</td>\n",
       "      <td>2.0</td>\n",
       "      <td>...</td>\n",
       "      <td>0</td>\n",
       "      <td>0</td>\n",
       "      <td>0</td>\n",
       "      <td>0</td>\n",
       "      <td>0</td>\n",
       "      <td>0</td>\n",
       "      <td>0</td>\n",
       "      <td>0</td>\n",
       "      <td>0</td>\n",
       "      <td>0</td>\n",
       "    </tr>\n",
       "  </tbody>\n",
       "</table>\n",
       "<p>5 rows × 29 columns</p>\n",
       "</div>"
      ],
      "text/plain": [
       "   Amount.Requested  Amount.Funded.By.Investors  Interest.Rate Loan.Length  \\\n",
       "0           25000.0                    25000.00          18.49   60 months   \n",
       "1           19750.0                    19750.00          17.27   60 months   \n",
       "2            2100.0                     2100.00          14.33   36 months   \n",
       "3           28000.0                    28000.00          16.29   36 months   \n",
       "4           24250.0                    17431.82          12.23   60 months   \n",
       "\n",
       "   Debt.To.Income.Ratio State  Monthly.Income  Open.CREDIT.Lines  \\\n",
       "0                 27.56    VA         8606.56               11.0   \n",
       "1                 13.39    NY         6737.50               14.0   \n",
       "2                  3.50    LA         1000.00               13.0   \n",
       "3                 19.62    NV         7083.33               12.0   \n",
       "4                 23.79    OH         5833.33                6.0   \n",
       "\n",
       "   Revolving.CREDIT.Balance  Inquiries.in.the.Last.6.Months  ...  \\\n",
       "0                   15210.0                             3.0  ...   \n",
       "1                   19070.0                             3.0  ...   \n",
       "2                     893.0                             1.0  ...   \n",
       "3                   38194.0                             1.0  ...   \n",
       "4                   31061.0                             2.0  ...   \n",
       "\n",
       "  Loan_purpose_home_improvement  Loan_purpose_house  \\\n",
       "0                             0                   0   \n",
       "1                             0                   0   \n",
       "2                             0                   0   \n",
       "3                             0                   0   \n",
       "4                             0                   0   \n",
       "\n",
       "   Loan_purpose_major_purchase  Loan_purpose_medical  Loan_purpose_moving  \\\n",
       "0                            0                     0                    0   \n",
       "1                            0                     0                    0   \n",
       "2                            1                     0                    0   \n",
       "3                            0                     0                    0   \n",
       "4                            0                     0                    0   \n",
       "\n",
       "   Loan_purpose_other  Loan_purpose_renewable_energy  \\\n",
       "0                   0                              0   \n",
       "1                   0                              0   \n",
       "2                   0                              0   \n",
       "3                   0                              0   \n",
       "4                   0                              0   \n",
       "\n",
       "   Loan_purpose_small_business  Loan_purpose_vacation  Loan_purpose_wedding  \n",
       "0                            0                      0                     0  \n",
       "1                            0                      0                     0  \n",
       "2                            0                      0                     0  \n",
       "3                            0                      0                     0  \n",
       "4                            0                      0                     0  \n",
       "\n",
       "[5 rows x 29 columns]"
      ]
     },
     "execution_count": 52,
     "metadata": {},
     "output_type": "execute_result"
    }
   ],
   "source": [
    "ld_all.head()"
   ]
  },
  {
   "cell_type": "code",
   "execution_count": null,
   "metadata": {
    "colab": {
     "base_uri": "https://localhost:8080/"
    },
    "id": "NQzlPlV0F9-m",
    "outputId": "cd102a42-2866-45eb-951b-143f940de425"
   },
   "outputs": [
    {
     "data": {
      "text/plain": [
       "36 months    1950\n",
       "60 months     548\n",
       ".               1\n",
       "Name: Loan.Length, dtype: int64"
      ]
     },
     "execution_count": 56,
     "metadata": {},
     "output_type": "execute_result"
    }
   ],
   "source": [
    "ld_all['Loan.Length'].value_counts()"
   ]
  },
  {
   "cell_type": "code",
   "execution_count": 56,
   "metadata": {
    "colab": {
     "base_uri": "https://localhost:8080/"
    },
    "id": "hY87YnAFzqbn",
    "outputId": "30c02162-34bf-4f1c-a266-8cd832c9d146"
   },
   "outputs": [
    {
     "data": {
      "text/plain": [
       "0"
      ]
     },
     "execution_count": 56,
     "metadata": {},
     "output_type": "execute_result"
    }
   ],
   "source": [
    "###### Number of missing values in Loan.Length ######\n",
    "n_missing = 2500 - np.sum(ld_all['Loan.Length'].value_counts())\n",
    "n_missing"
   ]
  },
  {
   "cell_type": "code",
   "execution_count": 57,
   "metadata": {
    "id": "DldzZXq0zyS_"
   },
   "outputs": [],
   "source": [
    "ld_all.loc[ld_all['Loan.Length'].isna(), 'Loan.Length'] = '36 months'\n",
    "ld_all.loc[ld_all['Loan.Length']=='.', 'Loan.Length'] = '36 months'"
   ]
  },
  {
   "cell_type": "code",
   "execution_count": 58,
   "metadata": {
    "colab": {
     "base_uri": "https://localhost:8080/",
     "height": 297
    },
    "id": "pRHTPmItf0_g",
    "outputId": "eaa84b9b-31cd-459a-b3ae-7c219648cc0e"
   },
   "outputs": [
    {
     "data": {
      "text/plain": [
       "<AxesSubplot:xlabel='Loan.Length', ylabel='Interest.Rate'>"
      ]
     },
     "execution_count": 58,
     "metadata": {},
     "output_type": "execute_result"
    },
    {
     "data": {
      "image/png": "[encoded data removed]",
      "text/plain": [
       "<Figure size 432x288 with 1 Axes>"
      ]
     },
     "metadata": {
      "needs_background": "light"
     },
     "output_type": "display_data"
    }
   ],
   "source": [
    "sns.boxplot(y = ld_all.loc[ld_all['coming_from']=='train', 'Interest.Rate'], x= ld_all.loc[ld_all['coming_from']=='train', 'Loan.Length'])"
   ]
  },
  {
   "cell_type": "code",
   "execution_count": 59,
   "metadata": {
    "id": "xuPGm5jqWutM"
   },
   "outputs": [],
   "source": [
    "##### Loan.Length column #####\n",
    "\n",
    "ld_all['Loan.Length'].value_counts()\n",
    "\n",
    "k = pd.get_dummies(ld_all['Loan.Length'], prefix = 'LL')\n",
    "\n",
    "ld_all.drop(['Loan.Length'], axis=1, inplace=True)\n",
    "\n",
    "ld_all = pd.concat([ld_all, k], axis=1)"
   ]
  },
  {
   "cell_type": "code",
   "execution_count": 60,
   "metadata": {
    "colab": {
     "base_uri": "https://localhost:8080/"
    },
    "id": "-XBzy_wZHSfI",
    "outputId": "1eb6be24-4b39-4541-baa0-1d46682a1a95"
   },
   "outputs": [
    {
     "data": {
      "text/plain": [
       "Amount.Requested                   float64\n",
       "Amount.Funded.By.Investors         float64\n",
       "Interest.Rate                      float64\n",
       "Debt.To.Income.Ratio               float64\n",
       "State                               object\n",
       "Monthly.Income                     float64\n",
       "Open.CREDIT.Lines                  float64\n",
       "Revolving.CREDIT.Balance           float64\n",
       "Inquiries.in.the.Last.6.Months     float64\n",
       "coming_from                         object\n",
       "Fico_Score                         float64\n",
       "HO_MORTGAGE                          uint8\n",
       "HO_OWN                               uint8\n",
       "HO_RENT                              uint8\n",
       "Loan_purpose_car                     uint8\n",
       "Loan_purpose_credit_card             uint8\n",
       "Loan_purpose_debt_consolidation      uint8\n",
       "Loan_purpose_educational             uint8\n",
       "Loan_purpose_home_improvement        uint8\n",
       "Loan_purpose_house                   uint8\n",
       "Loan_purpose_major_purchase          uint8\n",
       "Loan_purpose_medical                 uint8\n",
       "Loan_purpose_moving                  uint8\n",
       "Loan_purpose_other                   uint8\n",
       "Loan_purpose_renewable_energy        uint8\n",
       "Loan_purpose_small_business          uint8\n",
       "Loan_purpose_vacation                uint8\n",
       "Loan_purpose_wedding                 uint8\n",
       "LL_36 months                         uint8\n",
       "LL_60 months                         uint8\n",
       "dtype: object"
      ]
     },
     "execution_count": 60,
     "metadata": {},
     "output_type": "execute_result"
    }
   ],
   "source": [
    "ld_all.dtypes"
   ]
  },
  {
   "cell_type": "code",
   "execution_count": 61,
   "metadata": {
    "colab": {
     "base_uri": "https://localhost:8080/"
    },
    "id": "oXwcnHZ6gjJ9",
    "outputId": "1a4d82d2-956c-4bc7-f5f6-142831fef9cc"
   },
   "outputs": [
    {
     "data": {
      "text/plain": [
       "(2500, 30)"
      ]
     },
     "execution_count": 61,
     "metadata": {},
     "output_type": "execute_result"
    }
   ],
   "source": [
    "ld_all.shape"
   ]
  },
  {
   "cell_type": "code",
   "execution_count": 62,
   "metadata": {
    "colab": {
     "base_uri": "https://localhost:8080/"
    },
    "id": "SeRRxFo8xsZu",
    "outputId": "177c2590-a530-4a78-ec16-f6d67dd1b3af"
   },
   "outputs": [
    {
     "data": {
      "text/plain": [
       "CA    433\n",
       "NY    255\n",
       "TX    174\n",
       "FL    169\n",
       "IL    101\n",
       "GA     97\n",
       "PA     96\n",
       "NJ     94\n",
       "VA     78\n",
       "MA     73\n",
       "OH     71\n",
       "MD     68\n",
       "NC     64\n",
       "CO     61\n",
       "WA     58\n",
       "CT     50\n",
       "AZ     46\n",
       "MI     45\n",
       "AL     38\n",
       "MN     38\n",
       "MO     33\n",
       "NV     32\n",
       "OR     30\n",
       "SC     28\n",
       "WI     26\n",
       "KY     23\n",
       "LA     22\n",
       "OK     21\n",
       "KS     21\n",
       "UT     16\n",
       "NH     15\n",
       "RI     15\n",
       "WV     14\n",
       "AR     13\n",
       "NM     13\n",
       "HI     12\n",
       "AK     11\n",
       "DC     11\n",
       "DE      8\n",
       "MT      7\n",
       "VT      5\n",
       "WY      4\n",
       "SD      4\n",
       "IN      3\n",
       "MS      1\n",
       ".       1\n",
       "IA      1\n",
       "Name: State, dtype: int64"
      ]
     },
     "execution_count": 62,
     "metadata": {},
     "output_type": "execute_result"
    }
   ],
   "source": [
    "ld_all['State'].value_counts()"
   ]
  },
  {
   "cell_type": "code",
   "execution_count": 63,
   "metadata": {
    "colab": {
     "base_uri": "https://localhost:8080/"
    },
    "id": "wAtN1rlAdvHE",
    "outputId": "4a63af3e-8ad2-4a2f-f18b-3856bac6067f"
   },
   "outputs": [
    {
     "data": {
      "text/plain": [
       "47"
      ]
     },
     "execution_count": 63,
     "metadata": {},
     "output_type": "execute_result"
    }
   ],
   "source": [
    "ld_all['State'].nunique()"
   ]
  },
  {
   "cell_type": "code",
   "execution_count": 64,
   "metadata": {
    "id": "729CFJZYhWJg"
   },
   "outputs": [],
   "source": [
    "state_freq = ld_all['State'].value_counts()"
   ]
  },
  {
   "cell_type": "code",
   "execution_count": 65,
   "metadata": {
    "id": "CXiFIy-Mhcz3"
   },
   "outputs": [],
   "source": [
    "states_to_consider = list(state_freq.loc[state_freq>50].index)"
   ]
  },
  {
   "cell_type": "code",
   "execution_count": 66,
   "metadata": {
    "colab": {
     "base_uri": "https://localhost:8080/"
    },
    "id": "SByS8vhbhzzQ",
    "outputId": "34325b4c-9544-4dbc-838d-011abe7436b6"
   },
   "outputs": [
    {
     "data": {
      "text/plain": [
       "['CA',\n",
       " 'NY',\n",
       " 'TX',\n",
       " 'FL',\n",
       " 'IL',\n",
       " 'GA',\n",
       " 'PA',\n",
       " 'NJ',\n",
       " 'VA',\n",
       " 'MA',\n",
       " 'OH',\n",
       " 'MD',\n",
       " 'NC',\n",
       " 'CO',\n",
       " 'WA']"
      ]
     },
     "execution_count": 66,
     "metadata": {},
     "output_type": "execute_result"
    }
   ],
   "source": [
    "states_to_consider"
   ]
  },
  {
   "cell_type": "code",
   "execution_count": 67,
   "metadata": {
    "colab": {
     "base_uri": "https://localhost:8080/",
     "height": 547
    },
    "id": "iMMl8m5wOizH",
    "outputId": "714c3338-57f8-4259-e37f-6ebd6f1b22e3",
    "scrolled": true
   },
   "outputs": [
    {
     "data": {
      "text/plain": [
       "<AxesSubplot:xlabel='State', ylabel='Interest.Rate'>"
      ]
     },
     "execution_count": 67,
     "metadata": {},
     "output_type": "execute_result"
    },
    {
     "data": {
      "image/png": "[encoded data removed]",
      "text/plain": [
       "<Figure size 432x288 with 1 Axes>"
      ]
     },
     "metadata": {
      "needs_background": "light"
     },
     "output_type": "display_data"
    }
   ],
   "source": [
    "sns.boxplot(y = ld_all.loc[(ld_all['coming_from']=='train') & (ld_all['State'].isin(states_to_consider)), 'Interest.Rate'], \n",
    "            x= ld_all.loc[(ld_all['coming_from']=='train') & (ld_all['State'].isin(states_to_consider)), 'State'])"
   ]
  },
  {
   "cell_type": "code",
   "execution_count": 68,
   "metadata": {
    "id": "F8qVv2xdazzc"
   },
   "outputs": [],
   "source": [
    "del ld_all['State'] ### Hypothesis testing!!!! (ANOVA)"
   ]
  },
  {
   "cell_type": "code",
   "execution_count": 69,
   "metadata": {
    "colab": {
     "base_uri": "https://localhost:8080/"
    },
    "id": "u7Cww2nce_jI",
    "outputId": "b6cbd5df-ec6a-4549-cc39-c39c9367bcef"
   },
   "outputs": [
    {
     "data": {
      "text/plain": [
       "Amount.Requested                   float64\n",
       "Amount.Funded.By.Investors         float64\n",
       "Interest.Rate                      float64\n",
       "Debt.To.Income.Ratio               float64\n",
       "Monthly.Income                     float64\n",
       "Open.CREDIT.Lines                  float64\n",
       "Revolving.CREDIT.Balance           float64\n",
       "Inquiries.in.the.Last.6.Months     float64\n",
       "coming_from                         object\n",
       "Fico_Score                         float64\n",
       "HO_MORTGAGE                          uint8\n",
       "HO_OWN                               uint8\n",
       "HO_RENT                              uint8\n",
       "Loan_purpose_car                     uint8\n",
       "Loan_purpose_credit_card             uint8\n",
       "Loan_purpose_debt_consolidation      uint8\n",
       "Loan_purpose_educational             uint8\n",
       "Loan_purpose_home_improvement        uint8\n",
       "Loan_purpose_house                   uint8\n",
       "Loan_purpose_major_purchase          uint8\n",
       "Loan_purpose_medical                 uint8\n",
       "Loan_purpose_moving                  uint8\n",
       "Loan_purpose_other                   uint8\n",
       "Loan_purpose_renewable_energy        uint8\n",
       "Loan_purpose_small_business          uint8\n",
       "Loan_purpose_vacation                uint8\n",
       "Loan_purpose_wedding                 uint8\n",
       "LL_36 months                         uint8\n",
       "LL_60 months                         uint8\n",
       "dtype: object"
      ]
     },
     "execution_count": 69,
     "metadata": {},
     "output_type": "execute_result"
    }
   ],
   "source": [
    "ld_all.dtypes"
   ]
  },
  {
   "cell_type": "code",
   "execution_count": null,
   "metadata": {
    "colab": {
     "base_uri": "https://localhost:8080/",
     "height": 123
    },
    "id": "R_N3YkwuTmr8",
    "outputId": "f90a64e8-89f7-4517-f6fb-3a080f7ab95d"
   },
   "outputs": [
    {
     "data": {
      "application/vnd.google.colaboratory.intrinsic+json": {
       "type": "string"
      },
      "text/plain": [
       "\"\\n# you can use following method if you want to ignore categories with too low frequencies ,\\n#in next section for logistic regression we will be using  pandas' get dummies function. \\n# you can work with either of these . \\n#ignoring categories with low frequencies however will result in fewer columns without \\n# affecting model performance too much .\\n\\nfor col in cat_cols:\\n    freqs=ld_all[col].value_counts()\\n    k=freqs.index[freqs>20][:-1]\\n    for cat in k:\\n        name=col+'_'+cat\\n        ld_all[name]=(ld_all[col]==cat).astype(int)\\n    del ld_all[col]\\n    print(col)\\n\""
      ]
     },
     "execution_count": 63,
     "metadata": {},
     "output_type": "execute_result"
    }
   ],
   "source": [
    "'''\n",
    "# you can use following method if you want to ignore categories with too low frequencies ,\n",
    "#in next section for logistic regression we will be using  pandas' get dummies function. \n",
    "# you can work with either of these . \n",
    "#ignoring categories with low frequencies however will result in fewer columns without \n",
    "# affecting model performance too much .\n",
    "\n",
    "for col in cat_cols:\n",
    "    freqs=ld_all[col].value_counts()\n",
    "    k=freqs.index[freqs>20][:-1]\n",
    "    for cat in k:\n",
    "        name=col+'_'+cat\n",
    "        ld_all[name]=(ld_all[col]==cat).astype(int)\n",
    "    del ld_all[col]\n",
    "    print(col)\n",
    "'''\n"
   ]
  },
  {
   "cell_type": "code",
   "execution_count": 70,
   "metadata": {
    "colab": {
     "base_uri": "https://localhost:8080/"
    },
    "id": "KzMpli1yTmr9",
    "outputId": "b4efe9f2-ba1a-4dc3-d254-8682c99a0169"
   },
   "outputs": [
    {
     "data": {
      "text/plain": [
       "Amount.Requested                     5\n",
       "Amount.Funded.By.Investors           5\n",
       "Interest.Rate                      300\n",
       "Debt.To.Income.Ratio                 1\n",
       "Monthly.Income                       3\n",
       "Open.CREDIT.Lines                    9\n",
       "Revolving.CREDIT.Balance             5\n",
       "Inquiries.in.the.Last.6.Months       3\n",
       "coming_from                          0\n",
       "Fico_Score                           0\n",
       "HO_MORTGAGE                          0\n",
       "HO_OWN                               0\n",
       "HO_RENT                              0\n",
       "Loan_purpose_car                     0\n",
       "Loan_purpose_credit_card             0\n",
       "Loan_purpose_debt_consolidation      0\n",
       "Loan_purpose_educational             0\n",
       "Loan_purpose_home_improvement        0\n",
       "Loan_purpose_house                   0\n",
       "Loan_purpose_major_purchase          0\n",
       "Loan_purpose_medical                 0\n",
       "Loan_purpose_moving                  0\n",
       "Loan_purpose_other                   0\n",
       "Loan_purpose_renewable_energy        0\n",
       "Loan_purpose_small_business          0\n",
       "Loan_purpose_vacation                0\n",
       "Loan_purpose_wedding                 0\n",
       "LL_36 months                         0\n",
       "LL_60 months                         0\n",
       "dtype: int64"
      ]
     },
     "execution_count": 70,
     "metadata": {},
     "output_type": "execute_result"
    }
   ],
   "source": [
    "######## Finding the count of missing values in the dataset #######\n",
    "ld_all.isnull().sum()"
   ]
  },
  {
   "cell_type": "code",
   "execution_count": 71,
   "metadata": {
    "colab": {
     "base_uri": "https://localhost:8080/",
     "height": 297
    },
    "id": "Ry_COPQAlcoI",
    "outputId": "6e3efd4d-0548-42a3-e64a-f42f8f0c9e40"
   },
   "outputs": [
    {
     "data": {
      "text/plain": [
       "<AxesSubplot:xlabel='Monthly.Income', ylabel='Count'>"
      ]
     },
     "execution_count": 71,
     "metadata": {},
     "output_type": "execute_result"
    },
    {
     "data": {
      "image/png": "[encoded data removed]",
      "text/plain": [
       "<Figure size 432x288 with 1 Axes>"
      ]
     },
     "metadata": {
      "needs_background": "light"
     },
     "output_type": "display_data"
    }
   ],
   "source": [
    "sns.histplot(ld_all.loc[ld_all['coming_from']=='train', 'Monthly.Income'])"
   ]
  },
  {
   "cell_type": "code",
   "execution_count": 73,
   "metadata": {
    "colab": {
     "base_uri": "https://localhost:8080/",
     "height": 237
    },
    "id": "OMbMq2DIRGmY",
    "outputId": "c77b5ba1-c162-46fc-e51c-44e24b001e60"
   },
   "outputs": [
    {
     "data": {
      "text/html": [
       "<div>\n",
       "<style scoped>\n",
       "    .dataframe tbody tr th:only-of-type {\n",
       "        vertical-align: middle;\n",
       "    }\n",
       "\n",
       "    .dataframe tbody tr th {\n",
       "        vertical-align: top;\n",
       "    }\n",
       "\n",
       "    .dataframe thead th {\n",
       "        text-align: right;\n",
       "    }\n",
       "</style>\n",
       "<table border=\"1\" class=\"dataframe\">\n",
       "  <thead>\n",
       "    <tr style=\"text-align: right;\">\n",
       "      <th></th>\n",
       "      <th>Amount.Requested</th>\n",
       "      <th>Amount.Funded.By.Investors</th>\n",
       "      <th>Interest.Rate</th>\n",
       "      <th>Debt.To.Income.Ratio</th>\n",
       "      <th>Monthly.Income</th>\n",
       "      <th>Open.CREDIT.Lines</th>\n",
       "      <th>Revolving.CREDIT.Balance</th>\n",
       "      <th>Inquiries.in.the.Last.6.Months</th>\n",
       "      <th>coming_from</th>\n",
       "      <th>Fico_Score</th>\n",
       "      <th>...</th>\n",
       "      <th>Loan_purpose_major_purchase</th>\n",
       "      <th>Loan_purpose_medical</th>\n",
       "      <th>Loan_purpose_moving</th>\n",
       "      <th>Loan_purpose_other</th>\n",
       "      <th>Loan_purpose_renewable_energy</th>\n",
       "      <th>Loan_purpose_small_business</th>\n",
       "      <th>Loan_purpose_vacation</th>\n",
       "      <th>Loan_purpose_wedding</th>\n",
       "      <th>LL_36 months</th>\n",
       "      <th>LL_60 months</th>\n",
       "    </tr>\n",
       "  </thead>\n",
       "  <tbody>\n",
       "    <tr>\n",
       "      <th>516</th>\n",
       "      <td>4500.0</td>\n",
       "      <td>4500.0</td>\n",
       "      <td>6.91</td>\n",
       "      <td>0.58</td>\n",
       "      <td>65000.00</td>\n",
       "      <td>7.0</td>\n",
       "      <td>3015.0</td>\n",
       "      <td>4.0</td>\n",
       "      <td>train</td>\n",
       "      <td>727.0</td>\n",
       "      <td>...</td>\n",
       "      <td>1</td>\n",
       "      <td>0</td>\n",
       "      <td>0</td>\n",
       "      <td>0</td>\n",
       "      <td>0</td>\n",
       "      <td>0</td>\n",
       "      <td>0</td>\n",
       "      <td>0</td>\n",
       "      <td>1</td>\n",
       "      <td>0</td>\n",
       "    </tr>\n",
       "    <tr>\n",
       "      <th>803</th>\n",
       "      <td>35000.0</td>\n",
       "      <td>35000.0</td>\n",
       "      <td>16.29</td>\n",
       "      <td>17.17</td>\n",
       "      <td>39583.33</td>\n",
       "      <td>14.0</td>\n",
       "      <td>55965.0</td>\n",
       "      <td>2.0</td>\n",
       "      <td>train</td>\n",
       "      <td>707.0</td>\n",
       "      <td>...</td>\n",
       "      <td>0</td>\n",
       "      <td>0</td>\n",
       "      <td>0</td>\n",
       "      <td>0</td>\n",
       "      <td>0</td>\n",
       "      <td>0</td>\n",
       "      <td>0</td>\n",
       "      <td>0</td>\n",
       "      <td>1</td>\n",
       "      <td>0</td>\n",
       "    </tr>\n",
       "    <tr>\n",
       "      <th>1621</th>\n",
       "      <td>33000.0</td>\n",
       "      <td>33000.0</td>\n",
       "      <td>7.62</td>\n",
       "      <td>0.26</td>\n",
       "      <td>102750.00</td>\n",
       "      <td>7.0</td>\n",
       "      <td>95435.0</td>\n",
       "      <td>0.0</td>\n",
       "      <td>train</td>\n",
       "      <td>807.0</td>\n",
       "      <td>...</td>\n",
       "      <td>0</td>\n",
       "      <td>0</td>\n",
       "      <td>0</td>\n",
       "      <td>0</td>\n",
       "      <td>0</td>\n",
       "      <td>0</td>\n",
       "      <td>0</td>\n",
       "      <td>0</td>\n",
       "      <td>1</td>\n",
       "      <td>0</td>\n",
       "    </tr>\n",
       "  </tbody>\n",
       "</table>\n",
       "<p>3 rows × 29 columns</p>\n",
       "</div>"
      ],
      "text/plain": [
       "      Amount.Requested  Amount.Funded.By.Investors  Interest.Rate  \\\n",
       "516             4500.0                      4500.0           6.91   \n",
       "803            35000.0                     35000.0          16.29   \n",
       "1621           33000.0                     33000.0           7.62   \n",
       "\n",
       "      Debt.To.Income.Ratio  Monthly.Income  Open.CREDIT.Lines  \\\n",
       "516                   0.58        65000.00                7.0   \n",
       "803                  17.17        39583.33               14.0   \n",
       "1621                  0.26       102750.00                7.0   \n",
       "\n",
       "      Revolving.CREDIT.Balance  Inquiries.in.the.Last.6.Months coming_from  \\\n",
       "516                     3015.0                             4.0       train   \n",
       "803                    55965.0                             2.0       train   \n",
       "1621                   95435.0                             0.0       train   \n",
       "\n",
       "      Fico_Score  ...  Loan_purpose_major_purchase  Loan_purpose_medical  \\\n",
       "516        727.0  ...                            1                     0   \n",
       "803        707.0  ...                            0                     0   \n",
       "1621       807.0  ...                            0                     0   \n",
       "\n",
       "      Loan_purpose_moving  Loan_purpose_other  Loan_purpose_renewable_energy  \\\n",
       "516                     0                   0                              0   \n",
       "803                     0                   0                              0   \n",
       "1621                    0                   0                              0   \n",
       "\n",
       "      Loan_purpose_small_business  Loan_purpose_vacation  \\\n",
       "516                             0                      0   \n",
       "803                             0                      0   \n",
       "1621                            0                      0   \n",
       "\n",
       "      Loan_purpose_wedding  LL_36 months  LL_60 months  \n",
       "516                      0             1             0  \n",
       "803                      0             1             0  \n",
       "1621                     0             1             0  \n",
       "\n",
       "[3 rows x 29 columns]"
      ]
     },
     "execution_count": 73,
     "metadata": {},
     "output_type": "execute_result"
    }
   ],
   "source": [
    "ld_all.loc[(ld_all['coming_from']=='train') & (ld_all['Monthly.Income']>=30000),:] "
   ]
  },
  {
   "cell_type": "code",
   "execution_count": 74,
   "metadata": {
    "colab": {
     "base_uri": "https://localhost:8080/",
     "height": 297
    },
    "id": "xirazmW3sMQk",
    "outputId": "878707bf-55a5-490d-82f5-9f2613101a03"
   },
   "outputs": [
    {
     "data": {
      "text/plain": [
       "<AxesSubplot:xlabel='Monthly.Income', ylabel='Count'>"
      ]
     },
     "execution_count": 74,
     "metadata": {},
     "output_type": "execute_result"
    },
    {
     "data": {
      "image/png": "[encoded data removed]",
      "text/plain": [
       "<Figure size 432x288 with 1 Axes>"
      ]
     },
     "metadata": {
      "needs_background": "light"
     },
     "output_type": "display_data"
    }
   ],
   "source": [
    "sns.histplot(ld_all.loc[(ld_all['coming_from']=='train') & (ld_all['Monthly.Income']<=30000), 'Monthly.Income'])"
   ]
  },
  {
   "cell_type": "code",
   "execution_count": 75,
   "metadata": {
    "colab": {
     "base_uri": "https://localhost:8080/"
    },
    "id": "XjV_shh3VDIA",
    "outputId": "6aa3d7e9-5edb-44dd-866d-1c1e046108d5"
   },
   "outputs": [
    {
     "name": "stdout",
     "output_type": "stream",
     "text": [
      "5727.459289940829 5000.0\n"
     ]
    }
   ],
   "source": [
    "mean_monthly_Inc = ld_all.loc[ld_all['coming_from']=='train', 'Monthly.Income'].mean()\n",
    "\n",
    "median_monthly_Inc = ld_all.loc[ld_all['coming_from']=='train', 'Monthly.Income'].median()\n",
    "\n",
    "print(mean_monthly_Inc, median_monthly_Inc)"
   ]
  },
  {
   "cell_type": "code",
   "execution_count": 77,
   "metadata": {
    "colab": {
     "base_uri": "https://localhost:8080/",
     "height": 297
    },
    "id": "qQkSK1MusmOh",
    "outputId": "e7e1d96f-32a9-43da-a803-8c509c8c2474"
   },
   "outputs": [
    {
     "data": {
      "text/plain": [
       "<AxesSubplot:xlabel='Amount.Requested', ylabel='Count'>"
      ]
     },
     "execution_count": 77,
     "metadata": {},
     "output_type": "execute_result"
    },
    {
     "data": {
      "image/png": "[encoded data removed]",
      "text/plain": [
       "<Figure size 432x288 with 1 Axes>"
      ]
     },
     "metadata": {
      "needs_background": "light"
     },
     "output_type": "display_data"
    }
   ],
   "source": [
    "sns.histplot(ld_all.loc[ld_all['coming_from']=='train', 'Amount.Requested'])"
   ]
  },
  {
   "cell_type": "code",
   "execution_count": 78,
   "metadata": {
    "colab": {
     "base_uri": "https://localhost:8080/"
    },
    "id": "o9AITX89TDwF",
    "outputId": "1c7888ff-89a0-43c2-80be-984109782483"
   },
   "outputs": [
    {
     "name": "stdout",
     "output_type": "stream",
     "text": [
      "12496.469248291573 10000.0\n"
     ]
    }
   ],
   "source": [
    "mean_amnt_req = ld_all.loc[ld_all['coming_from']=='train', 'Amount.Requested'].mean()\n",
    "\n",
    "median_amnt_req = ld_all.loc[ld_all['coming_from']=='train', 'Amount.Requested'].median()\n",
    "\n",
    "print(mean_amnt_req, median_amnt_req)"
   ]
  },
  {
   "cell_type": "code",
   "execution_count": 79,
   "metadata": {
    "colab": {
     "base_uri": "https://localhost:8080/",
     "height": 297
    },
    "id": "uqQ_uBDqUCrJ",
    "outputId": "433d894c-6fb0-4a58-e166-0572cc51a7fb"
   },
   "outputs": [
    {
     "data": {
      "text/plain": [
       "<AxesSubplot:xlabel='Amount.Funded.By.Investors', ylabel='Count'>"
      ]
     },
     "execution_count": 79,
     "metadata": {},
     "output_type": "execute_result"
    },
    {
     "data": {
      "image/png": "[encoded data removed]",
      "text/plain": [
       "<Figure size 432x288 with 1 Axes>"
      ]
     },
     "metadata": {
      "needs_background": "light"
     },
     "output_type": "display_data"
    }
   ],
   "source": [
    "sns.histplot(ld_all.loc[ld_all['coming_from']=='train', 'Amount.Funded.By.Investors'])"
   ]
  },
  {
   "cell_type": "code",
   "execution_count": 80,
   "metadata": {
    "colab": {
     "base_uri": "https://localhost:8080/"
    },
    "id": "BGFwMlwlUOX9",
    "outputId": "52a06ed8-d6e4-4196-cbd1-efa13e7b0cc4"
   },
   "outputs": [
    {
     "name": "stdout",
     "output_type": "stream",
     "text": [
      "12077.803406193085 10000.0\n"
     ]
    }
   ],
   "source": [
    "mean_amnt_req_by_inves = ld_all.loc[ld_all['coming_from']=='train', 'Amount.Funded.By.Investors'].mean()\n",
    "\n",
    "median_amnt_req_by_inves = ld_all.loc[ld_all['coming_from']=='train', 'Amount.Funded.By.Investors'].median()\n",
    "\n",
    "print(mean_amnt_req_by_inves, median_amnt_req_by_inves)"
   ]
  },
  {
   "cell_type": "code",
   "execution_count": 81,
   "metadata": {
    "colab": {
     "base_uri": "https://localhost:8080/",
     "height": 297
    },
    "id": "qj4oXZJFSTou",
    "outputId": "04516187-c61a-4a5a-b0b5-8e74f2b50080"
   },
   "outputs": [
    {
     "data": {
      "text/plain": [
       "<AxesSubplot:xlabel='Debt.To.Income.Ratio', ylabel='Count'>"
      ]
     },
     "execution_count": 81,
     "metadata": {},
     "output_type": "execute_result"
    },
    {
     "data": {
      "image/png": "[encoded data removed]",
      "text/plain": [
       "<Figure size 432x288 with 1 Axes>"
      ]
     },
     "metadata": {
      "needs_background": "light"
     },
     "output_type": "display_data"
    }
   ],
   "source": [
    "sns.histplot(ld_all.loc[ld_all['coming_from']=='train', 'Debt.To.Income.Ratio'])"
   ]
  },
  {
   "cell_type": "code",
   "execution_count": 82,
   "metadata": {
    "colab": {
     "base_uri": "https://localhost:8080/",
     "height": 297
    },
    "id": "yhQQjXWpSivl",
    "outputId": "eb0ff782-54be-4e64-a82b-261ab96caed0"
   },
   "outputs": [
    {
     "data": {
      "text/plain": [
       "<AxesSubplot:xlabel='Interest.Rate', ylabel='Count'>"
      ]
     },
     "execution_count": 82,
     "metadata": {},
     "output_type": "execute_result"
    },
    {
     "data": {
      "image/png": "[encoded data removed]",
      "text/plain": [
       "<Figure size 432x288 with 1 Axes>"
      ]
     },
     "metadata": {
      "needs_background": "light"
     },
     "output_type": "display_data"
    }
   ],
   "source": [
    "sns.histplot(ld_all.loc[ld_all['coming_from']=='train', 'Interest.Rate'])"
   ]
  },
  {
   "cell_type": "code",
   "execution_count": null,
   "metadata": {
    "id": "cx2iXmXET2G1"
   },
   "outputs": [],
   "source": [
    "####### Missing value imputation ########\n",
    "\n",
    "### Amt.Requested - Median - 10000\n",
    "### Amt.Funded.By.Investors - Median - 10000\n",
    "### Debt.To.Income.Ratio - Median \n",
    "### Monthly.Income - Median\n"
   ]
  },
  {
   "cell_type": "code",
   "execution_count": 83,
   "metadata": {
    "id": "gNunbS3NTmr9"
   },
   "outputs": [],
   "source": [
    "####### Not a right thing #######\n",
    "\n",
    "for col in ld_all.columns:\n",
    "    if (col not in ['Interest.Rate','coming_from'])&(ld_all[col].isnull().sum()>0):\n",
    "      median_val = ld_all.loc[ld_all['coming_from']=='train',col].median() ## computing only using training\n",
    "      ld_all.loc[ld_all[col].isnull(), col] = median_val  ### replacing both train and test"
   ]
  },
  {
   "cell_type": "code",
   "execution_count": 84,
   "metadata": {
    "colab": {
     "base_uri": "https://localhost:8080/"
    },
    "id": "P8PqDL9sTmr9",
    "outputId": "a70049e4-938e-4939-8c5d-106289a966c4"
   },
   "outputs": [
    {
     "data": {
      "text/plain": [
       "Amount.Requested                     0\n",
       "Amount.Funded.By.Investors           0\n",
       "Interest.Rate                      300\n",
       "Debt.To.Income.Ratio                 0\n",
       "Monthly.Income                       0\n",
       "Open.CREDIT.Lines                    0\n",
       "Revolving.CREDIT.Balance             0\n",
       "Inquiries.in.the.Last.6.Months       0\n",
       "coming_from                          0\n",
       "Fico_Score                           0\n",
       "HO_MORTGAGE                          0\n",
       "HO_OWN                               0\n",
       "HO_RENT                              0\n",
       "Loan_purpose_car                     0\n",
       "Loan_purpose_credit_card             0\n",
       "Loan_purpose_debt_consolidation      0\n",
       "Loan_purpose_educational             0\n",
       "Loan_purpose_home_improvement        0\n",
       "Loan_purpose_house                   0\n",
       "Loan_purpose_major_purchase          0\n",
       "Loan_purpose_medical                 0\n",
       "Loan_purpose_moving                  0\n",
       "Loan_purpose_other                   0\n",
       "Loan_purpose_renewable_energy        0\n",
       "Loan_purpose_small_business          0\n",
       "Loan_purpose_vacation                0\n",
       "Loan_purpose_wedding                 0\n",
       "LL_36 months                         0\n",
       "LL_60 months                         0\n",
       "dtype: int64"
      ]
     },
     "execution_count": 84,
     "metadata": {},
     "output_type": "execute_result"
    }
   ],
   "source": [
    "ld_all.isnull().sum()"
   ]
  },
  {
   "cell_type": "code",
   "execution_count": 85,
   "metadata": {
    "colab": {
     "base_uri": "https://localhost:8080/",
     "height": 775
    },
    "id": "Iz58aAopSNRy",
    "outputId": "ba8aef62-5f87-4c4a-c1a2-b6e5e1275a4d"
   },
   "outputs": [
    {
     "data": {
      "image/png": "[encoded data removed]",
      "text/plain": [
       "<Figure size 1440x1440 with 9 Axes>"
      ]
     },
     "metadata": {
      "needs_background": "light"
     },
     "output_type": "display_data"
    }
   ],
   "source": [
    "###### Finding outliers ##########\n",
    "\n",
    "#### Visualizing numeric columns ######\n",
    "\n",
    "genuine_numeric_cols = ['Amount.Requested', 'Amount.Funded.By.Investors','Interest.Rate', 'Debt.To.Income.Ratio',\n",
    "                        'Monthly.Income', 'Open.CREDIT.Lines', 'Revolving.CREDIT.Balance',\n",
    "                        'Inquiries.in.the.Last.6.Months', 'Fico_Score']\n",
    "\n",
    "numeric_cols = ld_all.loc[ld_all['coming_from']=='train',genuine_numeric_cols] ### selects numeric columns\n",
    "\n",
    "column_names = list(numeric_cols.columns)\n",
    "\n",
    "col_index = 0\n",
    "\n",
    "plot_rows = 3\n",
    "plot_cols = 3\n",
    "\n",
    "fig, ax = plt.subplots(nrows = plot_rows,ncols=plot_cols,figsize = (20,20))\n",
    "\n",
    "for row_count in range(plot_rows):\n",
    "    for col_count in range(plot_cols):\n",
    "        ax[row_count][col_count].scatter(y = numeric_cols[column_names[col_index]],x=numeric_cols.index)\n",
    "        ax[row_count][col_count].set_ylabel(column_names[col_index])\n",
    "        col_index = col_index + 1"
   ]
  },
  {
   "cell_type": "code",
   "execution_count": null,
   "metadata": {
    "id": "U03PXCHjdeg7"
   },
   "outputs": [],
   "source": [
    "###### Takeaway ##########\n",
    "\n",
    "##### Monthly Income can be capped at 30000\n",
    "##### Revolving Credit Balance can be capped at 150000"
   ]
  },
  {
   "cell_type": "code",
   "execution_count": 86,
   "metadata": {
    "id": "hHtp6y58ef39"
   },
   "outputs": [],
   "source": [
    "#### Capping of variables #######\n",
    "ld_all.loc[ld_all['Monthly.Income']>=30000, 'Monthly.Income'] = 30000\n",
    "ld_all.loc[ld_all['Revolving.CREDIT.Balance']>=150000, 'Revolving.CREDIT.Balance'] = 150000"
   ]
  },
  {
   "cell_type": "code",
   "execution_count": null,
   "metadata": {
    "colab": {
     "base_uri": "https://localhost:8080/",
     "height": 176
    },
    "id": "PVERSPRFSNeB",
    "outputId": "a6bd6789-587f-4e46-8776-04fbcd8c8d3d"
   },
   "outputs": [
    {
     "data": {
      "text/html": [
       "\n",
       "  <div id=\"df-86c2d7bd-a276-4edf-8bc3-e006bf520986\">\n",
       "    <div class=\"colab-df-container\">\n",
       "      <div>\n",
       "<style scoped>\n",
       "    .dataframe tbody tr th:only-of-type {\n",
       "        vertical-align: middle;\n",
       "    }\n",
       "\n",
       "    .dataframe tbody tr th {\n",
       "        vertical-align: top;\n",
       "    }\n",
       "\n",
       "    .dataframe thead th {\n",
       "        text-align: right;\n",
       "    }\n",
       "</style>\n",
       "<table border=\"1\" class=\"dataframe\">\n",
       "  <thead>\n",
       "    <tr style=\"text-align: right;\">\n",
       "      <th></th>\n",
       "      <th>Amount.Requested</th>\n",
       "      <th>Amount.Funded.By.Investors</th>\n",
       "      <th>Interest.Rate</th>\n",
       "      <th>Debt.To.Income.Ratio</th>\n",
       "      <th>Monthly.Income</th>\n",
       "      <th>Open.CREDIT.Lines</th>\n",
       "      <th>Revolving.CREDIT.Balance</th>\n",
       "      <th>Inquiries.in.the.Last.6.Months</th>\n",
       "      <th>Employment.Length</th>\n",
       "      <th>data</th>\n",
       "      <th>Fico_Score</th>\n",
       "      <th>HO_MORTGAGE</th>\n",
       "      <th>HO_OWN</th>\n",
       "      <th>HO_RENT</th>\n",
       "      <th>Loan_purpose_car</th>\n",
       "      <th>Loan_purpose_credit_card</th>\n",
       "      <th>Loan_purpose_debt_consolidation</th>\n",
       "      <th>Loan_purpose_educational</th>\n",
       "      <th>Loan_purpose_home_improvement</th>\n",
       "      <th>Loan_purpose_house</th>\n",
       "      <th>Loan_purpose_major_purchase</th>\n",
       "      <th>Loan_purpose_medical</th>\n",
       "      <th>Loan_purpose_moving</th>\n",
       "      <th>Loan_purpose_other</th>\n",
       "      <th>Loan_purpose_small_business</th>\n",
       "      <th>Loan_purpose_vacation</th>\n",
       "      <th>Loan_purpose_wedding</th>\n",
       "      <th>loan_period</th>\n",
       "    </tr>\n",
       "  </thead>\n",
       "  <tbody>\n",
       "    <tr>\n",
       "      <th>516</th>\n",
       "      <td>4500.0</td>\n",
       "      <td>4500.0</td>\n",
       "      <td>6.91</td>\n",
       "      <td>0.58</td>\n",
       "      <td>65000.0</td>\n",
       "      <td>7.0</td>\n",
       "      <td>3015.0</td>\n",
       "      <td>4.0</td>\n",
       "      <td>7.0</td>\n",
       "      <td>train</td>\n",
       "      <td>727.0</td>\n",
       "      <td>1</td>\n",
       "      <td>0</td>\n",
       "      <td>0</td>\n",
       "      <td>0</td>\n",
       "      <td>0</td>\n",
       "      <td>0</td>\n",
       "      <td>0</td>\n",
       "      <td>0</td>\n",
       "      <td>0</td>\n",
       "      <td>1</td>\n",
       "      <td>0</td>\n",
       "      <td>0</td>\n",
       "      <td>0</td>\n",
       "      <td>0</td>\n",
       "      <td>0</td>\n",
       "      <td>0</td>\n",
       "      <td>0</td>\n",
       "    </tr>\n",
       "    <tr>\n",
       "      <th>1621</th>\n",
       "      <td>33000.0</td>\n",
       "      <td>33000.0</td>\n",
       "      <td>7.62</td>\n",
       "      <td>0.26</td>\n",
       "      <td>102750.0</td>\n",
       "      <td>7.0</td>\n",
       "      <td>95435.0</td>\n",
       "      <td>0.0</td>\n",
       "      <td>10.0</td>\n",
       "      <td>train</td>\n",
       "      <td>807.0</td>\n",
       "      <td>1</td>\n",
       "      <td>0</td>\n",
       "      <td>0</td>\n",
       "      <td>0</td>\n",
       "      <td>0</td>\n",
       "      <td>1</td>\n",
       "      <td>0</td>\n",
       "      <td>0</td>\n",
       "      <td>0</td>\n",
       "      <td>0</td>\n",
       "      <td>0</td>\n",
       "      <td>0</td>\n",
       "      <td>0</td>\n",
       "      <td>0</td>\n",
       "      <td>0</td>\n",
       "      <td>0</td>\n",
       "      <td>0</td>\n",
       "    </tr>\n",
       "  </tbody>\n",
       "</table>\n",
       "</div>\n",
       "      <button class=\"colab-df-convert\" onclick=\"convertToInteractive('df-86c2d7bd-a276-4edf-8bc3-e006bf520986')\"\n",
       "              title=\"Convert this dataframe to an interactive table.\"\n",
       "              style=\"display:none;\">\n",
       "        \n",
       "  <svg xmlns=\"http://www.w3.org/2000/svg\" height=\"24px\"viewBox=\"0 0 24 24\"\n",
       "       width=\"24px\">\n",
       "    <path d=\"M0 0h24v24H0V0z\" fill=\"none\"/>\n",
       "    <path d=\"M18.56 5.44l.94 2.06.94-2.06 2.06-.94-2.06-.94-.94-2.06-.94 2.06-2.06.94zm-11 1L8.5 8.5l.94-2.06 2.06-.94-2.06-.94L8.5 2.5l-.94 2.06-2.06.94zm10 10l.94 2.06.94-2.06 2.06-.94-2.06-.94-.94-2.06-.94 2.06-2.06.94z\"/><path d=\"M17.41 7.96l-1.37-1.37c-.4-.4-.92-.59-1.43-.59-.52 0-1.04.2-1.43.59L10.3 9.45l-7.72 7.72c-.78.78-.78 2.05 0 2.83L4 21.41c.39.39.9.59 1.41.59.51 0 1.02-.2 1.41-.59l7.78-7.78 2.81-2.81c.8-.78.8-2.07 0-2.86zM5.41 20L4 18.59l7.72-7.72 1.47 1.35L5.41 20z\"/>\n",
       "  </svg>\n",
       "      </button>\n",
       "      \n",
       "  <style>\n",
       "    .colab-df-container {\n",
       "      display:flex;\n",
       "      flex-wrap:wrap;\n",
       "      gap: 12px;\n",
       "    }\n",
       "\n",
       "    .colab-df-convert {\n",
       "      background-color: #E8F0FE;\n",
       "      border: none;\n",
       "      border-radius: 50%;\n",
       "      cursor: pointer;\n",
       "      display: none;\n",
       "      fill: #1967D2;\n",
       "      height: 32px;\n",
       "      padding: 0 0 0 0;\n",
       "      width: 32px;\n",
       "    }\n",
       "\n",
       "    .colab-df-convert:hover {\n",
       "      background-color: #E2EBFA;\n",
       "      box-shadow: 0px 1px 2px rgba(60, 64, 67, 0.3), 0px 1px 3px 1px rgba(60, 64, 67, 0.15);\n",
       "      fill: #174EA6;\n",
       "    }\n",
       "\n",
       "    [theme=dark] .colab-df-convert {\n",
       "      background-color: #3B4455;\n",
       "      fill: #D2E3FC;\n",
       "    }\n",
       "\n",
       "    [theme=dark] .colab-df-convert:hover {\n",
       "      background-color: #434B5C;\n",
       "      box-shadow: 0px 1px 3px 1px rgba(0, 0, 0, 0.15);\n",
       "      filter: drop-shadow(0px 1px 2px rgba(0, 0, 0, 0.3));\n",
       "      fill: #FFFFFF;\n",
       "    }\n",
       "  </style>\n",
       "\n",
       "      <script>\n",
       "        const buttonEl =\n",
       "          document.querySelector('#df-86c2d7bd-a276-4edf-8bc3-e006bf520986 button.colab-df-convert');\n",
       "        buttonEl.style.display =\n",
       "          google.colab.kernel.accessAllowed ? 'block' : 'none';\n",
       "\n",
       "        async function convertToInteractive(key) {\n",
       "          const element = document.querySelector('#df-86c2d7bd-a276-4edf-8bc3-e006bf520986');\n",
       "          const dataTable =\n",
       "            await google.colab.kernel.invokeFunction('convertToInteractive',\n",
       "                                                     [key], {});\n",
       "          if (!dataTable) return;\n",
       "\n",
       "          const docLinkHtml = 'Like what you see? Visit the ' +\n",
       "            '<a target=\"_blank\" href=https://colab.research.google.com/notebooks/data_table.ipynb>data table notebook</a>'\n",
       "            + ' to learn more about interactive tables.';\n",
       "          element.innerHTML = '';\n",
       "          dataTable['output_type'] = 'display_data';\n",
       "          await google.colab.output.renderOutput(dataTable, element);\n",
       "          const docLink = document.createElement('div');\n",
       "          docLink.innerHTML = docLinkHtml;\n",
       "          element.appendChild(docLink);\n",
       "        }\n",
       "      </script>\n",
       "    </div>\n",
       "  </div>\n",
       "  "
      ],
      "text/plain": [
       "      Amount.Requested  ...  loan_period\n",
       "516             4500.0  ...            0\n",
       "1621           33000.0  ...            0\n",
       "\n",
       "[2 rows x 28 columns]"
      ]
     },
     "execution_count": 93,
     "metadata": {},
     "output_type": "execute_result"
    }
   ],
   "source": [
    "##### Monthly Income outlier treatment ####\n",
    "'''\n",
    "### Lets find it ####\n",
    "\n",
    "ld_all.loc[(ld_all['data']=='train') & (ld_all['Monthly.Income']>60000),:]\n",
    "\n",
    "###### Dropping the row with unusually high monthly income #####\n",
    "\n",
    "ld_all.drop([516,1621],axis=0,inplace=True)\n",
    "#ld_all.drop([516],axis=0,inplace=True)\n",
    "#ld_all.loc[ld_all['Monthly.Income']>40000,'Monthly.Income'] = 40000\n",
    "'''"
   ]
  },
  {
   "cell_type": "code",
   "execution_count": null,
   "metadata": {
    "id": "Mn2_pFGHz0M4"
   },
   "outputs": [],
   "source": [
    "####### Converting all monthly incomes greater than 20000 to 20000  ######\n",
    "'''\n",
    "ld_all.loc[(ld_all['Monthly.Income']>20000) & (ld_all['data']=='train'), 'Monthly.Income'] = 20000\n",
    "'''"
   ]
  },
  {
   "cell_type": "code",
   "execution_count": null,
   "metadata": {
    "id": "LGsheR9t0OnQ"
   },
   "outputs": [],
   "source": []
  },
  {
   "cell_type": "code",
   "execution_count": null,
   "metadata": {
    "id": "O5ycM7awZN6U"
   },
   "outputs": [],
   "source": []
  },
  {
   "cell_type": "code",
   "execution_count": null,
   "metadata": {
    "id": "GGQzlQgJZ0BA"
   },
   "outputs": [],
   "source": []
  },
  {
   "cell_type": "code",
   "execution_count": 87,
   "metadata": {
    "colab": {
     "base_uri": "https://localhost:8080/",
     "height": 396
    },
    "id": "3Lvg4jmKdckw",
    "outputId": "7858fce7-e4ab-406c-899c-9a8965e55cbf"
   },
   "outputs": [
    {
     "data": {
      "text/html": [
       "<div>\n",
       "<style scoped>\n",
       "    .dataframe tbody tr th:only-of-type {\n",
       "        vertical-align: middle;\n",
       "    }\n",
       "\n",
       "    .dataframe tbody tr th {\n",
       "        vertical-align: top;\n",
       "    }\n",
       "\n",
       "    .dataframe thead th {\n",
       "        text-align: right;\n",
       "    }\n",
       "</style>\n",
       "<table border=\"1\" class=\"dataframe\">\n",
       "  <thead>\n",
       "    <tr style=\"text-align: right;\">\n",
       "      <th></th>\n",
       "      <th>Amount.Requested</th>\n",
       "      <th>Amount.Funded.By.Investors</th>\n",
       "      <th>Interest.Rate</th>\n",
       "      <th>Debt.To.Income.Ratio</th>\n",
       "      <th>Monthly.Income</th>\n",
       "      <th>Open.CREDIT.Lines</th>\n",
       "      <th>Revolving.CREDIT.Balance</th>\n",
       "      <th>Inquiries.in.the.Last.6.Months</th>\n",
       "      <th>Fico_Score</th>\n",
       "    </tr>\n",
       "  </thead>\n",
       "  <tbody>\n",
       "    <tr>\n",
       "      <th>Amount.Requested</th>\n",
       "      <td>1.000000</td>\n",
       "      <td>0.966098</td>\n",
       "      <td>0.330082</td>\n",
       "      <td>0.073094</td>\n",
       "      <td>0.447075</td>\n",
       "      <td>0.194951</td>\n",
       "      <td>0.300023</td>\n",
       "      <td>-0.013203</td>\n",
       "      <td>0.083624</td>\n",
       "    </tr>\n",
       "    <tr>\n",
       "      <th>Amount.Funded.By.Investors</th>\n",
       "      <td>0.966098</td>\n",
       "      <td>1.000000</td>\n",
       "      <td>0.335200</td>\n",
       "      <td>0.087137</td>\n",
       "      <td>0.424931</td>\n",
       "      <td>0.185464</td>\n",
       "      <td>0.277462</td>\n",
       "      <td>-0.055585</td>\n",
       "      <td>0.072549</td>\n",
       "    </tr>\n",
       "    <tr>\n",
       "      <th>Interest.Rate</th>\n",
       "      <td>0.330082</td>\n",
       "      <td>0.335200</td>\n",
       "      <td>1.000000</td>\n",
       "      <td>0.177830</td>\n",
       "      <td>0.029569</td>\n",
       "      <td>0.091229</td>\n",
       "      <td>0.068946</td>\n",
       "      <td>0.169779</td>\n",
       "      <td>-0.708394</td>\n",
       "    </tr>\n",
       "    <tr>\n",
       "      <th>Debt.To.Income.Ratio</th>\n",
       "      <td>0.073094</td>\n",
       "      <td>0.087137</td>\n",
       "      <td>0.177830</td>\n",
       "      <td>1.000000</td>\n",
       "      <td>-0.178818</td>\n",
       "      <td>0.369016</td>\n",
       "      <td>0.192871</td>\n",
       "      <td>0.010945</td>\n",
       "      <td>-0.225485</td>\n",
       "    </tr>\n",
       "    <tr>\n",
       "      <th>Monthly.Income</th>\n",
       "      <td>0.447075</td>\n",
       "      <td>0.424931</td>\n",
       "      <td>0.029569</td>\n",
       "      <td>-0.178818</td>\n",
       "      <td>1.000000</td>\n",
       "      <td>0.215044</td>\n",
       "      <td>0.407527</td>\n",
       "      <td>0.039381</td>\n",
       "      <td>0.120259</td>\n",
       "    </tr>\n",
       "    <tr>\n",
       "      <th>Open.CREDIT.Lines</th>\n",
       "      <td>0.194951</td>\n",
       "      <td>0.185464</td>\n",
       "      <td>0.091229</td>\n",
       "      <td>0.369016</td>\n",
       "      <td>0.215044</td>\n",
       "      <td>1.000000</td>\n",
       "      <td>0.294741</td>\n",
       "      <td>0.111706</td>\n",
       "      <td>-0.091026</td>\n",
       "    </tr>\n",
       "    <tr>\n",
       "      <th>Revolving.CREDIT.Balance</th>\n",
       "      <td>0.300023</td>\n",
       "      <td>0.277462</td>\n",
       "      <td>0.068946</td>\n",
       "      <td>0.192871</td>\n",
       "      <td>0.407527</td>\n",
       "      <td>0.294741</td>\n",
       "      <td>1.000000</td>\n",
       "      <td>0.003500</td>\n",
       "      <td>-0.002772</td>\n",
       "    </tr>\n",
       "    <tr>\n",
       "      <th>Inquiries.in.the.Last.6.Months</th>\n",
       "      <td>-0.013203</td>\n",
       "      <td>-0.055585</td>\n",
       "      <td>0.169779</td>\n",
       "      <td>0.010945</td>\n",
       "      <td>0.039381</td>\n",
       "      <td>0.111706</td>\n",
       "      <td>0.003500</td>\n",
       "      <td>1.000000</td>\n",
       "      <td>-0.091786</td>\n",
       "    </tr>\n",
       "    <tr>\n",
       "      <th>Fico_Score</th>\n",
       "      <td>0.083624</td>\n",
       "      <td>0.072549</td>\n",
       "      <td>-0.708394</td>\n",
       "      <td>-0.225485</td>\n",
       "      <td>0.120259</td>\n",
       "      <td>-0.091026</td>\n",
       "      <td>-0.002772</td>\n",
       "      <td>-0.091786</td>\n",
       "      <td>1.000000</td>\n",
       "    </tr>\n",
       "  </tbody>\n",
       "</table>\n",
       "</div>"
      ],
      "text/plain": [
       "                                Amount.Requested  Amount.Funded.By.Investors  \\\n",
       "Amount.Requested                        1.000000                    0.966098   \n",
       "Amount.Funded.By.Investors              0.966098                    1.000000   \n",
       "Interest.Rate                           0.330082                    0.335200   \n",
       "Debt.To.Income.Ratio                    0.073094                    0.087137   \n",
       "Monthly.Income                          0.447075                    0.424931   \n",
       "Open.CREDIT.Lines                       0.194951                    0.185464   \n",
       "Revolving.CREDIT.Balance                0.300023                    0.277462   \n",
       "Inquiries.in.the.Last.6.Months         -0.013203                   -0.055585   \n",
       "Fico_Score                              0.083624                    0.072549   \n",
       "\n",
       "                                Interest.Rate  Debt.To.Income.Ratio  \\\n",
       "Amount.Requested                     0.330082              0.073094   \n",
       "Amount.Funded.By.Investors           0.335200              0.087137   \n",
       "Interest.Rate                        1.000000              0.177830   \n",
       "Debt.To.Income.Ratio                 0.177830              1.000000   \n",
       "Monthly.Income                       0.029569             -0.178818   \n",
       "Open.CREDIT.Lines                    0.091229              0.369016   \n",
       "Revolving.CREDIT.Balance             0.068946              0.192871   \n",
       "Inquiries.in.the.Last.6.Months       0.169779              0.010945   \n",
       "Fico_Score                          -0.708394             -0.225485   \n",
       "\n",
       "                                Monthly.Income  Open.CREDIT.Lines  \\\n",
       "Amount.Requested                      0.447075           0.194951   \n",
       "Amount.Funded.By.Investors            0.424931           0.185464   \n",
       "Interest.Rate                         0.029569           0.091229   \n",
       "Debt.To.Income.Ratio                 -0.178818           0.369016   \n",
       "Monthly.Income                        1.000000           0.215044   \n",
       "Open.CREDIT.Lines                     0.215044           1.000000   \n",
       "Revolving.CREDIT.Balance              0.407527           0.294741   \n",
       "Inquiries.in.the.Last.6.Months        0.039381           0.111706   \n",
       "Fico_Score                            0.120259          -0.091026   \n",
       "\n",
       "                                Revolving.CREDIT.Balance  \\\n",
       "Amount.Requested                                0.300023   \n",
       "Amount.Funded.By.Investors                      0.277462   \n",
       "Interest.Rate                                   0.068946   \n",
       "Debt.To.Income.Ratio                            0.192871   \n",
       "Monthly.Income                                  0.407527   \n",
       "Open.CREDIT.Lines                               0.294741   \n",
       "Revolving.CREDIT.Balance                        1.000000   \n",
       "Inquiries.in.the.Last.6.Months                  0.003500   \n",
       "Fico_Score                                     -0.002772   \n",
       "\n",
       "                                Inquiries.in.the.Last.6.Months  Fico_Score  \n",
       "Amount.Requested                                     -0.013203    0.083624  \n",
       "Amount.Funded.By.Investors                           -0.055585    0.072549  \n",
       "Interest.Rate                                         0.169779   -0.708394  \n",
       "Debt.To.Income.Ratio                                  0.010945   -0.225485  \n",
       "Monthly.Income                                        0.039381    0.120259  \n",
       "Open.CREDIT.Lines                                     0.111706   -0.091026  \n",
       "Revolving.CREDIT.Balance                              0.003500   -0.002772  \n",
       "Inquiries.in.the.Last.6.Months                        1.000000   -0.091786  \n",
       "Fico_Score                                           -0.091786    1.000000  "
      ]
     },
     "execution_count": 87,
     "metadata": {},
     "output_type": "execute_result"
    }
   ],
   "source": [
    "##### find the correlations ######\n",
    "\n",
    "#### High corrlation between target variable and features (good thing)\n",
    "#### High correlation among features (bad) \n",
    "\n",
    "#numeric_cols.corr() ### features with >0.95 <-0.95 (remove one of these features)\n",
    "\n",
    "genuine_numeric_cols = ['Amount.Requested', 'Amount.Funded.By.Investors','Interest.Rate', 'Debt.To.Income.Ratio',\n",
    "                        'Monthly.Income', 'Open.CREDIT.Lines', 'Revolving.CREDIT.Balance',\n",
    "                        'Inquiries.in.the.Last.6.Months', 'Fico_Score']\n",
    "\n",
    "numeric_cols_new = ld_all.loc[ld_all['coming_from']=='train', genuine_numeric_cols]\n",
    "\n",
    "numeric_cols_new.corr()"
   ]
  },
  {
   "cell_type": "code",
   "execution_count": null,
   "metadata": {
    "id": "YICI_d-K4o2d"
   },
   "outputs": [],
   "source": [
    "###### Insight ######\n",
    "#### Amount Requested and Amount Funded by Investors have very high correlation so one of them can be dropped\n",
    "#### My model should be able to identify FICO SCore as a very important variable!!!"
   ]
  },
  {
   "cell_type": "code",
   "execution_count": 88,
   "metadata": {
    "colab": {
     "base_uri": "https://localhost:8080/",
     "height": 426
    },
    "id": "tJFSsiafdctu",
    "outputId": "0fa7b0b3-5d3d-4e19-e2df-ad984353a05b"
   },
   "outputs": [
    {
     "data": {
      "text/plain": [
       "<AxesSubplot:>"
      ]
     },
     "execution_count": 88,
     "metadata": {},
     "output_type": "execute_result"
    },
    {
     "data": {
      "image/png": "[encoded data removed]",
      "text/plain": [
       "<Figure size 432x288 with 2 Axes>"
      ]
     },
     "metadata": {
      "needs_background": "light"
     },
     "output_type": "display_data"
    }
   ],
   "source": [
    "sns.heatmap(numeric_cols.corr())"
   ]
  },
  {
   "cell_type": "code",
   "execution_count": 89,
   "metadata": {
    "id": "YQQLNokj7EB7"
   },
   "outputs": [],
   "source": [
    "########### Remove Amount.Funded.By.Investor #########\n",
    "\n",
    "ld_all.drop(['Amount.Funded.By.Investors'], axis=1, inplace=True)"
   ]
  },
  {
   "cell_type": "code",
   "execution_count": 90,
   "metadata": {
    "colab": {
     "base_uri": "https://localhost:8080/"
    },
    "id": "tTmkhxrP7qbI",
    "outputId": "fba27fd0-5702-448f-ac3c-82a7b170da4c"
   },
   "outputs": [
    {
     "data": {
      "text/plain": [
       "(2500, 28)"
      ]
     },
     "execution_count": 90,
     "metadata": {},
     "output_type": "execute_result"
    }
   ],
   "source": [
    "ld_all.shape"
   ]
  },
  {
   "cell_type": "code",
   "execution_count": 91,
   "metadata": {
    "colab": {
     "base_uri": "https://localhost:8080/"
    },
    "id": "S4qlmmUfv3vf",
    "outputId": "35d27619-7937-48fd-f7cc-7205b32370c9"
   },
   "outputs": [
    {
     "data": {
      "text/plain": [
       "Amount.Requested                   float64\n",
       "Interest.Rate                      float64\n",
       "Debt.To.Income.Ratio               float64\n",
       "Monthly.Income                     float64\n",
       "Open.CREDIT.Lines                  float64\n",
       "Revolving.CREDIT.Balance           float64\n",
       "Inquiries.in.the.Last.6.Months     float64\n",
       "coming_from                         object\n",
       "Fico_Score                         float64\n",
       "HO_MORTGAGE                          uint8\n",
       "HO_OWN                               uint8\n",
       "HO_RENT                              uint8\n",
       "Loan_purpose_car                     uint8\n",
       "Loan_purpose_credit_card             uint8\n",
       "Loan_purpose_debt_consolidation      uint8\n",
       "Loan_purpose_educational             uint8\n",
       "Loan_purpose_home_improvement        uint8\n",
       "Loan_purpose_house                   uint8\n",
       "Loan_purpose_major_purchase          uint8\n",
       "Loan_purpose_medical                 uint8\n",
       "Loan_purpose_moving                  uint8\n",
       "Loan_purpose_other                   uint8\n",
       "Loan_purpose_renewable_energy        uint8\n",
       "Loan_purpose_small_business          uint8\n",
       "Loan_purpose_vacation                uint8\n",
       "Loan_purpose_wedding                 uint8\n",
       "LL_36 months                         uint8\n",
       "LL_60 months                         uint8\n",
       "dtype: object"
      ]
     },
     "execution_count": 91,
     "metadata": {},
     "output_type": "execute_result"
    }
   ],
   "source": [
    "ld_all.dtypes"
   ]
  },
  {
   "cell_type": "code",
   "execution_count": 92,
   "metadata": {
    "colab": {
     "base_uri": "https://localhost:8080/"
    },
    "id": "E9LwT54GTmr-",
    "outputId": "c021191e-f7bf-44dc-e6f0-0c2a9e2ca84e"
   },
   "outputs": [
    {
     "name": "stderr",
     "output_type": "stream",
     "text": [
      "C:\\Users\\ADMIN\\AppData\\Local\\Temp\\ipykernel_6564\\3076928046.py:9: SettingWithCopyWarning: \n",
      "A value is trying to be set on a copy of a slice from a DataFrame\n",
      "\n",
      "See the caveats in the documentation: https://pandas.pydata.org/pandas-docs/stable/user_guide/indexing.html#returning-a-view-versus-a-copy\n",
      "  ld_test.drop(['Interest.Rate','coming_from'],axis=1,inplace=True)\n"
     ]
    }
   ],
   "source": [
    "#### Seggregate the train and test back ######\n",
    "\n",
    "ld_train = ld_all.loc[ld_all['coming_from']=='train']\n",
    "\n",
    "del ld_train['coming_from']\n",
    "\n",
    "ld_test = ld_all.loc[ld_all['coming_from']=='test']\n",
    "\n",
    "ld_test.drop(['Interest.Rate','coming_from'],axis=1,inplace=True)"
   ]
  },
  {
   "cell_type": "code",
   "execution_count": 93,
   "metadata": {
    "colab": {
     "base_uri": "https://localhost:8080/"
    },
    "id": "NHQZwtaD8CGE",
    "outputId": "1d566859-d771-46da-e2ea-988f1618bd55"
   },
   "outputs": [
    {
     "data": {
      "text/plain": [
       "((300, 26), (2200, 27))"
      ]
     },
     "execution_count": 93,
     "metadata": {},
     "output_type": "execute_result"
    }
   ],
   "source": [
    "ld_test.shape, ld_train.shape"
   ]
  },
  {
   "cell_type": "code",
   "execution_count": 94,
   "metadata": {
    "id": "VOXWsR5hTmr-"
   },
   "outputs": [],
   "source": [
    "del ld_all"
   ]
  },
  {
   "cell_type": "markdown",
   "metadata": {
    "id": "4XHd0SBN8iuU"
   },
   "source": [
    "**Modelling**"
   ]
  },
  {
   "cell_type": "code",
   "execution_count": 95,
   "metadata": {
    "id": "5RmWQsDbTmr-"
   },
   "outputs": [],
   "source": [
    "from sklearn.model_selection import train_test_split ### Help me to split the data into train and validation"
   ]
  },
  {
   "cell_type": "code",
   "execution_count": 96,
   "metadata": {
    "id": "wzyXq0kPTmr-"
   },
   "outputs": [],
   "source": [
    "ld_new_train, ld_val = train_test_split(ld_train, test_size=0.2, random_state=1235) ### random_state ensures we get the exact same split all the time"
   ]
  },
  {
   "cell_type": "code",
   "execution_count": 97,
   "metadata": {
    "colab": {
     "base_uri": "https://localhost:8080/"
    },
    "id": "rC5r4eAgk1jd",
    "outputId": "dd413aeb-803a-4697-e94f-ed85572ccea5"
   },
   "outputs": [
    {
     "data": {
      "text/plain": [
       "((1760, 27), (440, 27))"
      ]
     },
     "execution_count": 97,
     "metadata": {},
     "output_type": "execute_result"
    }
   ],
   "source": [
    "ld_new_train.shape, ld_val.shape"
   ]
  },
  {
   "cell_type": "code",
   "execution_count": 98,
   "metadata": {
    "colab": {
     "base_uri": "https://localhost:8080/",
     "height": 505
    },
    "id": "hxXW4tjxu4Yv",
    "outputId": "a4388882-041f-42d2-8f32-ff2c5f42975d"
   },
   "outputs": [
    {
     "data": {
      "text/html": [
       "<div>\n",
       "<style scoped>\n",
       "    .dataframe tbody tr th:only-of-type {\n",
       "        vertical-align: middle;\n",
       "    }\n",
       "\n",
       "    .dataframe tbody tr th {\n",
       "        vertical-align: top;\n",
       "    }\n",
       "\n",
       "    .dataframe thead th {\n",
       "        text-align: right;\n",
       "    }\n",
       "</style>\n",
       "<table border=\"1\" class=\"dataframe\">\n",
       "  <thead>\n",
       "    <tr style=\"text-align: right;\">\n",
       "      <th></th>\n",
       "      <th>Amount.Requested</th>\n",
       "      <th>Interest.Rate</th>\n",
       "      <th>Debt.To.Income.Ratio</th>\n",
       "      <th>Monthly.Income</th>\n",
       "      <th>Open.CREDIT.Lines</th>\n",
       "      <th>Revolving.CREDIT.Balance</th>\n",
       "      <th>Inquiries.in.the.Last.6.Months</th>\n",
       "      <th>Fico_Score</th>\n",
       "      <th>HO_MORTGAGE</th>\n",
       "      <th>HO_OWN</th>\n",
       "      <th>...</th>\n",
       "      <th>Loan_purpose_major_purchase</th>\n",
       "      <th>Loan_purpose_medical</th>\n",
       "      <th>Loan_purpose_moving</th>\n",
       "      <th>Loan_purpose_other</th>\n",
       "      <th>Loan_purpose_renewable_energy</th>\n",
       "      <th>Loan_purpose_small_business</th>\n",
       "      <th>Loan_purpose_vacation</th>\n",
       "      <th>Loan_purpose_wedding</th>\n",
       "      <th>LL_36 months</th>\n",
       "      <th>LL_60 months</th>\n",
       "    </tr>\n",
       "  </thead>\n",
       "  <tbody>\n",
       "    <tr>\n",
       "      <th>1204</th>\n",
       "      <td>8000.0</td>\n",
       "      <td>15.95</td>\n",
       "      <td>20.16</td>\n",
       "      <td>4500.00</td>\n",
       "      <td>10.0</td>\n",
       "      <td>2786.0</td>\n",
       "      <td>1.0</td>\n",
       "      <td>667.0</td>\n",
       "      <td>0</td>\n",
       "      <td>0</td>\n",
       "      <td>...</td>\n",
       "      <td>0</td>\n",
       "      <td>0</td>\n",
       "      <td>0</td>\n",
       "      <td>0</td>\n",
       "      <td>0</td>\n",
       "      <td>0</td>\n",
       "      <td>0</td>\n",
       "      <td>0</td>\n",
       "      <td>0</td>\n",
       "      <td>1</td>\n",
       "    </tr>\n",
       "    <tr>\n",
       "      <th>776</th>\n",
       "      <td>5000.0</td>\n",
       "      <td>6.03</td>\n",
       "      <td>6.11</td>\n",
       "      <td>5416.67</td>\n",
       "      <td>13.0</td>\n",
       "      <td>4956.0</td>\n",
       "      <td>0.0</td>\n",
       "      <td>797.0</td>\n",
       "      <td>1</td>\n",
       "      <td>0</td>\n",
       "      <td>...</td>\n",
       "      <td>0</td>\n",
       "      <td>0</td>\n",
       "      <td>0</td>\n",
       "      <td>1</td>\n",
       "      <td>0</td>\n",
       "      <td>0</td>\n",
       "      <td>0</td>\n",
       "      <td>0</td>\n",
       "      <td>1</td>\n",
       "      <td>0</td>\n",
       "    </tr>\n",
       "    <tr>\n",
       "      <th>1546</th>\n",
       "      <td>10000.0</td>\n",
       "      <td>14.09</td>\n",
       "      <td>14.76</td>\n",
       "      <td>5000.00</td>\n",
       "      <td>7.0</td>\n",
       "      <td>4762.0</td>\n",
       "      <td>0.0</td>\n",
       "      <td>677.0</td>\n",
       "      <td>0</td>\n",
       "      <td>0</td>\n",
       "      <td>...</td>\n",
       "      <td>0</td>\n",
       "      <td>0</td>\n",
       "      <td>0</td>\n",
       "      <td>0</td>\n",
       "      <td>0</td>\n",
       "      <td>1</td>\n",
       "      <td>0</td>\n",
       "      <td>0</td>\n",
       "      <td>1</td>\n",
       "      <td>0</td>\n",
       "    </tr>\n",
       "    <tr>\n",
       "      <th>522</th>\n",
       "      <td>24000.0</td>\n",
       "      <td>15.81</td>\n",
       "      <td>0.62</td>\n",
       "      <td>10000.00</td>\n",
       "      <td>8.0</td>\n",
       "      <td>0.0</td>\n",
       "      <td>3.0</td>\n",
       "      <td>727.0</td>\n",
       "      <td>0</td>\n",
       "      <td>1</td>\n",
       "      <td>...</td>\n",
       "      <td>0</td>\n",
       "      <td>0</td>\n",
       "      <td>0</td>\n",
       "      <td>0</td>\n",
       "      <td>0</td>\n",
       "      <td>1</td>\n",
       "      <td>0</td>\n",
       "      <td>0</td>\n",
       "      <td>0</td>\n",
       "      <td>1</td>\n",
       "    </tr>\n",
       "    <tr>\n",
       "      <th>441</th>\n",
       "      <td>2400.0</td>\n",
       "      <td>10.37</td>\n",
       "      <td>9.54</td>\n",
       "      <td>3166.67</td>\n",
       "      <td>6.0</td>\n",
       "      <td>2174.0</td>\n",
       "      <td>0.0</td>\n",
       "      <td>677.0</td>\n",
       "      <td>1</td>\n",
       "      <td>0</td>\n",
       "      <td>...</td>\n",
       "      <td>0</td>\n",
       "      <td>0</td>\n",
       "      <td>0</td>\n",
       "      <td>0</td>\n",
       "      <td>0</td>\n",
       "      <td>0</td>\n",
       "      <td>0</td>\n",
       "      <td>1</td>\n",
       "      <td>1</td>\n",
       "      <td>0</td>\n",
       "    </tr>\n",
       "    <tr>\n",
       "      <th>...</th>\n",
       "      <td>...</td>\n",
       "      <td>...</td>\n",
       "      <td>...</td>\n",
       "      <td>...</td>\n",
       "      <td>...</td>\n",
       "      <td>...</td>\n",
       "      <td>...</td>\n",
       "      <td>...</td>\n",
       "      <td>...</td>\n",
       "      <td>...</td>\n",
       "      <td>...</td>\n",
       "      <td>...</td>\n",
       "      <td>...</td>\n",
       "      <td>...</td>\n",
       "      <td>...</td>\n",
       "      <td>...</td>\n",
       "      <td>...</td>\n",
       "      <td>...</td>\n",
       "      <td>...</td>\n",
       "      <td>...</td>\n",
       "      <td>...</td>\n",
       "    </tr>\n",
       "    <tr>\n",
       "      <th>2102</th>\n",
       "      <td>18000.0</td>\n",
       "      <td>14.42</td>\n",
       "      <td>7.89</td>\n",
       "      <td>5833.33</td>\n",
       "      <td>5.0</td>\n",
       "      <td>18505.0</td>\n",
       "      <td>1.0</td>\n",
       "      <td>722.0</td>\n",
       "      <td>1</td>\n",
       "      <td>0</td>\n",
       "      <td>...</td>\n",
       "      <td>0</td>\n",
       "      <td>0</td>\n",
       "      <td>0</td>\n",
       "      <td>0</td>\n",
       "      <td>0</td>\n",
       "      <td>0</td>\n",
       "      <td>0</td>\n",
       "      <td>1</td>\n",
       "      <td>1</td>\n",
       "      <td>0</td>\n",
       "    </tr>\n",
       "    <tr>\n",
       "      <th>1351</th>\n",
       "      <td>15000.0</td>\n",
       "      <td>6.99</td>\n",
       "      <td>6.64</td>\n",
       "      <td>9083.33</td>\n",
       "      <td>12.0</td>\n",
       "      <td>1410.0</td>\n",
       "      <td>0.0</td>\n",
       "      <td>812.0</td>\n",
       "      <td>1</td>\n",
       "      <td>0</td>\n",
       "      <td>...</td>\n",
       "      <td>0</td>\n",
       "      <td>1</td>\n",
       "      <td>0</td>\n",
       "      <td>0</td>\n",
       "      <td>0</td>\n",
       "      <td>0</td>\n",
       "      <td>0</td>\n",
       "      <td>0</td>\n",
       "      <td>1</td>\n",
       "      <td>0</td>\n",
       "    </tr>\n",
       "    <tr>\n",
       "      <th>451</th>\n",
       "      <td>16000.0</td>\n",
       "      <td>11.11</td>\n",
       "      <td>9.90</td>\n",
       "      <td>2958.33</td>\n",
       "      <td>6.0</td>\n",
       "      <td>8943.0</td>\n",
       "      <td>2.0</td>\n",
       "      <td>767.0</td>\n",
       "      <td>0</td>\n",
       "      <td>0</td>\n",
       "      <td>...</td>\n",
       "      <td>0</td>\n",
       "      <td>0</td>\n",
       "      <td>0</td>\n",
       "      <td>0</td>\n",
       "      <td>0</td>\n",
       "      <td>0</td>\n",
       "      <td>0</td>\n",
       "      <td>0</td>\n",
       "      <td>0</td>\n",
       "      <td>1</td>\n",
       "    </tr>\n",
       "    <tr>\n",
       "      <th>239</th>\n",
       "      <td>8400.0</td>\n",
       "      <td>13.67</td>\n",
       "      <td>17.00</td>\n",
       "      <td>4583.33</td>\n",
       "      <td>14.0</td>\n",
       "      <td>20318.0</td>\n",
       "      <td>2.0</td>\n",
       "      <td>697.0</td>\n",
       "      <td>0</td>\n",
       "      <td>0</td>\n",
       "      <td>...</td>\n",
       "      <td>0</td>\n",
       "      <td>0</td>\n",
       "      <td>0</td>\n",
       "      <td>0</td>\n",
       "      <td>0</td>\n",
       "      <td>0</td>\n",
       "      <td>0</td>\n",
       "      <td>0</td>\n",
       "      <td>1</td>\n",
       "      <td>0</td>\n",
       "    </tr>\n",
       "    <tr>\n",
       "      <th>2</th>\n",
       "      <td>2100.0</td>\n",
       "      <td>14.33</td>\n",
       "      <td>3.50</td>\n",
       "      <td>1000.00</td>\n",
       "      <td>13.0</td>\n",
       "      <td>893.0</td>\n",
       "      <td>1.0</td>\n",
       "      <td>692.0</td>\n",
       "      <td>0</td>\n",
       "      <td>1</td>\n",
       "      <td>...</td>\n",
       "      <td>1</td>\n",
       "      <td>0</td>\n",
       "      <td>0</td>\n",
       "      <td>0</td>\n",
       "      <td>0</td>\n",
       "      <td>0</td>\n",
       "      <td>0</td>\n",
       "      <td>0</td>\n",
       "      <td>1</td>\n",
       "      <td>0</td>\n",
       "    </tr>\n",
       "  </tbody>\n",
       "</table>\n",
       "<p>1760 rows × 27 columns</p>\n",
       "</div>"
      ],
      "text/plain": [
       "      Amount.Requested  Interest.Rate  Debt.To.Income.Ratio  Monthly.Income  \\\n",
       "1204            8000.0          15.95                 20.16         4500.00   \n",
       "776             5000.0           6.03                  6.11         5416.67   \n",
       "1546           10000.0          14.09                 14.76         5000.00   \n",
       "522            24000.0          15.81                  0.62        10000.00   \n",
       "441             2400.0          10.37                  9.54         3166.67   \n",
       "...                ...            ...                   ...             ...   \n",
       "2102           18000.0          14.42                  7.89         5833.33   \n",
       "1351           15000.0           6.99                  6.64         9083.33   \n",
       "451            16000.0          11.11                  9.90         2958.33   \n",
       "239             8400.0          13.67                 17.00         4583.33   \n",
       "2               2100.0          14.33                  3.50         1000.00   \n",
       "\n",
       "      Open.CREDIT.Lines  Revolving.CREDIT.Balance  \\\n",
       "1204               10.0                    2786.0   \n",
       "776                13.0                    4956.0   \n",
       "1546                7.0                    4762.0   \n",
       "522                 8.0                       0.0   \n",
       "441                 6.0                    2174.0   \n",
       "...                 ...                       ...   \n",
       "2102                5.0                   18505.0   \n",
       "1351               12.0                    1410.0   \n",
       "451                 6.0                    8943.0   \n",
       "239                14.0                   20318.0   \n",
       "2                  13.0                     893.0   \n",
       "\n",
       "      Inquiries.in.the.Last.6.Months  Fico_Score  HO_MORTGAGE  HO_OWN  ...  \\\n",
       "1204                             1.0       667.0            0       0  ...   \n",
       "776                              0.0       797.0            1       0  ...   \n",
       "1546                             0.0       677.0            0       0  ...   \n",
       "522                              3.0       727.0            0       1  ...   \n",
       "441                              0.0       677.0            1       0  ...   \n",
       "...                              ...         ...          ...     ...  ...   \n",
       "2102                             1.0       722.0            1       0  ...   \n",
       "1351                             0.0       812.0            1       0  ...   \n",
       "451                              2.0       767.0            0       0  ...   \n",
       "239                              2.0       697.0            0       0  ...   \n",
       "2                                1.0       692.0            0       1  ...   \n",
       "\n",
       "      Loan_purpose_major_purchase  Loan_purpose_medical  Loan_purpose_moving  \\\n",
       "1204                            0                     0                    0   \n",
       "776                             0                     0                    0   \n",
       "1546                            0                     0                    0   \n",
       "522                             0                     0                    0   \n",
       "441                             0                     0                    0   \n",
       "...                           ...                   ...                  ...   \n",
       "2102                            0                     0                    0   \n",
       "1351                            0                     1                    0   \n",
       "451                             0                     0                    0   \n",
       "239                             0                     0                    0   \n",
       "2                               1                     0                    0   \n",
       "\n",
       "      Loan_purpose_other  Loan_purpose_renewable_energy  \\\n",
       "1204                   0                              0   \n",
       "776                    1                              0   \n",
       "1546                   0                              0   \n",
       "522                    0                              0   \n",
       "441                    0                              0   \n",
       "...                  ...                            ...   \n",
       "2102                   0                              0   \n",
       "1351                   0                              0   \n",
       "451                    0                              0   \n",
       "239                    0                              0   \n",
       "2                      0                              0   \n",
       "\n",
       "      Loan_purpose_small_business  Loan_purpose_vacation  \\\n",
       "1204                            0                      0   \n",
       "776                             0                      0   \n",
       "1546                            1                      0   \n",
       "522                             1                      0   \n",
       "441                             0                      0   \n",
       "...                           ...                    ...   \n",
       "2102                            0                      0   \n",
       "1351                            0                      0   \n",
       "451                             0                      0   \n",
       "239                             0                      0   \n",
       "2                               0                      0   \n",
       "\n",
       "      Loan_purpose_wedding  LL_36 months  LL_60 months  \n",
       "1204                     0             0             1  \n",
       "776                      0             1             0  \n",
       "1546                     0             1             0  \n",
       "522                      0             0             1  \n",
       "441                      1             1             0  \n",
       "...                    ...           ...           ...  \n",
       "2102                     1             1             0  \n",
       "1351                     0             1             0  \n",
       "451                      0             0             1  \n",
       "239                      0             1             0  \n",
       "2                        0             1             0  \n",
       "\n",
       "[1760 rows x 27 columns]"
      ]
     },
     "execution_count": 98,
     "metadata": {},
     "output_type": "execute_result"
    }
   ],
   "source": [
    "#### train_features - all columns from the train dataframe except the target column\n",
    "#### train_targets - the target column from the train set\n",
    "ld_new_train"
   ]
  },
  {
   "cell_type": "code",
   "execution_count": 99,
   "metadata": {
    "id": "M2gXCyiuTmr-"
   },
   "outputs": [],
   "source": [
    "# Notice that only train data is used for imputing missing values in both train and test \n",
    "\n",
    "train_features = ld_new_train.drop('Interest.Rate',axis=1) ## this contains features for train\n",
    "\n",
    "train_targets = ld_new_train['Interest.Rate'] ### this contains the actual value for train set\n",
    "\n",
    "val_features = ld_val.drop('Interest.Rate',axis=1) ### this contains features for validation set\n",
    "\n",
    "val_targets = ld_val['Interest.Rate']  ### this contains validation target"
   ]
  },
  {
   "cell_type": "code",
   "execution_count": 100,
   "metadata": {
    "id": "P0CmOEHFTmr_"
   },
   "outputs": [],
   "source": [
    "##### Importing the linear regression function ####\n",
    "\n",
    "from sklearn.linear_model import LinearRegression #### This is a class "
   ]
  },
  {
   "cell_type": "code",
   "execution_count": null,
   "metadata": {
    "id": "t9n0GClOAxZE"
   },
   "outputs": [],
   "source": [
    "####### In order to use the classess ######\n",
    "\n",
    "#### First thing is to initialize the class instance by calling the init method method\n",
    "#### Use the instance to call any method inside the class"
   ]
  },
  {
   "cell_type": "code",
   "execution_count": 103,
   "metadata": {
    "id": "ifBMH0q_Tmr_"
   },
   "outputs": [],
   "source": [
    "lm = LinearRegression() ## lm is an instance of linearRegression class"
   ]
  },
  {
   "cell_type": "code",
   "execution_count": 104,
   "metadata": {
    "colab": {
     "base_uri": "https://localhost:8080/"
    },
    "id": "O0tgSgu5Tmr_",
    "outputId": "6fd7dcc2-ef33-4c7c-f527-3191f5eb0c07"
   },
   "outputs": [
    {
     "data": {
      "text/plain": [
       "LinearRegression()"
      ]
     },
     "execution_count": 104,
     "metadata": {},
     "output_type": "execute_result"
    }
   ],
   "source": [
    "lm.fit(X = train_features,y = train_targets) ### fitting of model"
   ]
  },
  {
   "cell_type": "code",
   "execution_count": 105,
   "metadata": {
    "colab": {
     "base_uri": "https://localhost:8080/"
    },
    "id": "ieUXZNcTK8q-",
    "outputId": "5a2ef0a8-082b-40e2-e78b-9220c7c089b1"
   },
   "outputs": [
    {
     "data": {
      "text/plain": [
       "array([ 1.58962788e-04,  1.00406990e-03, -4.02191679e-05, -3.42216491e-02,\n",
       "       -1.14226578e-06,  3.18832754e-01, -8.66336337e-02, -1.02741533e-01,\n",
       "        1.50909577e-01, -4.81680437e-02,  3.83173712e-02, -5.39790012e-01,\n",
       "       -4.82795838e-01, -2.09196047e-01, -2.69597284e-01,  4.10345420e-01,\n",
       "       -1.73337108e-01,  3.57724560e-02,  1.19470905e+00,  4.73499534e-01,\n",
       "       -3.63199621e-01, -8.21775236e-02,  6.01197080e-01, -6.33747482e-01,\n",
       "       -1.59655370e+00,  1.59655370e+00])"
      ]
     },
     "execution_count": 105,
     "metadata": {},
     "output_type": "execute_result"
    }
   ],
   "source": [
    "lm.coef_"
   ]
  },
  {
   "cell_type": "code",
   "execution_count": 106,
   "metadata": {
    "colab": {
     "base_uri": "https://localhost:8080/"
    },
    "id": "dV0G4yYp62-b",
    "outputId": "c0c8b368-8eb2-4a39-866d-cac0d2279989"
   },
   "outputs": [
    {
     "data": {
      "text/plain": [
       "73.95688714915873"
      ]
     },
     "execution_count": 106,
     "metadata": {},
     "output_type": "execute_result"
    }
   ],
   "source": [
    "lm.intercept_"
   ]
  },
  {
   "cell_type": "code",
   "execution_count": 107,
   "metadata": {
    "id": "CdiIQUzXTmr_"
   },
   "outputs": [],
   "source": [
    "model_parameters = dict(zip(train_features.columns, lm.coef_))"
   ]
  },
  {
   "cell_type": "code",
   "execution_count": 108,
   "metadata": {
    "colab": {
     "base_uri": "https://localhost:8080/"
    },
    "id": "cxlSc_zdLkPZ",
    "outputId": "ef1f45d5-ceb2-4aab-8453-6e0c6ddfaa34"
   },
   "outputs": [
    {
     "data": {
      "text/plain": [
       "{'Amount.Requested': 0.00015896278753902622,\n",
       " 'Debt.To.Income.Ratio': 0.0010040698958514358,\n",
       " 'Monthly.Income': -4.021916794829269e-05,\n",
       " 'Open.CREDIT.Lines': -0.03422164909031399,\n",
       " 'Revolving.CREDIT.Balance': -1.14226577748904e-06,\n",
       " 'Inquiries.in.the.Last.6.Months': 0.31883275445363135,\n",
       " 'Fico_Score': -0.08663363367350553,\n",
       " 'HO_MORTGAGE': -0.10274153307139619,\n",
       " 'HO_OWN': 0.15090957677346425,\n",
       " 'HO_RENT': -0.04816804370169225,\n",
       " 'Loan_purpose_car': 0.038317371190114545,\n",
       " 'Loan_purpose_credit_card': -0.5397900121243199,\n",
       " 'Loan_purpose_debt_consolidation': -0.48279583769216927,\n",
       " 'Loan_purpose_educational': -0.2091960466056856,\n",
       " 'Loan_purpose_home_improvement': -0.2695972841974196,\n",
       " 'Loan_purpose_house': 0.4103454199986949,\n",
       " 'Loan_purpose_major_purchase': -0.17333710758794676,\n",
       " 'Loan_purpose_medical': 0.035772455967854305,\n",
       " 'Loan_purpose_moving': 1.1947090537660634,\n",
       " 'Loan_purpose_other': 0.473499533634807,\n",
       " 'Loan_purpose_renewable_energy': -0.3631996205159252,\n",
       " 'Loan_purpose_small_business': -0.08217752360931854,\n",
       " 'Loan_purpose_vacation': 0.6011970796497209,\n",
       " 'Loan_purpose_wedding': -0.6337474818744184,\n",
       " 'LL_36 months': -1.5965536983657782,\n",
       " 'LL_60 months': 1.5965536983657767}"
      ]
     },
     "execution_count": 108,
     "metadata": {},
     "output_type": "execute_result"
    }
   ],
   "source": [
    "model_parameters"
   ]
  },
  {
   "cell_type": "code",
   "execution_count": null,
   "metadata": {
    "colab": {
     "base_uri": "https://localhost:8080/"
    },
    "id": "IHSZ1Q_175Yi",
    "outputId": "3c91b71d-e3bc-4aad-f485-b934218592c1"
   },
   "outputs": [
    {
     "name": "stdout",
     "output_type": "stream",
     "text": [
      "0.7683830134654827\n",
      "0.7315561064598197\n"
     ]
    }
   ],
   "source": [
    "########### R2 value ######\n",
    "print(lm.score(train_features, train_targets))\n",
    "\n",
    "print(lm.score(val_features, val_targets))"
   ]
  },
  {
   "cell_type": "code",
   "execution_count": null,
   "metadata": {
    "id": "Z9xIdK00nCZc"
   },
   "outputs": [],
   "source": [
    "##### Evaluate the performance of the fitted model #####\n",
    "\n",
    "train_predictions = lm.predict(train_features) ### predict on the train features using the fitted model\n",
    "\n",
    "val_predictions = lm.predict(val_features) ### predict on the val features using the fitted model"
   ]
  },
  {
   "cell_type": "code",
   "execution_count": null,
   "metadata": {
    "colab": {
     "base_uri": "https://localhost:8080/"
    },
    "id": "9S0OsKDapvNb",
    "outputId": "8a4a02d2-721f-42e4-d28b-596acbec9e08"
   },
   "outputs": [
    {
     "data": {
      "text/plain": [
       "((1760,), (440,))"
      ]
     },
     "execution_count": 102,
     "metadata": {},
     "output_type": "execute_result"
    }
   ],
   "source": [
    "train_predictions.shape, val_predictions.shape"
   ]
  },
  {
   "cell_type": "code",
   "execution_count": null,
   "metadata": {
    "id": "cwQ9HsjEoWfr"
   },
   "outputs": [],
   "source": [
    "#### Q) Can you tell me some metric that would help me to understand my models performance\n",
    "\n",
    "#### Average squared error - What is the sq error that my model is making on average\n",
    "#### MAPE - Mean Absolute percentage error mean(abs((predicted value-actual value))/actual_value) -- On an average what is the percentage error that the model is making [0%-100%]\n",
    "\n",
    "def MAPE(target_vector, predicted_vector):\n",
    "  error_vect = (target_vector - predicted_vector)\n",
    "  percent_error_vect = (error_vect/target_vector)*100\n",
    "  percent_abs_error_vect = np.absolute(percent_error_vect)\n",
    "  mean_abs_percentage_error = np.mean(percent_abs_error_vect)\n",
    "  return(mean_abs_percentage_error)\n"
   ]
  },
  {
   "cell_type": "code",
   "execution_count": null,
   "metadata": {
    "colab": {
     "base_uri": "https://localhost:8080/"
    },
    "id": "2iKX6Wsjqacp",
    "outputId": "08ad96fd-3380-4b9c-a064-70806bb5edea"
   },
   "outputs": [
    {
     "name": "stdout",
     "output_type": "stream",
     "text": [
      "Train MAPE :  13.795047832063137\n",
      "Val MAPE :  13.173663343123176\n"
     ]
    }
   ],
   "source": [
    "#### Has the model Overfit??? ######\n",
    "\n",
    "train_MAPE = MAPE(train_targets,train_predictions)\n",
    "\n",
    "val_MAPE = MAPE(val_targets,val_predictions)\n",
    "\n",
    "print('Train MAPE : ', train_MAPE)\n",
    "\n",
    "print('Val MAPE : ', val_MAPE)\n",
    "\n",
    "### if 13% error is an accepatable error in interest rate predictions-- we would say that the model is perfectly fit\n",
    "\n",
    "### if 13% error is too much in interest rate predictions- we would say that the model is undefit"
   ]
  },
  {
   "cell_type": "code",
   "execution_count": null,
   "metadata": {
    "id": "WNnxeRGF9xWD"
   },
   "outputs": [],
   "source": [
    "######### Feature importances are also provided for sklearn implementations of other algos #########"
   ]
  },
  {
   "cell_type": "code",
   "execution_count": null,
   "metadata": {
    "id": "6u7LSv5bHP8_"
   },
   "outputs": [],
   "source": [
    "####### Save the model #####\n",
    "\n",
    "##### Models are saved in something known as pickle file ########\n",
    "\n",
    "import pickle\n",
    "\n",
    "with open('My_linear_regression_model.pickle', 'wb') as f: ##### wb indictes open the file in write mode\n",
    "    pickle.dump(lm, f)"
   ]
  },
  {
   "cell_type": "code",
   "execution_count": null,
   "metadata": {
    "id": "wFv-u_7GHwpW"
   },
   "outputs": [],
   "source": [
    "###### Load the model #####\n",
    "\n",
    "with open('My_linear_regression_model.pickle', 'rb') as f: ##### rb indicates open the file in read mode\n",
    "   lm_model = pickle.load(f) "
   ]
  },
  {
   "cell_type": "code",
   "execution_count": null,
   "metadata": {
    "colab": {
     "base_uri": "https://localhost:8080/"
    },
    "id": "YRjhBwM4_c1X",
    "outputId": "15e389ae-f506-44ba-c1fa-cfad5b927f65"
   },
   "outputs": [
    {
     "data": {
      "text/plain": [
       "array([ 1.70138773e-04, -5.25651871e-03, -4.99431780e-05, -3.37156546e-02,\n",
       "       -2.79787675e-06,  3.09003395e-01,  2.29280121e-02, -8.78387650e-02,\n",
       "       -3.23029959e+00, -2.97689958e+00, -3.07427089e+00, -1.49408236e+00,\n",
       "       -1.90369270e+00, -1.65194677e+00, -1.11886492e+00, -1.53992384e+00,\n",
       "       -8.96839116e-01, -1.48059783e+00, -1.67406755e+00, -5.89951495e-02,\n",
       "       -8.01932374e-01, -1.52286742e+00, -5.81949995e-01, -2.14112197e+00,\n",
       "        3.08729609e+00])"
      ]
     },
     "execution_count": 113,
     "metadata": {},
     "output_type": "execute_result"
    }
   ],
   "source": [
    "lm_model.coef_\n"
   ]
  },
  {
   "cell_type": "code",
   "execution_count": null,
   "metadata": {
    "id": "aQwDeeElTmsJ"
   },
   "outputs": [],
   "source": []
  },
  {
   "cell_type": "code",
   "execution_count": null,
   "metadata": {
    "id": "_RBZVvmvTmsJ"
   },
   "outputs": [],
   "source": []
  },
  {
   "cell_type": "code",
   "execution_count": null,
   "metadata": {
    "id": "se5GTOEwTmsK"
   },
   "outputs": [],
   "source": []
  },
  {
   "cell_type": "code",
   "execution_count": null,
   "metadata": {
    "collapsed": true,
    "id": "C8c8xgMaTmsK"
   },
   "outputs": [],
   "source": []
  },
  {
   "cell_type": "code",
   "execution_count": null,
   "metadata": {
    "id": "SL1H_vkhTmsK"
   },
   "outputs": [],
   "source": []
  },
  {
   "cell_type": "code",
   "execution_count": null,
   "metadata": {
    "collapsed": true,
    "id": "PWYxC-6MTmsK"
   },
   "outputs": [],
   "source": []
  },
  {
   "cell_type": "code",
   "execution_count": null,
   "metadata": {
    "collapsed": true,
    "id": "Ksd9Cl5qTmsK"
   },
   "outputs": [],
   "source": []
  },
  {
   "cell_type": "code",
   "execution_count": null,
   "metadata": {
    "collapsed": true,
    "id": "tahUuBMtTmsK"
   },
   "outputs": [],
   "source": []
  },
  {
   "cell_type": "code",
   "execution_count": null,
   "metadata": {
    "collapsed": true,
    "id": "yUKSalobTmsL"
   },
   "outputs": [],
   "source": []
  },
  {
   "cell_type": "code",
   "execution_count": null,
   "metadata": {
    "collapsed": true,
    "id": "cakwuV7iTmsL"
   },
   "outputs": [],
   "source": []
  },
  {
   "cell_type": "code",
   "execution_count": null,
   "metadata": {
    "id": "mRbqkR7xTmsL"
   },
   "outputs": [],
   "source": []
  },
  {
   "cell_type": "code",
   "execution_count": null,
   "metadata": {
    "id": "7jHqw5IuTmsL"
   },
   "outputs": [],
   "source": []
  },
  {
   "cell_type": "code",
   "execution_count": null,
   "metadata": {
    "collapsed": true,
    "id": "YKOtn5Q0TmsL"
   },
   "outputs": [],
   "source": []
  },
  {
   "cell_type": "code",
   "execution_count": null,
   "metadata": {
    "id": "EWM5-7jrTmsL"
   },
   "outputs": [],
   "source": []
  },
  {
   "cell_type": "code",
   "execution_count": null,
   "metadata": {
    "id": "0-HkKQjTTmsM"
   },
   "outputs": [],
   "source": []
  },
  {
   "cell_type": "code",
   "execution_count": null,
   "metadata": {
    "id": "aOOH2P84TmsM"
   },
   "outputs": [],
   "source": []
  },
  {
   "cell_type": "code",
   "execution_count": null,
   "metadata": {
    "collapsed": true,
    "id": "e5oMJzprTmsN"
   },
   "outputs": [],
   "source": []
  },
  {
   "cell_type": "code",
   "execution_count": null,
   "metadata": {
    "id": "IDWli1riTmsO"
   },
   "outputs": [],
   "source": []
  }
 ],
 "metadata": {
  "colab": {
   "collapsed_sections": [
    "6mdDmOSoTmsC",
    "LnXywHjQTmsE",
    "G6p7TjLLTmsF",
    "lhCvw_HKTmsI"
   ],
   "name": "Linear Models.ipynb",
   "provenance": []
  },
  "kernelspec": {
   "display_name": "Python 3 (ipykernel)",
   "language": "python",
   "name": "python3"
  },
  "language_info": {
   "codemirror_mode": {
    "name": "ipython",
    "version": 3
   },
   "file_extension": ".py",
   "mimetype": "text/x-python",
   "name": "python",
   "nbconvert_exporter": "python",
   "pygments_lexer": "ipython3",
   "version": "3.9.12"
  }
 },
 "nbformat": 4,
 "nbformat_minor": 1
}
