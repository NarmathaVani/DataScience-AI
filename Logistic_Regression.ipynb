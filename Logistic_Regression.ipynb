{
 "cells": [
  {
   "cell_type": "code",
   "execution_count": null,
   "metadata": {
    "id": "-HZ3Dnk9tfLW"
   },
   "outputs": [],
   "source": [
    "##### Importing Relevant Libraries ######\n",
    "#########################################\n",
    "\n",
    "import pandas as pd\n",
    "import numpy as np\n",
    "import os\n",
    "import seaborn as sns\n",
    "import pickle ### helps storing data in pickle files\n",
    "\n",
    "from sklearn.linear_model import LogisticRegression\n",
    "\n",
    "from matplotlib import pyplot as plt\n",
    "from sklearn.preprocessing import StandardScaler ## (x-mean(variable))/standard_deviation(variable)\n",
    "from sklearn.model_selection import StratifiedShuffleSplit ### datasplitting\n",
    " \n",
    "from sklearn.model_selection import GridSearchCV          ### hyperparameter finding\n",
    "\n"
   ]
  },
  {
   "cell_type": "code",
   "execution_count": null,
   "metadata": {
    "id": "Vg0PeDkZtfLc"
   },
   "outputs": [],
   "source": [
    "%matplotlib inline"
   ]
  },
  {
   "cell_type": "code",
   "execution_count": null,
   "metadata": {
    "id": "yFQWsxdE9Z_9"
   },
   "outputs": [],
   "source": [
    "def capping(series,quantile_val):\n",
    "  cap_value = series.quantile(quantile_val)\n",
    "  series[series>cap_value] = cap_value\n",
    "  return(series, cap_value)\n",
    "\n",
    "def get_percentages(col_1, col_2, data):\n",
    "  x = pd.crosstab(data[col_1],data[col_2])\n",
    "  return(x[1]/(x[1]+x[2]))"
   ]
  },
  {
   "cell_type": "code",
   "execution_count": null,
   "metadata": {
    "id": "isJJp332tfLd"
   },
   "outputs": [],
   "source": [
    "####### Loading Data ######\n",
    "###########################\n",
    "\n",
    "cwd = os.getcwd() ##gets current working directory\n",
    "\n",
    "data_path = str(cwd) + '/Existing_Base.csv'\n",
    "\n",
    "data = pd.read_csv(data_path)  ## Loads the data"
   ]
  },
  {
   "cell_type": "markdown",
   "metadata": {
    "id": "JhB72m0mtfLd"
   },
   "source": [
    "# Data Exploration"
   ]
  },
  {
   "cell_type": "code",
   "execution_count": null,
   "metadata": {
    "colab": {
     "base_uri": "https://localhost:8080/"
    },
    "id": "9leT4Y3utfLd",
    "outputId": "eb078bce-2569-46a7-a2af-957660eb5dd0"
   },
   "outputs": [
    {
     "data": {
      "text/plain": [
       "(10155, 32)"
      ]
     },
     "execution_count": 5,
     "metadata": {},
     "output_type": "execute_result"
    }
   ],
   "source": [
    "data.shape ## gets the shape of the data"
   ]
  },
  {
   "cell_type": "code",
   "execution_count": null,
   "metadata": {
    "colab": {
     "base_uri": "https://localhost:8080/"
    },
    "id": "bbW9ZxibtH34",
    "outputId": "93e05f9b-853d-4b41-cc10-961fa74e18be"
   },
   "outputs": [
    {
     "data": {
      "text/plain": [
       "2    9069\n",
       "1    1086\n",
       "Name: Revenue Grid, dtype: int64"
      ]
     },
     "execution_count": 6,
     "metadata": {},
     "output_type": "execute_result"
    }
   ],
   "source": [
    "#### Distribution of target class ####\n",
    "\n",
    "data['Revenue Grid'].value_counts()\n",
    "\n",
    "#### There is class imbalance in my dataset. We might ask for more observations for class 1.\n",
    "\n",
    "#### if the distribution is 80%-20% - generally not a major concern.\n",
    "#### if the distribution is between 80%-20% and 95%-5% -  area of slight concern..\n",
    "#### if the distribution is less than 95-5% - we should get concerned - expect that your model might be a bad modeldata['Revenue Grid'].value_counts() ##### There is class imbalance in my data #### We will have to do something to reduce the imbalance"
   ]
  },
  {
   "cell_type": "code",
   "execution_count": null,
   "metadata": {
    "colab": {
     "base_uri": "https://localhost:8080/",
     "height": 421
    },
    "id": "aX4p7eq0tfLe",
    "outputId": "a8fff1ab-7208-4e2c-a379-dbe236160c6c"
   },
   "outputs": [
    {
     "data": {
      "text/html": [
       "\n",
       "  <div id=\"df-623533ce-cba3-4018-a3e5-70552078b633\">\n",
       "    <div class=\"colab-df-container\">\n",
       "      <div>\n",
       "<style scoped>\n",
       "    .dataframe tbody tr th:only-of-type {\n",
       "        vertical-align: middle;\n",
       "    }\n",
       "\n",
       "    .dataframe tbody tr th {\n",
       "        vertical-align: top;\n",
       "    }\n",
       "\n",
       "    .dataframe thead th {\n",
       "        text-align: right;\n",
       "    }\n",
       "</style>\n",
       "<table border=\"1\" class=\"dataframe\">\n",
       "  <thead>\n",
       "    <tr style=\"text-align: right;\">\n",
       "      <th></th>\n",
       "      <th>REF_NO</th>\n",
       "      <th>children</th>\n",
       "      <th>age_band</th>\n",
       "      <th>status</th>\n",
       "      <th>occupation</th>\n",
       "      <th>occupation_partner</th>\n",
       "      <th>home_status</th>\n",
       "      <th>family_income</th>\n",
       "      <th>self_employed</th>\n",
       "      <th>self_employed_partner</th>\n",
       "      <th>...</th>\n",
       "      <th>Investment Tax Saving Bond</th>\n",
       "      <th>Home Loan</th>\n",
       "      <th>Online Purchase Amount</th>\n",
       "      <th>Revenue Grid</th>\n",
       "      <th>gender</th>\n",
       "      <th>region</th>\n",
       "      <th>Investment in Commudity</th>\n",
       "      <th>Investment in Equity</th>\n",
       "      <th>Investment in Derivative</th>\n",
       "      <th>Portfolio Balance</th>\n",
       "    </tr>\n",
       "  </thead>\n",
       "  <tbody>\n",
       "    <tr>\n",
       "      <th>0</th>\n",
       "      <td>1</td>\n",
       "      <td>Zero</td>\n",
       "      <td>51-55</td>\n",
       "      <td>Partner</td>\n",
       "      <td>Manual Worker</td>\n",
       "      <td>Secretarial/Admin</td>\n",
       "      <td>Own Home</td>\n",
       "      <td>&lt;17,500, &gt;=15,000</td>\n",
       "      <td>No</td>\n",
       "      <td>No</td>\n",
       "      <td>...</td>\n",
       "      <td>19.99</td>\n",
       "      <td>0.00</td>\n",
       "      <td>0.00</td>\n",
       "      <td>1</td>\n",
       "      <td>Female</td>\n",
       "      <td>Wales</td>\n",
       "      <td>74.67</td>\n",
       "      <td>18.66</td>\n",
       "      <td>32.32</td>\n",
       "      <td>89.43</td>\n",
       "    </tr>\n",
       "    <tr>\n",
       "      <th>1</th>\n",
       "      <td>2</td>\n",
       "      <td>Zero</td>\n",
       "      <td>55-60</td>\n",
       "      <td>Single/Never Married</td>\n",
       "      <td>Retired</td>\n",
       "      <td>Retired</td>\n",
       "      <td>Own Home</td>\n",
       "      <td>&lt;27,500, &gt;=25,000</td>\n",
       "      <td>No</td>\n",
       "      <td>No</td>\n",
       "      <td>...</td>\n",
       "      <td>0.00</td>\n",
       "      <td>0.00</td>\n",
       "      <td>0.00</td>\n",
       "      <td>2</td>\n",
       "      <td>Female</td>\n",
       "      <td>North West</td>\n",
       "      <td>20.19</td>\n",
       "      <td>0.00</td>\n",
       "      <td>4.33</td>\n",
       "      <td>22.78</td>\n",
       "    </tr>\n",
       "    <tr>\n",
       "      <th>2</th>\n",
       "      <td>3</td>\n",
       "      <td>Zero</td>\n",
       "      <td>26-30</td>\n",
       "      <td>Single/Never Married</td>\n",
       "      <td>Professional</td>\n",
       "      <td>Other</td>\n",
       "      <td>Own Home</td>\n",
       "      <td>&lt;30,000, &gt;=27,500</td>\n",
       "      <td>Yes</td>\n",
       "      <td>No</td>\n",
       "      <td>...</td>\n",
       "      <td>0.00</td>\n",
       "      <td>3.49</td>\n",
       "      <td>0.00</td>\n",
       "      <td>2</td>\n",
       "      <td>Male</td>\n",
       "      <td>North</td>\n",
       "      <td>98.06</td>\n",
       "      <td>31.07</td>\n",
       "      <td>80.96</td>\n",
       "      <td>171.78</td>\n",
       "    </tr>\n",
       "    <tr>\n",
       "      <th>3</th>\n",
       "      <td>5</td>\n",
       "      <td>Zero</td>\n",
       "      <td>18-21</td>\n",
       "      <td>Single/Never Married</td>\n",
       "      <td>Professional</td>\n",
       "      <td>Manual Worker</td>\n",
       "      <td>Own Home</td>\n",
       "      <td>&lt;15,000, &gt;=12,500</td>\n",
       "      <td>No</td>\n",
       "      <td>No</td>\n",
       "      <td>...</td>\n",
       "      <td>0.00</td>\n",
       "      <td>0.00</td>\n",
       "      <td>0.00</td>\n",
       "      <td>2</td>\n",
       "      <td>Female</td>\n",
       "      <td>West Midlands</td>\n",
       "      <td>4.10</td>\n",
       "      <td>14.15</td>\n",
       "      <td>17.57</td>\n",
       "      <td>-41.70</td>\n",
       "    </tr>\n",
       "    <tr>\n",
       "      <th>4</th>\n",
       "      <td>6</td>\n",
       "      <td>Zero</td>\n",
       "      <td>45-50</td>\n",
       "      <td>Partner</td>\n",
       "      <td>Business Manager</td>\n",
       "      <td>Unknown</td>\n",
       "      <td>Own Home</td>\n",
       "      <td>&lt;30,000, &gt;=27,500</td>\n",
       "      <td>No</td>\n",
       "      <td>No</td>\n",
       "      <td>...</td>\n",
       "      <td>0.00</td>\n",
       "      <td>45.91</td>\n",
       "      <td>25.98</td>\n",
       "      <td>2</td>\n",
       "      <td>Female</td>\n",
       "      <td>Scotland</td>\n",
       "      <td>70.16</td>\n",
       "      <td>55.86</td>\n",
       "      <td>80.44</td>\n",
       "      <td>235.02</td>\n",
       "    </tr>\n",
       "  </tbody>\n",
       "</table>\n",
       "<p>5 rows × 32 columns</p>\n",
       "</div>\n",
       "      <button class=\"colab-df-convert\" onclick=\"convertToInteractive('df-623533ce-cba3-4018-a3e5-70552078b633')\"\n",
       "              title=\"Convert this dataframe to an interactive table.\"\n",
       "              style=\"display:none;\">\n",
       "        \n",
       "  <svg xmlns=\"http://www.w3.org/2000/svg\" height=\"24px\"viewBox=\"0 0 24 24\"\n",
       "       width=\"24px\">\n",
       "    <path d=\"M0 0h24v24H0V0z\" fill=\"none\"/>\n",
       "    <path d=\"M18.56 5.44l.94 2.06.94-2.06 2.06-.94-2.06-.94-.94-2.06-.94 2.06-2.06.94zm-11 1L8.5 8.5l.94-2.06 2.06-.94-2.06-.94L8.5 2.5l-.94 2.06-2.06.94zm10 10l.94 2.06.94-2.06 2.06-.94-2.06-.94-.94-2.06-.94 2.06-2.06.94z\"/><path d=\"M17.41 7.96l-1.37-1.37c-.4-.4-.92-.59-1.43-.59-.52 0-1.04.2-1.43.59L10.3 9.45l-7.72 7.72c-.78.78-.78 2.05 0 2.83L4 21.41c.39.39.9.59 1.41.59.51 0 1.02-.2 1.41-.59l7.78-7.78 2.81-2.81c.8-.78.8-2.07 0-2.86zM5.41 20L4 18.59l7.72-7.72 1.47 1.35L5.41 20z\"/>\n",
       "  </svg>\n",
       "      </button>\n",
       "      \n",
       "  <style>\n",
       "    .colab-df-container {\n",
       "      display:flex;\n",
       "      flex-wrap:wrap;\n",
       "      gap: 12px;\n",
       "    }\n",
       "\n",
       "    .colab-df-convert {\n",
       "      background-color: #E8F0FE;\n",
       "      border: none;\n",
       "      border-radius: 50%;\n",
       "      cursor: pointer;\n",
       "      display: none;\n",
       "      fill: #1967D2;\n",
       "      height: 32px;\n",
       "      padding: 0 0 0 0;\n",
       "      width: 32px;\n",
       "    }\n",
       "\n",
       "    .colab-df-convert:hover {\n",
       "      background-color: #E2EBFA;\n",
       "      box-shadow: 0px 1px 2px rgba(60, 64, 67, 0.3), 0px 1px 3px 1px rgba(60, 64, 67, 0.15);\n",
       "      fill: #174EA6;\n",
       "    }\n",
       "\n",
       "    [theme=dark] .colab-df-convert {\n",
       "      background-color: #3B4455;\n",
       "      fill: #D2E3FC;\n",
       "    }\n",
       "\n",
       "    [theme=dark] .colab-df-convert:hover {\n",
       "      background-color: #434B5C;\n",
       "      box-shadow: 0px 1px 3px 1px rgba(0, 0, 0, 0.15);\n",
       "      filter: drop-shadow(0px 1px 2px rgba(0, 0, 0, 0.3));\n",
       "      fill: #FFFFFF;\n",
       "    }\n",
       "  </style>\n",
       "\n",
       "      <script>\n",
       "        const buttonEl =\n",
       "          document.querySelector('#df-623533ce-cba3-4018-a3e5-70552078b633 button.colab-df-convert');\n",
       "        buttonEl.style.display =\n",
       "          google.colab.kernel.accessAllowed ? 'block' : 'none';\n",
       "\n",
       "        async function convertToInteractive(key) {\n",
       "          const element = document.querySelector('#df-623533ce-cba3-4018-a3e5-70552078b633');\n",
       "          const dataTable =\n",
       "            await google.colab.kernel.invokeFunction('convertToInteractive',\n",
       "                                                     [key], {});\n",
       "          if (!dataTable) return;\n",
       "\n",
       "          const docLinkHtml = 'Like what you see? Visit the ' +\n",
       "            '<a target=\"_blank\" href=https://colab.research.google.com/notebooks/data_table.ipynb>data table notebook</a>'\n",
       "            + ' to learn more about interactive tables.';\n",
       "          element.innerHTML = '';\n",
       "          dataTable['output_type'] = 'display_data';\n",
       "          await google.colab.output.renderOutput(dataTable, element);\n",
       "          const docLink = document.createElement('div');\n",
       "          docLink.innerHTML = docLinkHtml;\n",
       "          element.appendChild(docLink);\n",
       "        }\n",
       "      </script>\n",
       "    </div>\n",
       "  </div>\n",
       "  "
      ],
      "text/plain": [
       "   REF_NO children age_band                status        occupation  \\\n",
       "0       1     Zero    51-55               Partner     Manual Worker   \n",
       "1       2     Zero    55-60  Single/Never Married           Retired   \n",
       "2       3     Zero    26-30  Single/Never Married      Professional   \n",
       "3       5     Zero    18-21  Single/Never Married      Professional   \n",
       "4       6     Zero    45-50               Partner  Business Manager   \n",
       "\n",
       "  occupation_partner home_status      family_income self_employed  \\\n",
       "0  Secretarial/Admin    Own Home  <17,500, >=15,000            No   \n",
       "1            Retired    Own Home  <27,500, >=25,000            No   \n",
       "2              Other    Own Home  <30,000, >=27,500           Yes   \n",
       "3      Manual Worker    Own Home  <15,000, >=12,500            No   \n",
       "4            Unknown    Own Home  <30,000, >=27,500            No   \n",
       "\n",
       "  self_employed_partner  ...  Investment Tax Saving Bond Home Loan  \\\n",
       "0                    No  ...                       19.99      0.00   \n",
       "1                    No  ...                        0.00      0.00   \n",
       "2                    No  ...                        0.00      3.49   \n",
       "3                    No  ...                        0.00      0.00   \n",
       "4                    No  ...                        0.00     45.91   \n",
       "\n",
       "  Online Purchase Amount Revenue Grid  gender         region  \\\n",
       "0                   0.00            1  Female          Wales   \n",
       "1                   0.00            2  Female     North West   \n",
       "2                   0.00            2    Male          North   \n",
       "3                   0.00            2  Female  West Midlands   \n",
       "4                  25.98            2  Female       Scotland   \n",
       "\n",
       "   Investment in Commudity  Investment in Equity  Investment in Derivative  \\\n",
       "0                    74.67                 18.66                     32.32   \n",
       "1                    20.19                  0.00                      4.33   \n",
       "2                    98.06                 31.07                     80.96   \n",
       "3                     4.10                 14.15                     17.57   \n",
       "4                    70.16                 55.86                     80.44   \n",
       "\n",
       "   Portfolio Balance  \n",
       "0              89.43  \n",
       "1              22.78  \n",
       "2             171.78  \n",
       "3             -41.70  \n",
       "4             235.02  \n",
       "\n",
       "[5 rows x 32 columns]"
      ]
     },
     "execution_count": 7,
     "metadata": {},
     "output_type": "execute_result"
    }
   ],
   "source": [
    "data.head()"
   ]
  },
  {
   "cell_type": "code",
   "execution_count": null,
   "metadata": {
    "colab": {
     "base_uri": "https://localhost:8080/"
    },
    "id": "6icQQXwNtfLf",
    "outputId": "d5e358bf-72a9-463c-d3ef-80af33801221"
   },
   "outputs": [
    {
     "name": "stdout",
     "output_type": "stream",
     "text": [
      "<class 'pandas.core.frame.DataFrame'>\n",
      "RangeIndex: 10155 entries, 0 to 10154\n",
      "Data columns (total 32 columns):\n",
      " #   Column                           Non-Null Count  Dtype  \n",
      "---  ------                           --------------  -----  \n",
      " 0   REF_NO                           10155 non-null  int64  \n",
      " 1   children                         10155 non-null  object \n",
      " 2   age_band                         10155 non-null  object \n",
      " 3   status                           10155 non-null  object \n",
      " 4   occupation                       10155 non-null  object \n",
      " 5   occupation_partner               10155 non-null  object \n",
      " 6   home_status                      10155 non-null  object \n",
      " 7   family_income                    10155 non-null  object \n",
      " 8   self_employed                    10155 non-null  object \n",
      " 9   self_employed_partner            10155 non-null  object \n",
      " 10  year_last_moved                  10155 non-null  int64  \n",
      " 11  TVarea                           10155 non-null  object \n",
      " 12  post_code                        10155 non-null  object \n",
      " 13  post_area                        10155 non-null  object \n",
      " 14  Average Credit Card Transaction  10155 non-null  float64\n",
      " 15  Balance Transfer                 10155 non-null  float64\n",
      " 16  Term Deposit                     10155 non-null  float64\n",
      " 17  Life Insurance                   10155 non-null  float64\n",
      " 18  Medical Insurance                10155 non-null  float64\n",
      " 19  Average A/C Balance              10155 non-null  float64\n",
      " 20  Personal Loan                    10155 non-null  float64\n",
      " 21  Investment in Mutual Fund        10155 non-null  float64\n",
      " 22  Investment Tax Saving Bond       10155 non-null  float64\n",
      " 23  Home Loan                        10155 non-null  float64\n",
      " 24  Online Purchase Amount           10155 non-null  float64\n",
      " 25  Revenue Grid                     10155 non-null  int64  \n",
      " 26  gender                           10155 non-null  object \n",
      " 27  region                           10155 non-null  object \n",
      " 28  Investment in Commudity          10155 non-null  float64\n",
      " 29  Investment in Equity             10155 non-null  float64\n",
      " 30  Investment in Derivative         10155 non-null  float64\n",
      " 31  Portfolio Balance                10155 non-null  float64\n",
      "dtypes: float64(15), int64(3), object(14)\n",
      "memory usage: 2.5+ MB\n"
     ]
    }
   ],
   "source": [
    "data.info() ### prints out informatio regarding columns in the data\n",
    "\n",
    "#### Insight #####\n",
    "####################\n",
    "\n",
    "# Out of 32 columns, we have around 18 columns of numeric type, 14 columns of string type\n",
    "# There doesn't seem to have missing values in the columns, however we would investigate this once again\n",
    "\n",
    "####### Insights ########\n",
    "\n",
    "# Ref number can be dropped\n",
    "# Remove the - and convert age_band into numeric... if there are not too many unique age_bands we may even create dummies.\n",
    "# Remove the >< and convert the family_income into a numeric column."
   ]
  },
  {
   "cell_type": "code",
   "execution_count": null,
   "metadata": {
    "id": "388doayowFo5"
   },
   "outputs": [],
   "source": [
    "######## Insights ############\n",
    "\n",
    "### Ref number can be removed\n",
    "### Age_band is an object column due to '-'. Remove - and take average of the age band and convert to numeric"
   ]
  },
  {
   "cell_type": "code",
   "execution_count": null,
   "metadata": {
    "colab": {
     "base_uri": "https://localhost:8080/",
     "height": 1000
    },
    "id": "lylf8tiCtfLf",
    "outputId": "cb35417c-9bbd-4df7-e26c-83f627c4560b"
   },
   "outputs": [
    {
     "data": {
      "image/png": "[encoded data removed]",
      "text/plain": [
       "<Figure size 1440x1440 with 18 Axes>"
      ]
     },
     "metadata": {
      "needs_background": "light"
     },
     "output_type": "display_data"
    }
   ],
   "source": [
    "#### Visualizing numeric columns ######\n",
    "\n",
    "numeric_cols = data.select_dtypes(include = np.number) ### selects numeric columns\n",
    "\n",
    "column_names = list(numeric_cols.columns)\n",
    "\n",
    "col_index = 0\n",
    "\n",
    "plot_rows = 6\n",
    "plot_cols = 3\n",
    "\n",
    "fig, ax = plt.subplots(nrows = plot_rows,ncols=plot_cols,figsize = (20,20))\n",
    "\n",
    "for row_count in range(plot_rows):\n",
    "    for col_count in range(plot_cols):\n",
    "        ax[row_count][col_count].scatter(y = numeric_cols[column_names[col_index]],x=numeric_cols.index)\n",
    "        ax[row_count][col_count].set_ylabel(column_names[col_index])\n",
    "        col_index = col_index + 1\n",
    "        \n",
    "###### Insights #####\n",
    "#####################\n",
    "\n",
    "## Ref Number column just contains the index so can be removed.\n",
    "## year_last_moved column seem to have many values close to 0 or 0, these seem to be noise, investigate them.\n",
    "## Average_credit_card_transaction,Balance Transfer seems to be highly right skewed, check if the skewness could be reduced. ###Later\n",
    "## A single customer with very high value of balance transfer/life insurance etc stands out, this row could be considered outlier and be removed, #row number 250\n",
    "## Capping could be done to limit the impact of outliers.\n",
    "## Scaling could be done since the scale is different for most of the variables. ## Incorrect"
   ]
  },
  {
   "cell_type": "code",
   "execution_count": null,
   "metadata": {
    "colab": {
     "base_uri": "https://localhost:8080/"
    },
    "id": "d6j8NN2IH4SQ",
    "outputId": "b2f6847e-0835-4c67-d4d6-bcc48333b4ab"
   },
   "outputs": [
    {
     "data": {
      "text/plain": [
       "250    1231.09\n",
       "Name: Investment in Commudity, dtype: float64"
      ]
     },
     "execution_count": 71,
     "metadata": {},
     "output_type": "execute_result"
    }
   ],
   "source": [
    "data.loc[data['Life Insurance']>2500,:]['Investment in Commudity']"
   ]
  },
  {
   "cell_type": "code",
   "execution_count": null,
   "metadata": {
    "colab": {
     "base_uri": "https://localhost:8080/",
     "height": 352
    },
    "id": "nDgdEbRGAKw5",
    "outputId": "49e03ec4-04b7-4fa9-a39c-d9a33dba9997"
   },
   "outputs": [
    {
     "name": "stderr",
     "output_type": "stream",
     "text": [
      "/usr/local/lib/python3.7/dist-packages/seaborn/distributions.py:2619: FutureWarning: `distplot` is a deprecated function and will be removed in a future version. Please adapt your code to use either `displot` (a figure-level function with similar flexibility) or `kdeplot` (an axes-level function for kernel density plots).\n",
      "  warnings.warn(msg, FutureWarning)\n"
     ]
    },
    {
     "data": {
      "text/plain": [
       "<matplotlib.axes._subplots.AxesSubplot at 0x7f5f49a24c10>"
      ]
     },
     "execution_count": 72,
     "metadata": {},
     "output_type": "execute_result"
    },
    {
     "data": {
      "image/png": "[encoded data removed]",
      "text/plain": [
       "<Figure size 432x288 with 1 Axes>"
      ]
     },
     "metadata": {
      "needs_background": "light"
     },
     "output_type": "display_data"
    }
   ],
   "source": [
    "sns.distplot(data['Investment in Commudity'],hist = False)"
   ]
  },
  {
   "cell_type": "code",
   "execution_count": null,
   "metadata": {
    "colab": {
     "base_uri": "https://localhost:8080/",
     "height": 297
    },
    "id": "xAdGanOUCOwR",
    "outputId": "32fbfbb2-6d3a-488f-e281-7996177ff9a8"
   },
   "outputs": [
    {
     "data": {
      "text/plain": [
       "<matplotlib.axes._subplots.AxesSubplot at 0x7f5f50653990>"
      ]
     },
     "execution_count": 73,
     "metadata": {},
     "output_type": "execute_result"
    },
    {
     "data": {
      "image/png": "[encoded data removed]",
      "text/plain": [
       "<Figure size 432x288 with 1 Axes>"
      ]
     },
     "metadata": {
      "needs_background": "light"
     },
     "output_type": "display_data"
    }
   ],
   "source": [
    "sns.boxplot(x = data.loc[data['Investment in Commudity']<1000, 'Revenue Grid'], y = data.loc[data['Investment in Commudity']<1000, 'Investment in Commudity'])"
   ]
  },
  {
   "cell_type": "code",
   "execution_count": null,
   "metadata": {
    "colab": {
     "base_uri": "https://localhost:8080/",
     "height": 356
    },
    "id": "zwNBvOVi9ODn",
    "outputId": "65f91986-a5b9-44ba-f584-f05fc6fdf839"
   },
   "outputs": [
    {
     "name": "stderr",
     "output_type": "stream",
     "text": [
      "/usr/local/lib/python3.7/dist-packages/seaborn/distributions.py:2619: FutureWarning: `distplot` is a deprecated function and will be removed in a future version. Please adapt your code to use either `displot` (a figure-level function with similar flexibility) or `kdeplot` (an axes-level function for kernel density plots).\n",
      "  warnings.warn(msg, FutureWarning)\n"
     ]
    },
    {
     "data": {
      "text/plain": [
       "<matplotlib.axes._subplots.AxesSubplot at 0x7f5f5086d210>"
      ]
     },
     "execution_count": 74,
     "metadata": {},
     "output_type": "execute_result"
    },
    {
     "data": {
      "image/png": "[encoded data removed]",
      "text/plain": [
       "<Figure size 432x288 with 1 Axes>"
      ]
     },
     "metadata": {
      "needs_background": "light"
     },
     "output_type": "display_data"
    }
   ],
   "source": [
    "sns.distplot((data['Investment Tax Saving Bond']),hist = False)"
   ]
  },
  {
   "cell_type": "code",
   "execution_count": null,
   "metadata": {
    "colab": {
     "base_uri": "https://localhost:8080/",
     "height": 352
    },
    "id": "yMoaXuhZp6vq",
    "outputId": "33dda87e-0708-40ce-f973-15047c455b82"
   },
   "outputs": [
    {
     "name": "stderr",
     "output_type": "stream",
     "text": [
      "/usr/local/lib/python3.7/dist-packages/seaborn/distributions.py:2619: FutureWarning: `distplot` is a deprecated function and will be removed in a future version. Please adapt your code to use either `displot` (a figure-level function with similar flexibility) or `kdeplot` (an axes-level function for kernel density plots).\n",
      "  warnings.warn(msg, FutureWarning)\n"
     ]
    },
    {
     "data": {
      "text/plain": [
       "<matplotlib.axes._subplots.AxesSubplot at 0x7f5f50d097d0>"
      ]
     },
     "execution_count": 75,
     "metadata": {},
     "output_type": "execute_result"
    },
    {
     "data": {
      "image/png": "[encoded data removed]",
      "text/plain": [
       "<Figure size 432x288 with 1 Axes>"
      ]
     },
     "metadata": {
      "needs_background": "light"
     },
     "output_type": "display_data"
    }
   ],
   "source": [
    "sns.distplot(data['Portfolio Balance'],hist = False)"
   ]
  },
  {
   "cell_type": "code",
   "execution_count": null,
   "metadata": {
    "colab": {
     "base_uri": "https://localhost:8080/",
     "height": 352
    },
    "id": "Ha3gZezSq1dU",
    "outputId": "2765aace-f095-458d-b730-e42be57760ef"
   },
   "outputs": [
    {
     "name": "stderr",
     "output_type": "stream",
     "text": [
      "/usr/local/lib/python3.7/dist-packages/seaborn/distributions.py:2619: FutureWarning: `distplot` is a deprecated function and will be removed in a future version. Please adapt your code to use either `displot` (a figure-level function with similar flexibility) or `kdeplot` (an axes-level function for kernel density plots).\n",
      "  warnings.warn(msg, FutureWarning)\n"
     ]
    },
    {
     "data": {
      "text/plain": [
       "<matplotlib.axes._subplots.AxesSubplot at 0x7f5f50627b50>"
      ]
     },
     "execution_count": 76,
     "metadata": {},
     "output_type": "execute_result"
    },
    {
     "data": {
      "image/png": "[encoded data removed]",
      "text/plain": [
       "<Figure size 432x288 with 1 Axes>"
      ]
     },
     "metadata": {
      "needs_background": "light"
     },
     "output_type": "display_data"
    }
   ],
   "source": [
    "sns.distplot(data['Investment in Equity'],hist = False)"
   ]
  },
  {
   "cell_type": "code",
   "execution_count": null,
   "metadata": {
    "colab": {
     "base_uri": "https://localhost:8080/",
     "height": 175
    },
    "id": "nQMN23sKrjWB",
    "outputId": "de59005b-3185-4d39-e35e-9100b93f497c"
   },
   "outputs": [
    {
     "data": {
      "text/html": [
       "\n",
       "  <div id=\"df-b9f07b94-0792-4b89-8460-4e9b4c484c24\">\n",
       "    <div class=\"colab-df-container\">\n",
       "      <div>\n",
       "<style scoped>\n",
       "    .dataframe tbody tr th:only-of-type {\n",
       "        vertical-align: middle;\n",
       "    }\n",
       "\n",
       "    .dataframe tbody tr th {\n",
       "        vertical-align: top;\n",
       "    }\n",
       "\n",
       "    .dataframe thead tr th {\n",
       "        text-align: left;\n",
       "    }\n",
       "\n",
       "    .dataframe thead tr:last-of-type th {\n",
       "        text-align: right;\n",
       "    }\n",
       "</style>\n",
       "<table border=\"1\" class=\"dataframe\">\n",
       "  <thead>\n",
       "    <tr>\n",
       "      <th></th>\n",
       "      <th colspan=\"2\" halign=\"left\">Online Purchase Amount</th>\n",
       "    </tr>\n",
       "    <tr>\n",
       "      <th></th>\n",
       "      <th>mean</th>\n",
       "      <th>median</th>\n",
       "    </tr>\n",
       "    <tr>\n",
       "      <th>Revenue Grid</th>\n",
       "      <th></th>\n",
       "      <th></th>\n",
       "    </tr>\n",
       "  </thead>\n",
       "  <tbody>\n",
       "    <tr>\n",
       "      <th>1</th>\n",
       "      <td>118.808066</td>\n",
       "      <td>55.845</td>\n",
       "    </tr>\n",
       "    <tr>\n",
       "      <th>2</th>\n",
       "      <td>7.230388</td>\n",
       "      <td>0.000</td>\n",
       "    </tr>\n",
       "  </tbody>\n",
       "</table>\n",
       "</div>\n",
       "      <button class=\"colab-df-convert\" onclick=\"convertToInteractive('df-b9f07b94-0792-4b89-8460-4e9b4c484c24')\"\n",
       "              title=\"Convert this dataframe to an interactive table.\"\n",
       "              style=\"display:none;\">\n",
       "        \n",
       "  <svg xmlns=\"http://www.w3.org/2000/svg\" height=\"24px\"viewBox=\"0 0 24 24\"\n",
       "       width=\"24px\">\n",
       "    <path d=\"M0 0h24v24H0V0z\" fill=\"none\"/>\n",
       "    <path d=\"M18.56 5.44l.94 2.06.94-2.06 2.06-.94-2.06-.94-.94-2.06-.94 2.06-2.06.94zm-11 1L8.5 8.5l.94-2.06 2.06-.94-2.06-.94L8.5 2.5l-.94 2.06-2.06.94zm10 10l.94 2.06.94-2.06 2.06-.94-2.06-.94-.94-2.06-.94 2.06-2.06.94z\"/><path d=\"M17.41 7.96l-1.37-1.37c-.4-.4-.92-.59-1.43-.59-.52 0-1.04.2-1.43.59L10.3 9.45l-7.72 7.72c-.78.78-.78 2.05 0 2.83L4 21.41c.39.39.9.59 1.41.59.51 0 1.02-.2 1.41-.59l7.78-7.78 2.81-2.81c.8-.78.8-2.07 0-2.86zM5.41 20L4 18.59l7.72-7.72 1.47 1.35L5.41 20z\"/>\n",
       "  </svg>\n",
       "      </button>\n",
       "      \n",
       "  <style>\n",
       "    .colab-df-container {\n",
       "      display:flex;\n",
       "      flex-wrap:wrap;\n",
       "      gap: 12px;\n",
       "    }\n",
       "\n",
       "    .colab-df-convert {\n",
       "      background-color: #E8F0FE;\n",
       "      border: none;\n",
       "      border-radius: 50%;\n",
       "      cursor: pointer;\n",
       "      display: none;\n",
       "      fill: #1967D2;\n",
       "      height: 32px;\n",
       "      padding: 0 0 0 0;\n",
       "      width: 32px;\n",
       "    }\n",
       "\n",
       "    .colab-df-convert:hover {\n",
       "      background-color: #E2EBFA;\n",
       "      box-shadow: 0px 1px 2px rgba(60, 64, 67, 0.3), 0px 1px 3px 1px rgba(60, 64, 67, 0.15);\n",
       "      fill: #174EA6;\n",
       "    }\n",
       "\n",
       "    [theme=dark] .colab-df-convert {\n",
       "      background-color: #3B4455;\n",
       "      fill: #D2E3FC;\n",
       "    }\n",
       "\n",
       "    [theme=dark] .colab-df-convert:hover {\n",
       "      background-color: #434B5C;\n",
       "      box-shadow: 0px 1px 3px 1px rgba(0, 0, 0, 0.15);\n",
       "      filter: drop-shadow(0px 1px 2px rgba(0, 0, 0, 0.3));\n",
       "      fill: #FFFFFF;\n",
       "    }\n",
       "  </style>\n",
       "\n",
       "      <script>\n",
       "        const buttonEl =\n",
       "          document.querySelector('#df-b9f07b94-0792-4b89-8460-4e9b4c484c24 button.colab-df-convert');\n",
       "        buttonEl.style.display =\n",
       "          google.colab.kernel.accessAllowed ? 'block' : 'none';\n",
       "\n",
       "        async function convertToInteractive(key) {\n",
       "          const element = document.querySelector('#df-b9f07b94-0792-4b89-8460-4e9b4c484c24');\n",
       "          const dataTable =\n",
       "            await google.colab.kernel.invokeFunction('convertToInteractive',\n",
       "                                                     [key], {});\n",
       "          if (!dataTable) return;\n",
       "\n",
       "          const docLinkHtml = 'Like what you see? Visit the ' +\n",
       "            '<a target=\"_blank\" href=https://colab.research.google.com/notebooks/data_table.ipynb>data table notebook</a>'\n",
       "            + ' to learn more about interactive tables.';\n",
       "          element.innerHTML = '';\n",
       "          dataTable['output_type'] = 'display_data';\n",
       "          await google.colab.output.renderOutput(dataTable, element);\n",
       "          const docLink = document.createElement('div');\n",
       "          docLink.innerHTML = docLinkHtml;\n",
       "          element.appendChild(docLink);\n",
       "        }\n",
       "      </script>\n",
       "    </div>\n",
       "  </div>\n",
       "  "
      ],
      "text/plain": [
       "             Online Purchase Amount        \n",
       "                               mean  median\n",
       "Revenue Grid                               \n",
       "1                        118.808066  55.845\n",
       "2                          7.230388   0.000"
      ]
     },
     "execution_count": 77,
     "metadata": {},
     "output_type": "execute_result"
    }
   ],
   "source": [
    "data.groupby(['Revenue Grid']).agg({'Online Purchase Amount': ['mean', 'median']})"
   ]
  },
  {
   "cell_type": "code",
   "execution_count": null,
   "metadata": {
    "colab": {
     "base_uri": "https://localhost:8080/",
     "height": 297
    },
    "id": "oV3J_PMbA7n2",
    "outputId": "4d1befbe-d0e7-492b-d94e-cb350c814f1c"
   },
   "outputs": [
    {
     "data": {
      "text/plain": [
       "<matplotlib.axes._subplots.AxesSubplot at 0x7f5f50d6c550>"
      ]
     },
     "execution_count": 78,
     "metadata": {},
     "output_type": "execute_result"
    },
    {
     "data": {
      "image/png": "[encoded data removed]",
      "text/plain": [
       "<Figure size 432x288 with 1 Axes>"
      ]
     },
     "metadata": {
      "needs_background": "light"
     },
     "output_type": "display_data"
    }
   ],
   "source": [
    "sns.boxplot(x='Revenue Grid', y = 'Online Purchase Amount', data = data)"
   ]
  },
  {
   "cell_type": "code",
   "execution_count": null,
   "metadata": {
    "colab": {
     "base_uri": "https://localhost:8080/"
    },
    "id": "B_1mEfqH06pc",
    "outputId": "009d668b-ab50-45ad-dfda-61f1feddcd51"
   },
   "outputs": [
    {
     "data": {
      "text/plain": [
       "84"
      ]
     },
     "execution_count": 79,
     "metadata": {},
     "output_type": "execute_result"
    }
   ],
   "source": [
    "np.sum(data['year_last_moved']==0) #### This computes the number of 0's in the year last moved columns"
   ]
  },
  {
   "cell_type": "code",
   "execution_count": null,
   "metadata": {
    "colab": {
     "base_uri": "https://localhost:8080/",
     "height": 352
    },
    "id": "Ad8CD0MMAq79",
    "outputId": "4b2eeb27-70eb-4b81-ab36-39ef45ebc3b9"
   },
   "outputs": [
    {
     "name": "stderr",
     "output_type": "stream",
     "text": [
      "/usr/local/lib/python3.7/dist-packages/seaborn/_decorators.py:43: FutureWarning: Pass the following variables as keyword args: x, y. From version 0.12, the only valid positional argument will be `data`, and passing other arguments without an explicit keyword will result in an error or misinterpretation.\n",
      "  FutureWarning\n"
     ]
    },
    {
     "data": {
      "text/plain": [
       "<matplotlib.axes._subplots.AxesSubplot at 0x7f5f50b89ed0>"
      ]
     },
     "execution_count": 80,
     "metadata": {},
     "output_type": "execute_result"
    },
    {
     "data": {
      "image/png": "[encoded data removed]",
      "text/plain": [
       "<Figure size 432x288 with 1 Axes>"
      ]
     },
     "metadata": {
      "needs_background": "light"
     },
     "output_type": "display_data"
    }
   ],
   "source": [
    "sns.boxplot(data.loc[data['year_last_moved']>0,'Revenue Grid'], data.loc[data['year_last_moved']>0,'year_last_moved'])"
   ]
  },
  {
   "cell_type": "code",
   "execution_count": null,
   "metadata": {
    "colab": {
     "base_uri": "https://localhost:8080/",
     "height": 903
    },
    "id": "Rr-WaQ3FCMcw",
    "outputId": "38717109-fb2c-41d6-c35c-e782c6431dfd"
   },
   "outputs": [
    {
     "data": {
      "text/html": [
       "\n",
       "  <div id=\"df-ace7afc3-d9ce-4e25-80eb-711173e4207c\">\n",
       "    <div class=\"colab-df-container\">\n",
       "      <div>\n",
       "<style scoped>\n",
       "    .dataframe tbody tr th:only-of-type {\n",
       "        vertical-align: middle;\n",
       "    }\n",
       "\n",
       "    .dataframe tbody tr th {\n",
       "        vertical-align: top;\n",
       "    }\n",
       "\n",
       "    .dataframe thead th {\n",
       "        text-align: right;\n",
       "    }\n",
       "</style>\n",
       "<table border=\"1\" class=\"dataframe\">\n",
       "  <thead>\n",
       "    <tr style=\"text-align: right;\">\n",
       "      <th></th>\n",
       "      <th>REF_NO</th>\n",
       "      <th>year_last_moved</th>\n",
       "      <th>Average Credit Card Transaction</th>\n",
       "      <th>Balance Transfer</th>\n",
       "      <th>Term Deposit</th>\n",
       "      <th>Life Insurance</th>\n",
       "      <th>Medical Insurance</th>\n",
       "      <th>Average A/C Balance</th>\n",
       "      <th>Personal Loan</th>\n",
       "      <th>Investment in Mutual Fund</th>\n",
       "      <th>Investment Tax Saving Bond</th>\n",
       "      <th>Home Loan</th>\n",
       "      <th>Online Purchase Amount</th>\n",
       "      <th>Revenue Grid</th>\n",
       "      <th>Investment in Commudity</th>\n",
       "      <th>Investment in Equity</th>\n",
       "      <th>Investment in Derivative</th>\n",
       "      <th>Portfolio Balance</th>\n",
       "    </tr>\n",
       "  </thead>\n",
       "  <tbody>\n",
       "    <tr>\n",
       "      <th>REF_NO</th>\n",
       "      <td>1.000000</td>\n",
       "      <td>0.028739</td>\n",
       "      <td>-0.001217</td>\n",
       "      <td>-0.010711</td>\n",
       "      <td>-0.002313</td>\n",
       "      <td>0.008301</td>\n",
       "      <td>0.020776</td>\n",
       "      <td>-0.005197</td>\n",
       "      <td>-0.010802</td>\n",
       "      <td>-0.006030</td>\n",
       "      <td>0.000775</td>\n",
       "      <td>-0.014010</td>\n",
       "      <td>0.003267</td>\n",
       "      <td>-0.010578</td>\n",
       "      <td>0.002082</td>\n",
       "      <td>-0.007154</td>\n",
       "      <td>-0.000234</td>\n",
       "      <td>-0.000721</td>\n",
       "    </tr>\n",
       "    <tr>\n",
       "      <th>year_last_moved</th>\n",
       "      <td>0.028739</td>\n",
       "      <td>1.000000</td>\n",
       "      <td>0.014296</td>\n",
       "      <td>0.013535</td>\n",
       "      <td>0.004404</td>\n",
       "      <td>0.010689</td>\n",
       "      <td>0.015484</td>\n",
       "      <td>0.003031</td>\n",
       "      <td>0.019718</td>\n",
       "      <td>0.002569</td>\n",
       "      <td>0.013158</td>\n",
       "      <td>0.003282</td>\n",
       "      <td>-0.005826</td>\n",
       "      <td>-0.018655</td>\n",
       "      <td>0.016802</td>\n",
       "      <td>0.008586</td>\n",
       "      <td>0.015582</td>\n",
       "      <td>0.017298</td>\n",
       "    </tr>\n",
       "    <tr>\n",
       "      <th>Average Credit Card Transaction</th>\n",
       "      <td>-0.001217</td>\n",
       "      <td>0.014296</td>\n",
       "      <td>1.000000</td>\n",
       "      <td>0.123855</td>\n",
       "      <td>0.323462</td>\n",
       "      <td>0.145041</td>\n",
       "      <td>0.405090</td>\n",
       "      <td>0.172240</td>\n",
       "      <td>0.087289</td>\n",
       "      <td>0.150667</td>\n",
       "      <td>0.133126</td>\n",
       "      <td>0.087695</td>\n",
       "      <td>0.132518</td>\n",
       "      <td>-0.265197</td>\n",
       "      <td>0.497025</td>\n",
       "      <td>0.205289</td>\n",
       "      <td>0.228141</td>\n",
       "      <td>0.335674</td>\n",
       "    </tr>\n",
       "    <tr>\n",
       "      <th>Balance Transfer</th>\n",
       "      <td>-0.010711</td>\n",
       "      <td>0.013535</td>\n",
       "      <td>0.123855</td>\n",
       "      <td>1.000000</td>\n",
       "      <td>0.229457</td>\n",
       "      <td>0.564538</td>\n",
       "      <td>0.162085</td>\n",
       "      <td>0.358938</td>\n",
       "      <td>0.351499</td>\n",
       "      <td>0.454602</td>\n",
       "      <td>0.166496</td>\n",
       "      <td>0.153097</td>\n",
       "      <td>0.112012</td>\n",
       "      <td>-0.074756</td>\n",
       "      <td>0.739791</td>\n",
       "      <td>0.463556</td>\n",
       "      <td>0.581039</td>\n",
       "      <td>0.639400</td>\n",
       "    </tr>\n",
       "    <tr>\n",
       "      <th>Term Deposit</th>\n",
       "      <td>-0.002313</td>\n",
       "      <td>0.004404</td>\n",
       "      <td>0.323462</td>\n",
       "      <td>0.229457</td>\n",
       "      <td>1.000000</td>\n",
       "      <td>0.274691</td>\n",
       "      <td>0.506367</td>\n",
       "      <td>0.274027</td>\n",
       "      <td>0.146755</td>\n",
       "      <td>0.208948</td>\n",
       "      <td>0.176975</td>\n",
       "      <td>0.170584</td>\n",
       "      <td>0.099455</td>\n",
       "      <td>-0.011817</td>\n",
       "      <td>0.620256</td>\n",
       "      <td>0.266908</td>\n",
       "      <td>0.354304</td>\n",
       "      <td>0.454740</td>\n",
       "    </tr>\n",
       "    <tr>\n",
       "      <th>Life Insurance</th>\n",
       "      <td>0.008301</td>\n",
       "      <td>0.010689</td>\n",
       "      <td>0.145041</td>\n",
       "      <td>0.564538</td>\n",
       "      <td>0.274691</td>\n",
       "      <td>1.000000</td>\n",
       "      <td>0.238435</td>\n",
       "      <td>0.514339</td>\n",
       "      <td>0.380563</td>\n",
       "      <td>0.544439</td>\n",
       "      <td>0.263675</td>\n",
       "      <td>0.279959</td>\n",
       "      <td>0.128785</td>\n",
       "      <td>-0.216090</td>\n",
       "      <td>0.803326</td>\n",
       "      <td>0.564287</td>\n",
       "      <td>0.839266</td>\n",
       "      <td>0.787311</td>\n",
       "    </tr>\n",
       "    <tr>\n",
       "      <th>Medical Insurance</th>\n",
       "      <td>0.020776</td>\n",
       "      <td>0.015484</td>\n",
       "      <td>0.405090</td>\n",
       "      <td>0.162085</td>\n",
       "      <td>0.506367</td>\n",
       "      <td>0.238435</td>\n",
       "      <td>1.000000</td>\n",
       "      <td>0.264615</td>\n",
       "      <td>0.105134</td>\n",
       "      <td>0.209651</td>\n",
       "      <td>0.201057</td>\n",
       "      <td>0.136310</td>\n",
       "      <td>0.149651</td>\n",
       "      <td>-0.092966</td>\n",
       "      <td>0.548282</td>\n",
       "      <td>0.269922</td>\n",
       "      <td>0.392548</td>\n",
       "      <td>0.441631</td>\n",
       "    </tr>\n",
       "    <tr>\n",
       "      <th>Average A/C Balance</th>\n",
       "      <td>-0.005197</td>\n",
       "      <td>0.003031</td>\n",
       "      <td>0.172240</td>\n",
       "      <td>0.358938</td>\n",
       "      <td>0.274027</td>\n",
       "      <td>0.514339</td>\n",
       "      <td>0.264615</td>\n",
       "      <td>1.000000</td>\n",
       "      <td>0.219801</td>\n",
       "      <td>0.448270</td>\n",
       "      <td>0.307552</td>\n",
       "      <td>0.367590</td>\n",
       "      <td>0.162821</td>\n",
       "      <td>-0.112118</td>\n",
       "      <td>0.517832</td>\n",
       "      <td>0.600278</td>\n",
       "      <td>0.657742</td>\n",
       "      <td>0.616051</td>\n",
       "    </tr>\n",
       "    <tr>\n",
       "      <th>Personal Loan</th>\n",
       "      <td>-0.010802</td>\n",
       "      <td>0.019718</td>\n",
       "      <td>0.087289</td>\n",
       "      <td>0.351499</td>\n",
       "      <td>0.146755</td>\n",
       "      <td>0.380563</td>\n",
       "      <td>0.105134</td>\n",
       "      <td>0.219801</td>\n",
       "      <td>1.000000</td>\n",
       "      <td>0.379615</td>\n",
       "      <td>0.233020</td>\n",
       "      <td>0.128062</td>\n",
       "      <td>0.073292</td>\n",
       "      <td>0.028982</td>\n",
       "      <td>0.377170</td>\n",
       "      <td>0.676053</td>\n",
       "      <td>0.687417</td>\n",
       "      <td>0.598919</td>\n",
       "    </tr>\n",
       "    <tr>\n",
       "      <th>Investment in Mutual Fund</th>\n",
       "      <td>-0.006030</td>\n",
       "      <td>0.002569</td>\n",
       "      <td>0.150667</td>\n",
       "      <td>0.454602</td>\n",
       "      <td>0.208948</td>\n",
       "      <td>0.544439</td>\n",
       "      <td>0.209651</td>\n",
       "      <td>0.448270</td>\n",
       "      <td>0.379615</td>\n",
       "      <td>1.000000</td>\n",
       "      <td>0.271580</td>\n",
       "      <td>0.261562</td>\n",
       "      <td>0.115087</td>\n",
       "      <td>-0.114689</td>\n",
       "      <td>0.536715</td>\n",
       "      <td>0.693435</td>\n",
       "      <td>0.761125</td>\n",
       "      <td>0.695337</td>\n",
       "    </tr>\n",
       "    <tr>\n",
       "      <th>Investment Tax Saving Bond</th>\n",
       "      <td>0.000775</td>\n",
       "      <td>0.013158</td>\n",
       "      <td>0.133126</td>\n",
       "      <td>0.166496</td>\n",
       "      <td>0.176975</td>\n",
       "      <td>0.263675</td>\n",
       "      <td>0.201057</td>\n",
       "      <td>0.307552</td>\n",
       "      <td>0.233020</td>\n",
       "      <td>0.271580</td>\n",
       "      <td>1.000000</td>\n",
       "      <td>0.261626</td>\n",
       "      <td>0.211596</td>\n",
       "      <td>-0.288024</td>\n",
       "      <td>0.289110</td>\n",
       "      <td>0.446271</td>\n",
       "      <td>0.407148</td>\n",
       "      <td>0.395889</td>\n",
       "    </tr>\n",
       "    <tr>\n",
       "      <th>Home Loan</th>\n",
       "      <td>-0.014010</td>\n",
       "      <td>0.003282</td>\n",
       "      <td>0.087695</td>\n",
       "      <td>0.153097</td>\n",
       "      <td>0.170584</td>\n",
       "      <td>0.279959</td>\n",
       "      <td>0.136310</td>\n",
       "      <td>0.367590</td>\n",
       "      <td>0.128062</td>\n",
       "      <td>0.261562</td>\n",
       "      <td>0.261626</td>\n",
       "      <td>1.000000</td>\n",
       "      <td>0.101066</td>\n",
       "      <td>-0.028413</td>\n",
       "      <td>0.268989</td>\n",
       "      <td>0.348181</td>\n",
       "      <td>0.335651</td>\n",
       "      <td>0.326663</td>\n",
       "    </tr>\n",
       "    <tr>\n",
       "      <th>Online Purchase Amount</th>\n",
       "      <td>0.003267</td>\n",
       "      <td>-0.005826</td>\n",
       "      <td>0.132518</td>\n",
       "      <td>0.112012</td>\n",
       "      <td>0.099455</td>\n",
       "      <td>0.128785</td>\n",
       "      <td>0.149651</td>\n",
       "      <td>0.162821</td>\n",
       "      <td>0.073292</td>\n",
       "      <td>0.115087</td>\n",
       "      <td>0.211596</td>\n",
       "      <td>0.101066</td>\n",
       "      <td>1.000000</td>\n",
       "      <td>-0.384578</td>\n",
       "      <td>0.180074</td>\n",
       "      <td>0.597440</td>\n",
       "      <td>0.173943</td>\n",
       "      <td>0.309800</td>\n",
       "    </tr>\n",
       "    <tr>\n",
       "      <th>Revenue Grid</th>\n",
       "      <td>-0.010578</td>\n",
       "      <td>-0.018655</td>\n",
       "      <td>-0.265197</td>\n",
       "      <td>-0.074756</td>\n",
       "      <td>-0.011817</td>\n",
       "      <td>-0.216090</td>\n",
       "      <td>-0.092966</td>\n",
       "      <td>-0.112118</td>\n",
       "      <td>0.028982</td>\n",
       "      <td>-0.114689</td>\n",
       "      <td>-0.288024</td>\n",
       "      <td>-0.028413</td>\n",
       "      <td>-0.384578</td>\n",
       "      <td>1.000000</td>\n",
       "      <td>-0.206567</td>\n",
       "      <td>-0.253182</td>\n",
       "      <td>-0.159163</td>\n",
       "      <td>-0.215847</td>\n",
       "    </tr>\n",
       "    <tr>\n",
       "      <th>Investment in Commudity</th>\n",
       "      <td>0.002082</td>\n",
       "      <td>0.016802</td>\n",
       "      <td>0.497025</td>\n",
       "      <td>0.739791</td>\n",
       "      <td>0.620256</td>\n",
       "      <td>0.803326</td>\n",
       "      <td>0.548282</td>\n",
       "      <td>0.517832</td>\n",
       "      <td>0.377170</td>\n",
       "      <td>0.536715</td>\n",
       "      <td>0.289110</td>\n",
       "      <td>0.268989</td>\n",
       "      <td>0.180074</td>\n",
       "      <td>-0.206567</td>\n",
       "      <td>1.000000</td>\n",
       "      <td>0.586210</td>\n",
       "      <td>0.800779</td>\n",
       "      <td>0.858020</td>\n",
       "    </tr>\n",
       "    <tr>\n",
       "      <th>Investment in Equity</th>\n",
       "      <td>-0.007154</td>\n",
       "      <td>0.008586</td>\n",
       "      <td>0.205289</td>\n",
       "      <td>0.463556</td>\n",
       "      <td>0.266908</td>\n",
       "      <td>0.564287</td>\n",
       "      <td>0.269922</td>\n",
       "      <td>0.600278</td>\n",
       "      <td>0.676053</td>\n",
       "      <td>0.693435</td>\n",
       "      <td>0.446271</td>\n",
       "      <td>0.348181</td>\n",
       "      <td>0.597440</td>\n",
       "      <td>-0.253182</td>\n",
       "      <td>0.586210</td>\n",
       "      <td>1.000000</td>\n",
       "      <td>0.839552</td>\n",
       "      <td>0.831134</td>\n",
       "    </tr>\n",
       "    <tr>\n",
       "      <th>Investment in Derivative</th>\n",
       "      <td>-0.000234</td>\n",
       "      <td>0.015582</td>\n",
       "      <td>0.228141</td>\n",
       "      <td>0.581039</td>\n",
       "      <td>0.354304</td>\n",
       "      <td>0.839266</td>\n",
       "      <td>0.392548</td>\n",
       "      <td>0.657742</td>\n",
       "      <td>0.687417</td>\n",
       "      <td>0.761125</td>\n",
       "      <td>0.407148</td>\n",
       "      <td>0.335651</td>\n",
       "      <td>0.173943</td>\n",
       "      <td>-0.159163</td>\n",
       "      <td>0.800779</td>\n",
       "      <td>0.839552</td>\n",
       "      <td>1.000000</td>\n",
       "      <td>0.927232</td>\n",
       "    </tr>\n",
       "    <tr>\n",
       "      <th>Portfolio Balance</th>\n",
       "      <td>-0.000721</td>\n",
       "      <td>0.017298</td>\n",
       "      <td>0.335674</td>\n",
       "      <td>0.639400</td>\n",
       "      <td>0.454740</td>\n",
       "      <td>0.787311</td>\n",
       "      <td>0.441631</td>\n",
       "      <td>0.616051</td>\n",
       "      <td>0.598919</td>\n",
       "      <td>0.695337</td>\n",
       "      <td>0.395889</td>\n",
       "      <td>0.326663</td>\n",
       "      <td>0.309800</td>\n",
       "      <td>-0.215847</td>\n",
       "      <td>0.858020</td>\n",
       "      <td>0.831134</td>\n",
       "      <td>0.927232</td>\n",
       "      <td>1.000000</td>\n",
       "    </tr>\n",
       "  </tbody>\n",
       "</table>\n",
       "</div>\n",
       "      <button class=\"colab-df-convert\" onclick=\"convertToInteractive('df-ace7afc3-d9ce-4e25-80eb-711173e4207c')\"\n",
       "              title=\"Convert this dataframe to an interactive table.\"\n",
       "              style=\"display:none;\">\n",
       "        \n",
       "  <svg xmlns=\"http://www.w3.org/2000/svg\" height=\"24px\"viewBox=\"0 0 24 24\"\n",
       "       width=\"24px\">\n",
       "    <path d=\"M0 0h24v24H0V0z\" fill=\"none\"/>\n",
       "    <path d=\"M18.56 5.44l.94 2.06.94-2.06 2.06-.94-2.06-.94-.94-2.06-.94 2.06-2.06.94zm-11 1L8.5 8.5l.94-2.06 2.06-.94-2.06-.94L8.5 2.5l-.94 2.06-2.06.94zm10 10l.94 2.06.94-2.06 2.06-.94-2.06-.94-.94-2.06-.94 2.06-2.06.94z\"/><path d=\"M17.41 7.96l-1.37-1.37c-.4-.4-.92-.59-1.43-.59-.52 0-1.04.2-1.43.59L10.3 9.45l-7.72 7.72c-.78.78-.78 2.05 0 2.83L4 21.41c.39.39.9.59 1.41.59.51 0 1.02-.2 1.41-.59l7.78-7.78 2.81-2.81c.8-.78.8-2.07 0-2.86zM5.41 20L4 18.59l7.72-7.72 1.47 1.35L5.41 20z\"/>\n",
       "  </svg>\n",
       "      </button>\n",
       "      \n",
       "  <style>\n",
       "    .colab-df-container {\n",
       "      display:flex;\n",
       "      flex-wrap:wrap;\n",
       "      gap: 12px;\n",
       "    }\n",
       "\n",
       "    .colab-df-convert {\n",
       "      background-color: #E8F0FE;\n",
       "      border: none;\n",
       "      border-radius: 50%;\n",
       "      cursor: pointer;\n",
       "      display: none;\n",
       "      fill: #1967D2;\n",
       "      height: 32px;\n",
       "      padding: 0 0 0 0;\n",
       "      width: 32px;\n",
       "    }\n",
       "\n",
       "    .colab-df-convert:hover {\n",
       "      background-color: #E2EBFA;\n",
       "      box-shadow: 0px 1px 2px rgba(60, 64, 67, 0.3), 0px 1px 3px 1px rgba(60, 64, 67, 0.15);\n",
       "      fill: #174EA6;\n",
       "    }\n",
       "\n",
       "    [theme=dark] .colab-df-convert {\n",
       "      background-color: #3B4455;\n",
       "      fill: #D2E3FC;\n",
       "    }\n",
       "\n",
       "    [theme=dark] .colab-df-convert:hover {\n",
       "      background-color: #434B5C;\n",
       "      box-shadow: 0px 1px 3px 1px rgba(0, 0, 0, 0.15);\n",
       "      filter: drop-shadow(0px 1px 2px rgba(0, 0, 0, 0.3));\n",
       "      fill: #FFFFFF;\n",
       "    }\n",
       "  </style>\n",
       "\n",
       "      <script>\n",
       "        const buttonEl =\n",
       "          document.querySelector('#df-ace7afc3-d9ce-4e25-80eb-711173e4207c button.colab-df-convert');\n",
       "        buttonEl.style.display =\n",
       "          google.colab.kernel.accessAllowed ? 'block' : 'none';\n",
       "\n",
       "        async function convertToInteractive(key) {\n",
       "          const element = document.querySelector('#df-ace7afc3-d9ce-4e25-80eb-711173e4207c');\n",
       "          const dataTable =\n",
       "            await google.colab.kernel.invokeFunction('convertToInteractive',\n",
       "                                                     [key], {});\n",
       "          if (!dataTable) return;\n",
       "\n",
       "          const docLinkHtml = 'Like what you see? Visit the ' +\n",
       "            '<a target=\"_blank\" href=https://colab.research.google.com/notebooks/data_table.ipynb>data table notebook</a>'\n",
       "            + ' to learn more about interactive tables.';\n",
       "          element.innerHTML = '';\n",
       "          dataTable['output_type'] = 'display_data';\n",
       "          await google.colab.output.renderOutput(dataTable, element);\n",
       "          const docLink = document.createElement('div');\n",
       "          docLink.innerHTML = docLinkHtml;\n",
       "          element.appendChild(docLink);\n",
       "        }\n",
       "      </script>\n",
       "    </div>\n",
       "  </div>\n",
       "  "
      ],
      "text/plain": [
       "                                   REF_NO  year_last_moved  \\\n",
       "REF_NO                           1.000000         0.028739   \n",
       "year_last_moved                  0.028739         1.000000   \n",
       "Average Credit Card Transaction -0.001217         0.014296   \n",
       "Balance Transfer                -0.010711         0.013535   \n",
       "Term Deposit                    -0.002313         0.004404   \n",
       "Life Insurance                   0.008301         0.010689   \n",
       "Medical Insurance                0.020776         0.015484   \n",
       "Average A/C Balance             -0.005197         0.003031   \n",
       "Personal Loan                   -0.010802         0.019718   \n",
       "Investment in Mutual Fund       -0.006030         0.002569   \n",
       "Investment Tax Saving Bond       0.000775         0.013158   \n",
       "Home Loan                       -0.014010         0.003282   \n",
       "Online Purchase Amount           0.003267        -0.005826   \n",
       "Revenue Grid                    -0.010578        -0.018655   \n",
       "Investment in Commudity          0.002082         0.016802   \n",
       "Investment in Equity            -0.007154         0.008586   \n",
       "Investment in Derivative        -0.000234         0.015582   \n",
       "Portfolio Balance               -0.000721         0.017298   \n",
       "\n",
       "                                 Average Credit Card Transaction  \\\n",
       "REF_NO                                                 -0.001217   \n",
       "year_last_moved                                         0.014296   \n",
       "Average Credit Card Transaction                         1.000000   \n",
       "Balance Transfer                                        0.123855   \n",
       "Term Deposit                                            0.323462   \n",
       "Life Insurance                                          0.145041   \n",
       "Medical Insurance                                       0.405090   \n",
       "Average A/C Balance                                     0.172240   \n",
       "Personal Loan                                           0.087289   \n",
       "Investment in Mutual Fund                               0.150667   \n",
       "Investment Tax Saving Bond                              0.133126   \n",
       "Home Loan                                               0.087695   \n",
       "Online Purchase Amount                                  0.132518   \n",
       "Revenue Grid                                           -0.265197   \n",
       "Investment in Commudity                                 0.497025   \n",
       "Investment in Equity                                    0.205289   \n",
       "Investment in Derivative                                0.228141   \n",
       "Portfolio Balance                                       0.335674   \n",
       "\n",
       "                                 Balance Transfer  Term Deposit  \\\n",
       "REF_NO                                  -0.010711     -0.002313   \n",
       "year_last_moved                          0.013535      0.004404   \n",
       "Average Credit Card Transaction          0.123855      0.323462   \n",
       "Balance Transfer                         1.000000      0.229457   \n",
       "Term Deposit                             0.229457      1.000000   \n",
       "Life Insurance                           0.564538      0.274691   \n",
       "Medical Insurance                        0.162085      0.506367   \n",
       "Average A/C Balance                      0.358938      0.274027   \n",
       "Personal Loan                            0.351499      0.146755   \n",
       "Investment in Mutual Fund                0.454602      0.208948   \n",
       "Investment Tax Saving Bond               0.166496      0.176975   \n",
       "Home Loan                                0.153097      0.170584   \n",
       "Online Purchase Amount                   0.112012      0.099455   \n",
       "Revenue Grid                            -0.074756     -0.011817   \n",
       "Investment in Commudity                  0.739791      0.620256   \n",
       "Investment in Equity                     0.463556      0.266908   \n",
       "Investment in Derivative                 0.581039      0.354304   \n",
       "Portfolio Balance                        0.639400      0.454740   \n",
       "\n",
       "                                 Life Insurance  Medical Insurance  \\\n",
       "REF_NO                                 0.008301           0.020776   \n",
       "year_last_moved                        0.010689           0.015484   \n",
       "Average Credit Card Transaction        0.145041           0.405090   \n",
       "Balance Transfer                       0.564538           0.162085   \n",
       "Term Deposit                           0.274691           0.506367   \n",
       "Life Insurance                         1.000000           0.238435   \n",
       "Medical Insurance                      0.238435           1.000000   \n",
       "Average A/C Balance                    0.514339           0.264615   \n",
       "Personal Loan                          0.380563           0.105134   \n",
       "Investment in Mutual Fund              0.544439           0.209651   \n",
       "Investment Tax Saving Bond             0.263675           0.201057   \n",
       "Home Loan                              0.279959           0.136310   \n",
       "Online Purchase Amount                 0.128785           0.149651   \n",
       "Revenue Grid                          -0.216090          -0.092966   \n",
       "Investment in Commudity                0.803326           0.548282   \n",
       "Investment in Equity                   0.564287           0.269922   \n",
       "Investment in Derivative               0.839266           0.392548   \n",
       "Portfolio Balance                      0.787311           0.441631   \n",
       "\n",
       "                                 Average A/C Balance  Personal Loan  \\\n",
       "REF_NO                                     -0.005197      -0.010802   \n",
       "year_last_moved                             0.003031       0.019718   \n",
       "Average Credit Card Transaction             0.172240       0.087289   \n",
       "Balance Transfer                            0.358938       0.351499   \n",
       "Term Deposit                                0.274027       0.146755   \n",
       "Life Insurance                              0.514339       0.380563   \n",
       "Medical Insurance                           0.264615       0.105134   \n",
       "Average A/C Balance                         1.000000       0.219801   \n",
       "Personal Loan                               0.219801       1.000000   \n",
       "Investment in Mutual Fund                   0.448270       0.379615   \n",
       "Investment Tax Saving Bond                  0.307552       0.233020   \n",
       "Home Loan                                   0.367590       0.128062   \n",
       "Online Purchase Amount                      0.162821       0.073292   \n",
       "Revenue Grid                               -0.112118       0.028982   \n",
       "Investment in Commudity                     0.517832       0.377170   \n",
       "Investment in Equity                        0.600278       0.676053   \n",
       "Investment in Derivative                    0.657742       0.687417   \n",
       "Portfolio Balance                           0.616051       0.598919   \n",
       "\n",
       "                                 Investment in Mutual Fund  \\\n",
       "REF_NO                                           -0.006030   \n",
       "year_last_moved                                   0.002569   \n",
       "Average Credit Card Transaction                   0.150667   \n",
       "Balance Transfer                                  0.454602   \n",
       "Term Deposit                                      0.208948   \n",
       "Life Insurance                                    0.544439   \n",
       "Medical Insurance                                 0.209651   \n",
       "Average A/C Balance                               0.448270   \n",
       "Personal Loan                                     0.379615   \n",
       "Investment in Mutual Fund                         1.000000   \n",
       "Investment Tax Saving Bond                        0.271580   \n",
       "Home Loan                                         0.261562   \n",
       "Online Purchase Amount                            0.115087   \n",
       "Revenue Grid                                     -0.114689   \n",
       "Investment in Commudity                           0.536715   \n",
       "Investment in Equity                              0.693435   \n",
       "Investment in Derivative                          0.761125   \n",
       "Portfolio Balance                                 0.695337   \n",
       "\n",
       "                                 Investment Tax Saving Bond  Home Loan  \\\n",
       "REF_NO                                             0.000775  -0.014010   \n",
       "year_last_moved                                    0.013158   0.003282   \n",
       "Average Credit Card Transaction                    0.133126   0.087695   \n",
       "Balance Transfer                                   0.166496   0.153097   \n",
       "Term Deposit                                       0.176975   0.170584   \n",
       "Life Insurance                                     0.263675   0.279959   \n",
       "Medical Insurance                                  0.201057   0.136310   \n",
       "Average A/C Balance                                0.307552   0.367590   \n",
       "Personal Loan                                      0.233020   0.128062   \n",
       "Investment in Mutual Fund                          0.271580   0.261562   \n",
       "Investment Tax Saving Bond                         1.000000   0.261626   \n",
       "Home Loan                                          0.261626   1.000000   \n",
       "Online Purchase Amount                             0.211596   0.101066   \n",
       "Revenue Grid                                      -0.288024  -0.028413   \n",
       "Investment in Commudity                            0.289110   0.268989   \n",
       "Investment in Equity                               0.446271   0.348181   \n",
       "Investment in Derivative                           0.407148   0.335651   \n",
       "Portfolio Balance                                  0.395889   0.326663   \n",
       "\n",
       "                                 Online Purchase Amount  Revenue Grid  \\\n",
       "REF_NO                                         0.003267     -0.010578   \n",
       "year_last_moved                               -0.005826     -0.018655   \n",
       "Average Credit Card Transaction                0.132518     -0.265197   \n",
       "Balance Transfer                               0.112012     -0.074756   \n",
       "Term Deposit                                   0.099455     -0.011817   \n",
       "Life Insurance                                 0.128785     -0.216090   \n",
       "Medical Insurance                              0.149651     -0.092966   \n",
       "Average A/C Balance                            0.162821     -0.112118   \n",
       "Personal Loan                                  0.073292      0.028982   \n",
       "Investment in Mutual Fund                      0.115087     -0.114689   \n",
       "Investment Tax Saving Bond                     0.211596     -0.288024   \n",
       "Home Loan                                      0.101066     -0.028413   \n",
       "Online Purchase Amount                         1.000000     -0.384578   \n",
       "Revenue Grid                                  -0.384578      1.000000   \n",
       "Investment in Commudity                        0.180074     -0.206567   \n",
       "Investment in Equity                           0.597440     -0.253182   \n",
       "Investment in Derivative                       0.173943     -0.159163   \n",
       "Portfolio Balance                              0.309800     -0.215847   \n",
       "\n",
       "                                 Investment in Commudity  \\\n",
       "REF_NO                                          0.002082   \n",
       "year_last_moved                                 0.016802   \n",
       "Average Credit Card Transaction                 0.497025   \n",
       "Balance Transfer                                0.739791   \n",
       "Term Deposit                                    0.620256   \n",
       "Life Insurance                                  0.803326   \n",
       "Medical Insurance                               0.548282   \n",
       "Average A/C Balance                             0.517832   \n",
       "Personal Loan                                   0.377170   \n",
       "Investment in Mutual Fund                       0.536715   \n",
       "Investment Tax Saving Bond                      0.289110   \n",
       "Home Loan                                       0.268989   \n",
       "Online Purchase Amount                          0.180074   \n",
       "Revenue Grid                                   -0.206567   \n",
       "Investment in Commudity                         1.000000   \n",
       "Investment in Equity                            0.586210   \n",
       "Investment in Derivative                        0.800779   \n",
       "Portfolio Balance                               0.858020   \n",
       "\n",
       "                                 Investment in Equity  \\\n",
       "REF_NO                                      -0.007154   \n",
       "year_last_moved                              0.008586   \n",
       "Average Credit Card Transaction              0.205289   \n",
       "Balance Transfer                             0.463556   \n",
       "Term Deposit                                 0.266908   \n",
       "Life Insurance                               0.564287   \n",
       "Medical Insurance                            0.269922   \n",
       "Average A/C Balance                          0.600278   \n",
       "Personal Loan                                0.676053   \n",
       "Investment in Mutual Fund                    0.693435   \n",
       "Investment Tax Saving Bond                   0.446271   \n",
       "Home Loan                                    0.348181   \n",
       "Online Purchase Amount                       0.597440   \n",
       "Revenue Grid                                -0.253182   \n",
       "Investment in Commudity                      0.586210   \n",
       "Investment in Equity                         1.000000   \n",
       "Investment in Derivative                     0.839552   \n",
       "Portfolio Balance                            0.831134   \n",
       "\n",
       "                                 Investment in Derivative  Portfolio Balance  \n",
       "REF_NO                                          -0.000234          -0.000721  \n",
       "year_last_moved                                  0.015582           0.017298  \n",
       "Average Credit Card Transaction                  0.228141           0.335674  \n",
       "Balance Transfer                                 0.581039           0.639400  \n",
       "Term Deposit                                     0.354304           0.454740  \n",
       "Life Insurance                                   0.839266           0.787311  \n",
       "Medical Insurance                                0.392548           0.441631  \n",
       "Average A/C Balance                              0.657742           0.616051  \n",
       "Personal Loan                                    0.687417           0.598919  \n",
       "Investment in Mutual Fund                        0.761125           0.695337  \n",
       "Investment Tax Saving Bond                       0.407148           0.395889  \n",
       "Home Loan                                        0.335651           0.326663  \n",
       "Online Purchase Amount                           0.173943           0.309800  \n",
       "Revenue Grid                                    -0.159163          -0.215847  \n",
       "Investment in Commudity                          0.800779           0.858020  \n",
       "Investment in Equity                             0.839552           0.831134  \n",
       "Investment in Derivative                         1.000000           0.927232  \n",
       "Portfolio Balance                                0.927232           1.000000  "
      ]
     },
     "execution_count": 81,
     "metadata": {},
     "output_type": "execute_result"
    }
   ],
   "source": [
    "##### Desired state : we want features with low correlation amongst themselves and high correlation with the target columns\n",
    "\n",
    "data[column_names].corr()"
   ]
  },
  {
   "cell_type": "code",
   "execution_count": null,
   "metadata": {
    "colab": {
     "base_uri": "https://localhost:8080/"
    },
    "id": "O6sXz7syuTGU",
    "outputId": "967de759-507c-4ea4-e206-8154fa8f805d"
   },
   "outputs": [
    {
     "name": "stdout",
     "output_type": "stream",
     "text": [
      "<class 'pandas.core.frame.DataFrame'>\n",
      "RangeIndex: 10155 entries, 0 to 10154\n",
      "Data columns (total 32 columns):\n",
      " #   Column                           Non-Null Count  Dtype  \n",
      "---  ------                           --------------  -----  \n",
      " 0   REF_NO                           10155 non-null  int64  \n",
      " 1   children                         10155 non-null  object \n",
      " 2   age_band                         10155 non-null  object \n",
      " 3   status                           10155 non-null  object \n",
      " 4   occupation                       10155 non-null  object \n",
      " 5   occupation_partner               10155 non-null  object \n",
      " 6   home_status                      10155 non-null  object \n",
      " 7   family_income                    10155 non-null  object \n",
      " 8   self_employed                    10155 non-null  object \n",
      " 9   self_employed_partner            10155 non-null  object \n",
      " 10  year_last_moved                  10155 non-null  int64  \n",
      " 11  TVarea                           10155 non-null  object \n",
      " 12  post_code                        10155 non-null  object \n",
      " 13  post_area                        10155 non-null  object \n",
      " 14  Average Credit Card Transaction  10155 non-null  float64\n",
      " 15  Balance Transfer                 10155 non-null  float64\n",
      " 16  Term Deposit                     10155 non-null  float64\n",
      " 17  Life Insurance                   10155 non-null  float64\n",
      " 18  Medical Insurance                10155 non-null  float64\n",
      " 19  Average A/C Balance              10155 non-null  float64\n",
      " 20  Personal Loan                    10155 non-null  float64\n",
      " 21  Investment in Mutual Fund        10155 non-null  float64\n",
      " 22  Investment Tax Saving Bond       10155 non-null  float64\n",
      " 23  Home Loan                        10155 non-null  float64\n",
      " 24  Online Purchase Amount           10155 non-null  float64\n",
      " 25  Revenue Grid                     10155 non-null  int64  \n",
      " 26  gender                           10155 non-null  object \n",
      " 27  region                           10155 non-null  object \n",
      " 28  Investment in Commudity          10155 non-null  float64\n",
      " 29  Investment in Equity             10155 non-null  float64\n",
      " 30  Investment in Derivative         10155 non-null  float64\n",
      " 31  Portfolio Balance                10155 non-null  float64\n",
      "dtypes: float64(15), int64(3), object(14)\n",
      "memory usage: 2.5+ MB\n"
     ]
    }
   ],
   "source": [
    "data.info()"
   ]
  },
  {
   "cell_type": "code",
   "execution_count": null,
   "metadata": {
    "colab": {
     "base_uri": "https://localhost:8080/"
    },
    "id": "UTM2k7HRtfLg",
    "outputId": "0bac024d-a847-47da-9e99-2900d5de7937"
   },
   "outputs": [
    {
     "name": "stdout",
     "output_type": "stream",
     "text": [
      "Column  children\n",
      "Number of unique elements  5\n",
      "***************\n",
      "\n",
      "Column  age_band\n",
      "Number of unique elements  13\n",
      "***************\n",
      "\n",
      "Column  status\n",
      "Number of unique elements  5\n",
      "***************\n",
      "\n",
      "Column  occupation\n",
      "Number of unique elements  9\n",
      "***************\n",
      "\n",
      "Column  occupation_partner\n",
      "Number of unique elements  9\n",
      "***************\n",
      "\n",
      "Column  home_status\n",
      "Number of unique elements  5\n",
      "***************\n",
      "\n",
      "Column  family_income\n",
      "Number of unique elements  13\n",
      "***************\n",
      "\n",
      "Column  self_employed\n",
      "Number of unique elements  2\n",
      "***************\n",
      "\n",
      "Column  self_employed_partner\n",
      "Number of unique elements  2\n",
      "***************\n",
      "\n",
      "Column  TVarea\n",
      "Number of unique elements  14\n",
      "***************\n",
      "\n",
      "Column  post_code\n",
      "Number of unique elements  10040\n",
      "***************\n",
      "\n",
      "Column  post_area\n",
      "Number of unique elements  2039\n",
      "***************\n",
      "\n",
      "Column  gender\n",
      "Number of unique elements  3\n",
      "***************\n",
      "\n",
      "Column  region\n",
      "Number of unique elements  13\n",
      "***************\n",
      "\n"
     ]
    },
    {
     "name": "stderr",
     "output_type": "stream",
     "text": [
      "/usr/local/lib/python3.7/dist-packages/ipykernel_launcher.py:3: DeprecationWarning: `np.object` is a deprecated alias for the builtin `object`. To silence this warning, use `object` by itself. Doing this will not modify any behavior and is safe. \n",
      "Deprecated in NumPy 1.20; for more details and guidance: https://numpy.org/devdocs/release/1.20.0-notes.html#deprecations\n",
      "  This is separate from the ipykernel package so we can avoid doing imports until\n"
     ]
    }
   ],
   "source": [
    "##### Describing categorical columns #####\n",
    "\n",
    "cat_data = data.select_dtypes(include = np.object) ##subsets the object columns\n",
    "\n",
    "column_names = list(cat_data.columns) ### column names of the object columns\n",
    "\n",
    "for column in column_names:\n",
    "    print('Column ', column)\n",
    "    print('Number of unique elements ', cat_data[column].nunique())\n",
    "    print('***************\\n')\n",
    "    \n",
    "##### Insights ######\n",
    "#####################\n",
    "\n",
    "## post_code has too many unique values, converting them into onehot encoded vectors would blow up the dimensions. Currently we will remove the column and go ahead with the model\n",
    "## Similarly for post area"
   ]
  },
  {
   "cell_type": "markdown",
   "metadata": {
    "id": "z91eY564tfLg"
   },
   "source": [
    "# Data Preprocessing"
   ]
  },
  {
   "cell_type": "code",
   "execution_count": null,
   "metadata": {
    "colab": {
     "base_uri": "https://localhost:8080/"
    },
    "id": "MIOq2PW5tfLg",
    "outputId": "24c92ec8-732e-4a50-afc9-dc3eaeabdff7"
   },
   "outputs": [
    {
     "name": "stdout",
     "output_type": "stream",
     "text": [
      "The shape of the data before preprocessing  (10155, 32)\n"
     ]
    }
   ],
   "source": [
    "print('The shape of the data before preprocessing ', data.shape)"
   ]
  },
  {
   "cell_type": "code",
   "execution_count": null,
   "metadata": {
    "id": "JgZI3FKdWuoX"
   },
   "outputs": [],
   "source": [
    "data = data.loc[data['Life Insurance']<2500,:] ### Dropping the customer with unusually high feature values"
   ]
  },
  {
   "cell_type": "code",
   "execution_count": null,
   "metadata": {
    "id": "0IGP0zehMOt6"
   },
   "outputs": [],
   "source": [
    "remove_cols = []"
   ]
  },
  {
   "cell_type": "code",
   "execution_count": null,
   "metadata": {
    "id": "9qyrblPdtfLh"
   },
   "outputs": [],
   "source": [
    "#### Preprocess - 1: Remove the Ref_no AND YEAR_LAST_Moved column ####\n",
    "data.drop(['REF_NO'],axis=1,inplace=True)  ## removes specified columns\n",
    "data.drop(['year_last_moved'],axis=1,inplace=True)\n",
    "remove_cols.append('REF_NO')\n",
    "remove_cols.append('year_last_moved')"
   ]
  },
  {
   "cell_type": "code",
   "execution_count": null,
   "metadata": {
    "colab": {
     "base_uri": "https://localhost:8080/"
    },
    "id": "pTAXtSSh4qW0",
    "outputId": "e4ca5a10-15b7-4b9c-c49c-e16c39683cd7"
   },
   "outputs": [
    {
     "data": {
      "text/plain": [
       "(10154, 30)"
      ]
     },
     "execution_count": 15,
     "metadata": {},
     "output_type": "execute_result"
    }
   ],
   "source": [
    "data.shape"
   ]
  },
  {
   "cell_type": "code",
   "execution_count": null,
   "metadata": {
    "id": "k9nLWk8kA93r"
   },
   "outputs": [],
   "source": [
    "data.drop(['post_code','post_area'],axis=1,inplace=True)\n",
    "\n",
    "remove_cols.extend(['post_code','post_area'])"
   ]
  },
  {
   "cell_type": "code",
   "execution_count": null,
   "metadata": {
    "colab": {
     "base_uri": "https://localhost:8080/"
    },
    "id": "y9hIsseFtfLh",
    "outputId": "5bc62cb2-a2f1-4b07-fb9d-b3e4237e8cd0"
   },
   "outputs": [
    {
     "name": "stdout",
     "output_type": "stream",
     "text": [
      "The shape of the data after first preprocessing block  (10154, 28)\n"
     ]
    }
   ],
   "source": [
    "print('The shape of the data after first preprocessing block ', data.shape)\n",
    "\n",
    "data.reset_index(drop=True,inplace=True) ### resetting index"
   ]
  },
  {
   "cell_type": "code",
   "execution_count": null,
   "metadata": {
    "id": "zgcPCtgNJXFD"
   },
   "outputs": [],
   "source": [
    "######## Capping ###########\n",
    "\n",
    "numeric_cols = data.select_dtypes(include = np.number) ### Data frame with only numeric columns\n",
    "column_names = list(numeric_cols.columns)\n",
    "column_names.remove('Revenue Grid')\n",
    "\n",
    "data.loc[data['Medical Insurance']>=300, 'Medical Insurance'] = 300\n",
    "data.loc[data['Average A/C Balance']>=400, 'Average A/C Balance'] = 400\n",
    "data.loc[data['Online Purchase Amount']>=2000, 'Online Purchase Amount'] = 2000\n",
    "data.loc[data['Investment in Equity']>=400, 'Investment in Equity'] = 400"
   ]
  },
  {
   "cell_type": "code",
   "execution_count": null,
   "metadata": {
    "colab": {
     "base_uri": "https://localhost:8080/"
    },
    "id": "VSmv1YW8ID_U",
    "outputId": "fa953ca2-684b-45dc-b2fd-731c5beb0f9f"
   },
   "outputs": [
    {
     "data": {
      "text/plain": [
       "['Average Credit Card Transaction',\n",
       " 'Balance Transfer',\n",
       " 'Term Deposit',\n",
       " 'Life Insurance',\n",
       " 'Medical Insurance',\n",
       " 'Average A/C Balance',\n",
       " 'Personal Loan',\n",
       " 'Investment in Mutual Fund',\n",
       " 'Investment Tax Saving Bond',\n",
       " 'Home Loan',\n",
       " 'Online Purchase Amount',\n",
       " 'Investment in Commudity',\n",
       " 'Investment in Equity',\n",
       " 'Investment in Derivative',\n",
       " 'Portfolio Balance']"
      ]
     },
     "execution_count": 19,
     "metadata": {},
     "output_type": "execute_result"
    }
   ],
   "source": [
    "column_names"
   ]
  },
  {
   "cell_type": "code",
   "execution_count": null,
   "metadata": {
    "colab": {
     "base_uri": "https://localhost:8080/"
    },
    "id": "q8dq02nrtfLi",
    "outputId": "7592df43-0102-484e-c2da-9dd3f32414b8"
   },
   "outputs": [
    {
     "name": "stdout",
     "output_type": "stream",
     "text": [
      "Average Credit Card Transaction 477.0595900000078\n",
      "Balance Transfer 601.467500000004\n",
      "Term Deposit 531.109205000007\n",
      "Life Insurance 794.1689650000167\n",
      "Medical Insurance 264.1921900000169\n",
      "Average A/C Balance 396.7357850000136\n",
      "Personal Loan 1023.025560000106\n",
      "Investment in Mutual Fund 575.7975700000084\n",
      "Investment Tax Saving Bond 119.57088500000307\n",
      "Home Loan 104.29842500000278\n",
      "Online Purchase Amount 1505.0639500000832\n",
      "Investment in Commudity 348.4696900000052\n",
      "Investment in Equity 366.65306000001567\n",
      "Investment in Derivative 329.4782800000082\n",
      "Portfolio Balance 860.9368800000143\n"
     ]
    }
   ],
   "source": [
    "###### Preprocess -4 : Capping the numeric columns to 99.95th percentile #####\n",
    "\n",
    "numeric_cols = data.select_dtypes(include = np.number) ### Data frame with only numeric columns\n",
    "column_names = list(numeric_cols.columns) ### contains the numeric column names\n",
    "column_names.remove('Revenue Grid')  ### removing revenue grid\n",
    "\n",
    "for column in column_names:  ### iterating over all numeric columns\n",
    "    percentile_9995_val = np.quantile(data[column],0.9995)  ### finding the 99.95th percentile value\n",
    "    print (column, percentile_9995_val)\n",
    "    data.loc[data[column]>percentile_9995_val,column] = percentile_9995_val  ## replace all the values greater than 95th percentile with the 95th percentile value\n",
    "\n"
   ]
  },
  {
   "cell_type": "code",
   "execution_count": null,
   "metadata": {
    "id": "GKZCE3uruMBN"
   },
   "outputs": [],
   "source": [
    "####### Preprocess-5 : Scaling the columns ######\n",
    "\n",
    "scaler = StandardScaler()  ### instance of this object\n",
    "\n",
    "scaler.fit(data[column_names]) ### it will compute mean and standard deviation of every column\n",
    "\n",
    "data[column_names] = scaler.transform(data[column_names]) #### apply the formula (x-mean)/s.d\n",
    "\n",
    "with open('scaler.pickle','wb') as f:\n",
    "  pickle.dump(scaler,f)"
   ]
  },
  {
   "cell_type": "code",
   "execution_count": null,
   "metadata": {
    "colab": {
     "base_uri": "https://localhost:8080/",
     "height": 421
    },
    "id": "msFdkLekMnQN",
    "outputId": "b44b38d6-1b38-486e-82ed-e11711e5c99e"
   },
   "outputs": [
    {
     "data": {
      "text/html": [
       "\n",
       "  <div id=\"df-17232b6a-31f2-4689-a5ac-38eac81f880e\">\n",
       "    <div class=\"colab-df-container\">\n",
       "      <div>\n",
       "<style scoped>\n",
       "    .dataframe tbody tr th:only-of-type {\n",
       "        vertical-align: middle;\n",
       "    }\n",
       "\n",
       "    .dataframe tbody tr th {\n",
       "        vertical-align: top;\n",
       "    }\n",
       "\n",
       "    .dataframe thead th {\n",
       "        text-align: right;\n",
       "    }\n",
       "</style>\n",
       "<table border=\"1\" class=\"dataframe\">\n",
       "  <thead>\n",
       "    <tr style=\"text-align: right;\">\n",
       "      <th></th>\n",
       "      <th>children</th>\n",
       "      <th>age_band</th>\n",
       "      <th>status</th>\n",
       "      <th>occupation</th>\n",
       "      <th>occupation_partner</th>\n",
       "      <th>home_status</th>\n",
       "      <th>family_income</th>\n",
       "      <th>self_employed</th>\n",
       "      <th>self_employed_partner</th>\n",
       "      <th>TVarea</th>\n",
       "      <th>...</th>\n",
       "      <th>Investment Tax Saving Bond</th>\n",
       "      <th>Home Loan</th>\n",
       "      <th>Online Purchase Amount</th>\n",
       "      <th>Revenue Grid</th>\n",
       "      <th>gender</th>\n",
       "      <th>region</th>\n",
       "      <th>Investment in Commudity</th>\n",
       "      <th>Investment in Equity</th>\n",
       "      <th>Investment in Derivative</th>\n",
       "      <th>Portfolio Balance</th>\n",
       "    </tr>\n",
       "  </thead>\n",
       "  <tbody>\n",
       "    <tr>\n",
       "      <th>0</th>\n",
       "      <td>Zero</td>\n",
       "      <td>51-55</td>\n",
       "      <td>Partner</td>\n",
       "      <td>Manual Worker</td>\n",
       "      <td>Secretarial/Admin</td>\n",
       "      <td>Own Home</td>\n",
       "      <td>&lt;17,500, &gt;=15,000</td>\n",
       "      <td>No</td>\n",
       "      <td>No</td>\n",
       "      <td>HTV</td>\n",
       "      <td>...</td>\n",
       "      <td>1.081398</td>\n",
       "      <td>-0.449028</td>\n",
       "      <td>-0.239949</td>\n",
       "      <td>1</td>\n",
       "      <td>Female</td>\n",
       "      <td>Wales</td>\n",
       "      <td>0.942048</td>\n",
       "      <td>-0.100624</td>\n",
       "      <td>0.014324</td>\n",
       "      <td>-0.006244</td>\n",
       "    </tr>\n",
       "    <tr>\n",
       "      <th>1</th>\n",
       "      <td>Zero</td>\n",
       "      <td>55-60</td>\n",
       "      <td>Single/Never Married</td>\n",
       "      <td>Retired</td>\n",
       "      <td>Retired</td>\n",
       "      <td>Own Home</td>\n",
       "      <td>&lt;27,500, &gt;=25,000</td>\n",
       "      <td>No</td>\n",
       "      <td>No</td>\n",
       "      <td>Granada</td>\n",
       "      <td>...</td>\n",
       "      <td>-0.476228</td>\n",
       "      <td>-0.449028</td>\n",
       "      <td>-0.239949</td>\n",
       "      <td>2</td>\n",
       "      <td>Female</td>\n",
       "      <td>North West</td>\n",
       "      <td>-0.400680</td>\n",
       "      <td>-0.756683</td>\n",
       "      <td>-0.783312</td>\n",
       "      <td>-0.680400</td>\n",
       "    </tr>\n",
       "    <tr>\n",
       "      <th>2</th>\n",
       "      <td>Zero</td>\n",
       "      <td>26-30</td>\n",
       "      <td>Single/Never Married</td>\n",
       "      <td>Professional</td>\n",
       "      <td>Other</td>\n",
       "      <td>Own Home</td>\n",
       "      <td>&lt;30,000, &gt;=27,500</td>\n",
       "      <td>Yes</td>\n",
       "      <td>No</td>\n",
       "      <td>Tyne Tees</td>\n",
       "      <td>...</td>\n",
       "      <td>-0.476228</td>\n",
       "      <td>-0.099418</td>\n",
       "      <td>-0.239949</td>\n",
       "      <td>2</td>\n",
       "      <td>Male</td>\n",
       "      <td>North</td>\n",
       "      <td>1.518524</td>\n",
       "      <td>0.335694</td>\n",
       "      <td>1.400426</td>\n",
       "      <td>0.826715</td>\n",
       "    </tr>\n",
       "    <tr>\n",
       "      <th>3</th>\n",
       "      <td>Zero</td>\n",
       "      <td>18-21</td>\n",
       "      <td>Single/Never Married</td>\n",
       "      <td>Professional</td>\n",
       "      <td>Manual Worker</td>\n",
       "      <td>Own Home</td>\n",
       "      <td>&lt;15,000, &gt;=12,500</td>\n",
       "      <td>No</td>\n",
       "      <td>No</td>\n",
       "      <td>Central</td>\n",
       "      <td>...</td>\n",
       "      <td>-0.476228</td>\n",
       "      <td>-0.449028</td>\n",
       "      <td>-0.239949</td>\n",
       "      <td>2</td>\n",
       "      <td>Female</td>\n",
       "      <td>West Midlands</td>\n",
       "      <td>-0.797238</td>\n",
       "      <td>-0.259189</td>\n",
       "      <td>-0.406010</td>\n",
       "      <td>-1.332606</td>\n",
       "    </tr>\n",
       "    <tr>\n",
       "      <th>4</th>\n",
       "      <td>Zero</td>\n",
       "      <td>45-50</td>\n",
       "      <td>Partner</td>\n",
       "      <td>Business Manager</td>\n",
       "      <td>Unknown</td>\n",
       "      <td>Own Home</td>\n",
       "      <td>&lt;30,000, &gt;=27,500</td>\n",
       "      <td>No</td>\n",
       "      <td>No</td>\n",
       "      <td>Scottish TV</td>\n",
       "      <td>...</td>\n",
       "      <td>-0.476228</td>\n",
       "      <td>4.150001</td>\n",
       "      <td>0.090928</td>\n",
       "      <td>2</td>\n",
       "      <td>Female</td>\n",
       "      <td>Scotland</td>\n",
       "      <td>0.830893</td>\n",
       "      <td>1.207275</td>\n",
       "      <td>1.385607</td>\n",
       "      <td>1.466379</td>\n",
       "    </tr>\n",
       "  </tbody>\n",
       "</table>\n",
       "<p>5 rows × 28 columns</p>\n",
       "</div>\n",
       "      <button class=\"colab-df-convert\" onclick=\"convertToInteractive('df-17232b6a-31f2-4689-a5ac-38eac81f880e')\"\n",
       "              title=\"Convert this dataframe to an interactive table.\"\n",
       "              style=\"display:none;\">\n",
       "        \n",
       "  <svg xmlns=\"http://www.w3.org/2000/svg\" height=\"24px\"viewBox=\"0 0 24 24\"\n",
       "       width=\"24px\">\n",
       "    <path d=\"M0 0h24v24H0V0z\" fill=\"none\"/>\n",
       "    <path d=\"M18.56 5.44l.94 2.06.94-2.06 2.06-.94-2.06-.94-.94-2.06-.94 2.06-2.06.94zm-11 1L8.5 8.5l.94-2.06 2.06-.94-2.06-.94L8.5 2.5l-.94 2.06-2.06.94zm10 10l.94 2.06.94-2.06 2.06-.94-2.06-.94-.94-2.06-.94 2.06-2.06.94z\"/><path d=\"M17.41 7.96l-1.37-1.37c-.4-.4-.92-.59-1.43-.59-.52 0-1.04.2-1.43.59L10.3 9.45l-7.72 7.72c-.78.78-.78 2.05 0 2.83L4 21.41c.39.39.9.59 1.41.59.51 0 1.02-.2 1.41-.59l7.78-7.78 2.81-2.81c.8-.78.8-2.07 0-2.86zM5.41 20L4 18.59l7.72-7.72 1.47 1.35L5.41 20z\"/>\n",
       "  </svg>\n",
       "      </button>\n",
       "      \n",
       "  <style>\n",
       "    .colab-df-container {\n",
       "      display:flex;\n",
       "      flex-wrap:wrap;\n",
       "      gap: 12px;\n",
       "    }\n",
       "\n",
       "    .colab-df-convert {\n",
       "      background-color: #E8F0FE;\n",
       "      border: none;\n",
       "      border-radius: 50%;\n",
       "      cursor: pointer;\n",
       "      display: none;\n",
       "      fill: #1967D2;\n",
       "      height: 32px;\n",
       "      padding: 0 0 0 0;\n",
       "      width: 32px;\n",
       "    }\n",
       "\n",
       "    .colab-df-convert:hover {\n",
       "      background-color: #E2EBFA;\n",
       "      box-shadow: 0px 1px 2px rgba(60, 64, 67, 0.3), 0px 1px 3px 1px rgba(60, 64, 67, 0.15);\n",
       "      fill: #174EA6;\n",
       "    }\n",
       "\n",
       "    [theme=dark] .colab-df-convert {\n",
       "      background-color: #3B4455;\n",
       "      fill: #D2E3FC;\n",
       "    }\n",
       "\n",
       "    [theme=dark] .colab-df-convert:hover {\n",
       "      background-color: #434B5C;\n",
       "      box-shadow: 0px 1px 3px 1px rgba(0, 0, 0, 0.15);\n",
       "      filter: drop-shadow(0px 1px 2px rgba(0, 0, 0, 0.3));\n",
       "      fill: #FFFFFF;\n",
       "    }\n",
       "  </style>\n",
       "\n",
       "      <script>\n",
       "        const buttonEl =\n",
       "          document.querySelector('#df-17232b6a-31f2-4689-a5ac-38eac81f880e button.colab-df-convert');\n",
       "        buttonEl.style.display =\n",
       "          google.colab.kernel.accessAllowed ? 'block' : 'none';\n",
       "\n",
       "        async function convertToInteractive(key) {\n",
       "          const element = document.querySelector('#df-17232b6a-31f2-4689-a5ac-38eac81f880e');\n",
       "          const dataTable =\n",
       "            await google.colab.kernel.invokeFunction('convertToInteractive',\n",
       "                                                     [key], {});\n",
       "          if (!dataTable) return;\n",
       "\n",
       "          const docLinkHtml = 'Like what you see? Visit the ' +\n",
       "            '<a target=\"_blank\" href=https://colab.research.google.com/notebooks/data_table.ipynb>data table notebook</a>'\n",
       "            + ' to learn more about interactive tables.';\n",
       "          element.innerHTML = '';\n",
       "          dataTable['output_type'] = 'display_data';\n",
       "          await google.colab.output.renderOutput(dataTable, element);\n",
       "          const docLink = document.createElement('div');\n",
       "          docLink.innerHTML = docLinkHtml;\n",
       "          element.appendChild(docLink);\n",
       "        }\n",
       "      </script>\n",
       "    </div>\n",
       "  </div>\n",
       "  "
      ],
      "text/plain": [
       "  children age_band                status        occupation  \\\n",
       "0     Zero    51-55               Partner     Manual Worker   \n",
       "1     Zero    55-60  Single/Never Married           Retired   \n",
       "2     Zero    26-30  Single/Never Married      Professional   \n",
       "3     Zero    18-21  Single/Never Married      Professional   \n",
       "4     Zero    45-50               Partner  Business Manager   \n",
       "\n",
       "  occupation_partner home_status      family_income self_employed  \\\n",
       "0  Secretarial/Admin    Own Home  <17,500, >=15,000            No   \n",
       "1            Retired    Own Home  <27,500, >=25,000            No   \n",
       "2              Other    Own Home  <30,000, >=27,500           Yes   \n",
       "3      Manual Worker    Own Home  <15,000, >=12,500            No   \n",
       "4            Unknown    Own Home  <30,000, >=27,500            No   \n",
       "\n",
       "  self_employed_partner       TVarea  ...  Investment Tax Saving Bond  \\\n",
       "0                    No          HTV  ...                    1.081398   \n",
       "1                    No      Granada  ...                   -0.476228   \n",
       "2                    No    Tyne Tees  ...                   -0.476228   \n",
       "3                    No      Central  ...                   -0.476228   \n",
       "4                    No  Scottish TV  ...                   -0.476228   \n",
       "\n",
       "   Home Loan  Online Purchase Amount  Revenue Grid  gender         region  \\\n",
       "0  -0.449028               -0.239949             1  Female          Wales   \n",
       "1  -0.449028               -0.239949             2  Female     North West   \n",
       "2  -0.099418               -0.239949             2    Male          North   \n",
       "3  -0.449028               -0.239949             2  Female  West Midlands   \n",
       "4   4.150001                0.090928             2  Female       Scotland   \n",
       "\n",
       "   Investment in Commudity  Investment in Equity  Investment in Derivative  \\\n",
       "0                 0.942048             -0.100624                  0.014324   \n",
       "1                -0.400680             -0.756683                 -0.783312   \n",
       "2                 1.518524              0.335694                  1.400426   \n",
       "3                -0.797238             -0.259189                 -0.406010   \n",
       "4                 0.830893              1.207275                  1.385607   \n",
       "\n",
       "   Portfolio Balance  \n",
       "0          -0.006244  \n",
       "1          -0.680400  \n",
       "2           0.826715  \n",
       "3          -1.332606  \n",
       "4           1.466379  \n",
       "\n",
       "[5 rows x 28 columns]"
      ]
     },
     "execution_count": 21,
     "metadata": {},
     "output_type": "execute_result"
    }
   ],
   "source": [
    "data.head()"
   ]
  },
  {
   "cell_type": "code",
   "execution_count": null,
   "metadata": {
    "colab": {
     "base_uri": "https://localhost:8080/",
     "height": 486
    },
    "id": "fSnMITtrTebG",
    "outputId": "31105e8b-8810-4340-83c1-dae422b1b344"
   },
   "outputs": [
    {
     "data": {
      "text/html": [
       "\n",
       "  <div id=\"df-79a48a57-2037-4508-8584-973cbe60b8d0\">\n",
       "    <div class=\"colab-df-container\">\n",
       "      <div>\n",
       "<style scoped>\n",
       "    .dataframe tbody tr th:only-of-type {\n",
       "        vertical-align: middle;\n",
       "    }\n",
       "\n",
       "    .dataframe tbody tr th {\n",
       "        vertical-align: top;\n",
       "    }\n",
       "\n",
       "    .dataframe thead th {\n",
       "        text-align: right;\n",
       "    }\n",
       "</style>\n",
       "<table border=\"1\" class=\"dataframe\">\n",
       "  <thead>\n",
       "    <tr style=\"text-align: right;\">\n",
       "      <th></th>\n",
       "      <th>Average Credit Card Transaction</th>\n",
       "      <th>Balance Transfer</th>\n",
       "      <th>Term Deposit</th>\n",
       "      <th>Life Insurance</th>\n",
       "      <th>Medical Insurance</th>\n",
       "      <th>Average A/C Balance</th>\n",
       "      <th>Personal Loan</th>\n",
       "      <th>Investment in Mutual Fund</th>\n",
       "      <th>Investment Tax Saving Bond</th>\n",
       "      <th>Home Loan</th>\n",
       "      <th>Online Purchase Amount</th>\n",
       "      <th>Investment in Commudity</th>\n",
       "      <th>Investment in Equity</th>\n",
       "      <th>Investment in Derivative</th>\n",
       "      <th>Portfolio Balance</th>\n",
       "    </tr>\n",
       "  </thead>\n",
       "  <tbody>\n",
       "    <tr>\n",
       "      <th>count</th>\n",
       "      <td>1.015400e+04</td>\n",
       "      <td>1.015400e+04</td>\n",
       "      <td>1.015400e+04</td>\n",
       "      <td>1.015400e+04</td>\n",
       "      <td>1.015400e+04</td>\n",
       "      <td>1.015400e+04</td>\n",
       "      <td>1.015400e+04</td>\n",
       "      <td>1.015400e+04</td>\n",
       "      <td>1.015400e+04</td>\n",
       "      <td>1.015400e+04</td>\n",
       "      <td>1.015400e+04</td>\n",
       "      <td>1.015400e+04</td>\n",
       "      <td>1.015400e+04</td>\n",
       "      <td>1.015400e+04</td>\n",
       "      <td>1.015400e+04</td>\n",
       "    </tr>\n",
       "    <tr>\n",
       "      <th>mean</th>\n",
       "      <td>-2.841161e-16</td>\n",
       "      <td>2.324031e-16</td>\n",
       "      <td>-3.443944e-16</td>\n",
       "      <td>3.544754e-16</td>\n",
       "      <td>-7.781238e-16</td>\n",
       "      <td>-2.686009e-16</td>\n",
       "      <td>-6.737438e-17</td>\n",
       "      <td>3.160330e-16</td>\n",
       "      <td>1.572287e-16</td>\n",
       "      <td>7.861492e-16</td>\n",
       "      <td>-5.394706e-16</td>\n",
       "      <td>-9.802196e-17</td>\n",
       "      <td>9.172406e-17</td>\n",
       "      <td>-5.313851e-18</td>\n",
       "      <td>-1.041558e-16</td>\n",
       "    </tr>\n",
       "    <tr>\n",
       "      <th>std</th>\n",
       "      <td>1.000049e+00</td>\n",
       "      <td>1.000049e+00</td>\n",
       "      <td>1.000049e+00</td>\n",
       "      <td>1.000049e+00</td>\n",
       "      <td>1.000049e+00</td>\n",
       "      <td>1.000049e+00</td>\n",
       "      <td>1.000049e+00</td>\n",
       "      <td>1.000049e+00</td>\n",
       "      <td>1.000049e+00</td>\n",
       "      <td>1.000049e+00</td>\n",
       "      <td>1.000049e+00</td>\n",
       "      <td>1.000049e+00</td>\n",
       "      <td>1.000049e+00</td>\n",
       "      <td>1.000049e+00</td>\n",
       "      <td>1.000049e+00</td>\n",
       "    </tr>\n",
       "    <tr>\n",
       "      <th>min</th>\n",
       "      <td>-4.608478e-01</td>\n",
       "      <td>-6.320378e-01</td>\n",
       "      <td>-5.112119e-01</td>\n",
       "      <td>-7.230948e-01</td>\n",
       "      <td>-5.967473e-01</td>\n",
       "      <td>-7.120418e-01</td>\n",
       "      <td>-3.700921e-01</td>\n",
       "      <td>-7.157725e-01</td>\n",
       "      <td>-4.762284e-01</td>\n",
       "      <td>-4.490283e-01</td>\n",
       "      <td>-2.399490e-01</td>\n",
       "      <td>-8.982881e-01</td>\n",
       "      <td>-7.566830e-01</td>\n",
       "      <td>-9.067049e-01</td>\n",
       "      <td>-1.704125e+00</td>\n",
       "    </tr>\n",
       "    <tr>\n",
       "      <th>25%</th>\n",
       "      <td>-4.608478e-01</td>\n",
       "      <td>-6.320378e-01</td>\n",
       "      <td>-5.112119e-01</td>\n",
       "      <td>-7.230948e-01</td>\n",
       "      <td>-5.967473e-01</td>\n",
       "      <td>-7.120418e-01</td>\n",
       "      <td>-3.700921e-01</td>\n",
       "      <td>-7.157725e-01</td>\n",
       "      <td>-4.762284e-01</td>\n",
       "      <td>-4.490283e-01</td>\n",
       "      <td>-2.399490e-01</td>\n",
       "      <td>-6.958191e-01</td>\n",
       "      <td>-5.924925e-01</td>\n",
       "      <td>-6.576396e-01</td>\n",
       "      <td>-6.417354e-01</td>\n",
       "    </tr>\n",
       "    <tr>\n",
       "      <th>50%</th>\n",
       "      <td>-4.608478e-01</td>\n",
       "      <td>-3.859724e-01</td>\n",
       "      <td>-5.112119e-01</td>\n",
       "      <td>-3.725103e-01</td>\n",
       "      <td>-5.808194e-01</td>\n",
       "      <td>-3.787266e-01</td>\n",
       "      <td>-3.700921e-01</td>\n",
       "      <td>-3.164927e-01</td>\n",
       "      <td>-4.762284e-01</td>\n",
       "      <td>-4.490283e-01</td>\n",
       "      <td>-2.399490e-01</td>\n",
       "      <td>-3.082568e-01</td>\n",
       "      <td>-3.003247e-01</td>\n",
       "      <td>-2.987178e-01</td>\n",
       "      <td>-2.414650e-01</td>\n",
       "    </tr>\n",
       "    <tr>\n",
       "      <th>75%</th>\n",
       "      <td>1.053505e-02</td>\n",
       "      <td>2.617989e-01</td>\n",
       "      <td>1.378245e-01</td>\n",
       "      <td>3.115569e-01</td>\n",
       "      <td>2.611723e-01</td>\n",
       "      <td>3.214243e-01</td>\n",
       "      <td>-5.865429e-02</td>\n",
       "      <td>2.956912e-01</td>\n",
       "      <td>-1.104436e-02</td>\n",
       "      <td>7.569844e-04</td>\n",
       "      <td>-1.383171e-01</td>\n",
       "      <td>3.534336e-01</td>\n",
       "      <td>2.383047e-01</td>\n",
       "      <td>3.181034e-01</td>\n",
       "      <td>3.628224e-01</td>\n",
       "    </tr>\n",
       "    <tr>\n",
       "      <th>max</th>\n",
       "      <td>1.255742e+01</td>\n",
       "      <td>1.116198e+01</td>\n",
       "      <td>1.404761e+01</td>\n",
       "      <td>1.030015e+01</td>\n",
       "      <td>8.772597e+00</td>\n",
       "      <td>8.182293e+00</td>\n",
       "      <td>2.348622e+01</td>\n",
       "      <td>1.229364e+01</td>\n",
       "      <td>1.174712e+01</td>\n",
       "      <td>1.581436e+01</td>\n",
       "      <td>2.523169e+01</td>\n",
       "      <td>9.279629e+00</td>\n",
       "      <td>1.330675e+01</td>\n",
       "      <td>1.431021e+01</td>\n",
       "      <td>1.031233e+01</td>\n",
       "    </tr>\n",
       "  </tbody>\n",
       "</table>\n",
       "</div>\n",
       "      <button class=\"colab-df-convert\" onclick=\"convertToInteractive('df-79a48a57-2037-4508-8584-973cbe60b8d0')\"\n",
       "              title=\"Convert this dataframe to an interactive table.\"\n",
       "              style=\"display:none;\">\n",
       "        \n",
       "  <svg xmlns=\"http://www.w3.org/2000/svg\" height=\"24px\"viewBox=\"0 0 24 24\"\n",
       "       width=\"24px\">\n",
       "    <path d=\"M0 0h24v24H0V0z\" fill=\"none\"/>\n",
       "    <path d=\"M18.56 5.44l.94 2.06.94-2.06 2.06-.94-2.06-.94-.94-2.06-.94 2.06-2.06.94zm-11 1L8.5 8.5l.94-2.06 2.06-.94-2.06-.94L8.5 2.5l-.94 2.06-2.06.94zm10 10l.94 2.06.94-2.06 2.06-.94-2.06-.94-.94-2.06-.94 2.06-2.06.94z\"/><path d=\"M17.41 7.96l-1.37-1.37c-.4-.4-.92-.59-1.43-.59-.52 0-1.04.2-1.43.59L10.3 9.45l-7.72 7.72c-.78.78-.78 2.05 0 2.83L4 21.41c.39.39.9.59 1.41.59.51 0 1.02-.2 1.41-.59l7.78-7.78 2.81-2.81c.8-.78.8-2.07 0-2.86zM5.41 20L4 18.59l7.72-7.72 1.47 1.35L5.41 20z\"/>\n",
       "  </svg>\n",
       "      </button>\n",
       "      \n",
       "  <style>\n",
       "    .colab-df-container {\n",
       "      display:flex;\n",
       "      flex-wrap:wrap;\n",
       "      gap: 12px;\n",
       "    }\n",
       "\n",
       "    .colab-df-convert {\n",
       "      background-color: #E8F0FE;\n",
       "      border: none;\n",
       "      border-radius: 50%;\n",
       "      cursor: pointer;\n",
       "      display: none;\n",
       "      fill: #1967D2;\n",
       "      height: 32px;\n",
       "      padding: 0 0 0 0;\n",
       "      width: 32px;\n",
       "    }\n",
       "\n",
       "    .colab-df-convert:hover {\n",
       "      background-color: #E2EBFA;\n",
       "      box-shadow: 0px 1px 2px rgba(60, 64, 67, 0.3), 0px 1px 3px 1px rgba(60, 64, 67, 0.15);\n",
       "      fill: #174EA6;\n",
       "    }\n",
       "\n",
       "    [theme=dark] .colab-df-convert {\n",
       "      background-color: #3B4455;\n",
       "      fill: #D2E3FC;\n",
       "    }\n",
       "\n",
       "    [theme=dark] .colab-df-convert:hover {\n",
       "      background-color: #434B5C;\n",
       "      box-shadow: 0px 1px 3px 1px rgba(0, 0, 0, 0.15);\n",
       "      filter: drop-shadow(0px 1px 2px rgba(0, 0, 0, 0.3));\n",
       "      fill: #FFFFFF;\n",
       "    }\n",
       "  </style>\n",
       "\n",
       "      <script>\n",
       "        const buttonEl =\n",
       "          document.querySelector('#df-79a48a57-2037-4508-8584-973cbe60b8d0 button.colab-df-convert');\n",
       "        buttonEl.style.display =\n",
       "          google.colab.kernel.accessAllowed ? 'block' : 'none';\n",
       "\n",
       "        async function convertToInteractive(key) {\n",
       "          const element = document.querySelector('#df-79a48a57-2037-4508-8584-973cbe60b8d0');\n",
       "          const dataTable =\n",
       "            await google.colab.kernel.invokeFunction('convertToInteractive',\n",
       "                                                     [key], {});\n",
       "          if (!dataTable) return;\n",
       "\n",
       "          const docLinkHtml = 'Like what you see? Visit the ' +\n",
       "            '<a target=\"_blank\" href=https://colab.research.google.com/notebooks/data_table.ipynb>data table notebook</a>'\n",
       "            + ' to learn more about interactive tables.';\n",
       "          element.innerHTML = '';\n",
       "          dataTable['output_type'] = 'display_data';\n",
       "          await google.colab.output.renderOutput(dataTable, element);\n",
       "          const docLink = document.createElement('div');\n",
       "          docLink.innerHTML = docLinkHtml;\n",
       "          element.appendChild(docLink);\n",
       "        }\n",
       "      </script>\n",
       "    </div>\n",
       "  </div>\n",
       "  "
      ],
      "text/plain": [
       "       Average Credit Card Transaction  Balance Transfer  Term Deposit  \\\n",
       "count                     1.015400e+04      1.015400e+04  1.015400e+04   \n",
       "mean                     -2.841161e-16      2.324031e-16 -3.443944e-16   \n",
       "std                       1.000049e+00      1.000049e+00  1.000049e+00   \n",
       "min                      -4.608478e-01     -6.320378e-01 -5.112119e-01   \n",
       "25%                      -4.608478e-01     -6.320378e-01 -5.112119e-01   \n",
       "50%                      -4.608478e-01     -3.859724e-01 -5.112119e-01   \n",
       "75%                       1.053505e-02      2.617989e-01  1.378245e-01   \n",
       "max                       1.255742e+01      1.116198e+01  1.404761e+01   \n",
       "\n",
       "       Life Insurance  Medical Insurance  Average A/C Balance  Personal Loan  \\\n",
       "count    1.015400e+04       1.015400e+04         1.015400e+04   1.015400e+04   \n",
       "mean     3.544754e-16      -7.781238e-16        -2.686009e-16  -6.737438e-17   \n",
       "std      1.000049e+00       1.000049e+00         1.000049e+00   1.000049e+00   \n",
       "min     -7.230948e-01      -5.967473e-01        -7.120418e-01  -3.700921e-01   \n",
       "25%     -7.230948e-01      -5.967473e-01        -7.120418e-01  -3.700921e-01   \n",
       "50%     -3.725103e-01      -5.808194e-01        -3.787266e-01  -3.700921e-01   \n",
       "75%      3.115569e-01       2.611723e-01         3.214243e-01  -5.865429e-02   \n",
       "max      1.030015e+01       8.772597e+00         8.182293e+00   2.348622e+01   \n",
       "\n",
       "       Investment in Mutual Fund  Investment Tax Saving Bond     Home Loan  \\\n",
       "count               1.015400e+04                1.015400e+04  1.015400e+04   \n",
       "mean                3.160330e-16                1.572287e-16  7.861492e-16   \n",
       "std                 1.000049e+00                1.000049e+00  1.000049e+00   \n",
       "min                -7.157725e-01               -4.762284e-01 -4.490283e-01   \n",
       "25%                -7.157725e-01               -4.762284e-01 -4.490283e-01   \n",
       "50%                -3.164927e-01               -4.762284e-01 -4.490283e-01   \n",
       "75%                 2.956912e-01               -1.104436e-02  7.569844e-04   \n",
       "max                 1.229364e+01                1.174712e+01  1.581436e+01   \n",
       "\n",
       "       Online Purchase Amount  Investment in Commudity  Investment in Equity  \\\n",
       "count            1.015400e+04             1.015400e+04          1.015400e+04   \n",
       "mean            -5.394706e-16            -9.802196e-17          9.172406e-17   \n",
       "std              1.000049e+00             1.000049e+00          1.000049e+00   \n",
       "min             -2.399490e-01            -8.982881e-01         -7.566830e-01   \n",
       "25%             -2.399490e-01            -6.958191e-01         -5.924925e-01   \n",
       "50%             -2.399490e-01            -3.082568e-01         -3.003247e-01   \n",
       "75%             -1.383171e-01             3.534336e-01          2.383047e-01   \n",
       "max              2.523169e+01             9.279629e+00          1.330675e+01   \n",
       "\n",
       "       Investment in Derivative  Portfolio Balance  \n",
       "count              1.015400e+04       1.015400e+04  \n",
       "mean              -5.313851e-18      -1.041558e-16  \n",
       "std                1.000049e+00       1.000049e+00  \n",
       "min               -9.067049e-01      -1.704125e+00  \n",
       "25%               -6.576396e-01      -6.417354e-01  \n",
       "50%               -2.987178e-01      -2.414650e-01  \n",
       "75%                3.181034e-01       3.628224e-01  \n",
       "max                1.431021e+01       1.031233e+01  "
      ]
     },
     "execution_count": 95,
     "metadata": {},
     "output_type": "execute_result"
    }
   ],
   "source": [
    "data[column_names].describe()"
   ]
  },
  {
   "cell_type": "code",
   "execution_count": null,
   "metadata": {
    "colab": {
     "base_uri": "https://localhost:8080/"
    },
    "id": "UVD0oVXxb1ga",
    "outputId": "c6a017c3-700d-45a3-b0bb-4a682b19f8d1"
   },
   "outputs": [
    {
     "name": "stdout",
     "output_type": "stream",
     "text": [
      "<class 'pandas.core.frame.DataFrame'>\n",
      "RangeIndex: 10154 entries, 0 to 10153\n",
      "Data columns (total 28 columns):\n",
      " #   Column                           Non-Null Count  Dtype  \n",
      "---  ------                           --------------  -----  \n",
      " 0   children                         10154 non-null  object \n",
      " 1   age_band                         10154 non-null  object \n",
      " 2   status                           10154 non-null  object \n",
      " 3   occupation                       10154 non-null  object \n",
      " 4   occupation_partner               10154 non-null  object \n",
      " 5   home_status                      10154 non-null  object \n",
      " 6   family_income                    10154 non-null  object \n",
      " 7   self_employed                    10154 non-null  object \n",
      " 8   self_employed_partner            10154 non-null  object \n",
      " 9   TVarea                           10154 non-null  object \n",
      " 10  Average Credit Card Transaction  10154 non-null  float64\n",
      " 11  Balance Transfer                 10154 non-null  float64\n",
      " 12  Term Deposit                     10154 non-null  float64\n",
      " 13  Life Insurance                   10154 non-null  float64\n",
      " 14  Medical Insurance                10154 non-null  float64\n",
      " 15  Average A/C Balance              10154 non-null  float64\n",
      " 16  Personal Loan                    10154 non-null  float64\n",
      " 17  Investment in Mutual Fund        10154 non-null  float64\n",
      " 18  Investment Tax Saving Bond       10154 non-null  float64\n",
      " 19  Home Loan                        10154 non-null  float64\n",
      " 20  Online Purchase Amount           10154 non-null  float64\n",
      " 21  Revenue Grid                     10154 non-null  int64  \n",
      " 22  gender                           10154 non-null  object \n",
      " 23  region                           10154 non-null  object \n",
      " 24  Investment in Commudity          10154 non-null  float64\n",
      " 25  Investment in Equity             10154 non-null  float64\n",
      " 26  Investment in Derivative         10154 non-null  float64\n",
      " 27  Portfolio Balance                10154 non-null  float64\n",
      "dtypes: float64(15), int64(1), object(12)\n",
      "memory usage: 2.2+ MB\n"
     ]
    }
   ],
   "source": [
    "data.info()"
   ]
  },
  {
   "cell_type": "code",
   "execution_count": null,
   "metadata": {
    "colab": {
     "base_uri": "https://localhost:8080/"
    },
    "id": "3L0NeqAItfLi",
    "outputId": "5a98b390-6fb8-4995-d43b-746a0b472b0c"
   },
   "outputs": [
    {
     "name": "stdout",
     "output_type": "stream",
     "text": [
      "Zero    6208\n",
      "1       1847\n",
      "2       1607\n",
      "3        473\n",
      "4+        19\n",
      "Name: children, dtype: int64\n"
     ]
    }
   ],
   "source": [
    "##### Preprocessing categorical columns ######\n",
    "\n",
    "### Analzing the children column ####\n",
    "\n",
    "print(data['children'].value_counts())\n",
    "\n",
    "children_pickle = {}\n",
    "\n",
    "#### Insight ###\n",
    "################\n",
    "\n",
    "#Since the occurances of 4+ children is quite low when compared to rest, we can replace them with 3\n",
    "#Create one hot encoded vectors for the same\n",
    "\n",
    "#data.loc[data['children']== '4+','children'] = '3'\n",
    "\n",
    "children_data = pd.get_dummies(data['children'],prefix ='chidren')\n",
    "\n",
    "data.drop(['children'],axis=1,inplace=True)\n",
    "\n",
    "data = pd.concat([data,children_data],axis=1)"
   ]
  },
  {
   "cell_type": "code",
   "execution_count": null,
   "metadata": {
    "colab": {
     "base_uri": "https://localhost:8080/",
     "height": 421
    },
    "id": "GTZMr4PoCZhT",
    "outputId": "94c1f376-e745-4ad4-be04-7eb9aa3e06fd"
   },
   "outputs": [
    {
     "data": {
      "text/html": [
       "\n",
       "  <div id=\"df-5042f791-da7b-4a66-b726-30588c4e8ce8\">\n",
       "    <div class=\"colab-df-container\">\n",
       "      <div>\n",
       "<style scoped>\n",
       "    .dataframe tbody tr th:only-of-type {\n",
       "        vertical-align: middle;\n",
       "    }\n",
       "\n",
       "    .dataframe tbody tr th {\n",
       "        vertical-align: top;\n",
       "    }\n",
       "\n",
       "    .dataframe thead th {\n",
       "        text-align: right;\n",
       "    }\n",
       "</style>\n",
       "<table border=\"1\" class=\"dataframe\">\n",
       "  <thead>\n",
       "    <tr style=\"text-align: right;\">\n",
       "      <th></th>\n",
       "      <th>age_band</th>\n",
       "      <th>status</th>\n",
       "      <th>occupation</th>\n",
       "      <th>occupation_partner</th>\n",
       "      <th>home_status</th>\n",
       "      <th>family_income</th>\n",
       "      <th>self_employed</th>\n",
       "      <th>self_employed_partner</th>\n",
       "      <th>TVarea</th>\n",
       "      <th>Average Credit Card Transaction</th>\n",
       "      <th>...</th>\n",
       "      <th>region</th>\n",
       "      <th>Investment in Commudity</th>\n",
       "      <th>Investment in Equity</th>\n",
       "      <th>Investment in Derivative</th>\n",
       "      <th>Portfolio Balance</th>\n",
       "      <th>chidren_1</th>\n",
       "      <th>chidren_2</th>\n",
       "      <th>chidren_3</th>\n",
       "      <th>chidren_4+</th>\n",
       "      <th>chidren_Zero</th>\n",
       "    </tr>\n",
       "  </thead>\n",
       "  <tbody>\n",
       "    <tr>\n",
       "      <th>0</th>\n",
       "      <td>51-55</td>\n",
       "      <td>Partner</td>\n",
       "      <td>Manual Worker</td>\n",
       "      <td>Secretarial/Admin</td>\n",
       "      <td>Own Home</td>\n",
       "      <td>&lt;17,500, &gt;=15,000</td>\n",
       "      <td>No</td>\n",
       "      <td>No</td>\n",
       "      <td>HTV</td>\n",
       "      <td>2.457087</td>\n",
       "      <td>...</td>\n",
       "      <td>Wales</td>\n",
       "      <td>0.942048</td>\n",
       "      <td>-0.100624</td>\n",
       "      <td>0.014324</td>\n",
       "      <td>-0.006244</td>\n",
       "      <td>0</td>\n",
       "      <td>0</td>\n",
       "      <td>0</td>\n",
       "      <td>0</td>\n",
       "      <td>1</td>\n",
       "    </tr>\n",
       "    <tr>\n",
       "      <th>1</th>\n",
       "      <td>55-60</td>\n",
       "      <td>Single/Never Married</td>\n",
       "      <td>Retired</td>\n",
       "      <td>Retired</td>\n",
       "      <td>Own Home</td>\n",
       "      <td>&lt;27,500, &gt;=25,000</td>\n",
       "      <td>No</td>\n",
       "      <td>No</td>\n",
       "      <td>Granada</td>\n",
       "      <td>-0.460848</td>\n",
       "      <td>...</td>\n",
       "      <td>North West</td>\n",
       "      <td>-0.400680</td>\n",
       "      <td>-0.756683</td>\n",
       "      <td>-0.783312</td>\n",
       "      <td>-0.680400</td>\n",
       "      <td>0</td>\n",
       "      <td>0</td>\n",
       "      <td>0</td>\n",
       "      <td>0</td>\n",
       "      <td>1</td>\n",
       "    </tr>\n",
       "    <tr>\n",
       "      <th>2</th>\n",
       "      <td>26-30</td>\n",
       "      <td>Single/Never Married</td>\n",
       "      <td>Professional</td>\n",
       "      <td>Other</td>\n",
       "      <td>Own Home</td>\n",
       "      <td>&lt;30,000, &gt;=27,500</td>\n",
       "      <td>Yes</td>\n",
       "      <td>No</td>\n",
       "      <td>Tyne Tees</td>\n",
       "      <td>-0.460848</td>\n",
       "      <td>...</td>\n",
       "      <td>North</td>\n",
       "      <td>1.518524</td>\n",
       "      <td>0.335694</td>\n",
       "      <td>1.400426</td>\n",
       "      <td>0.826715</td>\n",
       "      <td>0</td>\n",
       "      <td>0</td>\n",
       "      <td>0</td>\n",
       "      <td>0</td>\n",
       "      <td>1</td>\n",
       "    </tr>\n",
       "    <tr>\n",
       "      <th>3</th>\n",
       "      <td>18-21</td>\n",
       "      <td>Single/Never Married</td>\n",
       "      <td>Professional</td>\n",
       "      <td>Manual Worker</td>\n",
       "      <td>Own Home</td>\n",
       "      <td>&lt;15,000, &gt;=12,500</td>\n",
       "      <td>No</td>\n",
       "      <td>No</td>\n",
       "      <td>Central</td>\n",
       "      <td>-0.460848</td>\n",
       "      <td>...</td>\n",
       "      <td>West Midlands</td>\n",
       "      <td>-0.797238</td>\n",
       "      <td>-0.259189</td>\n",
       "      <td>-0.406010</td>\n",
       "      <td>-1.332606</td>\n",
       "      <td>0</td>\n",
       "      <td>0</td>\n",
       "      <td>0</td>\n",
       "      <td>0</td>\n",
       "      <td>1</td>\n",
       "    </tr>\n",
       "    <tr>\n",
       "      <th>4</th>\n",
       "      <td>45-50</td>\n",
       "      <td>Partner</td>\n",
       "      <td>Business Manager</td>\n",
       "      <td>Unknown</td>\n",
       "      <td>Own Home</td>\n",
       "      <td>&lt;30,000, &gt;=27,500</td>\n",
       "      <td>No</td>\n",
       "      <td>No</td>\n",
       "      <td>Scottish TV</td>\n",
       "      <td>0.982983</td>\n",
       "      <td>...</td>\n",
       "      <td>Scotland</td>\n",
       "      <td>0.830893</td>\n",
       "      <td>1.207275</td>\n",
       "      <td>1.385607</td>\n",
       "      <td>1.466379</td>\n",
       "      <td>0</td>\n",
       "      <td>0</td>\n",
       "      <td>0</td>\n",
       "      <td>0</td>\n",
       "      <td>1</td>\n",
       "    </tr>\n",
       "  </tbody>\n",
       "</table>\n",
       "<p>5 rows × 32 columns</p>\n",
       "</div>\n",
       "      <button class=\"colab-df-convert\" onclick=\"convertToInteractive('df-5042f791-da7b-4a66-b726-30588c4e8ce8')\"\n",
       "              title=\"Convert this dataframe to an interactive table.\"\n",
       "              style=\"display:none;\">\n",
       "        \n",
       "  <svg xmlns=\"http://www.w3.org/2000/svg\" height=\"24px\"viewBox=\"0 0 24 24\"\n",
       "       width=\"24px\">\n",
       "    <path d=\"M0 0h24v24H0V0z\" fill=\"none\"/>\n",
       "    <path d=\"M18.56 5.44l.94 2.06.94-2.06 2.06-.94-2.06-.94-.94-2.06-.94 2.06-2.06.94zm-11 1L8.5 8.5l.94-2.06 2.06-.94-2.06-.94L8.5 2.5l-.94 2.06-2.06.94zm10 10l.94 2.06.94-2.06 2.06-.94-2.06-.94-.94-2.06-.94 2.06-2.06.94z\"/><path d=\"M17.41 7.96l-1.37-1.37c-.4-.4-.92-.59-1.43-.59-.52 0-1.04.2-1.43.59L10.3 9.45l-7.72 7.72c-.78.78-.78 2.05 0 2.83L4 21.41c.39.39.9.59 1.41.59.51 0 1.02-.2 1.41-.59l7.78-7.78 2.81-2.81c.8-.78.8-2.07 0-2.86zM5.41 20L4 18.59l7.72-7.72 1.47 1.35L5.41 20z\"/>\n",
       "  </svg>\n",
       "      </button>\n",
       "      \n",
       "  <style>\n",
       "    .colab-df-container {\n",
       "      display:flex;\n",
       "      flex-wrap:wrap;\n",
       "      gap: 12px;\n",
       "    }\n",
       "\n",
       "    .colab-df-convert {\n",
       "      background-color: #E8F0FE;\n",
       "      border: none;\n",
       "      border-radius: 50%;\n",
       "      cursor: pointer;\n",
       "      display: none;\n",
       "      fill: #1967D2;\n",
       "      height: 32px;\n",
       "      padding: 0 0 0 0;\n",
       "      width: 32px;\n",
       "    }\n",
       "\n",
       "    .colab-df-convert:hover {\n",
       "      background-color: #E2EBFA;\n",
       "      box-shadow: 0px 1px 2px rgba(60, 64, 67, 0.3), 0px 1px 3px 1px rgba(60, 64, 67, 0.15);\n",
       "      fill: #174EA6;\n",
       "    }\n",
       "\n",
       "    [theme=dark] .colab-df-convert {\n",
       "      background-color: #3B4455;\n",
       "      fill: #D2E3FC;\n",
       "    }\n",
       "\n",
       "    [theme=dark] .colab-df-convert:hover {\n",
       "      background-color: #434B5C;\n",
       "      box-shadow: 0px 1px 3px 1px rgba(0, 0, 0, 0.15);\n",
       "      filter: drop-shadow(0px 1px 2px rgba(0, 0, 0, 0.3));\n",
       "      fill: #FFFFFF;\n",
       "    }\n",
       "  </style>\n",
       "\n",
       "      <script>\n",
       "        const buttonEl =\n",
       "          document.querySelector('#df-5042f791-da7b-4a66-b726-30588c4e8ce8 button.colab-df-convert');\n",
       "        buttonEl.style.display =\n",
       "          google.colab.kernel.accessAllowed ? 'block' : 'none';\n",
       "\n",
       "        async function convertToInteractive(key) {\n",
       "          const element = document.querySelector('#df-5042f791-da7b-4a66-b726-30588c4e8ce8');\n",
       "          const dataTable =\n",
       "            await google.colab.kernel.invokeFunction('convertToInteractive',\n",
       "                                                     [key], {});\n",
       "          if (!dataTable) return;\n",
       "\n",
       "          const docLinkHtml = 'Like what you see? Visit the ' +\n",
       "            '<a target=\"_blank\" href=https://colab.research.google.com/notebooks/data_table.ipynb>data table notebook</a>'\n",
       "            + ' to learn more about interactive tables.';\n",
       "          element.innerHTML = '';\n",
       "          dataTable['output_type'] = 'display_data';\n",
       "          await google.colab.output.renderOutput(dataTable, element);\n",
       "          const docLink = document.createElement('div');\n",
       "          docLink.innerHTML = docLinkHtml;\n",
       "          element.appendChild(docLink);\n",
       "        }\n",
       "      </script>\n",
       "    </div>\n",
       "  </div>\n",
       "  "
      ],
      "text/plain": [
       "  age_band                status        occupation occupation_partner  \\\n",
       "0    51-55               Partner     Manual Worker  Secretarial/Admin   \n",
       "1    55-60  Single/Never Married           Retired            Retired   \n",
       "2    26-30  Single/Never Married      Professional              Other   \n",
       "3    18-21  Single/Never Married      Professional      Manual Worker   \n",
       "4    45-50               Partner  Business Manager            Unknown   \n",
       "\n",
       "  home_status      family_income self_employed self_employed_partner  \\\n",
       "0    Own Home  <17,500, >=15,000            No                    No   \n",
       "1    Own Home  <27,500, >=25,000            No                    No   \n",
       "2    Own Home  <30,000, >=27,500           Yes                    No   \n",
       "3    Own Home  <15,000, >=12,500            No                    No   \n",
       "4    Own Home  <30,000, >=27,500            No                    No   \n",
       "\n",
       "        TVarea  Average Credit Card Transaction  ...         region  \\\n",
       "0          HTV                         2.457087  ...          Wales   \n",
       "1      Granada                        -0.460848  ...     North West   \n",
       "2    Tyne Tees                        -0.460848  ...          North   \n",
       "3      Central                        -0.460848  ...  West Midlands   \n",
       "4  Scottish TV                         0.982983  ...       Scotland   \n",
       "\n",
       "   Investment in Commudity  Investment in Equity  Investment in Derivative  \\\n",
       "0                 0.942048             -0.100624                  0.014324   \n",
       "1                -0.400680             -0.756683                 -0.783312   \n",
       "2                 1.518524              0.335694                  1.400426   \n",
       "3                -0.797238             -0.259189                 -0.406010   \n",
       "4                 0.830893              1.207275                  1.385607   \n",
       "\n",
       "   Portfolio Balance  chidren_1  chidren_2  chidren_3  chidren_4+  \\\n",
       "0          -0.006244          0          0          0           0   \n",
       "1          -0.680400          0          0          0           0   \n",
       "2           0.826715          0          0          0           0   \n",
       "3          -1.332606          0          0          0           0   \n",
       "4           1.466379          0          0          0           0   \n",
       "\n",
       "   chidren_Zero  \n",
       "0             1  \n",
       "1             1  \n",
       "2             1  \n",
       "3             1  \n",
       "4             1  \n",
       "\n",
       "[5 rows x 32 columns]"
      ]
     },
     "execution_count": 23,
     "metadata": {},
     "output_type": "execute_result"
    }
   ],
   "source": [
    "data.head()"
   ]
  },
  {
   "cell_type": "code",
   "execution_count": null,
   "metadata": {
    "colab": {
     "base_uri": "https://localhost:8080/",
     "height": 89
    },
    "id": "kS9oPbuZ8pUo",
    "outputId": "86748a4e-f366-4e4d-91ae-83af2106d966"
   },
   "outputs": [
    {
     "data": {
      "application/vnd.google.colaboratory.intrinsic+json": {
       "type": "string"
      },
      "text/plain": [
       "\"\\nfrom sklearn.preprocessing import OneHotEncoder\\n\\nencoder = OneHotEncoder()\\n\\nencoder.fit(data['children']) #### identify how many unique values are there in the columns and what are they [0,1,2,3]\\n\\nencoder.transform(data['children']) #### for every unique value it will create a one hot column\\n\\n##### store the encoder object in a pickle\\n\""
      ]
     },
     "execution_count": 99,
     "metadata": {},
     "output_type": "execute_result"
    }
   ],
   "source": [
    "'''\n",
    "from sklearn.preprocessing import OneHotEncoder\n",
    "\n",
    "encoder = OneHotEncoder()\n",
    "\n",
    "encoder.fit(data['children']) #### identify how many unique values are there in the columns and what are they [0,1,2,3]\n",
    "\n",
    "encoder.transform(data['children']) #### for every unique value it will create a one hot column\n",
    "\n",
    "##### store the encoder object in a pickle\n",
    "'''"
   ]
  },
  {
   "cell_type": "code",
   "execution_count": null,
   "metadata": {
    "colab": {
     "base_uri": "https://localhost:8080/",
     "height": 142
    },
    "id": "BiYmah8dXYR3",
    "outputId": "28159608-3065-4a47-abe5-41f3e11d57c0"
   },
   "outputs": [
    {
     "data": {
      "application/vnd.google.colaboratory.intrinsic+json": {
       "type": "string"
      },
      "text/plain": [
       "\"\\nfrom sklearn.preprocessing import OneHotEncoder\\n\\nage_band_encoder = OneHotEncoder()\\n\\nage_band_encoder.fit(data[['age_band']]) #### try to identify what all are the unique values in the age band column\\n\\ndummy_cols = age_band_encoder.transform(data[['age_band']]) ##### create dummies for each of the unique values identified \\n\\ndummy_cols = pd.DataFrame(dummy_cols.toarray())\\n\\ndummy_cols.columns = age_band_encoder.categories_\\n\\ndata.drop(['age_band'],axis=1,inplace=True)\\n\\ndata = pd.concat([data,dummy_cols],axis=1)\\n\\nwith open('age_band_encoder.pickle','wb') as f:\\n  pickle.dump(age_band_encoder,f)\\n\""
      ]
     },
     "execution_count": 100,
     "metadata": {},
     "output_type": "execute_result"
    }
   ],
   "source": [
    "'''\n",
    "from sklearn.preprocessing import OneHotEncoder\n",
    "\n",
    "age_band_encoder = OneHotEncoder()\n",
    "\n",
    "age_band_encoder.fit(data[['age_band']]) #### try to identify what all are the unique values in the age band column\n",
    "\n",
    "dummy_cols = age_band_encoder.transform(data[['age_band']]) ##### create dummies for each of the unique values identified \n",
    "\n",
    "dummy_cols = pd.DataFrame(dummy_cols.toarray())\n",
    "\n",
    "dummy_cols.columns = age_band_encoder.categories_\n",
    "\n",
    "data.drop(['age_band'],axis=1,inplace=True)\n",
    "\n",
    "data = pd.concat([data,dummy_cols],axis=1)\n",
    "\n",
    "with open('age_band_encoder.pickle','wb') as f:\n",
    "  pickle.dump(age_band_encoder,f)\n",
    "'''"
   ]
  },
  {
   "cell_type": "code",
   "execution_count": null,
   "metadata": {
    "colab": {
     "base_uri": "https://localhost:8080/"
    },
    "id": "Ng0450e7tfLj",
    "outputId": "aeafc6b2-c68a-4d4e-8b9c-41d585225c11"
   },
   "outputs": [
    {
     "name": "stdout",
     "output_type": "stream",
     "text": [
      "45-50      1359\n",
      "36-40      1134\n",
      "41-45      1111\n",
      "31-35      1061\n",
      "51-55      1052\n",
      "55-60      1047\n",
      "26-30       927\n",
      "61-65       881\n",
      "65-70       598\n",
      "22-25       456\n",
      "71+         410\n",
      "18-21        63\n",
      "Unknown      55\n",
      "Name: age_band, dtype: int64\n"
     ]
    }
   ],
   "source": [
    "#### Analyzing age_band column ###\n",
    "\n",
    "print(data['age_band'].value_counts())\n",
    "\n",
    "#### Insight ####\n",
    "#################\n",
    "\n",
    "#Lets add unknown to the most prominant class of 45-50\n",
    "#The mean age of the band could be taken and this column could be converted into a numeric column, however it so can\n",
    "#happen that the band actually matters rather than the actual age, hence we create dummies \n",
    "\n",
    "#data.loc[data['age_band']=='Unknown','age_band'] ='45-50'\n",
    "\n",
    "age_band_dummies = pd.get_dummies(data['age_band'],prefix = 'age_band')\n",
    "\n",
    "data.drop(['age_band'],axis=1,inplace=True)\n",
    "\n",
    "data = pd.concat([data,age_band_dummies],axis=1)"
   ]
  },
  {
   "cell_type": "code",
   "execution_count": null,
   "metadata": {
    "colab": {
     "base_uri": "https://localhost:8080/",
     "height": 421
    },
    "id": "jcZnoFoO9MJK",
    "outputId": "d238c1eb-f92e-4e9a-d4da-76e5d9173635"
   },
   "outputs": [
    {
     "data": {
      "text/html": [
       "\n",
       "  <div id=\"df-df2b91e0-8947-47ed-973f-cd89d7be8f1c\">\n",
       "    <div class=\"colab-df-container\">\n",
       "      <div>\n",
       "<style scoped>\n",
       "    .dataframe tbody tr th:only-of-type {\n",
       "        vertical-align: middle;\n",
       "    }\n",
       "\n",
       "    .dataframe tbody tr th {\n",
       "        vertical-align: top;\n",
       "    }\n",
       "\n",
       "    .dataframe thead th {\n",
       "        text-align: right;\n",
       "    }\n",
       "</style>\n",
       "<table border=\"1\" class=\"dataframe\">\n",
       "  <thead>\n",
       "    <tr style=\"text-align: right;\">\n",
       "      <th></th>\n",
       "      <th>status</th>\n",
       "      <th>occupation</th>\n",
       "      <th>occupation_partner</th>\n",
       "      <th>home_status</th>\n",
       "      <th>family_income</th>\n",
       "      <th>self_employed</th>\n",
       "      <th>self_employed_partner</th>\n",
       "      <th>TVarea</th>\n",
       "      <th>Average Credit Card Transaction</th>\n",
       "      <th>Balance Transfer</th>\n",
       "      <th>...</th>\n",
       "      <th>age_band_31-35</th>\n",
       "      <th>age_band_36-40</th>\n",
       "      <th>age_band_41-45</th>\n",
       "      <th>age_band_45-50</th>\n",
       "      <th>age_band_51-55</th>\n",
       "      <th>age_band_55-60</th>\n",
       "      <th>age_band_61-65</th>\n",
       "      <th>age_band_65-70</th>\n",
       "      <th>age_band_71+</th>\n",
       "      <th>age_band_Unknown</th>\n",
       "    </tr>\n",
       "  </thead>\n",
       "  <tbody>\n",
       "    <tr>\n",
       "      <th>0</th>\n",
       "      <td>Partner</td>\n",
       "      <td>Manual Worker</td>\n",
       "      <td>Secretarial/Admin</td>\n",
       "      <td>Own Home</td>\n",
       "      <td>&lt;17,500, &gt;=15,000</td>\n",
       "      <td>No</td>\n",
       "      <td>No</td>\n",
       "      <td>HTV</td>\n",
       "      <td>2.457087</td>\n",
       "      <td>1.326484</td>\n",
       "      <td>...</td>\n",
       "      <td>0</td>\n",
       "      <td>0</td>\n",
       "      <td>0</td>\n",
       "      <td>0</td>\n",
       "      <td>1</td>\n",
       "      <td>0</td>\n",
       "      <td>0</td>\n",
       "      <td>0</td>\n",
       "      <td>0</td>\n",
       "      <td>0</td>\n",
       "    </tr>\n",
       "    <tr>\n",
       "      <th>1</th>\n",
       "      <td>Single/Never Married</td>\n",
       "      <td>Retired</td>\n",
       "      <td>Retired</td>\n",
       "      <td>Own Home</td>\n",
       "      <td>&lt;27,500, &gt;=25,000</td>\n",
       "      <td>No</td>\n",
       "      <td>No</td>\n",
       "      <td>Granada</td>\n",
       "      <td>-0.460848</td>\n",
       "      <td>0.395244</td>\n",
       "      <td>...</td>\n",
       "      <td>0</td>\n",
       "      <td>0</td>\n",
       "      <td>0</td>\n",
       "      <td>0</td>\n",
       "      <td>0</td>\n",
       "      <td>1</td>\n",
       "      <td>0</td>\n",
       "      <td>0</td>\n",
       "      <td>0</td>\n",
       "      <td>0</td>\n",
       "    </tr>\n",
       "    <tr>\n",
       "      <th>2</th>\n",
       "      <td>Single/Never Married</td>\n",
       "      <td>Professional</td>\n",
       "      <td>Other</td>\n",
       "      <td>Own Home</td>\n",
       "      <td>&lt;30,000, &gt;=27,500</td>\n",
       "      <td>Yes</td>\n",
       "      <td>No</td>\n",
       "      <td>Tyne Tees</td>\n",
       "      <td>-0.460848</td>\n",
       "      <td>1.648314</td>\n",
       "      <td>...</td>\n",
       "      <td>0</td>\n",
       "      <td>0</td>\n",
       "      <td>0</td>\n",
       "      <td>0</td>\n",
       "      <td>0</td>\n",
       "      <td>0</td>\n",
       "      <td>0</td>\n",
       "      <td>0</td>\n",
       "      <td>0</td>\n",
       "      <td>0</td>\n",
       "    </tr>\n",
       "    <tr>\n",
       "      <th>3</th>\n",
       "      <td>Single/Never Married</td>\n",
       "      <td>Professional</td>\n",
       "      <td>Manual Worker</td>\n",
       "      <td>Own Home</td>\n",
       "      <td>&lt;15,000, &gt;=12,500</td>\n",
       "      <td>No</td>\n",
       "      <td>No</td>\n",
       "      <td>Central</td>\n",
       "      <td>-0.460848</td>\n",
       "      <td>-0.632038</td>\n",
       "      <td>...</td>\n",
       "      <td>0</td>\n",
       "      <td>0</td>\n",
       "      <td>0</td>\n",
       "      <td>0</td>\n",
       "      <td>0</td>\n",
       "      <td>0</td>\n",
       "      <td>0</td>\n",
       "      <td>0</td>\n",
       "      <td>0</td>\n",
       "      <td>0</td>\n",
       "    </tr>\n",
       "    <tr>\n",
       "      <th>4</th>\n",
       "      <td>Partner</td>\n",
       "      <td>Business Manager</td>\n",
       "      <td>Unknown</td>\n",
       "      <td>Own Home</td>\n",
       "      <td>&lt;30,000, &gt;=27,500</td>\n",
       "      <td>No</td>\n",
       "      <td>No</td>\n",
       "      <td>Scottish TV</td>\n",
       "      <td>0.982983</td>\n",
       "      <td>0.162057</td>\n",
       "      <td>...</td>\n",
       "      <td>0</td>\n",
       "      <td>0</td>\n",
       "      <td>0</td>\n",
       "      <td>1</td>\n",
       "      <td>0</td>\n",
       "      <td>0</td>\n",
       "      <td>0</td>\n",
       "      <td>0</td>\n",
       "      <td>0</td>\n",
       "      <td>0</td>\n",
       "    </tr>\n",
       "  </tbody>\n",
       "</table>\n",
       "<p>5 rows × 44 columns</p>\n",
       "</div>\n",
       "      <button class=\"colab-df-convert\" onclick=\"convertToInteractive('df-df2b91e0-8947-47ed-973f-cd89d7be8f1c')\"\n",
       "              title=\"Convert this dataframe to an interactive table.\"\n",
       "              style=\"display:none;\">\n",
       "        \n",
       "  <svg xmlns=\"http://www.w3.org/2000/svg\" height=\"24px\"viewBox=\"0 0 24 24\"\n",
       "       width=\"24px\">\n",
       "    <path d=\"M0 0h24v24H0V0z\" fill=\"none\"/>\n",
       "    <path d=\"M18.56 5.44l.94 2.06.94-2.06 2.06-.94-2.06-.94-.94-2.06-.94 2.06-2.06.94zm-11 1L8.5 8.5l.94-2.06 2.06-.94-2.06-.94L8.5 2.5l-.94 2.06-2.06.94zm10 10l.94 2.06.94-2.06 2.06-.94-2.06-.94-.94-2.06-.94 2.06-2.06.94z\"/><path d=\"M17.41 7.96l-1.37-1.37c-.4-.4-.92-.59-1.43-.59-.52 0-1.04.2-1.43.59L10.3 9.45l-7.72 7.72c-.78.78-.78 2.05 0 2.83L4 21.41c.39.39.9.59 1.41.59.51 0 1.02-.2 1.41-.59l7.78-7.78 2.81-2.81c.8-.78.8-2.07 0-2.86zM5.41 20L4 18.59l7.72-7.72 1.47 1.35L5.41 20z\"/>\n",
       "  </svg>\n",
       "      </button>\n",
       "      \n",
       "  <style>\n",
       "    .colab-df-container {\n",
       "      display:flex;\n",
       "      flex-wrap:wrap;\n",
       "      gap: 12px;\n",
       "    }\n",
       "\n",
       "    .colab-df-convert {\n",
       "      background-color: #E8F0FE;\n",
       "      border: none;\n",
       "      border-radius: 50%;\n",
       "      cursor: pointer;\n",
       "      display: none;\n",
       "      fill: #1967D2;\n",
       "      height: 32px;\n",
       "      padding: 0 0 0 0;\n",
       "      width: 32px;\n",
       "    }\n",
       "\n",
       "    .colab-df-convert:hover {\n",
       "      background-color: #E2EBFA;\n",
       "      box-shadow: 0px 1px 2px rgba(60, 64, 67, 0.3), 0px 1px 3px 1px rgba(60, 64, 67, 0.15);\n",
       "      fill: #174EA6;\n",
       "    }\n",
       "\n",
       "    [theme=dark] .colab-df-convert {\n",
       "      background-color: #3B4455;\n",
       "      fill: #D2E3FC;\n",
       "    }\n",
       "\n",
       "    [theme=dark] .colab-df-convert:hover {\n",
       "      background-color: #434B5C;\n",
       "      box-shadow: 0px 1px 3px 1px rgba(0, 0, 0, 0.15);\n",
       "      filter: drop-shadow(0px 1px 2px rgba(0, 0, 0, 0.3));\n",
       "      fill: #FFFFFF;\n",
       "    }\n",
       "  </style>\n",
       "\n",
       "      <script>\n",
       "        const buttonEl =\n",
       "          document.querySelector('#df-df2b91e0-8947-47ed-973f-cd89d7be8f1c button.colab-df-convert');\n",
       "        buttonEl.style.display =\n",
       "          google.colab.kernel.accessAllowed ? 'block' : 'none';\n",
       "\n",
       "        async function convertToInteractive(key) {\n",
       "          const element = document.querySelector('#df-df2b91e0-8947-47ed-973f-cd89d7be8f1c');\n",
       "          const dataTable =\n",
       "            await google.colab.kernel.invokeFunction('convertToInteractive',\n",
       "                                                     [key], {});\n",
       "          if (!dataTable) return;\n",
       "\n",
       "          const docLinkHtml = 'Like what you see? Visit the ' +\n",
       "            '<a target=\"_blank\" href=https://colab.research.google.com/notebooks/data_table.ipynb>data table notebook</a>'\n",
       "            + ' to learn more about interactive tables.';\n",
       "          element.innerHTML = '';\n",
       "          dataTable['output_type'] = 'display_data';\n",
       "          await google.colab.output.renderOutput(dataTable, element);\n",
       "          const docLink = document.createElement('div');\n",
       "          docLink.innerHTML = docLinkHtml;\n",
       "          element.appendChild(docLink);\n",
       "        }\n",
       "      </script>\n",
       "    </div>\n",
       "  </div>\n",
       "  "
      ],
      "text/plain": [
       "                 status        occupation occupation_partner home_status  \\\n",
       "0               Partner     Manual Worker  Secretarial/Admin    Own Home   \n",
       "1  Single/Never Married           Retired            Retired    Own Home   \n",
       "2  Single/Never Married      Professional              Other    Own Home   \n",
       "3  Single/Never Married      Professional      Manual Worker    Own Home   \n",
       "4               Partner  Business Manager            Unknown    Own Home   \n",
       "\n",
       "       family_income self_employed self_employed_partner       TVarea  \\\n",
       "0  <17,500, >=15,000            No                    No          HTV   \n",
       "1  <27,500, >=25,000            No                    No      Granada   \n",
       "2  <30,000, >=27,500           Yes                    No    Tyne Tees   \n",
       "3  <15,000, >=12,500            No                    No      Central   \n",
       "4  <30,000, >=27,500            No                    No  Scottish TV   \n",
       "\n",
       "   Average Credit Card Transaction  Balance Transfer  ...  age_band_31-35  \\\n",
       "0                         2.457087          1.326484  ...               0   \n",
       "1                        -0.460848          0.395244  ...               0   \n",
       "2                        -0.460848          1.648314  ...               0   \n",
       "3                        -0.460848         -0.632038  ...               0   \n",
       "4                         0.982983          0.162057  ...               0   \n",
       "\n",
       "   age_band_36-40  age_band_41-45  age_band_45-50  age_band_51-55  \\\n",
       "0               0               0               0               1   \n",
       "1               0               0               0               0   \n",
       "2               0               0               0               0   \n",
       "3               0               0               0               0   \n",
       "4               0               0               1               0   \n",
       "\n",
       "   age_band_55-60  age_band_61-65  age_band_65-70  age_band_71+  \\\n",
       "0               0               0               0             0   \n",
       "1               1               0               0             0   \n",
       "2               0               0               0             0   \n",
       "3               0               0               0             0   \n",
       "4               0               0               0             0   \n",
       "\n",
       "   age_band_Unknown  \n",
       "0                 0  \n",
       "1                 0  \n",
       "2                 0  \n",
       "3                 0  \n",
       "4                 0  \n",
       "\n",
       "[5 rows x 44 columns]"
      ]
     },
     "execution_count": 102,
     "metadata": {},
     "output_type": "execute_result"
    }
   ],
   "source": [
    "data.head()"
   ]
  },
  {
   "cell_type": "code",
   "execution_count": null,
   "metadata": {
    "colab": {
     "base_uri": "https://localhost:8080/"
    },
    "id": "uAh7KmwItfLj",
    "outputId": "8167d5d9-d91c-425c-b926-5411413adc62"
   },
   "outputs": [
    {
     "name": "stdout",
     "output_type": "stream",
     "text": [
      "Partner                 7708\n",
      "Single/Never Married    1101\n",
      "Divorced/Separated       679\n",
      "Widowed                  618\n",
      "Unknown                   48\n",
      "Name: status, dtype: int64\n"
     ]
    }
   ],
   "source": [
    "#### Analyzing status column ###\n",
    "\n",
    "print(data['status'].value_counts())\n",
    "\n",
    "#### Insight ####\n",
    "#################\n",
    "\n",
    "#Lets add unknown to the most prominant class of Partner\n",
    "#Create dummeis for the rest \n",
    "\n",
    "#data.loc[data['status']=='Unknown','status'] ='Partner'\n",
    "\n",
    "status_dummies = pd.get_dummies(data['status'],prefix = 'status')\n",
    "\n",
    "data.drop(['status'],axis=1,inplace=True)\n",
    "\n",
    "data = pd.concat([data,status_dummies],axis=1)"
   ]
  },
  {
   "cell_type": "code",
   "execution_count": null,
   "metadata": {
    "colab": {
     "base_uri": "https://localhost:8080/"
    },
    "id": "-PAkiwettfLk",
    "outputId": "8f749bbc-074c-4158-9633-26a82807e694"
   },
   "outputs": [
    {
     "name": "stdout",
     "output_type": "stream",
     "text": [
      "Professional         2448\n",
      "Retired              2206\n",
      "Secretarial/Admin    1797\n",
      "Housewife            1255\n",
      "Business Manager      732\n",
      "Unknown               567\n",
      "Manual Worker         556\n",
      "Other                 537\n",
      "Student                56\n",
      "Name: occupation, dtype: int64\n"
     ]
    }
   ],
   "source": [
    "#### Analyzing occupation column ###\n",
    "\n",
    "print(data['occupation'].value_counts())\n",
    "\n",
    "occupation_dummies = pd.get_dummies(data['occupation'], drop_first=True, prefix = 'occupation')\n",
    "\n",
    "data.drop(['occupation'],axis=1,inplace=True)\n",
    "\n",
    "data = pd.concat([data,occupation_dummies],axis=1)"
   ]
  },
  {
   "cell_type": "code",
   "execution_count": null,
   "metadata": {
    "colab": {
     "base_uri": "https://localhost:8080/"
    },
    "id": "izYURhind_Yd",
    "outputId": "fafc2668-1384-48f0-ac3d-86e90fc274d7"
   },
   "outputs": [
    {
     "name": "stdout",
     "output_type": "stream",
     "text": [
      "<class 'pandas.core.frame.DataFrame'>\n",
      "RangeIndex: 10154 entries, 0 to 10153\n",
      "Data columns (total 55 columns):\n",
      " #   Column                           Non-Null Count  Dtype  \n",
      "---  ------                           --------------  -----  \n",
      " 0   occupation_partner               10154 non-null  object \n",
      " 1   home_status                      10154 non-null  object \n",
      " 2   family_income                    10154 non-null  object \n",
      " 3   self_employed                    10154 non-null  object \n",
      " 4   self_employed_partner            10154 non-null  object \n",
      " 5   TVarea                           10154 non-null  object \n",
      " 6   Average Credit Card Transaction  10154 non-null  float64\n",
      " 7   Balance Transfer                 10154 non-null  float64\n",
      " 8   Term Deposit                     10154 non-null  float64\n",
      " 9   Life Insurance                   10154 non-null  float64\n",
      " 10  Medical Insurance                10154 non-null  float64\n",
      " 11  Average A/C Balance              10154 non-null  float64\n",
      " 12  Personal Loan                    10154 non-null  float64\n",
      " 13  Investment in Mutual Fund        10154 non-null  float64\n",
      " 14  Investment Tax Saving Bond       10154 non-null  float64\n",
      " 15  Home Loan                        10154 non-null  float64\n",
      " 16  Online Purchase Amount           10154 non-null  float64\n",
      " 17  Revenue Grid                     10154 non-null  int64  \n",
      " 18  gender                           10154 non-null  object \n",
      " 19  region                           10154 non-null  object \n",
      " 20  Investment in Commudity          10154 non-null  float64\n",
      " 21  Investment in Equity             10154 non-null  float64\n",
      " 22  Investment in Derivative         10154 non-null  float64\n",
      " 23  Portfolio Balance                10154 non-null  float64\n",
      " 24  chidren_1                        10154 non-null  uint8  \n",
      " 25  chidren_2                        10154 non-null  uint8  \n",
      " 26  chidren_3                        10154 non-null  uint8  \n",
      " 27  chidren_4+                       10154 non-null  uint8  \n",
      " 28  chidren_Zero                     10154 non-null  uint8  \n",
      " 29  age_band_18-21                   10154 non-null  uint8  \n",
      " 30  age_band_22-25                   10154 non-null  uint8  \n",
      " 31  age_band_26-30                   10154 non-null  uint8  \n",
      " 32  age_band_31-35                   10154 non-null  uint8  \n",
      " 33  age_band_36-40                   10154 non-null  uint8  \n",
      " 34  age_band_41-45                   10154 non-null  uint8  \n",
      " 35  age_band_45-50                   10154 non-null  uint8  \n",
      " 36  age_band_51-55                   10154 non-null  uint8  \n",
      " 37  age_band_55-60                   10154 non-null  uint8  \n",
      " 38  age_band_61-65                   10154 non-null  uint8  \n",
      " 39  age_band_65-70                   10154 non-null  uint8  \n",
      " 40  age_band_71+                     10154 non-null  uint8  \n",
      " 41  age_band_Unknown                 10154 non-null  uint8  \n",
      " 42  status_Divorced/Separated        10154 non-null  uint8  \n",
      " 43  status_Partner                   10154 non-null  uint8  \n",
      " 44  status_Single/Never Married      10154 non-null  uint8  \n",
      " 45  status_Unknown                   10154 non-null  uint8  \n",
      " 46  status_Widowed                   10154 non-null  uint8  \n",
      " 47  occupation_Housewife             10154 non-null  uint8  \n",
      " 48  occupation_Manual Worker         10154 non-null  uint8  \n",
      " 49  occupation_Other                 10154 non-null  uint8  \n",
      " 50  occupation_Professional          10154 non-null  uint8  \n",
      " 51  occupation_Retired               10154 non-null  uint8  \n",
      " 52  occupation_Secretarial/Admin     10154 non-null  uint8  \n",
      " 53  occupation_Student               10154 non-null  uint8  \n",
      " 54  occupation_Unknown               10154 non-null  uint8  \n",
      "dtypes: float64(15), int64(1), object(8), uint8(31)\n",
      "memory usage: 2.2+ MB\n"
     ]
    }
   ],
   "source": [
    "data.info()"
   ]
  },
  {
   "cell_type": "code",
   "execution_count": null,
   "metadata": {
    "colab": {
     "base_uri": "https://localhost:8080/"
    },
    "id": "M7Lhw61QtfLk",
    "outputId": "140469f5-2960-4f64-f526-eca18f44cc3b"
   },
   "outputs": [
    {
     "name": "stdout",
     "output_type": "stream",
     "text": [
      "Unknown              2394\n",
      "Professional         2050\n",
      "Retired              1936\n",
      "Manual Worker        1508\n",
      "Business Manager      737\n",
      "Secretarial/Admin     662\n",
      "Housewife             527\n",
      "Other                 324\n",
      "Student                16\n",
      "Name: occupation_partner, dtype: int64\n"
     ]
    }
   ],
   "source": [
    "#### Analyzing occupation_partner column ###\n",
    "\n",
    "print(data['occupation_partner'].value_counts())\n",
    "\n",
    "occupation_partner_dummies = pd.get_dummies(data['occupation_partner'],drop_first=True,prefix = 'occupation_partner')\n",
    "\n",
    "data.drop(['occupation_partner'],axis=1,inplace=True)\n",
    "\n",
    "data = pd.concat([data,occupation_partner_dummies],axis=1)"
   ]
  },
  {
   "cell_type": "code",
   "execution_count": null,
   "metadata": {
    "colab": {
     "base_uri": "https://localhost:8080/"
    },
    "id": "92yWDGjAtfLk",
    "outputId": "b67d5ba8-94c9-45d4-ce99-49ca11a9b268"
   },
   "outputs": [
    {
     "name": "stdout",
     "output_type": "stream",
     "text": [
      "Own Home                9412\n",
      "Rent from Council/HA     322\n",
      "Rent Privately           261\n",
      "Live in Parental Hom     109\n",
      "Unclassified              50\n",
      "Name: home_status, dtype: int64\n"
     ]
    }
   ],
   "source": [
    "#### Analyzing home_status column ###\n",
    "\n",
    "print(data['home_status'].value_counts())\n",
    "\n",
    "#### Insight ####\n",
    "#################\n",
    "\n",
    "#Apart form own home the other types seem to be some/kind of rented property and the occurances of those are quite few compared to own house\n",
    "#combine all others into a category called rent\n",
    "#Create dummies for rest\n",
    "\n",
    "#data.loc[~(data['home_status'] == 'Own Home'),'home_status'] ='Rented Home'\n",
    "\n",
    "home_status_dummies = pd.get_dummies(data['home_status'],prefix = 'home_status')\n",
    "\n",
    "data.drop(['home_status'],axis=1,inplace=True)\n",
    "\n",
    "data = pd.concat([data,home_status_dummies],axis=1)"
   ]
  },
  {
   "cell_type": "code",
   "execution_count": null,
   "metadata": {
    "colab": {
     "base_uri": "https://localhost:8080/"
    },
    "id": "OnIiMALytfLk",
    "outputId": "585586bb-5783-4932-965b-6d2ef04d0a55"
   },
   "outputs": [
    {
     "name": "stdout",
     "output_type": "stream",
     "text": [
      ">=35,000             2516\n",
      "<27,500, >=25,000    1227\n",
      "<30,000, >=27,500     994\n",
      "<25,000, >=22,500     833\n",
      "<20,000, >=17,500     683\n",
      "<12,500, >=10,000     677\n",
      "<17,500, >=15,000     634\n",
      "<15,000, >=12,500     629\n",
      "<22,500, >=20,000     590\n",
      "<10,000, >= 8,000     563\n",
      "< 8,000, >= 4,000     402\n",
      "< 4,000               278\n",
      "Unknown               128\n",
      "Name: family_income, dtype: int64\n"
     ]
    }
   ],
   "source": [
    "#### Analyzing family_income column ###\n",
    "\n",
    "print(data['family_income'].value_counts())\n",
    "\n",
    "#### Insight ####\n",
    "#################\n",
    "\n",
    "#The family income could be converted into numeric field by taking the mean of the range. We will explore it in the next set of experiments\n",
    "#In the current experiment, we create dummies\n",
    "\n",
    "income_dummies = pd.get_dummies(data['family_income'], prefix = 'income')\n",
    "\n",
    "data.drop(['family_income'],axis=1,inplace=True)\n",
    "\n",
    "data = pd.concat([data,income_dummies],axis=1)"
   ]
  },
  {
   "cell_type": "code",
   "execution_count": null,
   "metadata": {
    "id": "boxBtXgttfLk"
   },
   "outputs": [],
   "source": [
    "#### Analyzing the self employed, self employed partner and gender column ####\n",
    "\n",
    "cols = ['self_employed','self_employed_partner','gender']\n",
    "\n",
    "for column in cols:\n",
    "    dummies = pd.get_dummies(data[column],drop_first=True,prefix = column)\n",
    "    data.drop(column,axis=1,inplace=True)\n",
    "    data = pd.concat([data,dummies],axis=1)"
   ]
  },
  {
   "cell_type": "code",
   "execution_count": null,
   "metadata": {
    "colab": {
     "base_uri": "https://localhost:8080/"
    },
    "id": "vaOxRuEWgbPT",
    "outputId": "e83bebfa-eed5-4670-fe0f-3b6cd031c7e6"
   },
   "outputs": [
    {
     "name": "stdout",
     "output_type": "stream",
     "text": [
      "<class 'pandas.core.frame.DataFrame'>\n",
      "RangeIndex: 10154 entries, 0 to 10153\n",
      "Data columns (total 79 columns):\n",
      " #   Column                                Non-Null Count  Dtype  \n",
      "---  ------                                --------------  -----  \n",
      " 0   TVarea                                10154 non-null  object \n",
      " 1   Average Credit Card Transaction       10154 non-null  float64\n",
      " 2   Balance Transfer                      10154 non-null  float64\n",
      " 3   Term Deposit                          10154 non-null  float64\n",
      " 4   Life Insurance                        10154 non-null  float64\n",
      " 5   Medical Insurance                     10154 non-null  float64\n",
      " 6   Average A/C Balance                   10154 non-null  float64\n",
      " 7   Personal Loan                         10154 non-null  float64\n",
      " 8   Investment in Mutual Fund             10154 non-null  float64\n",
      " 9   Investment Tax Saving Bond            10154 non-null  float64\n",
      " 10  Home Loan                             10154 non-null  float64\n",
      " 11  Online Purchase Amount                10154 non-null  float64\n",
      " 12  Revenue Grid                          10154 non-null  int64  \n",
      " 13  region                                10154 non-null  object \n",
      " 14  Investment in Commudity               10154 non-null  float64\n",
      " 15  Investment in Equity                  10154 non-null  float64\n",
      " 16  Investment in Derivative              10154 non-null  float64\n",
      " 17  Portfolio Balance                     10154 non-null  float64\n",
      " 18  chidren_1                             10154 non-null  uint8  \n",
      " 19  chidren_2                             10154 non-null  uint8  \n",
      " 20  chidren_3                             10154 non-null  uint8  \n",
      " 21  chidren_4+                            10154 non-null  uint8  \n",
      " 22  chidren_Zero                          10154 non-null  uint8  \n",
      " 23  age_band_18-21                        10154 non-null  uint8  \n",
      " 24  age_band_22-25                        10154 non-null  uint8  \n",
      " 25  age_band_26-30                        10154 non-null  uint8  \n",
      " 26  age_band_31-35                        10154 non-null  uint8  \n",
      " 27  age_band_36-40                        10154 non-null  uint8  \n",
      " 28  age_band_41-45                        10154 non-null  uint8  \n",
      " 29  age_band_45-50                        10154 non-null  uint8  \n",
      " 30  age_band_51-55                        10154 non-null  uint8  \n",
      " 31  age_band_55-60                        10154 non-null  uint8  \n",
      " 32  age_band_61-65                        10154 non-null  uint8  \n",
      " 33  age_band_65-70                        10154 non-null  uint8  \n",
      " 34  age_band_71+                          10154 non-null  uint8  \n",
      " 35  age_band_Unknown                      10154 non-null  uint8  \n",
      " 36  status_Divorced/Separated             10154 non-null  uint8  \n",
      " 37  status_Partner                        10154 non-null  uint8  \n",
      " 38  status_Single/Never Married           10154 non-null  uint8  \n",
      " 39  status_Unknown                        10154 non-null  uint8  \n",
      " 40  status_Widowed                        10154 non-null  uint8  \n",
      " 41  occupation_Housewife                  10154 non-null  uint8  \n",
      " 42  occupation_Manual Worker              10154 non-null  uint8  \n",
      " 43  occupation_Other                      10154 non-null  uint8  \n",
      " 44  occupation_Professional               10154 non-null  uint8  \n",
      " 45  occupation_Retired                    10154 non-null  uint8  \n",
      " 46  occupation_Secretarial/Admin          10154 non-null  uint8  \n",
      " 47  occupation_Student                    10154 non-null  uint8  \n",
      " 48  occupation_Unknown                    10154 non-null  uint8  \n",
      " 49  occupation_partner_Housewife          10154 non-null  uint8  \n",
      " 50  occupation_partner_Manual Worker      10154 non-null  uint8  \n",
      " 51  occupation_partner_Other              10154 non-null  uint8  \n",
      " 52  occupation_partner_Professional       10154 non-null  uint8  \n",
      " 53  occupation_partner_Retired            10154 non-null  uint8  \n",
      " 54  occupation_partner_Secretarial/Admin  10154 non-null  uint8  \n",
      " 55  occupation_partner_Student            10154 non-null  uint8  \n",
      " 56  occupation_partner_Unknown            10154 non-null  uint8  \n",
      " 57  home_status_Live in Parental Hom      10154 non-null  uint8  \n",
      " 58  home_status_Own Home                  10154 non-null  uint8  \n",
      " 59  home_status_Rent Privately            10154 non-null  uint8  \n",
      " 60  home_status_Rent from Council/HA      10154 non-null  uint8  \n",
      " 61  home_status_Unclassified              10154 non-null  uint8  \n",
      " 62  income_< 4,000                        10154 non-null  uint8  \n",
      " 63  income_< 8,000, >= 4,000              10154 non-null  uint8  \n",
      " 64  income_<10,000, >= 8,000              10154 non-null  uint8  \n",
      " 65  income_<12,500, >=10,000              10154 non-null  uint8  \n",
      " 66  income_<15,000, >=12,500              10154 non-null  uint8  \n",
      " 67  income_<17,500, >=15,000              10154 non-null  uint8  \n",
      " 68  income_<20,000, >=17,500              10154 non-null  uint8  \n",
      " 69  income_<22,500, >=20,000              10154 non-null  uint8  \n",
      " 70  income_<25,000, >=22,500              10154 non-null  uint8  \n",
      " 71  income_<27,500, >=25,000              10154 non-null  uint8  \n",
      " 72  income_<30,000, >=27,500              10154 non-null  uint8  \n",
      " 73  income_>=35,000                       10154 non-null  uint8  \n",
      " 74  income_Unknown                        10154 non-null  uint8  \n",
      " 75  self_employed_Yes                     10154 non-null  uint8  \n",
      " 76  self_employed_partner_Yes             10154 non-null  uint8  \n",
      " 77  gender_Male                           10154 non-null  uint8  \n",
      " 78  gender_Unknown                        10154 non-null  uint8  \n",
      "dtypes: float64(15), int64(1), object(2), uint8(61)\n",
      "memory usage: 2.0+ MB\n"
     ]
    }
   ],
   "source": [
    "data.info()"
   ]
  },
  {
   "cell_type": "code",
   "execution_count": null,
   "metadata": {
    "colab": {
     "base_uri": "https://localhost:8080/"
    },
    "id": "kjfxRAErtfLl",
    "outputId": "94f32c01-32af-47fb-a64d-b1229b0ceccb"
   },
   "outputs": [
    {
     "name": "stdout",
     "output_type": "stream",
     "text": [
      "Central          1618\n",
      "Carlton          1541\n",
      "Meridian         1226\n",
      "Yorkshire        1042\n",
      "Granada          1039\n",
      "HTV               845\n",
      "Anglia            751\n",
      "Tyne Tees         535\n",
      "Scottish TV       520\n",
      "TV South West     363\n",
      "Grampian          227\n",
      "Unknown           189\n",
      "Ulster            159\n",
      "Border             99\n",
      "Name: TVarea, dtype: int64\n"
     ]
    }
   ],
   "source": [
    "#### Analyzing the TVarea column #####\n",
    "\n",
    "print(data['TVarea'].value_counts())\n",
    "\n",
    "### Insight ####\n",
    "################\n",
    "\n",
    "#Intuitively, TVArea doesn't make sense in predicting if the user is a high transaction user or not.\n",
    "#In the current set we would be removing this column, however doing this might lead to loss of information if it is relevant in anyway. This is a judgemental call\n",
    "\n",
    "data.drop(['TVarea'],axis=1,inplace=True)"
   ]
  },
  {
   "cell_type": "code",
   "execution_count": null,
   "metadata": {
    "colab": {
     "base_uri": "https://localhost:8080/"
    },
    "id": "oCOHC3ictfLl",
    "outputId": "f63da61c-9c74-49ae-f5f2-72bbdc35ab86"
   },
   "outputs": [
    {
     "name": "stdout",
     "output_type": "stream",
     "text": [
      "South East          2100\n",
      "North West          1896\n",
      "Unknown             1080\n",
      "South West           971\n",
      "West Midlands        820\n",
      "Scotland             787\n",
      "East Midlands        771\n",
      "North                570\n",
      "Wales                556\n",
      "East Anglia          423\n",
      "Northern Ireland     159\n",
      "Isle of Man           16\n",
      "Channel Islands        5\n",
      "Name: region, dtype: int64\n"
     ]
    }
   ],
   "source": [
    "### Analyzing the region column ####\n",
    "\n",
    "print(data['region'].value_counts())\n",
    "\n",
    "region_dummies = pd.get_dummies(data['region'],drop_first=True,prefix = 'region')\n",
    "\n",
    "data.drop(['region'],axis=1,inplace=True)\n",
    "\n",
    "data = pd.concat([data,region_dummies],axis=1)"
   ]
  },
  {
   "cell_type": "code",
   "execution_count": null,
   "metadata": {
    "colab": {
     "base_uri": "https://localhost:8080/"
    },
    "id": "dP_3mZmkhTzP",
    "outputId": "3d94f924-9e08-456b-cb88-719fd54afc73"
   },
   "outputs": [
    {
     "name": "stdout",
     "output_type": "stream",
     "text": [
      "<class 'pandas.core.frame.DataFrame'>\n",
      "RangeIndex: 10154 entries, 0 to 10153\n",
      "Data columns (total 89 columns):\n",
      " #   Column                                Non-Null Count  Dtype  \n",
      "---  ------                                --------------  -----  \n",
      " 0   Average Credit Card Transaction       10154 non-null  float64\n",
      " 1   Balance Transfer                      10154 non-null  float64\n",
      " 2   Term Deposit                          10154 non-null  float64\n",
      " 3   Life Insurance                        10154 non-null  float64\n",
      " 4   Medical Insurance                     10154 non-null  float64\n",
      " 5   Average A/C Balance                   10154 non-null  float64\n",
      " 6   Personal Loan                         10154 non-null  float64\n",
      " 7   Investment in Mutual Fund             10154 non-null  float64\n",
      " 8   Investment Tax Saving Bond            10154 non-null  float64\n",
      " 9   Home Loan                             10154 non-null  float64\n",
      " 10  Online Purchase Amount                10154 non-null  float64\n",
      " 11  Revenue Grid                          10154 non-null  int64  \n",
      " 12  Investment in Commudity               10154 non-null  float64\n",
      " 13  Investment in Equity                  10154 non-null  float64\n",
      " 14  Investment in Derivative              10154 non-null  float64\n",
      " 15  Portfolio Balance                     10154 non-null  float64\n",
      " 16  chidren_1                             10154 non-null  uint8  \n",
      " 17  chidren_2                             10154 non-null  uint8  \n",
      " 18  chidren_3                             10154 non-null  uint8  \n",
      " 19  chidren_4+                            10154 non-null  uint8  \n",
      " 20  chidren_Zero                          10154 non-null  uint8  \n",
      " 21  age_band_18-21                        10154 non-null  uint8  \n",
      " 22  age_band_22-25                        10154 non-null  uint8  \n",
      " 23  age_band_26-30                        10154 non-null  uint8  \n",
      " 24  age_band_31-35                        10154 non-null  uint8  \n",
      " 25  age_band_36-40                        10154 non-null  uint8  \n",
      " 26  age_band_41-45                        10154 non-null  uint8  \n",
      " 27  age_band_45-50                        10154 non-null  uint8  \n",
      " 28  age_band_51-55                        10154 non-null  uint8  \n",
      " 29  age_band_55-60                        10154 non-null  uint8  \n",
      " 30  age_band_61-65                        10154 non-null  uint8  \n",
      " 31  age_band_65-70                        10154 non-null  uint8  \n",
      " 32  age_band_71+                          10154 non-null  uint8  \n",
      " 33  age_band_Unknown                      10154 non-null  uint8  \n",
      " 34  status_Divorced/Separated             10154 non-null  uint8  \n",
      " 35  status_Partner                        10154 non-null  uint8  \n",
      " 36  status_Single/Never Married           10154 non-null  uint8  \n",
      " 37  status_Unknown                        10154 non-null  uint8  \n",
      " 38  status_Widowed                        10154 non-null  uint8  \n",
      " 39  occupation_Housewife                  10154 non-null  uint8  \n",
      " 40  occupation_Manual Worker              10154 non-null  uint8  \n",
      " 41  occupation_Other                      10154 non-null  uint8  \n",
      " 42  occupation_Professional               10154 non-null  uint8  \n",
      " 43  occupation_Retired                    10154 non-null  uint8  \n",
      " 44  occupation_Secretarial/Admin          10154 non-null  uint8  \n",
      " 45  occupation_Student                    10154 non-null  uint8  \n",
      " 46  occupation_Unknown                    10154 non-null  uint8  \n",
      " 47  occupation_partner_Housewife          10154 non-null  uint8  \n",
      " 48  occupation_partner_Manual Worker      10154 non-null  uint8  \n",
      " 49  occupation_partner_Other              10154 non-null  uint8  \n",
      " 50  occupation_partner_Professional       10154 non-null  uint8  \n",
      " 51  occupation_partner_Retired            10154 non-null  uint8  \n",
      " 52  occupation_partner_Secretarial/Admin  10154 non-null  uint8  \n",
      " 53  occupation_partner_Student            10154 non-null  uint8  \n",
      " 54  occupation_partner_Unknown            10154 non-null  uint8  \n",
      " 55  home_status_Live in Parental Hom      10154 non-null  uint8  \n",
      " 56  home_status_Own Home                  10154 non-null  uint8  \n",
      " 57  home_status_Rent Privately            10154 non-null  uint8  \n",
      " 58  home_status_Rent from Council/HA      10154 non-null  uint8  \n",
      " 59  home_status_Unclassified              10154 non-null  uint8  \n",
      " 60  income_< 4,000                        10154 non-null  uint8  \n",
      " 61  income_< 8,000, >= 4,000              10154 non-null  uint8  \n",
      " 62  income_<10,000, >= 8,000              10154 non-null  uint8  \n",
      " 63  income_<12,500, >=10,000              10154 non-null  uint8  \n",
      " 64  income_<15,000, >=12,500              10154 non-null  uint8  \n",
      " 65  income_<17,500, >=15,000              10154 non-null  uint8  \n",
      " 66  income_<20,000, >=17,500              10154 non-null  uint8  \n",
      " 67  income_<22,500, >=20,000              10154 non-null  uint8  \n",
      " 68  income_<25,000, >=22,500              10154 non-null  uint8  \n",
      " 69  income_<27,500, >=25,000              10154 non-null  uint8  \n",
      " 70  income_<30,000, >=27,500              10154 non-null  uint8  \n",
      " 71  income_>=35,000                       10154 non-null  uint8  \n",
      " 72  income_Unknown                        10154 non-null  uint8  \n",
      " 73  self_employed_Yes                     10154 non-null  uint8  \n",
      " 74  self_employed_partner_Yes             10154 non-null  uint8  \n",
      " 75  gender_Male                           10154 non-null  uint8  \n",
      " 76  gender_Unknown                        10154 non-null  uint8  \n",
      " 77  region_East Anglia                    10154 non-null  uint8  \n",
      " 78  region_East Midlands                  10154 non-null  uint8  \n",
      " 79  region_Isle of Man                    10154 non-null  uint8  \n",
      " 80  region_North                          10154 non-null  uint8  \n",
      " 81  region_North West                     10154 non-null  uint8  \n",
      " 82  region_Northern Ireland               10154 non-null  uint8  \n",
      " 83  region_Scotland                       10154 non-null  uint8  \n",
      " 84  region_South East                     10154 non-null  uint8  \n",
      " 85  region_South West                     10154 non-null  uint8  \n",
      " 86  region_Unknown                        10154 non-null  uint8  \n",
      " 87  region_Wales                          10154 non-null  uint8  \n",
      " 88  region_West Midlands                  10154 non-null  uint8  \n",
      "dtypes: float64(15), int64(1), uint8(73)\n",
      "memory usage: 1.9 MB\n"
     ]
    }
   ],
   "source": [
    "data.info()"
   ]
  },
  {
   "cell_type": "code",
   "execution_count": null,
   "metadata": {
    "colab": {
     "base_uri": "https://localhost:8080/"
    },
    "id": "zav9pMkjtfLl",
    "outputId": "179b7386-5534-4dd9-9791-48308f7a1aa4"
   },
   "outputs": [
    {
     "name": "stdout",
     "output_type": "stream",
     "text": [
      "The shape of data after all preprocessing  (10154, 89)\n"
     ]
    }
   ],
   "source": [
    "print('The shape of data after all preprocessing ',data.shape)"
   ]
  },
  {
   "cell_type": "markdown",
   "metadata": {
    "id": "3Ny5cFgltfLm"
   },
   "source": [
    "\n",
    "# Modelling Data Prep"
   ]
  },
  {
   "cell_type": "code",
   "execution_count": null,
   "metadata": {
    "id": "cnwXCvl5tfLm"
   },
   "outputs": [],
   "source": [
    "#### Since its a classification problem, converting target column into 0/1s #####\n",
    "\n",
    "data.loc[data['Revenue Grid']==2,'Revenue Grid'] = 0 ## this replaces all the 2's with 0 ### making targets as 1 and 0 \n",
    "\n",
    "data.reset_index(drop=True,inplace=True)\n",
    "\n",
    "features_df = data.drop(['Revenue Grid'],axis=1)\n",
    "\n",
    "target_df = data['Revenue Grid']"
   ]
  },
  {
   "cell_type": "code",
   "execution_count": null,
   "metadata": {
    "colab": {
     "base_uri": "https://localhost:8080/"
    },
    "id": "csg_XRWCZ-eP",
    "outputId": "00525d1d-8051-4998-9fa4-571fe4d2983f"
   },
   "outputs": [
    {
     "data": {
      "text/plain": [
       "0    9068\n",
       "1    1086\n",
       "Name: Revenue Grid, dtype: int64"
      ]
     },
     "execution_count": 35,
     "metadata": {},
     "output_type": "execute_result"
    }
   ],
   "source": [
    "data['Revenue Grid'].value_counts()"
   ]
  },
  {
   "cell_type": "code",
   "execution_count": null,
   "metadata": {
    "colab": {
     "base_uri": "https://localhost:8080/"
    },
    "id": "3RRBRsOpaTpB",
    "outputId": "4817a499-58ff-49da-d14c-db3cefcd910b"
   },
   "outputs": [
    {
     "data": {
      "text/plain": [
       "(0.8930470750443175, 0.1069529249556825)"
      ]
     },
     "execution_count": 36,
     "metadata": {},
     "output_type": "execute_result"
    }
   ],
   "source": [
    "9068/(9068+1086), (1086/(9068+1086))"
   ]
  },
  {
   "cell_type": "code",
   "execution_count": null,
   "metadata": {
    "colab": {
     "base_uri": "https://localhost:8080/"
    },
    "id": "otBuoOvyi2ff",
    "outputId": "b2efcb78-b866-4f14-ee14-f1d183d23d11"
   },
   "outputs": [
    {
     "data": {
      "text/plain": [
       "((10154, 88), (10154,))"
      ]
     },
     "execution_count": 37,
     "metadata": {},
     "output_type": "execute_result"
    }
   ],
   "source": [
    "features_df.shape, target_df.shape"
   ]
  },
  {
   "cell_type": "code",
   "execution_count": null,
   "metadata": {
    "id": "PH9h1JrbtfLm"
   },
   "outputs": [],
   "source": [
    "\n",
    "\n",
    "##### Creating a test set to validate the model on ######\n",
    "\n",
    "#split_size = 0.2\n",
    "\n",
    "split_ins = StratifiedShuffleSplit(train_size = 0.8, random_state=2364)\n",
    "\n",
    "splits = split_ins.split(features_df,target_df) ### return the rows that should be in training set and rows that goes in val set\n",
    "\n",
    "for train_index, val_index in splits:\n",
    "    features_train = features_df.iloc[train_index,:]   ## features for the training set\n",
    "    target_train = target_df[train_index]    ##### target values for the training set\n",
    "    features_val = features_df.iloc[val_index,:]   #### features for the validation set\n",
    "    target_val = target_df[val_index]            #### targets for the validation set\n",
    "    "
   ]
  },
  {
   "cell_type": "code",
   "execution_count": null,
   "metadata": {
    "colab": {
     "base_uri": "https://localhost:8080/"
    },
    "id": "Eh-7OOm1tfLn",
    "outputId": "39e8f2aa-692e-435b-965c-ea56af5cc8e7"
   },
   "outputs": [
    {
     "data": {
      "text/plain": [
       "((8123, 88), (2031, 88), (8123,), (2031,))"
      ]
     },
     "execution_count": 39,
     "metadata": {},
     "output_type": "execute_result"
    }
   ],
   "source": [
    "features_train.shape,features_val.shape,target_train.shape,target_val.shape"
   ]
  },
  {
   "cell_type": "code",
   "execution_count": null,
   "metadata": {
    "colab": {
     "base_uri": "https://localhost:8080/"
    },
    "id": "DCNsrDB4zVln",
    "outputId": "9cdb6f14-c697-4edd-96c4-bdc8a097eda0"
   },
   "outputs": [
    {
     "data": {
      "text/plain": [
       "(0.7999803033287375, 0.20005910165484633)"
      ]
     },
     "execution_count": 40,
     "metadata": {},
     "output_type": "execute_result"
    }
   ],
   "source": [
    "8123/10154, 2031/10152"
   ]
  },
  {
   "cell_type": "code",
   "execution_count": null,
   "metadata": {
    "colab": {
     "base_uri": "https://localhost:8080/"
    },
    "id": "ADb3MbLxaJGv",
    "outputId": "a5baa5cd-9840-4014-c0ac-b600e98b8faa"
   },
   "outputs": [
    {
     "data": {
      "text/plain": [
       "0    7254\n",
       "1     869\n",
       "Name: Revenue Grid, dtype: int64"
      ]
     },
     "execution_count": 41,
     "metadata": {},
     "output_type": "execute_result"
    }
   ],
   "source": [
    "target_train.value_counts()"
   ]
  },
  {
   "cell_type": "code",
   "execution_count": null,
   "metadata": {
    "colab": {
     "base_uri": "https://localhost:8080/"
    },
    "id": "cSqHKqdz1hWd",
    "outputId": "51e73fd3-281c-4eca-ae56-7570f8015651"
   },
   "outputs": [
    {
     "data": {
      "text/plain": [
       "(0.8930198202634495, 0.10698017973655054)"
      ]
     },
     "execution_count": 42,
     "metadata": {},
     "output_type": "execute_result"
    }
   ],
   "source": [
    "7254/(7254+869), 869/(7254+869)"
   ]
  },
  {
   "cell_type": "code",
   "execution_count": null,
   "metadata": {
    "colab": {
     "base_uri": "https://localhost:8080/"
    },
    "id": "rQkIltxT1uU9",
    "outputId": "3f1825ab-fecb-41fb-f5fb-c22551396e5e"
   },
   "outputs": [
    {
     "data": {
      "text/plain": [
       "0    1814\n",
       "1     217\n",
       "Name: Revenue Grid, dtype: int64"
      ]
     },
     "execution_count": 43,
     "metadata": {},
     "output_type": "execute_result"
    }
   ],
   "source": [
    "target_val.value_counts()"
   ]
  },
  {
   "cell_type": "code",
   "execution_count": null,
   "metadata": {
    "colab": {
     "base_uri": "https://localhost:8080/"
    },
    "id": "UeCeDwKh1yVp",
    "outputId": "c0c42f19-73b1-489e-9809-8e07d74708da"
   },
   "outputs": [
    {
     "data": {
      "text/plain": [
       "0.8931560807483998"
      ]
     },
     "execution_count": 62,
     "metadata": {},
     "output_type": "execute_result"
    }
   ],
   "source": [
    "1814/(1814+217)"
   ]
  },
  {
   "cell_type": "code",
   "execution_count": null,
   "metadata": {
    "id": "hy0r4NbnrTOI"
   },
   "outputs": [],
   "source": [
    "features_train.reset_index(drop=True, inplace=True)\n",
    "target_train.reset_index(drop=True, inplace=True)\n",
    "features_val.reset_index(drop=True, inplace=True)\n",
    "target_val.reset_index(drop=True, inplace=True)"
   ]
  },
  {
   "cell_type": "markdown",
   "metadata": {
    "id": "Mq05OBNWtfLn"
   },
   "source": [
    "# Modelling"
   ]
  },
  {
   "cell_type": "code",
   "execution_count": null,
   "metadata": {
    "id": "2qtx8YqJtfLn"
   },
   "outputs": [],
   "source": [
    "### We start with fitting the logistic regression model, this would serve as a benchmark model ####\n",
    "LR_model = LogisticRegression(class_weight = {0:0.55, 1:0.45}, max_iter=2000, penalty='none', random_state=2000) #since Logistic model doesn't have alot of paramters we wont create a validation set for hyperparameter tuning"
   ]
  },
  {
   "cell_type": "code",
   "execution_count": null,
   "metadata": {
    "colab": {
     "base_uri": "https://localhost:8080/"
    },
    "id": "qHPQA3ywfAzR",
    "outputId": "6ec6cbf4-e873-4ca4-a59e-360d9f1a7454"
   },
   "outputs": [
    {
     "data": {
      "text/plain": [
       "LogisticRegression(class_weight={0: 0.55, 1: 0.45}, max_iter=2000,\n",
       "                   random_state=2000)"
      ]
     },
     "execution_count": 82,
     "metadata": {},
     "output_type": "execute_result"
    }
   ],
   "source": [
    "LR_model"
   ]
  },
  {
   "cell_type": "code",
   "execution_count": null,
   "metadata": {
    "colab": {
     "base_uri": "https://localhost:8080/"
    },
    "id": "kYylWboStfLn",
    "outputId": "14b4e581-9ff0-4cac-de5a-23d75c4e4c6d"
   },
   "outputs": [
    {
     "data": {
      "text/plain": [
       "LogisticRegression(class_weight={0: 0.55, 1: 0.45}, max_iter=2000,\n",
       "                   penalty='none', random_state=2000)"
      ]
     },
     "execution_count": 90,
     "metadata": {},
     "output_type": "execute_result"
    }
   ],
   "source": [
    "### Fitting the model ####\n",
    "\n",
    "LR_model.fit(features_train,target_train) ##Model Building"
   ]
  },
  {
   "cell_type": "code",
   "execution_count": null,
   "metadata": {
    "colab": {
     "base_uri": "https://localhost:8080/"
    },
    "id": "NxFqOxTEp0yx",
    "outputId": "60df456e-25d3-4210-d4a5-674df49787e1"
   },
   "outputs": [
    {
     "data": {
      "text/plain": [
       "{'Average A/C Balance': 7.866430402058602,\n",
       " 'Average Credit Card Transaction': 2.8591515795157703,\n",
       " 'Balance Transfer': 1.834439846776186,\n",
       " 'Home Loan': 0.6256083886898848,\n",
       " 'Investment Tax Saving Bond': 3.4954717488382405,\n",
       " 'Investment in Commudity': -6.427661679360189,\n",
       " 'Investment in Derivative': -7.431212986693403,\n",
       " 'Investment in Equity': -24.256312804878863,\n",
       " 'Investment in Mutual Fund': 10.517611029718386,\n",
       " 'Life Insurance': 7.520945862755086,\n",
       " 'Medical Insurance': 1.8341409956112462,\n",
       " 'Online Purchase Amount': 15.512081397370476,\n",
       " 'Personal Loan': 9.895494043956674,\n",
       " 'Portfolio Balance': 0.14122490820497963,\n",
       " 'Term Deposit': 0.6392294497912531,\n",
       " 'age_band_18-21': -0.22276540232708542,\n",
       " 'age_band_22-25': -0.5036653161740768,\n",
       " 'age_band_26-30': -0.42354586687063484,\n",
       " 'age_band_31-35': -0.49872869239249223,\n",
       " 'age_band_36-40': -0.6821190187846381,\n",
       " 'age_band_41-45': -0.8194478221715851,\n",
       " 'age_band_45-50': -0.29334123336136436,\n",
       " 'age_band_51-55': -0.3771576590307025,\n",
       " 'age_band_55-60': -0.6738227613571763,\n",
       " 'age_band_61-65': -0.4721363307439734,\n",
       " 'age_band_65-70': -0.3685297285697753,\n",
       " 'age_band_71+': -0.08011330947676017,\n",
       " 'age_band_Unknown': -0.29435286239352837,\n",
       " 'chidren_1': -0.8749504684328611,\n",
       " 'chidren_2': -1.1295652491972938,\n",
       " 'chidren_3': -0.9646414047633651,\n",
       " 'chidren_4+': -1.6388276659524161,\n",
       " 'chidren_Zero': -1.1017412153119894,\n",
       " 'gender_Male': 0.24852248299734264,\n",
       " 'gender_Unknown': 1.849293089253218,\n",
       " 'home_status_Live in Parental Hom': -2.3654138481186195,\n",
       " 'home_status_Own Home': -0.9325964687419988,\n",
       " 'home_status_Rent Privately': -1.0032062559263943,\n",
       " 'home_status_Rent from Council/HA': -1.0900864739651694,\n",
       " 'home_status_Unclassified': -0.3184229569079438,\n",
       " 'income_< 4,000': -0.4757024906883018,\n",
       " 'income_< 8,000, >= 4,000': -0.8144479273871307,\n",
       " 'income_<10,000, >= 8,000': -0.22831761202547365,\n",
       " 'income_<12,500, >=10,000': 0.032821005434396,\n",
       " 'income_<15,000, >=12,500': -0.30101550016833345,\n",
       " 'income_<17,500, >=15,000': -0.5502393201192457,\n",
       " 'income_<20,000, >=17,500': -0.20852427752354077,\n",
       " 'income_<22,500, >=20,000': -0.2160245354754682,\n",
       " 'income_<25,000, >=22,500': -0.3514277703973698,\n",
       " 'income_<27,500, >=25,000': -0.3053666287461109,\n",
       " 'income_<30,000, >=27,500': -0.0876780953015731,\n",
       " 'income_>=35,000': -0.3193171830873159,\n",
       " 'income_Unknown': -1.8844856681616515,\n",
       " 'occupation_Housewife': -0.1746961139511815,\n",
       " 'occupation_Manual Worker': 0.26177867285685374,\n",
       " 'occupation_Other': 0.14432288983714578,\n",
       " 'occupation_Professional': -0.07436883276332974,\n",
       " 'occupation_Retired': 0.018448436267986233,\n",
       " 'occupation_Secretarial/Admin': -0.13661344605406006,\n",
       " 'occupation_Student': -3.2903127114446358,\n",
       " 'occupation_Unknown': 0.1423833874255882,\n",
       " 'occupation_partner_Housewife': -0.370149849388223,\n",
       " 'occupation_partner_Manual Worker': 0.1690358003033629,\n",
       " 'occupation_partner_Other': -0.05938069891955548,\n",
       " 'occupation_partner_Professional': 0.3170635060491348,\n",
       " 'occupation_partner_Retired': -0.17297663171046923,\n",
       " 'occupation_partner_Secretarial/Admin': 0.2577317578073372,\n",
       " 'occupation_partner_Student': 0.31828998925055607,\n",
       " 'occupation_partner_Unknown': 0.4403504509520668,\n",
       " 'region_East Anglia': 7.629464038111678,\n",
       " 'region_East Midlands': 7.574357007254586,\n",
       " 'region_Isle of Man': -23.431712225755756,\n",
       " 'region_North': 7.2601335765255905,\n",
       " 'region_North West': 7.553789177586262,\n",
       " 'region_Northern Ireland': 8.027648597739605,\n",
       " 'region_Scotland': 7.7344845341697726,\n",
       " 'region_South East': 7.3404691763242065,\n",
       " 'region_South West': 7.703593522550312,\n",
       " 'region_Unknown': 7.6717428000088645,\n",
       " 'region_Wales': 7.456029628654128,\n",
       " 'region_West Midlands': 7.521637185638761,\n",
       " 'self_employed_Yes': 0.36349809968915947,\n",
       " 'self_employed_partner_Yes': -0.014600166893581097,\n",
       " 'status_Divorced/Separated': -1.3830709774959935,\n",
       " 'status_Partner': -0.8861441407040468,\n",
       " 'status_Single/Never Married': -1.360229465070925,\n",
       " 'status_Unknown': -0.520647654291,\n",
       " 'status_Widowed': -1.5596337661029538}"
      ]
     },
     "execution_count": 52,
     "metadata": {},
     "output_type": "execute_result"
    }
   ],
   "source": [
    "dict(zip(list(features_df.columns), list(LR_model.coef_[0])))"
   ]
  },
  {
   "cell_type": "code",
   "execution_count": null,
   "metadata": {
    "colab": {
     "base_uri": "https://localhost:8080/",
     "height": 424
    },
    "id": "fuLfZuUthEwf",
    "outputId": "67fd6118-6d24-4d2e-d4b9-37d97a08ac79"
   },
   "outputs": [
    {
     "data": {
      "text/html": [
       "\n",
       "  <div id=\"df-8be42f75-e10d-4386-9825-c6be48124018\">\n",
       "    <div class=\"colab-df-container\">\n",
       "      <div>\n",
       "<style scoped>\n",
       "    .dataframe tbody tr th:only-of-type {\n",
       "        vertical-align: middle;\n",
       "    }\n",
       "\n",
       "    .dataframe tbody tr th {\n",
       "        vertical-align: top;\n",
       "    }\n",
       "\n",
       "    .dataframe thead th {\n",
       "        text-align: right;\n",
       "    }\n",
       "</style>\n",
       "<table border=\"1\" class=\"dataframe\">\n",
       "  <thead>\n",
       "    <tr style=\"text-align: right;\">\n",
       "      <th></th>\n",
       "      <th>0</th>\n",
       "      <th>1</th>\n",
       "    </tr>\n",
       "  </thead>\n",
       "  <tbody>\n",
       "    <tr>\n",
       "      <th>0</th>\n",
       "      <td>0.239029</td>\n",
       "      <td>0.760971</td>\n",
       "    </tr>\n",
       "    <tr>\n",
       "      <th>1</th>\n",
       "      <td>0.185956</td>\n",
       "      <td>0.814044</td>\n",
       "    </tr>\n",
       "    <tr>\n",
       "      <th>2</th>\n",
       "      <td>0.150177</td>\n",
       "      <td>0.849823</td>\n",
       "    </tr>\n",
       "    <tr>\n",
       "      <th>3</th>\n",
       "      <td>0.942551</td>\n",
       "      <td>0.057449</td>\n",
       "    </tr>\n",
       "    <tr>\n",
       "      <th>4</th>\n",
       "      <td>0.966834</td>\n",
       "      <td>0.033166</td>\n",
       "    </tr>\n",
       "    <tr>\n",
       "      <th>...</th>\n",
       "      <td>...</td>\n",
       "      <td>...</td>\n",
       "    </tr>\n",
       "    <tr>\n",
       "      <th>8118</th>\n",
       "      <td>0.915775</td>\n",
       "      <td>0.084225</td>\n",
       "    </tr>\n",
       "    <tr>\n",
       "      <th>8119</th>\n",
       "      <td>0.998970</td>\n",
       "      <td>0.001030</td>\n",
       "    </tr>\n",
       "    <tr>\n",
       "      <th>8120</th>\n",
       "      <td>0.914338</td>\n",
       "      <td>0.085662</td>\n",
       "    </tr>\n",
       "    <tr>\n",
       "      <th>8121</th>\n",
       "      <td>0.985381</td>\n",
       "      <td>0.014619</td>\n",
       "    </tr>\n",
       "    <tr>\n",
       "      <th>8122</th>\n",
       "      <td>0.976113</td>\n",
       "      <td>0.023887</td>\n",
       "    </tr>\n",
       "  </tbody>\n",
       "</table>\n",
       "<p>8123 rows × 2 columns</p>\n",
       "</div>\n",
       "      <button class=\"colab-df-convert\" onclick=\"convertToInteractive('df-8be42f75-e10d-4386-9825-c6be48124018')\"\n",
       "              title=\"Convert this dataframe to an interactive table.\"\n",
       "              style=\"display:none;\">\n",
       "        \n",
       "  <svg xmlns=\"http://www.w3.org/2000/svg\" height=\"24px\"viewBox=\"0 0 24 24\"\n",
       "       width=\"24px\">\n",
       "    <path d=\"M0 0h24v24H0V0z\" fill=\"none\"/>\n",
       "    <path d=\"M18.56 5.44l.94 2.06.94-2.06 2.06-.94-2.06-.94-.94-2.06-.94 2.06-2.06.94zm-11 1L8.5 8.5l.94-2.06 2.06-.94-2.06-.94L8.5 2.5l-.94 2.06-2.06.94zm10 10l.94 2.06.94-2.06 2.06-.94-2.06-.94-.94-2.06-.94 2.06-2.06.94z\"/><path d=\"M17.41 7.96l-1.37-1.37c-.4-.4-.92-.59-1.43-.59-.52 0-1.04.2-1.43.59L10.3 9.45l-7.72 7.72c-.78.78-.78 2.05 0 2.83L4 21.41c.39.39.9.59 1.41.59.51 0 1.02-.2 1.41-.59l7.78-7.78 2.81-2.81c.8-.78.8-2.07 0-2.86zM5.41 20L4 18.59l7.72-7.72 1.47 1.35L5.41 20z\"/>\n",
       "  </svg>\n",
       "      </button>\n",
       "      \n",
       "  <style>\n",
       "    .colab-df-container {\n",
       "      display:flex;\n",
       "      flex-wrap:wrap;\n",
       "      gap: 12px;\n",
       "    }\n",
       "\n",
       "    .colab-df-convert {\n",
       "      background-color: #E8F0FE;\n",
       "      border: none;\n",
       "      border-radius: 50%;\n",
       "      cursor: pointer;\n",
       "      display: none;\n",
       "      fill: #1967D2;\n",
       "      height: 32px;\n",
       "      padding: 0 0 0 0;\n",
       "      width: 32px;\n",
       "    }\n",
       "\n",
       "    .colab-df-convert:hover {\n",
       "      background-color: #E2EBFA;\n",
       "      box-shadow: 0px 1px 2px rgba(60, 64, 67, 0.3), 0px 1px 3px 1px rgba(60, 64, 67, 0.15);\n",
       "      fill: #174EA6;\n",
       "    }\n",
       "\n",
       "    [theme=dark] .colab-df-convert {\n",
       "      background-color: #3B4455;\n",
       "      fill: #D2E3FC;\n",
       "    }\n",
       "\n",
       "    [theme=dark] .colab-df-convert:hover {\n",
       "      background-color: #434B5C;\n",
       "      box-shadow: 0px 1px 3px 1px rgba(0, 0, 0, 0.15);\n",
       "      filter: drop-shadow(0px 1px 2px rgba(0, 0, 0, 0.3));\n",
       "      fill: #FFFFFF;\n",
       "    }\n",
       "  </style>\n",
       "\n",
       "      <script>\n",
       "        const buttonEl =\n",
       "          document.querySelector('#df-8be42f75-e10d-4386-9825-c6be48124018 button.colab-df-convert');\n",
       "        buttonEl.style.display =\n",
       "          google.colab.kernel.accessAllowed ? 'block' : 'none';\n",
       "\n",
       "        async function convertToInteractive(key) {\n",
       "          const element = document.querySelector('#df-8be42f75-e10d-4386-9825-c6be48124018');\n",
       "          const dataTable =\n",
       "            await google.colab.kernel.invokeFunction('convertToInteractive',\n",
       "                                                     [key], {});\n",
       "          if (!dataTable) return;\n",
       "\n",
       "          const docLinkHtml = 'Like what you see? Visit the ' +\n",
       "            '<a target=\"_blank\" href=https://colab.research.google.com/notebooks/data_table.ipynb>data table notebook</a>'\n",
       "            + ' to learn more about interactive tables.';\n",
       "          element.innerHTML = '';\n",
       "          dataTable['output_type'] = 'display_data';\n",
       "          await google.colab.output.renderOutput(dataTable, element);\n",
       "          const docLink = document.createElement('div');\n",
       "          docLink.innerHTML = docLinkHtml;\n",
       "          element.appendChild(docLink);\n",
       "        }\n",
       "      </script>\n",
       "    </div>\n",
       "  </div>\n",
       "  "
      ],
      "text/plain": [
       "             0         1\n",
       "0     0.239029  0.760971\n",
       "1     0.185956  0.814044\n",
       "2     0.150177  0.849823\n",
       "3     0.942551  0.057449\n",
       "4     0.966834  0.033166\n",
       "...        ...       ...\n",
       "8118  0.915775  0.084225\n",
       "8119  0.998970  0.001030\n",
       "8120  0.914338  0.085662\n",
       "8121  0.985381  0.014619\n",
       "8122  0.976113  0.023887\n",
       "\n",
       "[8123 rows x 2 columns]"
      ]
     },
     "execution_count": 56,
     "metadata": {},
     "output_type": "execute_result"
    }
   ],
   "source": [
    "pd.DataFrame(LR_model.predict_proba(features_train)) #### Predict on the examples in the training set"
   ]
  },
  {
   "cell_type": "code",
   "execution_count": null,
   "metadata": {
    "id": "9Mi73YW--Pzu"
   },
   "outputs": [],
   "source": [
    "prediction_train = pd.DataFrame(LR_model.predict_proba(features_train)) #### give me the predicted probabilities on features_train"
   ]
  },
  {
   "cell_type": "code",
   "execution_count": null,
   "metadata": {
    "colab": {
     "base_uri": "https://localhost:8080/",
     "height": 424
    },
    "id": "Vi8Sw8Ss8rP0",
    "outputId": "1d477461-3d43-4348-e07f-1e4626d07ace"
   },
   "outputs": [
    {
     "data": {
      "text/html": [
       "\n",
       "  <div id=\"df-8b961dc9-4e9c-41fc-bd51-6367ba3d528a\">\n",
       "    <div class=\"colab-df-container\">\n",
       "      <div>\n",
       "<style scoped>\n",
       "    .dataframe tbody tr th:only-of-type {\n",
       "        vertical-align: middle;\n",
       "    }\n",
       "\n",
       "    .dataframe tbody tr th {\n",
       "        vertical-align: top;\n",
       "    }\n",
       "\n",
       "    .dataframe thead th {\n",
       "        text-align: right;\n",
       "    }\n",
       "</style>\n",
       "<table border=\"1\" class=\"dataframe\">\n",
       "  <thead>\n",
       "    <tr style=\"text-align: right;\">\n",
       "      <th></th>\n",
       "      <th>0</th>\n",
       "      <th>1</th>\n",
       "    </tr>\n",
       "  </thead>\n",
       "  <tbody>\n",
       "    <tr>\n",
       "      <th>0</th>\n",
       "      <td>0.239029</td>\n",
       "      <td>0.760971</td>\n",
       "    </tr>\n",
       "    <tr>\n",
       "      <th>1</th>\n",
       "      <td>0.185956</td>\n",
       "      <td>0.814044</td>\n",
       "    </tr>\n",
       "    <tr>\n",
       "      <th>2</th>\n",
       "      <td>0.150177</td>\n",
       "      <td>0.849823</td>\n",
       "    </tr>\n",
       "    <tr>\n",
       "      <th>3</th>\n",
       "      <td>0.942551</td>\n",
       "      <td>0.057449</td>\n",
       "    </tr>\n",
       "    <tr>\n",
       "      <th>4</th>\n",
       "      <td>0.966834</td>\n",
       "      <td>0.033166</td>\n",
       "    </tr>\n",
       "    <tr>\n",
       "      <th>...</th>\n",
       "      <td>...</td>\n",
       "      <td>...</td>\n",
       "    </tr>\n",
       "    <tr>\n",
       "      <th>8118</th>\n",
       "      <td>0.915775</td>\n",
       "      <td>0.084225</td>\n",
       "    </tr>\n",
       "    <tr>\n",
       "      <th>8119</th>\n",
       "      <td>0.998970</td>\n",
       "      <td>0.001030</td>\n",
       "    </tr>\n",
       "    <tr>\n",
       "      <th>8120</th>\n",
       "      <td>0.914338</td>\n",
       "      <td>0.085662</td>\n",
       "    </tr>\n",
       "    <tr>\n",
       "      <th>8121</th>\n",
       "      <td>0.985381</td>\n",
       "      <td>0.014619</td>\n",
       "    </tr>\n",
       "    <tr>\n",
       "      <th>8122</th>\n",
       "      <td>0.976113</td>\n",
       "      <td>0.023887</td>\n",
       "    </tr>\n",
       "  </tbody>\n",
       "</table>\n",
       "<p>8123 rows × 2 columns</p>\n",
       "</div>\n",
       "      <button class=\"colab-df-convert\" onclick=\"convertToInteractive('df-8b961dc9-4e9c-41fc-bd51-6367ba3d528a')\"\n",
       "              title=\"Convert this dataframe to an interactive table.\"\n",
       "              style=\"display:none;\">\n",
       "        \n",
       "  <svg xmlns=\"http://www.w3.org/2000/svg\" height=\"24px\"viewBox=\"0 0 24 24\"\n",
       "       width=\"24px\">\n",
       "    <path d=\"M0 0h24v24H0V0z\" fill=\"none\"/>\n",
       "    <path d=\"M18.56 5.44l.94 2.06.94-2.06 2.06-.94-2.06-.94-.94-2.06-.94 2.06-2.06.94zm-11 1L8.5 8.5l.94-2.06 2.06-.94-2.06-.94L8.5 2.5l-.94 2.06-2.06.94zm10 10l.94 2.06.94-2.06 2.06-.94-2.06-.94-.94-2.06-.94 2.06-2.06.94z\"/><path d=\"M17.41 7.96l-1.37-1.37c-.4-.4-.92-.59-1.43-.59-.52 0-1.04.2-1.43.59L10.3 9.45l-7.72 7.72c-.78.78-.78 2.05 0 2.83L4 21.41c.39.39.9.59 1.41.59.51 0 1.02-.2 1.41-.59l7.78-7.78 2.81-2.81c.8-.78.8-2.07 0-2.86zM5.41 20L4 18.59l7.72-7.72 1.47 1.35L5.41 20z\"/>\n",
       "  </svg>\n",
       "      </button>\n",
       "      \n",
       "  <style>\n",
       "    .colab-df-container {\n",
       "      display:flex;\n",
       "      flex-wrap:wrap;\n",
       "      gap: 12px;\n",
       "    }\n",
       "\n",
       "    .colab-df-convert {\n",
       "      background-color: #E8F0FE;\n",
       "      border: none;\n",
       "      border-radius: 50%;\n",
       "      cursor: pointer;\n",
       "      display: none;\n",
       "      fill: #1967D2;\n",
       "      height: 32px;\n",
       "      padding: 0 0 0 0;\n",
       "      width: 32px;\n",
       "    }\n",
       "\n",
       "    .colab-df-convert:hover {\n",
       "      background-color: #E2EBFA;\n",
       "      box-shadow: 0px 1px 2px rgba(60, 64, 67, 0.3), 0px 1px 3px 1px rgba(60, 64, 67, 0.15);\n",
       "      fill: #174EA6;\n",
       "    }\n",
       "\n",
       "    [theme=dark] .colab-df-convert {\n",
       "      background-color: #3B4455;\n",
       "      fill: #D2E3FC;\n",
       "    }\n",
       "\n",
       "    [theme=dark] .colab-df-convert:hover {\n",
       "      background-color: #434B5C;\n",
       "      box-shadow: 0px 1px 3px 1px rgba(0, 0, 0, 0.15);\n",
       "      filter: drop-shadow(0px 1px 2px rgba(0, 0, 0, 0.3));\n",
       "      fill: #FFFFFF;\n",
       "    }\n",
       "  </style>\n",
       "\n",
       "      <script>\n",
       "        const buttonEl =\n",
       "          document.querySelector('#df-8b961dc9-4e9c-41fc-bd51-6367ba3d528a button.colab-df-convert');\n",
       "        buttonEl.style.display =\n",
       "          google.colab.kernel.accessAllowed ? 'block' : 'none';\n",
       "\n",
       "        async function convertToInteractive(key) {\n",
       "          const element = document.querySelector('#df-8b961dc9-4e9c-41fc-bd51-6367ba3d528a');\n",
       "          const dataTable =\n",
       "            await google.colab.kernel.invokeFunction('convertToInteractive',\n",
       "                                                     [key], {});\n",
       "          if (!dataTable) return;\n",
       "\n",
       "          const docLinkHtml = 'Like what you see? Visit the ' +\n",
       "            '<a target=\"_blank\" href=https://colab.research.google.com/notebooks/data_table.ipynb>data table notebook</a>'\n",
       "            + ' to learn more about interactive tables.';\n",
       "          element.innerHTML = '';\n",
       "          dataTable['output_type'] = 'display_data';\n",
       "          await google.colab.output.renderOutput(dataTable, element);\n",
       "          const docLink = document.createElement('div');\n",
       "          docLink.innerHTML = docLinkHtml;\n",
       "          element.appendChild(docLink);\n",
       "        }\n",
       "      </script>\n",
       "    </div>\n",
       "  </div>\n",
       "  "
      ],
      "text/plain": [
       "             0         1\n",
       "0     0.239029  0.760971\n",
       "1     0.185956  0.814044\n",
       "2     0.150177  0.849823\n",
       "3     0.942551  0.057449\n",
       "4     0.966834  0.033166\n",
       "...        ...       ...\n",
       "8118  0.915775  0.084225\n",
       "8119  0.998970  0.001030\n",
       "8120  0.914338  0.085662\n",
       "8121  0.985381  0.014619\n",
       "8122  0.976113  0.023887\n",
       "\n",
       "[8123 rows x 2 columns]"
      ]
     },
     "execution_count": 58,
     "metadata": {},
     "output_type": "execute_result"
    }
   ],
   "source": [
    "prediction_train"
   ]
  },
  {
   "cell_type": "code",
   "execution_count": null,
   "metadata": {
    "id": "jj6DrfRhsxjS"
   },
   "outputs": [],
   "source": [
    "###### Apply a threshold of 0.6 ######\n",
    "\n",
    "prediction_train['predicted_classes_0.6'] = 0\n",
    "\n",
    "prediction_train.loc[prediction_train[1]>=0.6, 'predicted_classes_0.6'] = 1"
   ]
  },
  {
   "cell_type": "code",
   "execution_count": null,
   "metadata": {
    "colab": {
     "base_uri": "https://localhost:8080/",
     "height": 424
    },
    "id": "wuBusdBI-U_H",
    "outputId": "39c12e5b-9201-41fb-c251-0b813a93c2f2"
   },
   "outputs": [
    {
     "data": {
      "text/html": [
       "\n",
       "  <div id=\"df-46cd69d9-610f-4b66-8799-c7ff9e98aa63\">\n",
       "    <div class=\"colab-df-container\">\n",
       "      <div>\n",
       "<style scoped>\n",
       "    .dataframe tbody tr th:only-of-type {\n",
       "        vertical-align: middle;\n",
       "    }\n",
       "\n",
       "    .dataframe tbody tr th {\n",
       "        vertical-align: top;\n",
       "    }\n",
       "\n",
       "    .dataframe thead th {\n",
       "        text-align: right;\n",
       "    }\n",
       "</style>\n",
       "<table border=\"1\" class=\"dataframe\">\n",
       "  <thead>\n",
       "    <tr style=\"text-align: right;\">\n",
       "      <th></th>\n",
       "      <th>0</th>\n",
       "      <th>1</th>\n",
       "      <th>predicted_classes_0.6</th>\n",
       "    </tr>\n",
       "  </thead>\n",
       "  <tbody>\n",
       "    <tr>\n",
       "      <th>0</th>\n",
       "      <td>0.239029</td>\n",
       "      <td>0.760971</td>\n",
       "      <td>1</td>\n",
       "    </tr>\n",
       "    <tr>\n",
       "      <th>1</th>\n",
       "      <td>0.185956</td>\n",
       "      <td>0.814044</td>\n",
       "      <td>1</td>\n",
       "    </tr>\n",
       "    <tr>\n",
       "      <th>2</th>\n",
       "      <td>0.150177</td>\n",
       "      <td>0.849823</td>\n",
       "      <td>1</td>\n",
       "    </tr>\n",
       "    <tr>\n",
       "      <th>3</th>\n",
       "      <td>0.942551</td>\n",
       "      <td>0.057449</td>\n",
       "      <td>0</td>\n",
       "    </tr>\n",
       "    <tr>\n",
       "      <th>4</th>\n",
       "      <td>0.966834</td>\n",
       "      <td>0.033166</td>\n",
       "      <td>0</td>\n",
       "    </tr>\n",
       "    <tr>\n",
       "      <th>...</th>\n",
       "      <td>...</td>\n",
       "      <td>...</td>\n",
       "      <td>...</td>\n",
       "    </tr>\n",
       "    <tr>\n",
       "      <th>8118</th>\n",
       "      <td>0.915775</td>\n",
       "      <td>0.084225</td>\n",
       "      <td>0</td>\n",
       "    </tr>\n",
       "    <tr>\n",
       "      <th>8119</th>\n",
       "      <td>0.998970</td>\n",
       "      <td>0.001030</td>\n",
       "      <td>0</td>\n",
       "    </tr>\n",
       "    <tr>\n",
       "      <th>8120</th>\n",
       "      <td>0.914338</td>\n",
       "      <td>0.085662</td>\n",
       "      <td>0</td>\n",
       "    </tr>\n",
       "    <tr>\n",
       "      <th>8121</th>\n",
       "      <td>0.985381</td>\n",
       "      <td>0.014619</td>\n",
       "      <td>0</td>\n",
       "    </tr>\n",
       "    <tr>\n",
       "      <th>8122</th>\n",
       "      <td>0.976113</td>\n",
       "      <td>0.023887</td>\n",
       "      <td>0</td>\n",
       "    </tr>\n",
       "  </tbody>\n",
       "</table>\n",
       "<p>8123 rows × 3 columns</p>\n",
       "</div>\n",
       "      <button class=\"colab-df-convert\" onclick=\"convertToInteractive('df-46cd69d9-610f-4b66-8799-c7ff9e98aa63')\"\n",
       "              title=\"Convert this dataframe to an interactive table.\"\n",
       "              style=\"display:none;\">\n",
       "        \n",
       "  <svg xmlns=\"http://www.w3.org/2000/svg\" height=\"24px\"viewBox=\"0 0 24 24\"\n",
       "       width=\"24px\">\n",
       "    <path d=\"M0 0h24v24H0V0z\" fill=\"none\"/>\n",
       "    <path d=\"M18.56 5.44l.94 2.06.94-2.06 2.06-.94-2.06-.94-.94-2.06-.94 2.06-2.06.94zm-11 1L8.5 8.5l.94-2.06 2.06-.94-2.06-.94L8.5 2.5l-.94 2.06-2.06.94zm10 10l.94 2.06.94-2.06 2.06-.94-2.06-.94-.94-2.06-.94 2.06-2.06.94z\"/><path d=\"M17.41 7.96l-1.37-1.37c-.4-.4-.92-.59-1.43-.59-.52 0-1.04.2-1.43.59L10.3 9.45l-7.72 7.72c-.78.78-.78 2.05 0 2.83L4 21.41c.39.39.9.59 1.41.59.51 0 1.02-.2 1.41-.59l7.78-7.78 2.81-2.81c.8-.78.8-2.07 0-2.86zM5.41 20L4 18.59l7.72-7.72 1.47 1.35L5.41 20z\"/>\n",
       "  </svg>\n",
       "      </button>\n",
       "      \n",
       "  <style>\n",
       "    .colab-df-container {\n",
       "      display:flex;\n",
       "      flex-wrap:wrap;\n",
       "      gap: 12px;\n",
       "    }\n",
       "\n",
       "    .colab-df-convert {\n",
       "      background-color: #E8F0FE;\n",
       "      border: none;\n",
       "      border-radius: 50%;\n",
       "      cursor: pointer;\n",
       "      display: none;\n",
       "      fill: #1967D2;\n",
       "      height: 32px;\n",
       "      padding: 0 0 0 0;\n",
       "      width: 32px;\n",
       "    }\n",
       "\n",
       "    .colab-df-convert:hover {\n",
       "      background-color: #E2EBFA;\n",
       "      box-shadow: 0px 1px 2px rgba(60, 64, 67, 0.3), 0px 1px 3px 1px rgba(60, 64, 67, 0.15);\n",
       "      fill: #174EA6;\n",
       "    }\n",
       "\n",
       "    [theme=dark] .colab-df-convert {\n",
       "      background-color: #3B4455;\n",
       "      fill: #D2E3FC;\n",
       "    }\n",
       "\n",
       "    [theme=dark] .colab-df-convert:hover {\n",
       "      background-color: #434B5C;\n",
       "      box-shadow: 0px 1px 3px 1px rgba(0, 0, 0, 0.15);\n",
       "      filter: drop-shadow(0px 1px 2px rgba(0, 0, 0, 0.3));\n",
       "      fill: #FFFFFF;\n",
       "    }\n",
       "  </style>\n",
       "\n",
       "      <script>\n",
       "        const buttonEl =\n",
       "          document.querySelector('#df-46cd69d9-610f-4b66-8799-c7ff9e98aa63 button.colab-df-convert');\n",
       "        buttonEl.style.display =\n",
       "          google.colab.kernel.accessAllowed ? 'block' : 'none';\n",
       "\n",
       "        async function convertToInteractive(key) {\n",
       "          const element = document.querySelector('#df-46cd69d9-610f-4b66-8799-c7ff9e98aa63');\n",
       "          const dataTable =\n",
       "            await google.colab.kernel.invokeFunction('convertToInteractive',\n",
       "                                                     [key], {});\n",
       "          if (!dataTable) return;\n",
       "\n",
       "          const docLinkHtml = 'Like what you see? Visit the ' +\n",
       "            '<a target=\"_blank\" href=https://colab.research.google.com/notebooks/data_table.ipynb>data table notebook</a>'\n",
       "            + ' to learn more about interactive tables.';\n",
       "          element.innerHTML = '';\n",
       "          dataTable['output_type'] = 'display_data';\n",
       "          await google.colab.output.renderOutput(dataTable, element);\n",
       "          const docLink = document.createElement('div');\n",
       "          docLink.innerHTML = docLinkHtml;\n",
       "          element.appendChild(docLink);\n",
       "        }\n",
       "      </script>\n",
       "    </div>\n",
       "  </div>\n",
       "  "
      ],
      "text/plain": [
       "             0         1  predicted_classes_0.6\n",
       "0     0.239029  0.760971                      1\n",
       "1     0.185956  0.814044                      1\n",
       "2     0.150177  0.849823                      1\n",
       "3     0.942551  0.057449                      0\n",
       "4     0.966834  0.033166                      0\n",
       "...        ...       ...                    ...\n",
       "8118  0.915775  0.084225                      0\n",
       "8119  0.998970  0.001030                      0\n",
       "8120  0.914338  0.085662                      0\n",
       "8121  0.985381  0.014619                      0\n",
       "8122  0.976113  0.023887                      0\n",
       "\n",
       "[8123 rows x 3 columns]"
      ]
     },
     "execution_count": 60,
     "metadata": {},
     "output_type": "execute_result"
    }
   ],
   "source": [
    "prediction_train"
   ]
  },
  {
   "cell_type": "code",
   "execution_count": null,
   "metadata": {
    "id": "c8uGFGgLuqVL"
   },
   "outputs": [],
   "source": [
    "predictions = LR_model.predict(features_train) ### applies a threshold of 0.5"
   ]
  },
  {
   "cell_type": "code",
   "execution_count": null,
   "metadata": {
    "id": "VUFTxya9qy6z"
   },
   "outputs": [],
   "source": [
    "compare = pd.DataFrame({'Actuals' : target_train, 'predictions': predictions})"
   ]
  },
  {
   "cell_type": "code",
   "execution_count": null,
   "metadata": {
    "colab": {
     "base_uri": "https://localhost:8080/",
     "height": 424
    },
    "id": "I8QWOdLgitb6",
    "outputId": "9efa26ec-6b6d-4c2c-aa01-64ff55459ec5"
   },
   "outputs": [
    {
     "data": {
      "text/html": [
       "\n",
       "  <div id=\"df-30963e69-7497-4999-86f1-6fba8dc44e52\">\n",
       "    <div class=\"colab-df-container\">\n",
       "      <div>\n",
       "<style scoped>\n",
       "    .dataframe tbody tr th:only-of-type {\n",
       "        vertical-align: middle;\n",
       "    }\n",
       "\n",
       "    .dataframe tbody tr th {\n",
       "        vertical-align: top;\n",
       "    }\n",
       "\n",
       "    .dataframe thead th {\n",
       "        text-align: right;\n",
       "    }\n",
       "</style>\n",
       "<table border=\"1\" class=\"dataframe\">\n",
       "  <thead>\n",
       "    <tr style=\"text-align: right;\">\n",
       "      <th></th>\n",
       "      <th>Actuals</th>\n",
       "      <th>predictions</th>\n",
       "    </tr>\n",
       "  </thead>\n",
       "  <tbody>\n",
       "    <tr>\n",
       "      <th>0</th>\n",
       "      <td>1</td>\n",
       "      <td>1</td>\n",
       "    </tr>\n",
       "    <tr>\n",
       "      <th>1</th>\n",
       "      <td>0</td>\n",
       "      <td>1</td>\n",
       "    </tr>\n",
       "    <tr>\n",
       "      <th>2</th>\n",
       "      <td>1</td>\n",
       "      <td>1</td>\n",
       "    </tr>\n",
       "    <tr>\n",
       "      <th>3</th>\n",
       "      <td>0</td>\n",
       "      <td>0</td>\n",
       "    </tr>\n",
       "    <tr>\n",
       "      <th>4</th>\n",
       "      <td>0</td>\n",
       "      <td>0</td>\n",
       "    </tr>\n",
       "    <tr>\n",
       "      <th>...</th>\n",
       "      <td>...</td>\n",
       "      <td>...</td>\n",
       "    </tr>\n",
       "    <tr>\n",
       "      <th>8118</th>\n",
       "      <td>0</td>\n",
       "      <td>0</td>\n",
       "    </tr>\n",
       "    <tr>\n",
       "      <th>8119</th>\n",
       "      <td>0</td>\n",
       "      <td>0</td>\n",
       "    </tr>\n",
       "    <tr>\n",
       "      <th>8120</th>\n",
       "      <td>0</td>\n",
       "      <td>0</td>\n",
       "    </tr>\n",
       "    <tr>\n",
       "      <th>8121</th>\n",
       "      <td>0</td>\n",
       "      <td>0</td>\n",
       "    </tr>\n",
       "    <tr>\n",
       "      <th>8122</th>\n",
       "      <td>0</td>\n",
       "      <td>0</td>\n",
       "    </tr>\n",
       "  </tbody>\n",
       "</table>\n",
       "<p>8123 rows × 2 columns</p>\n",
       "</div>\n",
       "      <button class=\"colab-df-convert\" onclick=\"convertToInteractive('df-30963e69-7497-4999-86f1-6fba8dc44e52')\"\n",
       "              title=\"Convert this dataframe to an interactive table.\"\n",
       "              style=\"display:none;\">\n",
       "        \n",
       "  <svg xmlns=\"http://www.w3.org/2000/svg\" height=\"24px\"viewBox=\"0 0 24 24\"\n",
       "       width=\"24px\">\n",
       "    <path d=\"M0 0h24v24H0V0z\" fill=\"none\"/>\n",
       "    <path d=\"M18.56 5.44l.94 2.06.94-2.06 2.06-.94-2.06-.94-.94-2.06-.94 2.06-2.06.94zm-11 1L8.5 8.5l.94-2.06 2.06-.94-2.06-.94L8.5 2.5l-.94 2.06-2.06.94zm10 10l.94 2.06.94-2.06 2.06-.94-2.06-.94-.94-2.06-.94 2.06-2.06.94z\"/><path d=\"M17.41 7.96l-1.37-1.37c-.4-.4-.92-.59-1.43-.59-.52 0-1.04.2-1.43.59L10.3 9.45l-7.72 7.72c-.78.78-.78 2.05 0 2.83L4 21.41c.39.39.9.59 1.41.59.51 0 1.02-.2 1.41-.59l7.78-7.78 2.81-2.81c.8-.78.8-2.07 0-2.86zM5.41 20L4 18.59l7.72-7.72 1.47 1.35L5.41 20z\"/>\n",
       "  </svg>\n",
       "      </button>\n",
       "      \n",
       "  <style>\n",
       "    .colab-df-container {\n",
       "      display:flex;\n",
       "      flex-wrap:wrap;\n",
       "      gap: 12px;\n",
       "    }\n",
       "\n",
       "    .colab-df-convert {\n",
       "      background-color: #E8F0FE;\n",
       "      border: none;\n",
       "      border-radius: 50%;\n",
       "      cursor: pointer;\n",
       "      display: none;\n",
       "      fill: #1967D2;\n",
       "      height: 32px;\n",
       "      padding: 0 0 0 0;\n",
       "      width: 32px;\n",
       "    }\n",
       "\n",
       "    .colab-df-convert:hover {\n",
       "      background-color: #E2EBFA;\n",
       "      box-shadow: 0px 1px 2px rgba(60, 64, 67, 0.3), 0px 1px 3px 1px rgba(60, 64, 67, 0.15);\n",
       "      fill: #174EA6;\n",
       "    }\n",
       "\n",
       "    [theme=dark] .colab-df-convert {\n",
       "      background-color: #3B4455;\n",
       "      fill: #D2E3FC;\n",
       "    }\n",
       "\n",
       "    [theme=dark] .colab-df-convert:hover {\n",
       "      background-color: #434B5C;\n",
       "      box-shadow: 0px 1px 3px 1px rgba(0, 0, 0, 0.15);\n",
       "      filter: drop-shadow(0px 1px 2px rgba(0, 0, 0, 0.3));\n",
       "      fill: #FFFFFF;\n",
       "    }\n",
       "  </style>\n",
       "\n",
       "      <script>\n",
       "        const buttonEl =\n",
       "          document.querySelector('#df-30963e69-7497-4999-86f1-6fba8dc44e52 button.colab-df-convert');\n",
       "        buttonEl.style.display =\n",
       "          google.colab.kernel.accessAllowed ? 'block' : 'none';\n",
       "\n",
       "        async function convertToInteractive(key) {\n",
       "          const element = document.querySelector('#df-30963e69-7497-4999-86f1-6fba8dc44e52');\n",
       "          const dataTable =\n",
       "            await google.colab.kernel.invokeFunction('convertToInteractive',\n",
       "                                                     [key], {});\n",
       "          if (!dataTable) return;\n",
       "\n",
       "          const docLinkHtml = 'Like what you see? Visit the ' +\n",
       "            '<a target=\"_blank\" href=https://colab.research.google.com/notebooks/data_table.ipynb>data table notebook</a>'\n",
       "            + ' to learn more about interactive tables.';\n",
       "          element.innerHTML = '';\n",
       "          dataTable['output_type'] = 'display_data';\n",
       "          await google.colab.output.renderOutput(dataTable, element);\n",
       "          const docLink = document.createElement('div');\n",
       "          docLink.innerHTML = docLinkHtml;\n",
       "          element.appendChild(docLink);\n",
       "        }\n",
       "      </script>\n",
       "    </div>\n",
       "  </div>\n",
       "  "
      ],
      "text/plain": [
       "      Actuals  predictions\n",
       "0           1            1\n",
       "1           0            1\n",
       "2           1            1\n",
       "3           0            0\n",
       "4           0            0\n",
       "...       ...          ...\n",
       "8118        0            0\n",
       "8119        0            0\n",
       "8120        0            0\n",
       "8121        0            0\n",
       "8122        0            0\n",
       "\n",
       "[8123 rows x 2 columns]"
      ]
     },
     "execution_count": 64,
     "metadata": {},
     "output_type": "execute_result"
    }
   ],
   "source": [
    "compare"
   ]
  },
  {
   "cell_type": "code",
   "execution_count": null,
   "metadata": {
    "colab": {
     "base_uri": "https://localhost:8080/"
    },
    "id": "Zx4Tbqf3kHzC",
    "outputId": "94d47d54-ff6a-4a38-d28b-9830d4354dfc"
   },
   "outputs": [
    {
     "data": {
      "text/plain": [
       "0.9129631909393081"
      ]
     },
     "execution_count": 65,
     "metadata": {},
     "output_type": "execute_result"
    }
   ],
   "source": [
    "accuracy = np.sum(compare['Actuals'] == compare['predictions'])/compare.shape[0]"
   ]
  },
  {
   "cell_type": "code",
   "execution_count": null,
   "metadata": {
    "colab": {
     "base_uri": "https://localhost:8080/",
     "height": 352
    },
    "id": "0vcmOxw2tfLn",
    "outputId": "72d44c10-7210-4db5-97fb-38ceaaee568f"
   },
   "outputs": [
    {
     "name": "stderr",
     "output_type": "stream",
     "text": [
      "/usr/local/lib/python3.7/dist-packages/sklearn/utils/deprecation.py:87: FutureWarning: Function plot_roc_curve is deprecated; Function :func:`plot_roc_curve` is deprecated in 1.0 and will be removed in 1.2. Use one of the class methods: :meth:`sklearn.metric.RocCurveDisplay.from_predictions` or :meth:`sklearn.metric.RocCurveDisplay.from_estimator`.\n",
      "  warnings.warn(msg, category=FutureWarning)\n"
     ]
    },
    {
     "data": {
      "text/plain": [
       "<sklearn.metrics._plot.roc_curve.RocCurveDisplay at 0x7f591c5d6a90>"
      ]
     },
     "execution_count": 74,
     "metadata": {},
     "output_type": "execute_result"
    },
    {
     "data": {
      "image/png": "[encoded data removed]",
      "text/plain": [
       "<Figure size 432x288 with 1 Axes>"
      ]
     },
     "metadata": {
      "needs_background": "light"
     },
     "output_type": "display_data"
    }
   ],
   "source": [
    "#### Plotting the roc curve for the model fit ####\n",
    "\n",
    "plot_roc_curve(LR_model,X =features_train, y= target_train)"
   ]
  }
 ],
 "metadata": {
  "colab": {
   "collapsed_sections": [],
   "name": "assignment_on_existing_base (3).ipynb",
   "provenance": []
  },
  "kernelspec": {
   "display_name": "Python 3 (ipykernel)",
   "language": "python",
   "name": "python3"
  },
  "language_info": {
   "codemirror_mode": {
    "name": "ipython",
    "version": 3
   },
   "file_extension": ".py",
   "mimetype": "text/x-python",
   "name": "python",
   "nbconvert_exporter": "python",
   "pygments_lexer": "ipython3",
   "version": "3.9.12"
  }
 },
 "nbformat": 4,
 "nbformat_minor": 1
}
